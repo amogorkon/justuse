{
 "cells": [
  {
   "cell_type": "code",
   "execution_count": 1,
   "metadata": {
    "execution": {
     "iopub.execute_input": "2021-11-19T10:55:17.974812Z",
     "iopub.status.busy": "2021-11-19T10:55:17.973978Z",
     "iopub.status.idle": "2021-11-19T10:55:19.087738Z",
     "shell.execute_reply": "2021-11-19T10:55:19.085878Z",
     "shell.execute_reply.started": "2021-11-19T10:55:17.974703Z"
    }
   },
   "outputs": [
    {
     "name": "stderr",
     "output_type": "stream",
     "text": [
      "/home/thorsten/anaconda3/lib/python3.8/site-packages/use/use.py:378: VersionWarning: Justuse is version 0.4.1, but there is a newer version 0.5.0 available on PyPI.\n",
      "To find out more about the changes check out https://github.com/amogorkon/justuse/wiki/What's-new\n",
      "Please consider upgrading via 'python -m pip install -U justuse'\n",
      "  warn(f\"\"\"Justuse is version {Version(__version__)}, but there is a newer version {max_version} available on PyPI.\n"
     ]
    }
   ],
   "source": [
    "import use"
   ]
  },
  {
   "cell_type": "code",
   "execution_count": null,
   "metadata": {},
   "outputs": [],
   "source": []
  }
 ],
 "metadata": {
  "kernelspec": {
   "display_name": "Python 3",
   "language": "python",
   "name": "python3"
  },
  "language_info": {
   "codemirror_mode": {
    "name": "ipython",
    "version": 3
   },
   "file_extension": ".py",
   "mimetype": "text/x-python",
   "name": "python",
   "nbconvert_exporter": "python",
   "pygments_lexer": "ipython3",
   "version": "3.8.5"
  }
 },
 "nbformat": 4,
 "nbformat_minor": 4
}
