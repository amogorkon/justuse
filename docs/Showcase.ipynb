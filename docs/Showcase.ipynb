{
 "cells": [
  {
   "cell_type": "markdown",
   "metadata": {},
   "source": [
    "# Welcome to Justuse!"
   ]
  },
  {
   "cell_type": "markdown",
   "metadata": {},
   "source": [
    "## Installation\n",
    "Before we start, let's get the latest version"
   ]
  },
  {
   "cell_type": "code",
   "execution_count": 1,
   "metadata": {
    "execution": {
     "iopub.execute_input": "2021-11-26T14:28:17.214084Z",
     "iopub.status.busy": "2021-11-26T14:28:17.213181Z",
     "iopub.status.idle": "2021-11-26T14:28:23.791904Z",
     "shell.execute_reply": "2021-11-26T14:28:23.789995Z",
     "shell.execute_reply.started": "2021-11-26T14:28:17.213932Z"
    }
   },
   "outputs": [
    {
     "name": "stdout",
     "output_type": "stream",
     "text": [
      "Collecting justuse\n",
      "  Downloading justuse-0.6.5-py3-none-any.whl (113 kB)\n",
      "Requirement already satisfied: hypothesis>=6.23.1 in /home/thorsten/anaconda3/lib/python3.8/site-packages (from justuse) (6.24.2)\n",
      "Requirement already satisfied: pip in /home/thorsten/anaconda3/lib/python3.8/site-packages (from justuse) (21.3.1)\n",
      "Requirement already satisfied: furl>=2.1.2 in /home/thorsten/anaconda3/lib/python3.8/site-packages (from justuse) (2.1.2)\n",
      "Requirement already satisfied: typeguard>=2.12.1 in /home/thorsten/anaconda3/lib/python3.8/site-packages (from justuse) (2.13.0)\n",
      "Requirement already satisfied: requests>=2.24.0 in /home/thorsten/anaconda3/lib/python3.8/site-packages (from justuse) (2.24.0)\n",
      "Requirement already satisfied: pydantic>=1.8.2 in /home/thorsten/anaconda3/lib/python3.8/site-packages (from justuse) (1.8.2)\n",
      "Requirement already satisfied: icontract>=2.5.4 in /home/thorsten/anaconda3/lib/python3.8/site-packages (from justuse) (2.5.5)\n",
      "Requirement already satisfied: wheel>=0.36.2 in /home/thorsten/anaconda3/lib/python3.8/site-packages (from justuse) (0.37.0)\n",
      "Requirement already satisfied: packaging==21.0 in /home/thorsten/anaconda3/lib/python3.8/site-packages (from justuse) (21.0)\n",
      "Requirement already satisfied: pyparsing>=2.0.2 in /home/thorsten/anaconda3/lib/python3.8/site-packages (from packaging==21.0->justuse) (2.4.7)\n",
      "Requirement already satisfied: orderedmultidict>=1.0.1 in /home/thorsten/anaconda3/lib/python3.8/site-packages (from furl>=2.1.2->justuse) (1.0.1)\n",
      "Requirement already satisfied: six>=1.8.0 in /home/thorsten/anaconda3/lib/python3.8/site-packages (from furl>=2.1.2->justuse) (1.15.0)\n",
      "Requirement already satisfied: sortedcontainers<3.0.0,>=2.1.0 in /home/thorsten/anaconda3/lib/python3.8/site-packages (from hypothesis>=6.23.1->justuse) (2.2.2)\n",
      "Requirement already satisfied: attrs>=19.2.0 in /home/thorsten/anaconda3/lib/python3.8/site-packages (from hypothesis>=6.23.1->justuse) (20.3.0)\n",
      "Requirement already satisfied: typing-extensions in /home/thorsten/anaconda3/lib/python3.8/site-packages (from icontract>=2.5.4->justuse) (3.7.4.3)\n",
      "Requirement already satisfied: asttokens<3,>=2 in /home/thorsten/anaconda3/lib/python3.8/site-packages (from icontract>=2.5.4->justuse) (2.0.5)\n",
      "Requirement already satisfied: chardet<4,>=3.0.2 in /home/thorsten/anaconda3/lib/python3.8/site-packages (from requests>=2.24.0->justuse) (3.0.4)\n",
      "Requirement already satisfied: idna<3,>=2.5 in /home/thorsten/anaconda3/lib/python3.8/site-packages (from requests>=2.24.0->justuse) (2.10)\n",
      "Requirement already satisfied: urllib3!=1.25.0,!=1.25.1,<1.26,>=1.21.1 in /home/thorsten/anaconda3/lib/python3.8/site-packages (from requests>=2.24.0->justuse) (1.25.11)\n",
      "Requirement already satisfied: certifi>=2017.4.17 in /home/thorsten/anaconda3/lib/python3.8/site-packages (from requests>=2.24.0->justuse) (2020.6.20)\n",
      "Installing collected packages: justuse\n",
      "Successfully installed justuse-0.6.5\n"
     ]
    }
   ],
   "source": [
    "%%bash\n",
    "python -m pip install justuse"
   ]
  },
  {
   "cell_type": "code",
   "execution_count": 2,
   "metadata": {
    "execution": {
     "iopub.execute_input": "2021-11-26T14:28:23.795704Z",
     "iopub.status.busy": "2021-11-26T14:28:23.794952Z",
     "iopub.status.idle": "2021-11-26T14:28:24.937678Z",
     "shell.execute_reply": "2021-11-26T14:28:24.935805Z",
     "shell.execute_reply.started": "2021-11-26T14:28:23.795650Z"
    }
   },
   "outputs": [],
   "source": [
    "import use"
   ]
  },
  {
   "cell_type": "code",
   "execution_count": 3,
   "metadata": {
    "execution": {
     "iopub.execute_input": "2021-11-26T14:28:24.942835Z",
     "iopub.status.busy": "2021-11-26T14:28:24.941470Z",
     "iopub.status.idle": "2021-11-26T14:28:24.962554Z",
     "shell.execute_reply": "2021-11-26T14:28:24.960562Z",
     "shell.execute_reply.started": "2021-11-26T14:28:24.942744Z"
    }
   },
   "outputs": [
    {
     "data": {
      "text/plain": [
       "'0.6.5'"
      ]
     },
     "execution_count": 3,
     "metadata": {},
     "output_type": "execute_result"
    }
   ],
   "source": [
    "use.__version__"
   ]
  },
  {
   "cell_type": "markdown",
   "metadata": {
    "execution": {
     "iopub.execute_input": "2021-11-22T22:33:53.303316Z",
     "iopub.status.busy": "2021-11-22T22:33:53.302686Z",
     "iopub.status.idle": "2021-11-22T22:33:53.308157Z",
     "shell.execute_reply": "2021-11-22T22:33:53.306483Z",
     "shell.execute_reply.started": "2021-11-22T22:33:53.303275Z"
    }
   },
   "source": [
    "## Basic Usage"
   ]
  },
  {
   "cell_type": "markdown",
   "metadata": {},
   "source": [
    "Let's start with a simple case"
   ]
  },
  {
   "cell_type": "code",
   "execution_count": 4,
   "metadata": {
    "execution": {
     "iopub.execute_input": "2021-11-26T14:28:30.345876Z",
     "iopub.status.busy": "2021-11-26T14:28:30.345049Z",
     "iopub.status.idle": "2021-11-26T14:28:30.624941Z",
     "shell.execute_reply": "2021-11-26T14:28:30.622636Z",
     "shell.execute_reply.started": "2021-11-26T14:28:30.345826Z"
    }
   },
   "outputs": [
    {
     "data": {
      "text/plain": [
       "-0.5328330203333975"
      ]
     },
     "execution_count": 4,
     "metadata": {},
     "output_type": "execute_result"
    }
   ],
   "source": [
    "use(\"math\").cos(23)"
   ]
  },
  {
   "cell_type": "markdown",
   "metadata": {
    "execution": {
     "iopub.execute_input": "2021-11-22T19:32:29.373810Z",
     "iopub.status.busy": "2021-11-22T19:32:29.373320Z",
     "iopub.status.idle": "2021-11-22T19:32:29.383680Z",
     "shell.execute_reply": "2021-11-22T19:32:29.382305Z",
     "shell.execute_reply.started": "2021-11-22T19:32:29.373772Z"
    }
   },
   "source": [
    "Installing something could be inconvenient or unnecessary if something else is available - or we want to include some minimal functionality in our program and only fetch additional dependencies only under certain conditions."
   ]
  },
  {
   "cell_type": "markdown",
   "metadata": {},
   "source": [
    "The common approach would be something like"
   ]
  },
  {
   "cell_type": "code",
   "execution_count": 5,
   "metadata": {
    "execution": {
     "iopub.execute_input": "2021-11-26T14:28:31.076004Z",
     "iopub.status.busy": "2021-11-26T14:28:31.074659Z",
     "iopub.status.idle": "2021-11-26T14:28:31.086203Z",
     "shell.execute_reply": "2021-11-26T14:28:31.084605Z",
     "shell.execute_reply.started": "2021-11-26T14:28:31.075911Z"
    }
   },
   "outputs": [],
   "source": [
    "try:\n",
    "    import some_big_package\n",
    "except ImportError:\n",
    "    some_big_package = None\n",
    "if some_big_package:\n",
    "    ..."
   ]
  },
  {
   "cell_type": "markdown",
   "metadata": {
    "execution": {
     "iopub.execute_input": "2021-11-22T19:57:09.320535Z",
     "iopub.status.busy": "2021-11-22T19:57:09.319761Z",
     "iopub.status.idle": "2021-11-22T19:57:09.328957Z",
     "shell.execute_reply": "2021-11-22T19:57:09.327576Z",
     "shell.execute_reply.started": "2021-11-22T19:57:09.320488Z"
    }
   },
   "source": [
    "which is unnecessarily cumbersome - couldn't we simply have a default like in so many other functions that is returned instead of raising an exception? Of course we can!"
   ]
  },
  {
   "cell_type": "markdown",
   "metadata": {},
   "source": [
    "Here's a metaphor from *The Matrix*:\n",
    "[![Matrix - Skill Upload](https://img.youtube.com/vi/w_8NsPQBdV0/0.jpg)](https://www.youtube.com/watch?v=w_8NsPQBdV0)\n",
    "\n",
    "Imagine you want to streamline the user experience by distributing a very minimal, \"free\" but fully functional software to your end users which installs within seconds. Now, whenever the user wants to use a premium feature (or simply a feature that isn't generally required by the majority of users, therefor not included in the basic installation) the program could use() the packages and modules needed to realise the feature to download and install in the background while the user can still use other stuff, then trigger a callback when use() is done loading. The experience would be similar to playing an open world game which seamlessly downloads and loads new areas in the background on demand, without hiccup or loading screens. Or like Neo and Trinity - just get the skills to pilot a helicopter when you need them, right there on the spot. "
   ]
  },
  {
   "cell_type": "code",
   "execution_count": 6,
   "metadata": {
    "execution": {
     "iopub.execute_input": "2021-11-26T14:28:31.773381Z",
     "iopub.status.busy": "2021-11-26T14:28:31.772906Z",
     "iopub.status.idle": "2021-11-26T14:28:31.785105Z",
     "shell.execute_reply": "2021-11-26T14:28:31.782482Z",
     "shell.execute_reply.started": "2021-11-26T14:28:31.773344Z"
    }
   },
   "outputs": [
    {
     "name": "stdout",
     "output_type": "stream",
     "text": [
      "I'm going to learn Ju-Jutsu?\n"
     ]
    }
   ],
   "source": [
    "pkg = use(\"some_big_package\", default=None)\n",
    "if not pkg:\n",
    "    print(\"I'm going to learn Ju-Jutsu?\")"
   ]
  },
  {
   "cell_type": "markdown",
   "metadata": {
    "execution": {
     "iopub.execute_input": "2021-11-22T19:58:53.761253Z",
     "iopub.status.busy": "2021-11-22T19:58:53.760790Z",
     "iopub.status.idle": "2021-11-22T19:58:53.768580Z",
     "shell.execute_reply": "2021-11-22T19:58:53.767072Z",
     "shell.execute_reply.started": "2021-11-22T19:58:53.761215Z"
    }
   },
   "source": [
    "Even more concise (python >3.9):"
   ]
  },
  {
   "cell_type": "code",
   "execution_count": 7,
   "metadata": {
    "execution": {
     "iopub.execute_input": "2021-11-26T14:28:32.266391Z",
     "iopub.status.busy": "2021-11-26T14:28:32.265345Z",
     "iopub.status.idle": "2021-11-26T14:28:32.554048Z",
     "shell.execute_reply": "2021-11-26T14:28:32.550598Z",
     "shell.execute_reply.started": "2021-11-26T14:28:32.266241Z"
    }
   },
   "outputs": [
    {
     "name": "stdout",
     "output_type": "stream",
     "text": [
      "I know Kung Fu!\n"
     ]
    }
   ],
   "source": [
    "if (pkg := use(\"pytest\", default=None)):\n",
    "    print(\"I know Kung Fu!\")"
   ]
  },
  {
   "cell_type": "markdown",
   "metadata": {},
   "source": [
    "One of the most practical use()s is making sure we imported the expected version of a certain package. This is especially important in research papers, notebooks and other publications because those often don't come with a `requirements.txt` and there is no way to make sure you are actually running the published code with the same versions as the author.\n",
    "Also, if you pip-install something, it can happen that it upgrades a dependency, accidentally breaking code that requires the old version - with pip you *can't have more than one version installed*. With justuse any number of versions can be installed in parallel, without interfering with anything that was installed globally via pip, conda etc."
   ]
  },
  {
   "cell_type": "code",
   "execution_count": 8,
   "metadata": {
    "execution": {
     "iopub.execute_input": "2021-11-26T14:28:33.328521Z",
     "iopub.status.busy": "2021-11-26T14:28:33.326226Z",
     "iopub.status.idle": "2021-11-26T14:28:33.684551Z",
     "shell.execute_reply": "2021-11-26T14:28:33.683126Z",
     "shell.execute_reply.started": "2021-11-26T14:28:33.328360Z"
    }
   },
   "outputs": [
    {
     "name": "stderr",
     "output_type": "stream",
     "text": [
      "/home/thorsten/anaconda3/lib/python3.8/site-packages/use/pimp.py:81: VersionWarning: numpy expected to be version 2022, but got 1.19.5 instead\n",
      "  warn(Message.version_warning(name, version, result_version), category=VersionWarning)\n"
     ]
    }
   ],
   "source": [
    "np = use(\"numpy\", version=\"2022\")"
   ]
  },
  {
   "cell_type": "code",
   "execution_count": 9,
   "metadata": {
    "execution": {
     "iopub.execute_input": "2021-11-26T14:28:34.043159Z",
     "iopub.status.busy": "2021-11-26T14:28:34.041723Z",
     "iopub.status.idle": "2021-11-26T14:28:34.052605Z",
     "shell.execute_reply": "2021-11-26T14:28:34.050906Z",
     "shell.execute_reply.started": "2021-11-26T14:28:34.043103Z"
    }
   },
   "outputs": [
    {
     "data": {
      "text/plain": [
       "'1.19.5'"
      ]
     },
     "execution_count": 9,
     "metadata": {},
     "output_type": "execute_result"
    }
   ],
   "source": [
    "np.__version__"
   ]
  },
  {
   "cell_type": "markdown",
   "metadata": {},
   "source": [
    "Here you see that even though we got a warning about the wrong version, we still get the requested package, just giving you a heads up about a possibly problematic situation without standing in the way."
   ]
  },
  {
   "cell_type": "markdown",
   "metadata": {},
   "source": [
    "Let's try another one!"
   ]
  },
  {
   "cell_type": "code",
   "execution_count": 10,
   "metadata": {
    "execution": {
     "iopub.execute_input": "2021-11-26T14:28:36.977619Z",
     "iopub.status.busy": "2021-11-26T14:28:36.976500Z",
     "iopub.status.idle": "2021-11-26T14:28:37.061350Z",
     "shell.execute_reply": "2021-11-26T14:28:37.058455Z",
     "shell.execute_reply.started": "2021-11-26T14:28:36.977439Z"
    }
   },
   "outputs": [
    {
     "ename": "ImportError",
     "evalue": "No pkg installed named pygame and auto-installation not requested. Aborting.",
     "output_type": "error",
     "traceback": [
      "\u001b[0;31m---------------------------------------------------------------------------\u001b[0m",
      "\u001b[0;31mImportError\u001b[0m                               Traceback (most recent call last)",
      "\u001b[0;32m<ipython-input-10-916309d36fa0>\u001b[0m in \u001b[0;36m<module>\u001b[0;34m\u001b[0m\n\u001b[0;32m----> 1\u001b[0;31m \u001b[0mspam\u001b[0m \u001b[0;34m=\u001b[0m \u001b[0muse\u001b[0m\u001b[0;34m(\u001b[0m\u001b[0;34m\"pygame\"\u001b[0m\u001b[0;34m)\u001b[0m\u001b[0;34m\u001b[0m\u001b[0;34m\u001b[0m\u001b[0m\n\u001b[0m",
      "\u001b[0;32m~/anaconda3/lib/python3.8/site-packages/use/main.py\u001b[0m in \u001b[0;36m__call__\u001b[0;34m(self, *args, **kwargs)\u001b[0m\n\u001b[1;32m    101\u001b[0m     \u001b[0;32mdef\u001b[0m \u001b[0m__call__\u001b[0m\u001b[0;34m(\u001b[0m\u001b[0mself\u001b[0m\u001b[0;34m,\u001b[0m \u001b[0;34m*\u001b[0m\u001b[0margs\u001b[0m\u001b[0;34m,\u001b[0m \u001b[0;34m**\u001b[0m\u001b[0mkwargs\u001b[0m\u001b[0;34m)\u001b[0m\u001b[0;34m:\u001b[0m\u001b[0;34m\u001b[0m\u001b[0;34m\u001b[0m\u001b[0m\n\u001b[1;32m    102\u001b[0m         \u001b[0;32mwith\u001b[0m \u001b[0mself\u001b[0m\u001b[0;34m.\u001b[0m\u001b[0m__condition\u001b[0m\u001b[0;34m:\u001b[0m\u001b[0;34m\u001b[0m\u001b[0;34m\u001b[0m\u001b[0m\n\u001b[0;32m--> 103\u001b[0;31m             \u001b[0;32mreturn\u001b[0m \u001b[0mself\u001b[0m\u001b[0;34m.\u001b[0m\u001b[0m__implementation\u001b[0m\u001b[0;34m(\u001b[0m\u001b[0;34m*\u001b[0m\u001b[0margs\u001b[0m\u001b[0;34m,\u001b[0m \u001b[0;34m**\u001b[0m\u001b[0mkwargs\u001b[0m\u001b[0;34m)\u001b[0m\u001b[0;34m\u001b[0m\u001b[0;34m\u001b[0m\u001b[0m\n\u001b[0m\u001b[1;32m    104\u001b[0m \u001b[0;34m\u001b[0m\u001b[0m\n\u001b[1;32m    105\u001b[0m \u001b[0;34m\u001b[0m\u001b[0m\n",
      "\u001b[0;32m~/anaconda3/lib/python3.8/site-packages/use/tools.py\u001b[0m in \u001b[0;36mwrapper\u001b[0;34m(*args, **kw)\u001b[0m\n\u001b[1;32m     40\u001b[0m         \u001b[0;32mif\u001b[0m \u001b[0mlen\u001b[0m\u001b[0;34m(\u001b[0m\u001b[0margs\u001b[0m\u001b[0;34m)\u001b[0m \u001b[0;34m==\u001b[0m \u001b[0;36m1\u001b[0m\u001b[0;34m:\u001b[0m\u001b[0;34m\u001b[0m\u001b[0;34m\u001b[0m\u001b[0m\n\u001b[1;32m     41\u001b[0m             \u001b[0margs\u001b[0m \u001b[0;34m=\u001b[0m \u001b[0margs\u001b[0m \u001b[0;34m+\u001b[0m \u001b[0;34m(\u001b[0m\u001b[0;32mNone\u001b[0m\u001b[0;34m,\u001b[0m\u001b[0;34m)\u001b[0m\u001b[0;34m\u001b[0m\u001b[0;34m\u001b[0m\u001b[0m\n\u001b[0;32m---> 42\u001b[0;31m         \u001b[0;32mreturn\u001b[0m \u001b[0mdispatcher\u001b[0m\u001b[0;34m.\u001b[0m\u001b[0mdispatch\u001b[0m\u001b[0;34m(\u001b[0m\u001b[0margs\u001b[0m\u001b[0;34m[\u001b[0m\u001b[0;36m1\u001b[0m\u001b[0;34m]\u001b[0m\u001b[0;34m.\u001b[0m\u001b[0m__class__\u001b[0m\u001b[0;34m)\u001b[0m\u001b[0;34m(\u001b[0m\u001b[0;34m*\u001b[0m\u001b[0margs\u001b[0m\u001b[0;34m,\u001b[0m \u001b[0;34m**\u001b[0m\u001b[0mkw\u001b[0m\u001b[0;34m)\u001b[0m\u001b[0;34m\u001b[0m\u001b[0;34m\u001b[0m\u001b[0m\n\u001b[0m\u001b[1;32m     43\u001b[0m \u001b[0;34m\u001b[0m\u001b[0m\n\u001b[1;32m     44\u001b[0m     \u001b[0mwrapper\u001b[0m\u001b[0;34m.\u001b[0m\u001b[0mregister\u001b[0m \u001b[0;34m=\u001b[0m \u001b[0mdispatcher\u001b[0m\u001b[0;34m.\u001b[0m\u001b[0mregister\u001b[0m\u001b[0;34m\u001b[0m\u001b[0;34m\u001b[0m\u001b[0m\n",
      "\u001b[0;32m~/anaconda3/lib/python3.8/site-packages/use/main.py\u001b[0m in \u001b[0;36m_use_str\u001b[0;34m(self, name, version, hash_algo, hashes, default, modes)\u001b[0m\n\u001b[1;32m    706\u001b[0m         \"\"\"\n\u001b[1;32m    707\u001b[0m         \u001b[0mpackage_name\u001b[0m\u001b[0;34m,\u001b[0m \u001b[0mmodule_name\u001b[0m \u001b[0;34m=\u001b[0m \u001b[0m_parse_name\u001b[0m\u001b[0;34m(\u001b[0m\u001b[0mname\u001b[0m\u001b[0;34m)\u001b[0m\u001b[0;34m\u001b[0m\u001b[0;34m\u001b[0m\u001b[0m\n\u001b[0;32m--> 708\u001b[0;31m         return self._use_package(\n\u001b[0m\u001b[1;32m    709\u001b[0m             \u001b[0mname\u001b[0m\u001b[0;34m=\u001b[0m\u001b[0mname\u001b[0m\u001b[0;34m,\u001b[0m\u001b[0;34m\u001b[0m\u001b[0;34m\u001b[0m\u001b[0m\n\u001b[1;32m    710\u001b[0m             \u001b[0mpackage_name\u001b[0m\u001b[0;34m=\u001b[0m\u001b[0mpackage_name\u001b[0m\u001b[0;34m,\u001b[0m\u001b[0;34m\u001b[0m\u001b[0;34m\u001b[0m\u001b[0m\n",
      "\u001b[0;32m~/anaconda3/lib/python3.8/site-packages/use/main.py\u001b[0m in \u001b[0;36m_use_package\u001b[0;34m(self, name, package_name, module_name, version, hashes, modes, default, hash_algo, user_msg)\u001b[0m\n\u001b[1;32m    777\u001b[0m \u001b[0;34m\u001b[0m\u001b[0m\n\u001b[1;32m    778\u001b[0m         \u001b[0;32mif\u001b[0m \u001b[0misinstance\u001b[0m\u001b[0;34m(\u001b[0m\u001b[0mresult\u001b[0m\u001b[0;34m,\u001b[0m \u001b[0mException\u001b[0m\u001b[0;34m)\u001b[0m\u001b[0;34m:\u001b[0m\u001b[0;34m\u001b[0m\u001b[0;34m\u001b[0m\u001b[0m\n\u001b[0;32m--> 779\u001b[0;31m             \u001b[0;32mreturn\u001b[0m \u001b[0m_fail_or_default\u001b[0m\u001b[0;34m(\u001b[0m\u001b[0mresult\u001b[0m\u001b[0;34m,\u001b[0m \u001b[0mdefault\u001b[0m\u001b[0;34m)\u001b[0m\u001b[0;34m\u001b[0m\u001b[0;34m\u001b[0m\u001b[0m\n\u001b[0m\u001b[1;32m    780\u001b[0m \u001b[0;34m\u001b[0m\u001b[0m\n\u001b[1;32m    781\u001b[0m         \u001b[0;32mif\u001b[0m \u001b[0misinstance\u001b[0m\u001b[0;34m(\u001b[0m\u001b[0mresult\u001b[0m\u001b[0;34m,\u001b[0m \u001b[0mModuleType\u001b[0m\u001b[0;34m)\u001b[0m\u001b[0;34m:\u001b[0m\u001b[0;34m\u001b[0m\u001b[0;34m\u001b[0m\u001b[0m\n",
      "\u001b[0;32m~/anaconda3/lib/python3.8/site-packages/use/pimp.py\u001b[0m in \u001b[0;36m_fail_or_default\u001b[0;34m(exception, default)\u001b[0m\n\u001b[1;32m    972\u001b[0m         \u001b[0;32mreturn\u001b[0m \u001b[0mdefault\u001b[0m  \u001b[0;31m# TODO: write test for default\u001b[0m\u001b[0;34m\u001b[0m\u001b[0;34m\u001b[0m\u001b[0m\n\u001b[1;32m    973\u001b[0m     \u001b[0;32melse\u001b[0m\u001b[0;34m:\u001b[0m\u001b[0;34m\u001b[0m\u001b[0;34m\u001b[0m\u001b[0m\n\u001b[0;32m--> 974\u001b[0;31m         \u001b[0;32mraise\u001b[0m \u001b[0mexception\u001b[0m\u001b[0;34m\u001b[0m\u001b[0;34m\u001b[0m\u001b[0m\n\u001b[0m",
      "\u001b[0;31mImportError\u001b[0m: No pkg installed named pygame and auto-installation not requested. Aborting."
     ]
    }
   ],
   "source": [
    "pg = use(\"pygame\")"
   ]
  },
  {
   "cell_type": "markdown",
   "metadata": {},
   "source": [
    "Well, bummer! We want to play with pygame, let's have pygame!"
   ]
  },
  {
   "cell_type": "code",
   "execution_count": 11,
   "metadata": {
    "execution": {
     "iopub.execute_input": "2021-11-26T14:28:40.029837Z",
     "iopub.status.busy": "2021-11-26T14:28:40.029119Z",
     "iopub.status.idle": "2021-11-26T14:28:43.387312Z",
     "shell.execute_reply": "2021-11-26T14:28:43.372274Z",
     "shell.execute_reply.started": "2021-11-26T14:28:40.029769Z"
    }
   },
   "outputs": [
    {
     "ename": "RuntimeWarning",
     "evalue": "Please specify version and hash for auto-installation of 'pygame'.\nA webbrowser will open to the Snyk Advisor to check whether the package is vulnerable.\nIf you want to auto-install the latest version:\nuse(\"pygame\", version=\"2.1.0\", hashes={'J娼䥺瑹鍖谫癦䯅恢搸烃诺嬝矫暠鸤嘀邦'}, modes=use.auto_install)",
     "output_type": "error",
     "traceback": [
      "\u001b[0;31m---------------------------------------------------------------------------\u001b[0m",
      "\u001b[0;31mRuntimeWarning\u001b[0m                            Traceback (most recent call last)",
      "\u001b[0;32m<ipython-input-11-939f1366e66f>\u001b[0m in \u001b[0;36m<module>\u001b[0;34m\u001b[0m\n\u001b[0;32m----> 1\u001b[0;31m \u001b[0mspam\u001b[0m \u001b[0;34m=\u001b[0m \u001b[0muse\u001b[0m\u001b[0;34m(\u001b[0m\u001b[0;34m\"pygame\"\u001b[0m\u001b[0;34m,\u001b[0m \u001b[0mmodes\u001b[0m\u001b[0;34m=\u001b[0m\u001b[0muse\u001b[0m\u001b[0;34m.\u001b[0m\u001b[0mauto_install\u001b[0m\u001b[0;34m)\u001b[0m\u001b[0;34m\u001b[0m\u001b[0;34m\u001b[0m\u001b[0m\n\u001b[0m",
      "\u001b[0;32m~/anaconda3/lib/python3.8/site-packages/use/main.py\u001b[0m in \u001b[0;36m__call__\u001b[0;34m(self, *args, **kwargs)\u001b[0m\n\u001b[1;32m    101\u001b[0m     \u001b[0;32mdef\u001b[0m \u001b[0m__call__\u001b[0m\u001b[0;34m(\u001b[0m\u001b[0mself\u001b[0m\u001b[0;34m,\u001b[0m \u001b[0;34m*\u001b[0m\u001b[0margs\u001b[0m\u001b[0;34m,\u001b[0m \u001b[0;34m**\u001b[0m\u001b[0mkwargs\u001b[0m\u001b[0;34m)\u001b[0m\u001b[0;34m:\u001b[0m\u001b[0;34m\u001b[0m\u001b[0;34m\u001b[0m\u001b[0m\n\u001b[1;32m    102\u001b[0m         \u001b[0;32mwith\u001b[0m \u001b[0mself\u001b[0m\u001b[0;34m.\u001b[0m\u001b[0m__condition\u001b[0m\u001b[0;34m:\u001b[0m\u001b[0;34m\u001b[0m\u001b[0;34m\u001b[0m\u001b[0m\n\u001b[0;32m--> 103\u001b[0;31m             \u001b[0;32mreturn\u001b[0m \u001b[0mself\u001b[0m\u001b[0;34m.\u001b[0m\u001b[0m__implementation\u001b[0m\u001b[0;34m(\u001b[0m\u001b[0;34m*\u001b[0m\u001b[0margs\u001b[0m\u001b[0;34m,\u001b[0m \u001b[0;34m**\u001b[0m\u001b[0mkwargs\u001b[0m\u001b[0;34m)\u001b[0m\u001b[0;34m\u001b[0m\u001b[0;34m\u001b[0m\u001b[0m\n\u001b[0m\u001b[1;32m    104\u001b[0m \u001b[0;34m\u001b[0m\u001b[0m\n\u001b[1;32m    105\u001b[0m \u001b[0;34m\u001b[0m\u001b[0m\n",
      "\u001b[0;32m~/anaconda3/lib/python3.8/site-packages/use/tools.py\u001b[0m in \u001b[0;36mwrapper\u001b[0;34m(*args, **kw)\u001b[0m\n\u001b[1;32m     40\u001b[0m         \u001b[0;32mif\u001b[0m \u001b[0mlen\u001b[0m\u001b[0;34m(\u001b[0m\u001b[0margs\u001b[0m\u001b[0;34m)\u001b[0m \u001b[0;34m==\u001b[0m \u001b[0;36m1\u001b[0m\u001b[0;34m:\u001b[0m\u001b[0;34m\u001b[0m\u001b[0;34m\u001b[0m\u001b[0m\n\u001b[1;32m     41\u001b[0m             \u001b[0margs\u001b[0m \u001b[0;34m=\u001b[0m \u001b[0margs\u001b[0m \u001b[0;34m+\u001b[0m \u001b[0;34m(\u001b[0m\u001b[0;32mNone\u001b[0m\u001b[0;34m,\u001b[0m\u001b[0;34m)\u001b[0m\u001b[0;34m\u001b[0m\u001b[0;34m\u001b[0m\u001b[0m\n\u001b[0;32m---> 42\u001b[0;31m         \u001b[0;32mreturn\u001b[0m \u001b[0mdispatcher\u001b[0m\u001b[0;34m.\u001b[0m\u001b[0mdispatch\u001b[0m\u001b[0;34m(\u001b[0m\u001b[0margs\u001b[0m\u001b[0;34m[\u001b[0m\u001b[0;36m1\u001b[0m\u001b[0;34m]\u001b[0m\u001b[0;34m.\u001b[0m\u001b[0m__class__\u001b[0m\u001b[0;34m)\u001b[0m\u001b[0;34m(\u001b[0m\u001b[0;34m*\u001b[0m\u001b[0margs\u001b[0m\u001b[0;34m,\u001b[0m \u001b[0;34m**\u001b[0m\u001b[0mkw\u001b[0m\u001b[0;34m)\u001b[0m\u001b[0;34m\u001b[0m\u001b[0;34m\u001b[0m\u001b[0m\n\u001b[0m\u001b[1;32m     43\u001b[0m \u001b[0;34m\u001b[0m\u001b[0m\n\u001b[1;32m     44\u001b[0m     \u001b[0mwrapper\u001b[0m\u001b[0;34m.\u001b[0m\u001b[0mregister\u001b[0m \u001b[0;34m=\u001b[0m \u001b[0mdispatcher\u001b[0m\u001b[0;34m.\u001b[0m\u001b[0mregister\u001b[0m\u001b[0;34m\u001b[0m\u001b[0;34m\u001b[0m\u001b[0m\n",
      "\u001b[0;32m~/anaconda3/lib/python3.8/site-packages/use/main.py\u001b[0m in \u001b[0;36m_use_str\u001b[0;34m(self, name, version, hash_algo, hashes, default, modes)\u001b[0m\n\u001b[1;32m    706\u001b[0m         \"\"\"\n\u001b[1;32m    707\u001b[0m         \u001b[0mpackage_name\u001b[0m\u001b[0;34m,\u001b[0m \u001b[0mmodule_name\u001b[0m \u001b[0;34m=\u001b[0m \u001b[0m_parse_name\u001b[0m\u001b[0;34m(\u001b[0m\u001b[0mname\u001b[0m\u001b[0;34m)\u001b[0m\u001b[0;34m\u001b[0m\u001b[0;34m\u001b[0m\u001b[0m\n\u001b[0;32m--> 708\u001b[0;31m         return self._use_package(\n\u001b[0m\u001b[1;32m    709\u001b[0m             \u001b[0mname\u001b[0m\u001b[0;34m=\u001b[0m\u001b[0mname\u001b[0m\u001b[0;34m,\u001b[0m\u001b[0;34m\u001b[0m\u001b[0;34m\u001b[0m\u001b[0m\n\u001b[1;32m    710\u001b[0m             \u001b[0mpackage_name\u001b[0m\u001b[0;34m=\u001b[0m\u001b[0mpackage_name\u001b[0m\u001b[0;34m,\u001b[0m\u001b[0;34m\u001b[0m\u001b[0;34m\u001b[0m\u001b[0m\n",
      "\u001b[0;32m~/anaconda3/lib/python3.8/site-packages/use/main.py\u001b[0m in \u001b[0;36m_use_package\u001b[0;34m(self, name, package_name, module_name, version, hashes, modes, default, hash_algo, user_msg)\u001b[0m\n\u001b[1;32m    777\u001b[0m \u001b[0;34m\u001b[0m\u001b[0m\n\u001b[1;32m    778\u001b[0m         \u001b[0;32mif\u001b[0m \u001b[0misinstance\u001b[0m\u001b[0;34m(\u001b[0m\u001b[0mresult\u001b[0m\u001b[0;34m,\u001b[0m \u001b[0mException\u001b[0m\u001b[0;34m)\u001b[0m\u001b[0;34m:\u001b[0m\u001b[0;34m\u001b[0m\u001b[0;34m\u001b[0m\u001b[0m\n\u001b[0;32m--> 779\u001b[0;31m             \u001b[0;32mreturn\u001b[0m \u001b[0m_fail_or_default\u001b[0m\u001b[0;34m(\u001b[0m\u001b[0mresult\u001b[0m\u001b[0;34m,\u001b[0m \u001b[0mdefault\u001b[0m\u001b[0;34m)\u001b[0m\u001b[0;34m\u001b[0m\u001b[0;34m\u001b[0m\u001b[0m\n\u001b[0m\u001b[1;32m    780\u001b[0m \u001b[0;34m\u001b[0m\u001b[0m\n\u001b[1;32m    781\u001b[0m         \u001b[0;32mif\u001b[0m \u001b[0misinstance\u001b[0m\u001b[0;34m(\u001b[0m\u001b[0mresult\u001b[0m\u001b[0;34m,\u001b[0m \u001b[0mModuleType\u001b[0m\u001b[0;34m)\u001b[0m\u001b[0;34m:\u001b[0m\u001b[0;34m\u001b[0m\u001b[0;34m\u001b[0m\u001b[0m\n",
      "\u001b[0;32m~/anaconda3/lib/python3.8/site-packages/use/pimp.py\u001b[0m in \u001b[0;36m_fail_or_default\u001b[0;34m(exception, default)\u001b[0m\n\u001b[1;32m    972\u001b[0m         \u001b[0;32mreturn\u001b[0m \u001b[0mdefault\u001b[0m  \u001b[0;31m# TODO: write test for default\u001b[0m\u001b[0;34m\u001b[0m\u001b[0;34m\u001b[0m\u001b[0m\n\u001b[1;32m    973\u001b[0m     \u001b[0;32melse\u001b[0m\u001b[0;34m:\u001b[0m\u001b[0;34m\u001b[0m\u001b[0;34m\u001b[0m\u001b[0m\n\u001b[0;32m--> 974\u001b[0;31m         \u001b[0;32mraise\u001b[0m \u001b[0mexception\u001b[0m\u001b[0;34m\u001b[0m\u001b[0;34m\u001b[0m\u001b[0m\n\u001b[0m",
      "\u001b[0;31mRuntimeWarning\u001b[0m: Please specify version and hash for auto-installation of 'pygame'.\nA webbrowser will open to the Snyk Advisor to check whether the package is vulnerable.\nIf you want to auto-install the latest version:\nuse(\"pygame\", version=\"2.1.0\", hashes={'J娼䥺瑹鍖谫癦䯅恢搸烃诺嬝矫暠鸤嘀邦'}, modes=use.auto_install)"
     ]
    }
   ],
   "source": [
    "pg = use(\"pygame\", modes=use.auto_install)"
   ]
  },
  {
   "cell_type": "markdown",
   "metadata": {},
   "source": [
    "Now we're getting somewhere! Hmm.. it says \"To get some valuable insight on the health of this package, please check out https://snyk.io/advisor/python/pygame - see for yourself!"
   ]
  },
  {
   "cell_type": "markdown",
   "metadata": {
    "execution": {
     "iopub.execute_input": "2021-11-23T20:24:34.295653Z",
     "iopub.status.busy": "2021-11-23T20:24:34.294878Z",
     "iopub.status.idle": "2021-11-23T20:24:34.314741Z",
     "shell.execute_reply": "2021-11-23T20:24:34.312597Z",
     "shell.execute_reply.started": "2021-11-23T20:24:34.295588Z"
    }
   },
   "source": [
    "You wonder what those chinese looking characters are? Well. Normally, hexdigests look something like `d6c1c1c53a988b3daf44c1865d40f86de48665639bfbd5eea1317eb083638a3a` which is way too verbose on a normal line of code and since you shouldn't manually type those anyway but only copy&paste, we thought what the heck - let's use the japanese, ascii, chinese and korean alphabets (thus JACK) to encode those hashes as compact as we can."
   ]
  },
  {
   "cell_type": "markdown",
   "metadata": {},
   "source": [
    "Have a look at the last line of the Error message - let's try to copy&paste it.."
   ]
  },
  {
   "cell_type": "code",
   "execution_count": 12,
   "metadata": {
    "execution": {
     "iopub.execute_input": "2021-11-26T14:28:54.873909Z",
     "iopub.status.busy": "2021-11-26T14:28:54.873391Z",
     "iopub.status.idle": "2021-11-26T14:28:55.077317Z",
     "shell.execute_reply": "2021-11-26T14:28:55.076587Z",
     "shell.execute_reply.started": "2021-11-26T14:28:54.873871Z"
    }
   },
   "outputs": [
    {
     "name": "stdout",
     "output_type": "stream",
     "text": [
      "pygame 2.1.0 (SDL 2.0.16, Python 3.8.5)\n",
      "Hello from the pygame community. https://www.pygame.org/contribute.html\n"
     ]
    },
    {
     "data": {
      "text/plain": [
       "<module 'pygame' from '/home/thorsten/.justuse-python/venv/pygame/2.1.0/lib/python3.8/site-packages/pygame/__init__.py'>"
      ]
     },
     "execution_count": 12,
     "metadata": {},
     "output_type": "execute_result"
    }
   ],
   "source": [
    "use(\"pygame\", version=\"2.1.0\", hashes={'J娼䥺瑹鍖谫癦䯅恢搸烃诺嬝矫暠鸤嘀邦'}, modes=use.auto_install)"
   ]
  },
  {
   "cell_type": "markdown",
   "metadata": {
    "execution": {
     "iopub.execute_input": "2021-11-22T18:09:18.480558Z",
     "iopub.status.busy": "2021-11-22T18:09:18.479870Z",
     "iopub.status.idle": "2021-11-22T18:09:18.495532Z",
     "shell.execute_reply": "2021-11-22T18:09:18.492594Z",
     "shell.execute_reply.started": "2021-11-22T18:09:18.480515Z"
    }
   },
   "source": [
    "Wow, did we just download, install and load the spam package without leaving our own sweet code?? Yes, we did!"
   ]
  },
  {
   "cell_type": "markdown",
   "metadata": {
    "execution": {
     "iopub.execute_input": "2021-11-22T18:13:38.832767Z",
     "iopub.status.busy": "2021-11-22T18:13:38.832002Z",
     "iopub.status.idle": "2021-11-22T18:13:38.847351Z",
     "shell.execute_reply": "2021-11-22T18:13:38.844955Z",
     "shell.execute_reply.started": "2021-11-22T18:13:38.832713Z"
    }
   },
   "source": [
    "Furthermore, the package we installed is version and hash-pinned so we really only get what we asked for and nothing else."
   ]
  },
  {
   "cell_type": "markdown",
   "metadata": {},
   "source": [
    "There's a small problem though. Those hashes refer to very specific files and some of those packages may be written in C or even Fortran (like numpy) that are compiled for specific platforms.\n",
    "If you happily develop code on Linux that uses something platform-specific (like numpy!) it will all work without problems - until you try to run your code on another platform. In this case, you need to specify all hashes for all platforms you want to run your code on."
   ]
  },
  {
   "cell_type": "markdown",
   "metadata": {},
   "source": [
    "Version- and hash-pinning is the most secure way to install a package. It will ensure that your code will always run as you expect it, but there's a drawback: there is no immediate and automatic way to update code without involving the user (yet). On one side, you won't ever accidentally break your stuff by updating something else, but you also won't benefit from automatic security patches. To fix this shortcoming, it might be feasible to build IDE-plugins that check and update these pins in the code or check some database for security patches every time an auto-installed package is imported - please contact us if you have ideas or better yet, code ;-)"
   ]
  },
  {
   "cell_type": "markdown",
   "metadata": {},
   "source": [
    "## Use() modules from anywhere!\n",
    "If you `import` some package or module, you're limited to the stuff you have in your current directory or below (but only if there is a `__init__.py` or if it's an implicit namespace package) and the things in your sys.path, which can be manipulated freely, making it very complicated to handle. Let's suppose we're in our test directory."
   ]
  },
  {
   "cell_type": "code",
   "execution_count": 13,
   "metadata": {
    "execution": {
     "iopub.execute_input": "2021-11-25T17:22:29.666835Z",
     "iopub.status.busy": "2021-11-25T17:22:29.666271Z",
     "iopub.status.idle": "2021-11-25T17:22:29.679415Z",
     "shell.execute_reply": "2021-11-25T17:22:29.678243Z",
     "shell.execute_reply.started": "2021-11-25T17:22:29.666785Z"
    }
   },
   "outputs": [
    {
     "name": "stdout",
     "output_type": "stream",
     "text": [
      "/media/sf_Dropbox/code/justuse/tests\n"
     ]
    }
   ],
   "source": [
    "%cd ~/Desktop/sf_Dropbox/code/justuse/tests"
   ]
  },
  {
   "cell_type": "markdown",
   "metadata": {},
   "source": [
    "the code we want to run is in justuse/docs and there is no `__init__.py` in between, so to get to run the code, we could put the src directory in sys.path - or we could use() a module directly!"
   ]
  },
  {
   "cell_type": "code",
   "execution_count": 14,
   "metadata": {
    "execution": {
     "iopub.execute_input": "2021-11-25T17:22:31.142232Z",
     "iopub.status.busy": "2021-11-25T17:22:31.141382Z",
     "iopub.status.idle": "2021-11-25T17:22:32.422593Z",
     "shell.execute_reply": "2021-11-25T17:22:32.421489Z",
     "shell.execute_reply.started": "2021-11-25T17:22:31.142184Z"
    }
   },
   "outputs": [],
   "source": [
    "mod = use(use.Path(\"../docs/demo.py\"))"
   ]
  },
  {
   "cell_type": "code",
   "execution_count": 15,
   "metadata": {
    "execution": {
     "iopub.execute_input": "2021-11-25T17:22:32.425403Z",
     "iopub.status.busy": "2021-11-25T17:22:32.424586Z",
     "iopub.status.idle": "2021-11-25T17:22:32.431595Z",
     "shell.execute_reply": "2021-11-25T17:22:32.430428Z",
     "shell.execute_reply.started": "2021-11-25T17:22:32.425362Z"
    }
   },
   "outputs": [
    {
     "name": "stdout",
     "output_type": "stream",
     "text": [
      "Hello justuse-user!\n"
     ]
    }
   ],
   "source": [
    "mod.foo()"
   ]
  },
  {
   "cell_type": "markdown",
   "metadata": {},
   "source": [
    "Loading single modules doesn't sound like much, but especially while experimenting on jupyter, this can be used very effectively in conjunction with the reloading mode:"
   ]
  },
  {
   "cell_type": "code",
   "execution_count": 16,
   "metadata": {
    "execution": {
     "iopub.execute_input": "2021-11-25T17:22:37.742801Z",
     "iopub.status.busy": "2021-11-25T17:22:37.742226Z",
     "iopub.status.idle": "2021-11-25T17:22:38.981532Z",
     "shell.execute_reply": "2021-11-25T17:22:38.980472Z",
     "shell.execute_reply.started": "2021-11-25T17:22:37.742746Z"
    }
   },
   "outputs": [],
   "source": [
    "mod = use(use.Path(\"../docs/demo.py\"), modes=use.reloading)"
   ]
  },
  {
   "cell_type": "markdown",
   "metadata": {},
   "source": [
    "Now this module is loaded fresh whenever you modify and save the file, replacing the implementation behind the scene. This will work without any problems as long as you put functions in that module and if you access those functions via attribute-access (`mod.func()` **not** `func = mod.func; func()`)."
   ]
  },
  {
   "cell_type": "markdown",
   "metadata": {
    "execution": {
     "iopub.execute_input": "2021-11-23T00:11:22.768463Z",
     "iopub.status.busy": "2021-11-23T00:11:22.767536Z",
     "iopub.status.idle": "2021-11-23T00:11:22.781007Z",
     "shell.execute_reply": "2021-11-23T00:11:22.779348Z",
     "shell.execute_reply.started": "2021-11-23T00:11:22.768380Z"
    }
   },
   "source": [
    "If you can load modules from disk, why couldn't you load them from the web? Let's say you found an interesting github repo like https://github.com/amogorkon/justuse. Chances are, there's also a package on pypi you can pip-install, but maybe there's not. Maybe you're only interested in a single module from that repo/package, so you don't even want to install anything. Then you could download it from github, move the file manually into your folder and import it - sounds like a lot of trouble for a single module!\n",
    "There has to be a better way! And there is - you can just use() web resources:"
   ]
  },
  {
   "cell_type": "code",
   "execution_count": 17,
   "metadata": {
    "execution": {
     "iopub.execute_input": "2021-11-25T17:22:42.728021Z",
     "iopub.status.busy": "2021-11-25T17:22:42.727162Z",
     "iopub.status.idle": "2021-11-25T17:22:43.095180Z",
     "shell.execute_reply": "2021-11-25T17:22:43.092602Z",
     "shell.execute_reply.started": "2021-11-25T17:22:42.727970Z"
    }
   },
   "outputs": [
    {
     "name": "stderr",
     "output_type": "stream",
     "text": [
      "/home/thorsten/anaconda3/lib/python3.8/site-packages/use/main.py:416: NoValidationWarning: Attempting to import from the interwebs with no validation whatsoever!\n",
      "To safely reproduce:\n",
      "use(use.URL('https://raw.githubusercontent.com/amogorkon/justuse/unstable/docs/demo.py'), hash_algo=use.Hash.sha256, hash_value='59eff31bb220ce933ccc083b9306020ec25d19d43de30e5ad4341b355d4b48bf')\n",
      "  warn(Message.no_validation(url, hash_algo, this_hash), NoValidationWarning)\n"
     ]
    }
   ],
   "source": [
    "mod = use(use.URL(\"https://raw.githubusercontent.com/amogorkon/justuse/unstable/docs/demo.py\"))"
   ]
  },
  {
   "cell_type": "markdown",
   "metadata": {
    "execution": {
     "iopub.execute_input": "2021-11-23T00:17:40.146456Z",
     "iopub.status.busy": "2021-11-23T00:17:40.145947Z",
     "iopub.status.idle": "2021-11-23T00:17:40.155091Z",
     "shell.execute_reply": "2021-11-23T00:17:40.153301Z",
     "shell.execute_reply.started": "2021-11-23T00:17:40.146414Z"
    }
   },
   "source": [
    "copy&paste that line from the exception to get that sweet hash.."
   ]
  },
  {
   "cell_type": "code",
   "execution_count": 18,
   "metadata": {
    "execution": {
     "iopub.execute_input": "2021-11-25T17:22:48.805442Z",
     "iopub.status.busy": "2021-11-25T17:22:48.804867Z",
     "iopub.status.idle": "2021-11-25T17:22:48.955884Z",
     "shell.execute_reply": "2021-11-25T17:22:48.953385Z",
     "shell.execute_reply.started": "2021-11-25T17:22:48.805393Z"
    }
   },
   "outputs": [],
   "source": [
    "mod = use(use.URL('https://raw.githubusercontent.com/amogorkon/justuse/unstable/docs/demo.py'), hash_algo=use.Hash.sha256, hash_value='59eff31bb220ce933ccc083b9306020ec25d19d43de30e5ad4341b355d4b48bf')"
   ]
  },
  {
   "cell_type": "code",
   "execution_count": 19,
   "metadata": {
    "execution": {
     "iopub.execute_input": "2021-11-25T17:22:50.392432Z",
     "iopub.status.busy": "2021-11-25T17:22:50.391775Z",
     "iopub.status.idle": "2021-11-25T17:22:50.398784Z",
     "shell.execute_reply": "2021-11-25T17:22:50.397663Z",
     "shell.execute_reply.started": "2021-11-25T17:22:50.392377Z"
    }
   },
   "outputs": [
    {
     "name": "stdout",
     "output_type": "stream",
     "text": [
      "Hello justuse-user!\n"
     ]
    }
   ],
   "source": [
    "mod.foo()"
   ]
  },
  {
   "cell_type": "markdown",
   "metadata": {},
   "source": [
    "Since the content of this file is now hash-pinned, it doesn't matter whether or not someone hacks github and changes the code - justuse will instantly notice before executing any code. You can even execute code directly from pastebin or any other untrusted, public platform - as long as you have the proper hash, you're safe."
   ]
  },
  {
   "cell_type": "markdown",
   "metadata": {},
   "source": [
    "## A word on circular imports\n",
    "Everyone stumbles over a circular import once they try to build slightly more complex projects and it can get very ugly and overly frustrating to deal with those.\n",
    "\n",
    "Let's suppose we have two modules A and B:"
   ]
  },
  {
   "cell_type": "code",
   "execution_count": 11,
   "metadata": {
    "execution": {
     "iopub.execute_input": "2021-11-26T00:39:49.115044Z",
     "iopub.status.busy": "2021-11-26T00:39:49.114580Z",
     "iopub.status.idle": "2021-11-26T00:39:49.245519Z",
     "shell.execute_reply": "2021-11-26T00:39:49.244322Z",
     "shell.execute_reply.started": "2021-11-26T00:39:49.115003Z"
    }
   },
   "outputs": [
    {
     "name": "stdout",
     "output_type": "stream",
     "text": [
      "/media/sf_Dropbox/code/justuse/docs\n",
      "insgesamt 47\n",
      "-rwxrwx--- 1 root    43 Nov 23 01:13 \u001b[0m\u001b[01;32mdemo.py\u001b[0m*\n",
      "-rwxrwx--- 1 root    97 Nov 26 01:35 \u001b[01;32mmodule_a.py\u001b[0m*\n",
      "-rwxrwx--- 1 root    47 Nov 26 01:36 \u001b[01;32mmodule_b.py\u001b[0m*\n",
      "-rwxrwx--- 1 root    62 Nov 26 01:12 \u001b[01;32mmodule_circular_a.py\u001b[0m*\n",
      "-rwxrwx--- 1 root    68 Nov 26 01:12 \u001b[01;32mmodule_circular_b.py\u001b[0m*\n",
      "drwxrwx--- 1 root  4096 Nov 26 01:12 \u001b[01;34m__pycache__\u001b[0m/\n",
      "-rwxrwx--- 1 root 80661 Nov 26 01:38 \u001b[01;32mShowcase.ipynb\u001b[0m*\n"
     ]
    }
   ],
   "source": [
    "%cd ../docs\n",
    "%ll"
   ]
  },
  {
   "cell_type": "code",
   "execution_count": 21,
   "metadata": {
    "execution": {
     "iopub.execute_input": "2021-11-25T17:23:11.838117Z",
     "iopub.status.busy": "2021-11-25T17:23:11.837304Z",
     "iopub.status.idle": "2021-11-25T17:23:11.847034Z",
     "shell.execute_reply": "2021-11-25T17:23:11.845916Z",
     "shell.execute_reply.started": "2021-11-25T17:23:11.838062Z"
    }
   },
   "outputs": [
    {
     "data": {
      "text/plain": [
       "\u001b[0mprint\u001b[0m\u001b[0;34m(\u001b[0m\u001b[0;34m\"Hello from A!\"\u001b[0m\u001b[0;34m)\u001b[0m\u001b[0;34m\u001b[0m\n",
       "\u001b[0;34m\u001b[0m\u001b[0;34m\u001b[0m\n",
       "\u001b[0;34m\u001b[0m\u001b[0mfoo\u001b[0m \u001b[0;34m=\u001b[0m \u001b[0;36m23\u001b[0m\u001b[0;34m\u001b[0m\n",
       "\u001b[0;34m\u001b[0m\u001b[0;34m\u001b[0m\n",
       "\u001b[0;34m\u001b[0m\u001b[0;32mimport\u001b[0m \u001b[0mmodule_circular_b\u001b[0m\u001b[0;34m\u001b[0m\u001b[0;34m\u001b[0m\u001b[0m\n"
      ]
     },
     "metadata": {},
     "output_type": "display_data"
    }
   ],
   "source": [
    "%less module_circular_a.py"
   ]
  },
  {
   "cell_type": "code",
   "execution_count": 22,
   "metadata": {
    "execution": {
     "iopub.execute_input": "2021-11-25T17:23:16.919760Z",
     "iopub.status.busy": "2021-11-25T17:23:16.918994Z",
     "iopub.status.idle": "2021-11-25T17:23:16.928951Z",
     "shell.execute_reply": "2021-11-25T17:23:16.926696Z",
     "shell.execute_reply.started": "2021-11-25T17:23:16.919711Z"
    }
   },
   "outputs": [
    {
     "data": {
      "text/plain": [
       "\u001b[0mprint\u001b[0m\u001b[0;34m(\u001b[0m\u001b[0;34m\"Hello from B!\"\u001b[0m\u001b[0;34m)\u001b[0m\u001b[0;34m\u001b[0m\u001b[0;34m\u001b[0m\u001b[0m\n"
      ]
     },
     "metadata": {},
     "output_type": "display_data"
    }
   ],
   "source": [
    "%less module_circular_b.py"
   ]
  },
  {
   "cell_type": "code",
   "execution_count": 1,
   "metadata": {
    "execution": {
     "iopub.execute_input": "2021-11-26T00:12:17.517867Z",
     "iopub.status.busy": "2021-11-26T00:12:17.517151Z",
     "iopub.status.idle": "2021-11-26T00:12:17.673345Z",
     "shell.execute_reply": "2021-11-26T00:12:17.671781Z",
     "shell.execute_reply.started": "2021-11-26T00:12:17.517734Z"
    }
   },
   "outputs": [
    {
     "name": "stdout",
     "output_type": "stream",
     "text": [
      "Hello from A!\n"
     ]
    },
    {
     "ename": "ImportError",
     "evalue": "cannot import name 'foo' from partially initialized module 'module_circular_a' (most likely due to a circular import) (/media/sf_Dropbox/code/justuse/docs/module_circular_a.py)",
     "output_type": "error",
     "traceback": [
      "\u001b[0;31m---------------------------------------------------------------------------\u001b[0m",
      "\u001b[0;31mImportError\u001b[0m                               Traceback (most recent call last)",
      "\u001b[0;32m<ipython-input-1-420778313a26>\u001b[0m in \u001b[0;36m<module>\u001b[0;34m\u001b[0m\n\u001b[0;32m----> 1\u001b[0;31m \u001b[0;32mimport\u001b[0m \u001b[0mmodule_circular_a\u001b[0m\u001b[0;34m\u001b[0m\u001b[0;34m\u001b[0m\u001b[0m\n\u001b[0m",
      "\u001b[0;32m/media/sf_Dropbox/code/justuse/docs/module_circular_a.py\u001b[0m in \u001b[0;36m<module>\u001b[0;34m\u001b[0m\n\u001b[1;32m      1\u001b[0m \u001b[0mprint\u001b[0m\u001b[0;34m(\u001b[0m\u001b[0;34m\"Hello from A!\"\u001b[0m\u001b[0;34m)\u001b[0m\u001b[0;34m\u001b[0m\u001b[0;34m\u001b[0m\u001b[0m\n\u001b[1;32m      2\u001b[0m \u001b[0;34m\u001b[0m\u001b[0m\n\u001b[0;32m----> 3\u001b[0;31m \u001b[0;32mimport\u001b[0m \u001b[0mmodule_circular_b\u001b[0m\u001b[0;34m\u001b[0m\u001b[0;34m\u001b[0m\u001b[0m\n\u001b[0m\u001b[1;32m      4\u001b[0m \u001b[0;34m\u001b[0m\u001b[0m\n\u001b[1;32m      5\u001b[0m \u001b[0mfoo\u001b[0m \u001b[0;34m=\u001b[0m \u001b[0;36m23\u001b[0m\u001b[0;34m\u001b[0m\u001b[0;34m\u001b[0m\u001b[0m\n",
      "\u001b[0;32m/media/sf_Dropbox/code/justuse/docs/module_circular_b.py\u001b[0m in \u001b[0;36m<module>\u001b[0;34m\u001b[0m\n\u001b[1;32m      1\u001b[0m \u001b[0;34m\u001b[0m\u001b[0m\n\u001b[0;32m----> 2\u001b[0;31m \u001b[0;32mfrom\u001b[0m \u001b[0mmodule_circular_a\u001b[0m \u001b[0;32mimport\u001b[0m \u001b[0mfoo\u001b[0m\u001b[0;34m\u001b[0m\u001b[0;34m\u001b[0m\u001b[0m\n\u001b[0m\u001b[1;32m      3\u001b[0m \u001b[0;34m\u001b[0m\u001b[0m\n\u001b[1;32m      4\u001b[0m \u001b[0mprint\u001b[0m\u001b[0;34m(\u001b[0m\u001b[0;34m\"Hello from B!\"\u001b[0m\u001b[0;34m,\u001b[0m \u001b[0mfoo\u001b[0m\u001b[0;34m)\u001b[0m\u001b[0;34m\u001b[0m\u001b[0;34m\u001b[0m\u001b[0m\n",
      "\u001b[0;31mImportError\u001b[0m: cannot import name 'foo' from partially initialized module 'module_circular_a' (most likely due to a circular import) (/media/sf_Dropbox/code/justuse/docs/module_circular_a.py)"
     ]
    }
   ],
   "source": [
    "import module_circular_a"
   ]
  },
  {
   "cell_type": "code",
   "execution_count": 13,
   "metadata": {
    "execution": {
     "iopub.execute_input": "2021-11-26T00:39:55.751033Z",
     "iopub.status.busy": "2021-11-26T00:39:55.750247Z",
     "iopub.status.idle": "2021-11-26T00:39:55.758422Z",
     "shell.execute_reply": "2021-11-26T00:39:55.757219Z",
     "shell.execute_reply.started": "2021-11-26T00:39:55.750992Z"
    }
   },
   "outputs": [
    {
     "data": {
      "text/plain": [
       "\u001b[0;32mimport\u001b[0m \u001b[0muse\u001b[0m\u001b[0;34m\u001b[0m\n",
       "\u001b[0;34m\u001b[0m\u001b[0;34m\u001b[0m\n",
       "\u001b[0;34m\u001b[0m\u001b[0mprint\u001b[0m\u001b[0;34m(\u001b[0m\u001b[0;34m\"Hello from A!\"\u001b[0m\u001b[0;34m)\u001b[0m\u001b[0;34m\u001b[0m\n",
       "\u001b[0;34m\u001b[0m\u001b[0;34m\u001b[0m\n",
       "\u001b[0;34m\u001b[0m\u001b[0muse\u001b[0m\u001b[0;34m(\u001b[0m\u001b[0muse\u001b[0m\u001b[0;34m.\u001b[0m\u001b[0mPath\u001b[0m\u001b[0;34m(\u001b[0m\u001b[0;34m\"module_b.py\"\u001b[0m\u001b[0;34m)\u001b[0m\u001b[0;34m,\u001b[0m \u001b[0minitial_globals\u001b[0m\u001b[0;34m=\u001b[0m\u001b[0;34m{\u001b[0m\u001b[0;34m\"foo\"\u001b[0m\u001b[0;34m:\u001b[0m \u001b[0;36m23\u001b[0m\u001b[0;34m}\u001b[0m\u001b[0;34m)\u001b[0m\u001b[0;34m\u001b[0m\u001b[0;34m\u001b[0m\u001b[0m\n"
      ]
     },
     "metadata": {},
     "output_type": "display_data"
    }
   ],
   "source": [
    "%less module_a.py"
   ]
  },
  {
   "cell_type": "code",
   "execution_count": 14,
   "metadata": {
    "execution": {
     "iopub.execute_input": "2021-11-26T00:40:01.282521Z",
     "iopub.status.busy": "2021-11-26T00:40:01.281841Z",
     "iopub.status.idle": "2021-11-26T00:40:01.288882Z",
     "shell.execute_reply": "2021-11-26T00:40:01.287663Z",
     "shell.execute_reply.started": "2021-11-26T00:40:01.282482Z"
    }
   },
   "outputs": [
    {
     "data": {
      "text/plain": [
       "\u001b[0mfoo\u001b[0m\u001b[0;34m:\u001b[0m \u001b[0mint\u001b[0m\u001b[0;34m\u001b[0m\n",
       "\u001b[0;34m\u001b[0m\u001b[0;34m\u001b[0m\n",
       "\u001b[0;34m\u001b[0m\u001b[0mprint\u001b[0m\u001b[0;34m(\u001b[0m\u001b[0;34mf\"Hello from B! foo={foo}\"\u001b[0m\u001b[0;34m)\u001b[0m\u001b[0;34m\u001b[0m\u001b[0;34m\u001b[0m\u001b[0m\n"
      ]
     },
     "metadata": {},
     "output_type": "display_data"
    }
   ],
   "source": [
    "%less module_b.py"
   ]
  },
  {
   "cell_type": "code",
   "execution_count": 9,
   "metadata": {
    "execution": {
     "iopub.execute_input": "2021-11-26T00:36:46.721866Z",
     "iopub.status.busy": "2021-11-26T00:36:46.720984Z",
     "iopub.status.idle": "2021-11-26T00:36:49.177806Z",
     "shell.execute_reply": "2021-11-26T00:36:49.176531Z",
     "shell.execute_reply.started": "2021-11-26T00:36:46.721814Z"
    }
   },
   "outputs": [
    {
     "name": "stdout",
     "output_type": "stream",
     "text": [
      "Hello from A!\n",
      "Hello from B! foo=23\n"
     ]
    }
   ],
   "source": [
    "modA = use(use.Path(\"module_a.py\"))"
   ]
  },
  {
   "cell_type": "markdown",
   "metadata": {},
   "source": [
    "## Aspects and decorators\n",
    "If you have code like\n",
    "\n",
    "```\n",
    "def foo(x):\n",
    "    return x ** 2\n",
    "```\n",
    "There are two ways to modify the behaviour of the code. Let's say you want to know which arguments were passed in and you want to print those arguments, so you can either add the print statement inside like\n",
    "```\n",
    "def foo(x):\n",
    "    print(x)\n",
    "    return x ** 2\n",
    "```\n",
    "or you can wrap the function with another function which gets called instead like\n",
    "\n",
    "```\n",
    "def decorator(x):\n",
    "    print(x)\n",
    "    return foo(x)\n",
    "```\n",
    "which you can also write as a function that takes a function as argument - a \"higher order function\" if you will - like\n",
    "```\n",
    "def decorator(func):\n",
    "   def wrapper(*args, **kwargs):\n",
    "       print(*args, **kwargs)\n",
    "       return func(*args, **kwargs)\n",
    "   return wrapper\n",
    "foo = wrap(foo)\n",
    "foo(x)\n",
    "```\n",
    "which looks a bit convoluted, so there is some syntactic sugar in python to make it look nicer:\n",
    "```\n",
    "@decorator\n",
    "def foo(x):\n",
    "    return x ** 2\n",
    "```"
   ]
  },
  {
   "cell_type": "markdown",
   "metadata": {},
   "source": [
    "There is nothing wrong with this approach, it's a plain and simple decorator, obvious reading the code. The only big problem is that single decorator is nice and simple but adding more quickly gets messy and complicated, not just because it gets hard to read and reason about but also because writing correct decorators is not as plain and simple as it may look like. For example, the *decorator* function above is bad because it will shadow the signature and docstring of the function it is wrapping. The second big problem is that it is quite messy to add decorators manually to code with lots of functions or methods. It can be not only a lot to write but also add visual noise, making it harder to read code (the opposite of what it was supposed to do!) while making it harder to keep DRY. The third big problem, no wait, amongst the chief problems of manually adding decorators is that it can be quite painful or impossible to deal with callables (functions, methods but also classes can be callable!) that originate in code you can't control, for example code that isn't even written in python but in C (like numpy)."
   ]
  },
  {
   "cell_type": "markdown",
   "metadata": {},
   "source": [
    "Our solution: use() adds functionality to the modules you request and gives you an easy way to decorate *everything* in a single line:"
   ]
  },
  {
   "cell_type": "code",
   "execution_count": 15,
   "metadata": {
    "execution": {
     "iopub.execute_input": "2021-11-26T15:29:01.700128Z",
     "iopub.status.busy": "2021-11-26T15:29:01.699648Z",
     "iopub.status.idle": "2021-11-26T15:29:01.713190Z",
     "shell.execute_reply": "2021-11-26T15:29:01.712051Z",
     "shell.execute_reply.started": "2021-11-26T15:29:01.700089Z"
    }
   },
   "outputs": [],
   "source": [
    "from functools import wraps\n",
    "\n",
    "def decorator(func):\n",
    "    @wraps(func)\n",
    "    def wrapper(*args, **kwargs):\n",
    "        print(func, args, kwargs)\n",
    "        return func(*args, **kwargs)\n",
    "    return wrapper\n",
    "\n",
    "np = use(\"numpy\")"
   ]
  },
  {
   "cell_type": "code",
   "execution_count": 16,
   "metadata": {
    "execution": {
     "iopub.execute_input": "2021-11-26T15:29:02.214297Z",
     "iopub.status.busy": "2021-11-26T15:29:02.213336Z",
     "iopub.status.idle": "2021-11-26T15:29:02.270864Z",
     "shell.execute_reply": "2021-11-26T15:29:02.267503Z",
     "shell.execute_reply.started": "2021-11-26T15:29:02.214179Z"
    }
   },
   "outputs": [
    {
     "data": {
      "text/plain": [
       "<module 'numpy' from '/home/thorsten/anaconda3/lib/python3.8/site-packages/numpy/__init__.py'>"
      ]
     },
     "execution_count": 16,
     "metadata": {},
     "output_type": "execute_result"
    }
   ],
   "source": [
    "np @ (use.isfunction, \"\", decorator)"
   ]
  },
  {
   "cell_type": "markdown",
   "metadata": {
    "execution": {
     "iopub.execute_input": "2021-11-26T15:28:48.065021Z",
     "iopub.status.busy": "2021-11-26T15:28:48.064485Z",
     "iopub.status.idle": "2021-11-26T15:28:48.074691Z",
     "shell.execute_reply": "2021-11-26T15:28:48.072916Z",
     "shell.execute_reply.started": "2021-11-26T15:28:48.064974Z"
    }
   },
   "source": [
    "Let's have a look at our log file to see what just happened:"
   ]
  },
  {
   "cell_type": "code",
   "execution_count": 17,
   "metadata": {
    "execution": {
     "iopub.execute_input": "2021-11-26T15:29:04.122158Z",
     "iopub.status.busy": "2021-11-26T15:29:04.121562Z",
     "iopub.status.idle": "2021-11-26T15:29:04.148995Z",
     "shell.execute_reply": "2021-11-26T15:29:04.145725Z",
     "shell.execute_reply.started": "2021-11-26T15:29:04.122118Z"
    }
   },
   "outputs": [
    {
     "name": "stdout",
     "output_type": "stream",
     "text": [
      "16:29:02,248 use.pimp DEBUG Applied decorator to numpy::take_along_axis [function]\n",
      "16:29:02,248 use.pimp DEBUG Applied decorator to numpy::put_along_axis [function]\n",
      "16:29:02,248 use.pimp DEBUG Applied decorator to numpy::broadcast_to [function]\n",
      "16:29:02,248 use.pimp DEBUG Applied decorator to numpy::broadcast_arrays [function]\n",
      "16:29:02,248 use.pimp DEBUG Applied decorator to numpy::diag [function]\n",
      "16:29:02,248 use.pimp DEBUG Applied decorator to numpy::diagflat [function]\n",
      "16:29:02,248 use.pimp DEBUG Applied decorator to numpy::eye [function]\n",
      "16:29:02,248 use.pimp DEBUG Applied decorator to numpy::fliplr [function]\n",
      "16:29:02,249 use.pimp DEBUG Applied decorator to numpy::flipud [function]\n",
      "16:29:02,249 use.pimp DEBUG Applied decorator to numpy::tri [function]\n",
      "16:29:02,249 use.pimp DEBUG Applied decorator to numpy::triu [function]\n",
      "16:29:02,249 use.pimp DEBUG Applied decorator to numpy::tril [function]\n",
      "16:29:02,250 use.pimp DEBUG Applied decorator to numpy::vander [function]\n",
      "16:29:02,250 use.pimp DEBUG Applied decorator to numpy::histogram2d [function]\n",
      "16:29:02,250 use.pimp DEBUG Applied decorator to numpy::mask_indices [function]\n",
      "16:29:02,250 use.pimp DEBUG Applied decorator to numpy::tril_indices [function]\n",
      "16:29:02,251 use.pimp DEBUG Applied decorator to numpy::tril_indices_from [function]\n",
      "16:29:02,251 use.pimp DEBUG Applied decorator to numpy::triu_indices [function]\n",
      "16:29:02,251 use.pimp DEBUG Applied decorator to numpy::triu_indices_from [function]\n",
      "16:29:02,251 use.pimp DEBUG Applied decorator to numpy::fix [function]\n",
      "16:29:02,251 use.pimp DEBUG Applied decorator to numpy::isneginf [function]\n",
      "16:29:02,251 use.pimp DEBUG Applied decorator to numpy::isposinf [function]\n",
      "16:29:02,251 use.pimp DEBUG Applied decorator to numpy::pad [function]\n",
      "16:29:02,251 use.pimp DEBUG Applied decorator to numpy::poly [function]\n",
      "16:29:02,252 use.pimp DEBUG Applied decorator to numpy::roots [function]\n",
      "16:29:02,252 use.pimp DEBUG Applied decorator to numpy::polyint [function]\n",
      "16:29:02,252 use.pimp DEBUG Applied decorator to numpy::polyder [function]\n",
      "16:29:02,252 use.pimp DEBUG Applied decorator to numpy::polyadd [function]\n",
      "16:29:02,252 use.pimp DEBUG Applied decorator to numpy::polysub [function]\n",
      "16:29:02,252 use.pimp DEBUG Applied decorator to numpy::polymul [function]\n",
      "16:29:02,252 use.pimp DEBUG Applied decorator to numpy::polydiv [function]\n",
      "16:29:02,252 use.pimp DEBUG Applied decorator to numpy::polyval [function]\n",
      "16:29:02,253 use.pimp DEBUG Applied decorator to numpy::polyfit [function]\n",
      "16:29:02,253 use.pimp DEBUG Applied decorator to numpy::issubclass_ [function]\n",
      "16:29:02,253 use.pimp DEBUG Applied decorator to numpy::issubsctype [function]\n",
      "16:29:02,253 use.pimp DEBUG Applied decorator to numpy.lib.utils::deprecate [function]\n",
      "16:29:02,253 use.pimp DEBUG Applied decorator to numpy.lib.utils::<lambda> [function]\n",
      "16:29:02,253 use.pimp DEBUG Applied decorator to numpy.lib.utils::get_include [function]\n",
      "16:29:02,253 use.pimp DEBUG Applied decorator to numpy::info [function]\n",
      "16:29:02,253 use.pimp DEBUG Applied decorator to numpy::source [function]\n",
      "16:29:02,254 use.pimp DEBUG Applied decorator to numpy.lib.utils::who [function]\n",
      "16:29:02,254 use.pimp DEBUG Applied decorator to numpy::lookfor [function]\n",
      "16:29:02,254 use.pimp DEBUG Applied decorator to numpy.lib.utils::byte_bounds [function]\n",
      "16:29:02,254 use.pimp DEBUG Applied decorator to numpy.lib.utils::safe_eval [function]\n",
      "16:29:02,254 use.pimp DEBUG Applied decorator to numpy::ediff1d [function]\n",
      "16:29:02,254 use.pimp DEBUG Applied decorator to numpy::intersect1d [function]\n",
      "16:29:02,254 use.pimp DEBUG Applied decorator to numpy::setxor1d [function]\n",
      "16:29:02,255 use.pimp DEBUG Applied decorator to numpy::union1d [function]\n",
      "16:29:02,255 use.pimp DEBUG Applied decorator to numpy::setdiff1d [function]\n",
      "16:29:02,255 use.pimp DEBUG Applied decorator to numpy::unique [function]\n",
      "16:29:02,255 use.pimp DEBUG Applied decorator to numpy::in1d [function]\n",
      "16:29:02,255 use.pimp DEBUG Applied decorator to numpy::isin [function]\n",
      "16:29:02,255 use.pimp DEBUG Applied decorator to numpy::savetxt [function]\n",
      "16:29:02,256 use.pimp DEBUG Applied decorator to numpy::loadtxt [function]\n",
      "16:29:02,256 use.pimp DEBUG Applied decorator to numpy::genfromtxt [function]\n",
      "16:29:02,256 use.pimp DEBUG Applied decorator to numpy.lib.npyio::ndfromtxt [function]\n",
      "16:29:02,256 use.pimp DEBUG Applied decorator to numpy.lib.npyio::mafromtxt [function]\n",
      "16:29:02,256 use.pimp DEBUG Applied decorator to numpy.lib.npyio::recfromtxt [function]\n",
      "16:29:02,256 use.pimp DEBUG Applied decorator to numpy.lib.npyio::recfromcsv [function]\n",
      "16:29:02,256 use.pimp DEBUG Applied decorator to numpy::load [function]\n",
      "16:29:02,256 use.pimp DEBUG Applied decorator to numpy::loads [function]\n",
      "16:29:02,257 use.pimp DEBUG Applied decorator to numpy::save [function]\n",
      "16:29:02,257 use.pimp DEBUG Applied decorator to numpy::savez [function]\n",
      "16:29:02,257 use.pimp DEBUG Applied decorator to numpy::savez_compressed [function]\n",
      "16:29:02,257 use.pimp DEBUG Applied decorator to numpy::packbits [function]\n",
      "16:29:02,257 use.pimp DEBUG Applied decorator to numpy::unpackbits [function]\n",
      "16:29:02,257 use.pimp DEBUG Applied decorator to numpy::fromregex [function]\n",
      "16:29:02,257 use.pimp DEBUG Applied decorator to numpy::fv [function]\n",
      "16:29:02,257 use.pimp DEBUG Applied decorator to numpy::pmt [function]\n",
      "16:29:02,258 use.pimp DEBUG Applied decorator to numpy::nper [function]\n",
      "16:29:02,258 use.pimp DEBUG Applied decorator to numpy::ipmt [function]\n",
      "16:29:02,258 use.pimp DEBUG Applied decorator to numpy::ppmt [function]\n",
      "16:29:02,258 use.pimp DEBUG Applied decorator to numpy::pv [function]\n",
      "16:29:02,258 use.pimp DEBUG Applied decorator to numpy::rate [function]\n",
      "16:29:02,258 use.pimp DEBUG Applied decorator to numpy::irr [function]\n",
      "16:29:02,258 use.pimp DEBUG Applied decorator to numpy::npv [function]\n",
      "16:29:02,259 use.pimp DEBUG Applied decorator to numpy::mirr [function]\n",
      "16:29:02,259 use.pimp DEBUG Applied decorator to numpy::nansum [function]\n",
      "16:29:02,259 use.pimp DEBUG Applied decorator to numpy::nanmax [function]\n",
      "16:29:02,259 use.pimp DEBUG Applied decorator to numpy::nanmin [function]\n",
      "16:29:02,259 use.pimp DEBUG Applied decorator to numpy::nanargmax [function]\n",
      "16:29:02,259 use.pimp DEBUG Applied decorator to numpy::nanargmin [function]\n",
      "16:29:02,259 use.pimp DEBUG Applied decorator to numpy::nanmean [function]\n",
      "16:29:02,259 use.pimp DEBUG Applied decorator to numpy::nanmedian [function]\n",
      "16:29:02,259 use.pimp DEBUG Applied decorator to numpy::nanpercentile [function]\n",
      "16:29:02,259 use.pimp DEBUG Applied decorator to numpy::nanvar [function]\n",
      "16:29:02,260 use.pimp DEBUG Applied decorator to numpy::nanstd [function]\n",
      "16:29:02,260 use.pimp DEBUG Applied decorator to numpy::nanprod [function]\n",
      "16:29:02,260 use.pimp DEBUG Applied decorator to numpy::nancumsum [function]\n",
      "16:29:02,260 use.pimp DEBUG Applied decorator to numpy::nancumprod [function]\n",
      "16:29:02,260 use.pimp DEBUG Applied decorator to numpy::nanquantile [function]\n",
      "16:29:02,260 use.pimp DEBUG Applied decorator to numpy::histogram [function]\n",
      "16:29:02,260 use.pimp DEBUG Applied decorator to numpy::histogramdd [function]\n",
      "16:29:02,260 use.pimp DEBUG Applied decorator to numpy::histogram_bin_edges [function]\n",
      "16:29:02,260 use.pimp DEBUG Applied decorator to numpy::bmat [function]\n",
      "16:29:02,261 use.pimp DEBUG Applied decorator to numpy::asmatrix [function]\n",
      "16:29:02,261 use.pimp DEBUG Applied decorator to numpy::asmatrix [function]\n",
      "16:29:02,261 use.pimp DEBUG Applied decorator to numpy::round_ [function]\n",
      "16:29:02,261 use.pimp DEBUG Applied decorator to numpy::amax [function]\n",
      "16:29:02,261 use.pimp DEBUG Applied decorator to numpy::amin [function]\n"
     ]
    }
   ],
   "source": [
    "%%bash\n",
    "tail -100 /home/thorsten/.justuse-python/usage.log"
   ]
  },
  {
   "cell_type": "markdown",
   "metadata": {},
   "source": [
    "We wrapped *all* functions in the numpy package with a decorator that lets us directly observe what happens when we call something without the need for an external debugger!"
   ]
  },
  {
   "cell_type": "code",
   "execution_count": 18,
   "metadata": {
    "execution": {
     "iopub.execute_input": "2021-11-26T15:30:22.116852Z",
     "iopub.status.busy": "2021-11-26T15:30:22.116398Z",
     "iopub.status.idle": "2021-11-26T15:30:22.129248Z",
     "shell.execute_reply": "2021-11-26T15:30:22.127185Z",
     "shell.execute_reply.started": "2021-11-26T15:30:22.116815Z"
    }
   },
   "outputs": [
    {
     "name": "stdout",
     "output_type": "stream",
     "text": [
      "<function amax at 0x7fd13028baf0> (array(...),) {}\n",
      "<function amin at 0x7fd13028bca0> (array(...),) {}\n"
     ]
    },
    {
     "data": {
      "text/plain": [
       "array([1, 2, 3])"
      ]
     },
     "execution_count": 18,
     "metadata": {},
     "output_type": "execute_result"
    }
   ],
   "source": [
    "np.array([1,2,3])"
   ]
  },
  {
   "cell_type": "markdown",
   "metadata": {},
   "source": [
    "If you aren't in a situation where you don't need to debug, log or control access (the classical applications of AOP) you might still want to use it in python - for type-checking/testing!\n",
    "For example you can apply our favorite dynamic type checker library beartype quite easily like so:"
   ]
  },
  {
   "cell_type": "code",
   "execution_count": 20,
   "metadata": {
    "execution": {
     "iopub.execute_input": "2021-11-26T15:34:55.974746Z",
     "iopub.status.busy": "2021-11-26T15:34:55.974205Z",
     "iopub.status.idle": "2021-11-26T15:34:56.018229Z",
     "shell.execute_reply": "2021-11-26T15:34:56.016461Z",
     "shell.execute_reply.started": "2021-11-26T15:34:55.974704Z"
    }
   },
   "outputs": [
    {
     "data": {
      "text/plain": [
       "<module 'numpy' from '/home/thorsten/anaconda3/lib/python3.8/site-packages/numpy/__init__.py'>"
      ]
     },
     "execution_count": 20,
     "metadata": {},
     "output_type": "execute_result"
    }
   ],
   "source": [
    "from beartype import beartype\n",
    "\n",
    "np @ (use.isfunction, \"\", beartype)"
   ]
  },
  {
   "cell_type": "markdown",
   "metadata": {
    "execution": {
     "iopub.execute_input": "2021-11-26T15:35:16.483099Z",
     "iopub.status.busy": "2021-11-26T15:35:16.482573Z",
     "iopub.status.idle": "2021-11-26T15:35:16.507905Z",
     "shell.execute_reply": "2021-11-26T15:35:16.505878Z",
     "shell.execute_reply.started": "2021-11-26T15:35:16.483062Z"
    }
   },
   "source": [
    "Now all functions in numpy are beartype-checked! You can do the same with your own code, as long as you use() your modules."
   ]
  },
  {
   "cell_type": "markdown",
   "metadata": {
    "execution": {
     "iopub.execute_input": "2021-11-26T15:32:34.252907Z",
     "iopub.status.busy": "2021-11-26T15:32:34.252454Z",
     "iopub.status.idle": "2021-11-26T15:32:34.270157Z",
     "shell.execute_reply": "2021-11-26T15:32:34.266549Z",
     "shell.execute_reply.started": "2021-11-26T15:32:34.252870Z"
    }
   },
   "source": [
    "If you want to learn more about aspect-oriented programming, check out https://en.wikipedia.org/wiki/Aspect-oriented_programming "
   ]
  }
 ],
 "metadata": {
  "kernelspec": {
   "display_name": "Python 3",
   "language": "python",
   "name": "python3"
  },
  "language_info": {
   "codemirror_mode": {
    "name": "ipython",
    "version": 3
   },
   "file_extension": ".py",
   "mimetype": "text/x-python",
   "name": "python",
   "nbconvert_exporter": "python",
   "pygments_lexer": "ipython3",
   "version": "3.8.5"
  }
 },
 "nbformat": 4,
 "nbformat_minor": 4
}
