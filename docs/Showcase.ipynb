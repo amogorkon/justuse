{
 "cells": [
  {
   "cell_type": "markdown",
   "metadata": {},
   "source": [
    "# Welcome to Justuse!"
   ]
  },
  {
   "cell_type": "markdown",
   "metadata": {},
   "source": [
    "## Installation\n",
    "Before we start, let's get the latest version"
   ]
  },
  {
   "cell_type": "code",
   "execution_count": 1,
   "metadata": {
    "execution": {
     "iopub.execute_input": "2022-04-19T20:29:31.388658Z",
     "iopub.status.busy": "2022-04-19T20:29:31.387818Z",
     "iopub.status.idle": "2022-04-19T20:29:40.993719Z",
     "shell.execute_reply": "2022-04-19T20:29:40.991904Z",
     "shell.execute_reply.started": "2022-04-19T20:29:31.388449Z"
    },
    "tags": []
   },
   "outputs": [
    {
     "name": "stdout",
     "output_type": "stream",
     "text": [
      "Collecting justuse\n",
      "  Downloading justuse-0.7.8.tar.gz (189 kB)\n",
      "Requirement already satisfied: beartype>=0.8.1 in /home/thorsten/anaconda3/lib/python3.8/site-packages (from justuse) (0.9.1)\n",
      "Requirement already satisfied: furl>=2.1.2 in /home/thorsten/anaconda3/lib/python3.8/site-packages (from justuse) (2.1.2)\n",
      "Requirement already satisfied: icontract>=2.5.4 in /home/thorsten/anaconda3/lib/python3.8/site-packages (from justuse) (2.5.5)\n",
      "Requirement already satisfied: jinja2 in /home/thorsten/anaconda3/lib/python3.8/site-packages (from justuse) (2.11.3)\n",
      "Requirement already satisfied: packaging==21.0 in /home/thorsten/anaconda3/lib/python3.8/site-packages (from justuse) (21.0)\n",
      "Requirement already satisfied: pip in /home/thorsten/anaconda3/lib/python3.8/site-packages (from justuse) (21.3.1)\n",
      "Requirement already satisfied: pydantic>=1.8.2 in /home/thorsten/anaconda3/lib/python3.8/site-packages (from justuse) (1.8.2)\n",
      "Requirement already satisfied: requests in /home/thorsten/anaconda3/lib/python3.8/site-packages (from justuse) (2.26.0)\n",
      "Requirement already satisfied: toml in /home/thorsten/anaconda3/lib/python3.8/site-packages (from justuse) (0.10.2)\n",
      "Requirement already satisfied: wheel in /home/thorsten/anaconda3/lib/python3.8/site-packages (from justuse) (0.37.0)\n",
      "Requirement already satisfied: pyparsing>=2.0.2 in /home/thorsten/anaconda3/lib/python3.8/site-packages (from packaging==21.0->justuse) (3.0.4)\n",
      "Requirement already satisfied: orderedmultidict>=1.0.1 in /home/thorsten/anaconda3/lib/python3.8/site-packages (from furl>=2.1.2->justuse) (1.0.1)\n",
      "Requirement already satisfied: six>=1.8.0 in /home/thorsten/anaconda3/lib/python3.8/site-packages (from furl>=2.1.2->justuse) (1.16.0)\n",
      "Requirement already satisfied: asttokens<3,>=2 in /home/thorsten/anaconda3/lib/python3.8/site-packages (from icontract>=2.5.4->justuse) (2.0.5)\n",
      "Requirement already satisfied: typing-extensions in /home/thorsten/anaconda3/lib/python3.8/site-packages (from icontract>=2.5.4->justuse) (3.10.0.2)\n",
      "Requirement already satisfied: MarkupSafe>=0.23 in /home/thorsten/anaconda3/lib/python3.8/site-packages (from jinja2->justuse) (1.1.1)\n",
      "Requirement already satisfied: urllib3<1.27,>=1.21.1 in /home/thorsten/anaconda3/lib/python3.8/site-packages (from requests->justuse) (1.26.7)\n",
      "Requirement already satisfied: certifi>=2017.4.17 in /home/thorsten/anaconda3/lib/python3.8/site-packages (from requests->justuse) (2021.10.8)\n",
      "Requirement already satisfied: idna<4,>=2.5 in /home/thorsten/anaconda3/lib/python3.8/site-packages (from requests->justuse) (3.2)\n",
      "Requirement already satisfied: charset-normalizer~=2.0.0 in /home/thorsten/anaconda3/lib/python3.8/site-packages (from requests->justuse) (2.0.4)\n",
      "Building wheels for collected packages: justuse\n",
      "  Building wheel for justuse (setup.py): started\n",
      "  Building wheel for justuse (setup.py): finished with status 'done'\n",
      "  Created wheel for justuse: filename=justuse-0.7.8-py3-none-any.whl size=146820 sha256=9737ab2bd47c1c3a053f314a10b32ecaa0dc7c2c6d85cfe6c60ee35f202103cb\n",
      "  Stored in directory: /home/thorsten/.cache/pip/wheels/b2/d6/b0/bd686b06c4c3483cf0683d116d96607802e9ea987521875a12\n",
      "Successfully built justuse\n",
      "Installing collected packages: justuse\n",
      "Successfully installed justuse-0.7.8\n"
     ]
    },
    {
     "name": "stderr",
     "output_type": "stream",
     "text": [
      "WARNING: You are using pip version 21.3.1; however, version 22.0.4 is available.\n",
      "You should consider upgrading via the '/home/thorsten/anaconda3/bin/python3 -m pip install --upgrade pip' command.\n"
     ]
    }
   ],
   "source": [
    "%%bash\n",
    "python3 -m pip install justuse"
   ]
  },
  {
   "cell_type": "code",
   "execution_count": 2,
   "metadata": {
    "execution": {
     "iopub.execute_input": "2022-04-19T20:29:40.996180Z",
     "iopub.status.busy": "2022-04-19T20:29:40.995753Z",
     "iopub.status.idle": "2022-04-19T20:29:41.987507Z",
     "shell.execute_reply": "2022-04-19T20:29:41.986388Z",
     "shell.execute_reply.started": "2022-04-19T20:29:40.996141Z"
    },
    "tags": []
   },
   "outputs": [],
   "source": [
    "import use"
   ]
  },
  {
   "cell_type": "code",
   "execution_count": 3,
   "metadata": {
    "execution": {
     "iopub.execute_input": "2022-04-19T20:29:41.992001Z",
     "iopub.status.busy": "2022-04-19T20:29:41.991621Z",
     "iopub.status.idle": "2022-04-19T20:29:42.015574Z",
     "shell.execute_reply": "2022-04-19T20:29:42.014323Z",
     "shell.execute_reply.started": "2022-04-19T20:29:41.991951Z"
    },
    "tags": []
   },
   "outputs": [
    {
     "data": {
      "text/plain": [
       "'0.7.8'"
      ]
     },
     "execution_count": 3,
     "metadata": {},
     "output_type": "execute_result"
    }
   ],
   "source": [
    "use.__version__"
   ]
  },
  {
   "cell_type": "markdown",
   "metadata": {
    "execution": {
     "iopub.execute_input": "2021-11-22T22:33:53.303316Z",
     "iopub.status.busy": "2021-11-22T22:33:53.302686Z",
     "iopub.status.idle": "2021-11-22T22:33:53.308157Z",
     "shell.execute_reply": "2021-11-22T22:33:53.306483Z",
     "shell.execute_reply.started": "2021-11-22T22:33:53.303275Z"
    }
   },
   "source": [
    "## Basic Usage"
   ]
  },
  {
   "cell_type": "markdown",
   "metadata": {},
   "source": [
    "Let's start with a simple case"
   ]
  },
  {
   "cell_type": "code",
   "execution_count": 4,
   "metadata": {
    "execution": {
     "iopub.execute_input": "2022-04-19T20:29:42.019693Z",
     "iopub.status.busy": "2022-04-19T20:29:42.018101Z",
     "iopub.status.idle": "2022-04-19T20:29:42.052447Z",
     "shell.execute_reply": "2022-04-19T20:29:42.051425Z",
     "shell.execute_reply.started": "2022-04-19T20:29:42.019219Z"
    },
    "tags": []
   },
   "outputs": [
    {
     "name": "stderr",
     "output_type": "stream",
     "text": [
      "\u001b[1;320mINFO\u001b[1;30m: \u001b[0m\u001b[1;36muse.main\u001b[1;30m: \u001b[0mcase = (False, False, True, False)\n",
      "\u001b[1;320mINFO\u001b[1;30m: \u001b[0m\u001b[1;36muse.buffet_old\u001b[1;30m: \u001b[0mresult = <module 'math' from '/home/thorsten/anaconda3/lib/python3.8/lib-dynload/math.cpython-38-x86_64-linux-gnu.so'>\n"
     ]
    },
    {
     "data": {
      "text/plain": [
       "-0.5328330203333975"
      ]
     },
     "execution_count": 4,
     "metadata": {},
     "output_type": "execute_result"
    }
   ],
   "source": [
    "use(\"math\").cos(23)"
   ]
  },
  {
   "cell_type": "markdown",
   "metadata": {},
   "source": [
    "Here we loaded math but without adding it to the global namespace, so if you only need one thing from a module or package, you don't have to pollute your namespace."
   ]
  },
  {
   "cell_type": "markdown",
   "metadata": {
    "execution": {
     "iopub.execute_input": "2021-11-22T19:32:29.373810Z",
     "iopub.status.busy": "2021-11-22T19:32:29.373320Z",
     "iopub.status.idle": "2021-11-22T19:32:29.383680Z",
     "shell.execute_reply": "2021-11-22T19:32:29.382305Z",
     "shell.execute_reply.started": "2021-11-22T19:32:29.373772Z"
    }
   },
   "source": [
    "Installing something could be inconvenient or unnecessary if something else is available - or we want to include some minimal functionality in our program and only fetch additional dependencies only under certain conditions."
   ]
  },
  {
   "cell_type": "markdown",
   "metadata": {},
   "source": [
    "The common approach would be something like"
   ]
  },
  {
   "cell_type": "code",
   "execution_count": 5,
   "metadata": {
    "execution": {
     "iopub.execute_input": "2022-04-19T20:29:42.056358Z",
     "iopub.status.busy": "2022-04-19T20:29:42.055731Z",
     "iopub.status.idle": "2022-04-19T20:29:42.064470Z",
     "shell.execute_reply": "2022-04-19T20:29:42.062970Z",
     "shell.execute_reply.started": "2022-04-19T20:29:42.056309Z"
    },
    "tags": []
   },
   "outputs": [],
   "source": [
    "try:\n",
    "    import some_big_package\n",
    "except ImportError:\n",
    "    some_big_package = None\n",
    "if some_big_package:\n",
    "    ..."
   ]
  },
  {
   "cell_type": "markdown",
   "metadata": {
    "execution": {
     "iopub.execute_input": "2021-11-22T19:57:09.320535Z",
     "iopub.status.busy": "2021-11-22T19:57:09.319761Z",
     "iopub.status.idle": "2021-11-22T19:57:09.328957Z",
     "shell.execute_reply": "2021-11-22T19:57:09.327576Z",
     "shell.execute_reply.started": "2021-11-22T19:57:09.320488Z"
    }
   },
   "source": [
    "which is unnecessarily cumbersome - couldn't we simply have a default like in so many other functions that is returned instead of raising an exception? Of course we can!"
   ]
  },
  {
   "cell_type": "markdown",
   "metadata": {},
   "source": [
    "Here's a metaphor from *The Matrix*:\n",
    "[![Matrix - Skill Upload](https://img.youtube.com/vi/w_8NsPQBdV0/0.jpg)](https://www.youtube.com/watch?v=w_8NsPQBdV0)\n",
    "\n",
    "Imagine you want to streamline the user experience by distributing a very minimal, \"free\" but fully functional software to your end users which installs within seconds. Now, whenever the user wants to use a premium feature (or simply a feature that isn't generally required by the majority of users, therefor not included in the basic installation) the program could use() the packages and modules needed to realise the feature to download and install in the background while the user can still use other stuff, then trigger a callback when use() is done loading. The experience would be similar to playing an open world game which seamlessly downloads and loads new areas in the background on demand, without hiccup or loading screens. Or like Neo and Trinity - just get the skills to pilot a helicopter when you need them, right there on the spot. "
   ]
  },
  {
   "cell_type": "code",
   "execution_count": 6,
   "metadata": {
    "execution": {
     "iopub.execute_input": "2022-04-19T20:29:42.067273Z",
     "iopub.status.busy": "2022-04-19T20:29:42.066869Z",
     "iopub.status.idle": "2022-04-19T20:29:42.100134Z",
     "shell.execute_reply": "2022-04-19T20:29:42.092464Z",
     "shell.execute_reply.started": "2022-04-19T20:29:42.067234Z"
    },
    "tags": []
   },
   "outputs": [
    {
     "name": "stderr",
     "output_type": "stream",
     "text": [
      "\u001b[1;320mINFO\u001b[1;30m: \u001b[0m\u001b[1;36muse.main\u001b[1;30m: \u001b[0mcase = (False, False, False, False)\n",
      "\u001b[1;320mINFO\u001b[1;30m: \u001b[0m\u001b[1;36muse.buffet_old\u001b[1;30m: \u001b[0mresult = ImportError('No pkg installed named some_big_package and auto-installation not requested. Aborting.')\n"
     ]
    },
    {
     "name": "stdout",
     "output_type": "stream",
     "text": [
      "I'm going to learn Ju-Jutsu?\n"
     ]
    }
   ],
   "source": [
    "pkg = use(\"some_big_package\", default=None)\n",
    "if not pkg:\n",
    "    print(\"I'm going to learn Ju-Jutsu?\")"
   ]
  },
  {
   "cell_type": "markdown",
   "metadata": {
    "execution": {
     "iopub.execute_input": "2021-11-22T19:58:53.761253Z",
     "iopub.status.busy": "2021-11-22T19:58:53.760790Z",
     "iopub.status.idle": "2021-11-22T19:58:53.768580Z",
     "shell.execute_reply": "2021-11-22T19:58:53.767072Z",
     "shell.execute_reply.started": "2021-11-22T19:58:53.761215Z"
    }
   },
   "source": [
    "Even more concise (python >3.9):"
   ]
  },
  {
   "cell_type": "code",
   "execution_count": 7,
   "metadata": {
    "execution": {
     "iopub.execute_input": "2022-04-19T20:29:42.102461Z",
     "iopub.status.busy": "2022-04-19T20:29:42.102020Z",
     "iopub.status.idle": "2022-04-19T20:29:43.009822Z",
     "shell.execute_reply": "2022-04-19T20:29:43.008453Z",
     "shell.execute_reply.started": "2022-04-19T20:29:42.102410Z"
    },
    "tags": []
   },
   "outputs": [
    {
     "name": "stderr",
     "output_type": "stream",
     "text": [
      "\u001b[1;320mINFO\u001b[1;30m: \u001b[0m\u001b[1;36muse.main\u001b[1;30m: \u001b[0mcase = (False, False, True, False)\n",
      "\u001b[1;320mINFO\u001b[1;30m: \u001b[0m\u001b[1;36muse.buffet_old\u001b[1;30m: \u001b[0mresult = <module 'pytest' from '/home/thorsten/anaconda3/lib/python3.8/site-packages/pytest/__init__.py'>\n"
     ]
    },
    {
     "name": "stdout",
     "output_type": "stream",
     "text": [
      "I know Kung Fu!\n"
     ]
    }
   ],
   "source": [
    "if (pkg := use(\"pytest\", default=None)):\n",
    "    print(\"I know Kung Fu!\")"
   ]
  },
  {
   "cell_type": "markdown",
   "metadata": {},
   "source": [
    "It is also possible to lazily chain use() calls with defaults like\n",
    "\n",
    "> math = use(\"numpy\", default=None) or use(\"math\")\n",
    "\n",
    "which will evaluate from left to right and return whichever call returns something truthy (like a viable module) first."
   ]
  },
  {
   "cell_type": "markdown",
   "metadata": {},
   "source": [
    "One of the most practical use()s is making sure we imported the expected version of a certain package. This is especially important in research papers, notebooks and other publications because those often don't come with a `requirements.txt` and there is no way to make sure you are actually running the published code with the same versions as the author.\n",
    "Also, if you pip-install something, it can happen that it upgrades a dependency, accidentally breaking code that requires the old version - with pip you *can't have more than one version installed*. With justuse any number of versions can be installed in parallel, without interfering with anything that was installed globally via pip, conda etc."
   ]
  },
  {
   "cell_type": "code",
   "execution_count": 8,
   "metadata": {
    "execution": {
     "iopub.execute_input": "2022-04-19T20:29:43.012118Z",
     "iopub.status.busy": "2022-04-19T20:29:43.011694Z",
     "iopub.status.idle": "2022-04-19T20:29:43.224682Z",
     "shell.execute_reply": "2022-04-19T20:29:43.223774Z",
     "shell.execute_reply.started": "2022-04-19T20:29:43.012080Z"
    },
    "tags": []
   },
   "outputs": [
    {
     "name": "stderr",
     "output_type": "stream",
     "text": [
      "\u001b[1;320mINFO\u001b[1;30m: \u001b[0m\u001b[1;36muse.main\u001b[1;30m: \u001b[0mcase = (True, False, True, False)\n",
      "/home/thorsten/anaconda3/lib/python3.8/site-packages/use/pimp.py:84: VersionWarning: numpy expected to be version 2022, but got 1.21.2 instead\n",
      "  warn(UserMessage.version_warning(name, version, result_version), category=VersionWarning)\n",
      "\u001b[1;320mINFO\u001b[1;30m: \u001b[0m\u001b[1;36muse.buffet_old\u001b[1;30m: \u001b[0mresult = <module 'numpy' from '/home/thorsten/anaconda3/lib/python3.8/site-packages/numpy/__init__.py'>\n"
     ]
    }
   ],
   "source": [
    "np = use(\"numpy\", version=\"2022\")"
   ]
  },
  {
   "cell_type": "code",
   "execution_count": 9,
   "metadata": {
    "execution": {
     "iopub.execute_input": "2022-04-19T20:29:43.226011Z",
     "iopub.status.busy": "2022-04-19T20:29:43.225663Z",
     "iopub.status.idle": "2022-04-19T20:29:43.240716Z",
     "shell.execute_reply": "2022-04-19T20:29:43.238781Z",
     "shell.execute_reply.started": "2022-04-19T20:29:43.225976Z"
    },
    "tags": []
   },
   "outputs": [
    {
     "data": {
      "text/plain": [
       "'1.21.2'"
      ]
     },
     "execution_count": 9,
     "metadata": {},
     "output_type": "execute_result"
    }
   ],
   "source": [
    "np.__version__"
   ]
  },
  {
   "cell_type": "markdown",
   "metadata": {},
   "source": [
    "Here you see that even though we got a warning about the wrong version, we still get the requested package, just giving you a heads up about a possibly problematic situation without standing in the way."
   ]
  },
  {
   "cell_type": "markdown",
   "metadata": {},
   "source": [
    "Let's try another one!"
   ]
  },
  {
   "cell_type": "code",
   "execution_count": 10,
   "metadata": {
    "execution": {
     "iopub.execute_input": "2022-04-19T20:29:43.242883Z",
     "iopub.status.busy": "2022-04-19T20:29:43.242339Z",
     "iopub.status.idle": "2022-04-19T20:29:43.583167Z",
     "shell.execute_reply": "2022-04-19T20:29:43.579574Z",
     "shell.execute_reply.started": "2022-04-19T20:29:43.242775Z"
    },
    "tags": []
   },
   "outputs": [
    {
     "name": "stderr",
     "output_type": "stream",
     "text": [
      "\u001b[1;320mINFO\u001b[1;30m: \u001b[0m\u001b[1;36muse.main\u001b[1;30m: \u001b[0mcase = (False, False, False, False)\n",
      "\u001b[1;320mINFO\u001b[1;30m: \u001b[0m\u001b[1;36muse.buffet_old\u001b[1;30m: \u001b[0mresult = ImportError('No pkg installed named pygame and auto-installation not requested. Aborting.')\n"
     ]
    },
    {
     "ename": "ImportError",
     "evalue": "No pkg installed named pygame and auto-installation not requested. Aborting.",
     "output_type": "error",
     "traceback": [
      "\u001b[0;31m---------------------------------------------------------------------------\u001b[0m",
      "\u001b[0;31mImportError\u001b[0m                               Traceback (most recent call last)",
      "\u001b[0;32m/tmp/ipykernel_2447/217604034.py\u001b[0m in \u001b[0;36m<module>\u001b[0;34m\u001b[0m\n\u001b[0;32m----> 1\u001b[0;31m \u001b[0mpg\u001b[0m \u001b[0;34m=\u001b[0m \u001b[0muse\u001b[0m\u001b[0;34m(\u001b[0m\u001b[0;34m\"pygame\"\u001b[0m\u001b[0;34m)\u001b[0m\u001b[0;34m\u001b[0m\u001b[0;34m\u001b[0m\u001b[0m\n\u001b[0m",
      "\u001b[0;32m~/anaconda3/lib/python3.8/site-packages/use/main.py\u001b[0m in \u001b[0;36m__call__\u001b[0;34m(self, *args, **kwargs)\u001b[0m\n\u001b[1;32m    133\u001b[0m     \u001b[0;32mdef\u001b[0m \u001b[0m__call__\u001b[0m\u001b[0;34m(\u001b[0m\u001b[0mself\u001b[0m\u001b[0;34m,\u001b[0m \u001b[0;34m*\u001b[0m\u001b[0margs\u001b[0m\u001b[0;34m,\u001b[0m \u001b[0;34m**\u001b[0m\u001b[0mkwargs\u001b[0m\u001b[0;34m)\u001b[0m\u001b[0;34m:\u001b[0m\u001b[0;34m\u001b[0m\u001b[0;34m\u001b[0m\u001b[0m\n\u001b[1;32m    134\u001b[0m         \u001b[0;32mwith\u001b[0m \u001b[0mself\u001b[0m\u001b[0;34m.\u001b[0m\u001b[0m__condition\u001b[0m\u001b[0;34m:\u001b[0m\u001b[0;34m\u001b[0m\u001b[0;34m\u001b[0m\u001b[0m\n\u001b[0;32m--> 135\u001b[0;31m             \u001b[0;32mreturn\u001b[0m \u001b[0mself\u001b[0m\u001b[0;34m.\u001b[0m\u001b[0m__implementation\u001b[0m\u001b[0;34m(\u001b[0m\u001b[0;34m*\u001b[0m\u001b[0margs\u001b[0m\u001b[0;34m,\u001b[0m \u001b[0;34m**\u001b[0m\u001b[0mkwargs\u001b[0m\u001b[0;34m)\u001b[0m\u001b[0;34m\u001b[0m\u001b[0;34m\u001b[0m\u001b[0m\n\u001b[0m\u001b[1;32m    136\u001b[0m \u001b[0;34m\u001b[0m\u001b[0m\n\u001b[1;32m    137\u001b[0m     \u001b[0;31m# to allow `numpy @ use` for a quick check\u001b[0m\u001b[0;34m\u001b[0m\u001b[0;34m\u001b[0m\u001b[0;34m\u001b[0m\u001b[0m\n",
      "\u001b[0;32m~/anaconda3/lib/python3.8/site-packages/use/tools.py\u001b[0m in \u001b[0;36mwrapper\u001b[0;34m(*args, **kwargs)\u001b[0m\n\u001b[1;32m     44\u001b[0m                 \u001b[0;32mraise\u001b[0m \u001b[0mNirvanaWarning\u001b[0m\u001b[0;34m(\u001b[0m\u001b[0;34m\"No use trying to use Nothing.\"\u001b[0m\u001b[0;34m)\u001b[0m\u001b[0;34m\u001b[0m\u001b[0;34m\u001b[0m\u001b[0m\n\u001b[1;32m     45\u001b[0m             \u001b[0margs\u001b[0m \u001b[0;34m=\u001b[0m \u001b[0margs\u001b[0m \u001b[0;34m+\u001b[0m \u001b[0;34m(\u001b[0m\u001b[0;32mNone\u001b[0m\u001b[0;34m,\u001b[0m\u001b[0;34m)\u001b[0m\u001b[0;34m\u001b[0m\u001b[0;34m\u001b[0m\u001b[0m\n\u001b[0;32m---> 46\u001b[0;31m         \u001b[0;32mreturn\u001b[0m \u001b[0mdispatcher\u001b[0m\u001b[0;34m.\u001b[0m\u001b[0mdispatch\u001b[0m\u001b[0;34m(\u001b[0m\u001b[0margs\u001b[0m\u001b[0;34m[\u001b[0m\u001b[0;36m1\u001b[0m\u001b[0;34m]\u001b[0m\u001b[0;34m.\u001b[0m\u001b[0m__class__\u001b[0m\u001b[0;34m)\u001b[0m\u001b[0;34m(\u001b[0m\u001b[0;34m*\u001b[0m\u001b[0margs\u001b[0m\u001b[0;34m,\u001b[0m \u001b[0;34m**\u001b[0m\u001b[0mkwargs\u001b[0m\u001b[0;34m)\u001b[0m\u001b[0;34m\u001b[0m\u001b[0;34m\u001b[0m\u001b[0m\n\u001b[0m\u001b[1;32m     47\u001b[0m \u001b[0;34m\u001b[0m\u001b[0m\n\u001b[1;32m     48\u001b[0m     \u001b[0mwrapper\u001b[0m\u001b[0;34m.\u001b[0m\u001b[0mregister\u001b[0m \u001b[0;34m=\u001b[0m \u001b[0mdispatcher\u001b[0m\u001b[0;34m.\u001b[0m\u001b[0mregister\u001b[0m\u001b[0;34m\u001b[0m\u001b[0;34m\u001b[0m\u001b[0m\n",
      "\u001b[0;32m~/anaconda3/lib/python3.8/site-packages/use/main.py\u001b[0m in \u001b[0;36m_use_str\u001b[0;34m(self, name, version, hash_algo, hashes, default, modes)\u001b[0m\n\u001b[1;32m    667\u001b[0m         \"\"\"\n\u001b[1;32m    668\u001b[0m         \u001b[0mpackage_name\u001b[0m\u001b[0;34m,\u001b[0m \u001b[0mmodule_name\u001b[0m \u001b[0;34m=\u001b[0m \u001b[0m_parse_name\u001b[0m\u001b[0;34m(\u001b[0m\u001b[0mname\u001b[0m\u001b[0;34m)\u001b[0m\u001b[0;34m\u001b[0m\u001b[0;34m\u001b[0m\u001b[0m\n\u001b[0;32m--> 669\u001b[0;31m         return self._use_package(\n\u001b[0m\u001b[1;32m    670\u001b[0m             \u001b[0mname\u001b[0m\u001b[0;34m=\u001b[0m\u001b[0mname\u001b[0m\u001b[0;34m,\u001b[0m\u001b[0;34m\u001b[0m\u001b[0;34m\u001b[0m\u001b[0m\n\u001b[1;32m    671\u001b[0m             \u001b[0mpackage_name\u001b[0m\u001b[0;34m=\u001b[0m\u001b[0mpackage_name\u001b[0m\u001b[0;34m,\u001b[0m\u001b[0;34m\u001b[0m\u001b[0;34m\u001b[0m\u001b[0m\n",
      "\u001b[0;32m~/anaconda3/lib/python3.8/site-packages/icontract/_checkers.py\u001b[0m in \u001b[0;36mwrapper\u001b[0;34m(*args, **kwargs)\u001b[0m\n\u001b[1;32m    639\u001b[0m                 \u001b[0;31m# Unfortunately, this can not be done in Python 3, see\u001b[0m\u001b[0;34m\u001b[0m\u001b[0;34m\u001b[0m\u001b[0;34m\u001b[0m\u001b[0m\n\u001b[1;32m    640\u001b[0m                 \u001b[0;31m# https://stackoverflow.com/questions/44813333/how-can-i-elide-a-function-wrapper-from-the-traceback-in-python-3\u001b[0m\u001b[0;34m\u001b[0m\u001b[0;34m\u001b[0m\u001b[0;34m\u001b[0m\u001b[0m\n\u001b[0;32m--> 641\u001b[0;31m                 \u001b[0mresult\u001b[0m \u001b[0;34m=\u001b[0m \u001b[0mfunc\u001b[0m\u001b[0;34m(\u001b[0m\u001b[0;34m*\u001b[0m\u001b[0margs\u001b[0m\u001b[0;34m,\u001b[0m \u001b[0;34m**\u001b[0m\u001b[0mkwargs\u001b[0m\u001b[0;34m)\u001b[0m\u001b[0;34m\u001b[0m\u001b[0;34m\u001b[0m\u001b[0m\n\u001b[0m\u001b[1;32m    642\u001b[0m \u001b[0;34m\u001b[0m\u001b[0m\n\u001b[1;32m    643\u001b[0m                 \u001b[0;32mif\u001b[0m \u001b[0mpostconditions\u001b[0m\u001b[0;34m:\u001b[0m\u001b[0;34m\u001b[0m\u001b[0;34m\u001b[0m\u001b[0m\n",
      "\u001b[0;32m~/anaconda3/lib/python3.8/site-packages/use/main.py\u001b[0m in \u001b[0;36m_use_package\u001b[0;34m(self, name, package_name, module_name, version, hashes, default, hash_algo, modes, Message)\u001b[0m\n\u001b[1;32m    751\u001b[0m \u001b[0;34m\u001b[0m\u001b[0m\n\u001b[1;32m    752\u001b[0m         \u001b[0;32mif\u001b[0m \u001b[0misinstance\u001b[0m\u001b[0;34m(\u001b[0m\u001b[0mresult\u001b[0m\u001b[0;34m,\u001b[0m \u001b[0mException\u001b[0m\u001b[0;34m)\u001b[0m\u001b[0;34m:\u001b[0m\u001b[0;34m\u001b[0m\u001b[0;34m\u001b[0m\u001b[0m\n\u001b[0;32m--> 753\u001b[0;31m             \u001b[0;32mreturn\u001b[0m \u001b[0m_fail_or_default\u001b[0m\u001b[0;34m(\u001b[0m\u001b[0mresult\u001b[0m\u001b[0;34m,\u001b[0m \u001b[0mdefault\u001b[0m\u001b[0;34m)\u001b[0m\u001b[0;34m\u001b[0m\u001b[0;34m\u001b[0m\u001b[0m\n\u001b[0m\u001b[1;32m    754\u001b[0m \u001b[0;34m\u001b[0m\u001b[0m\n\u001b[1;32m    755\u001b[0m         \u001b[0;32mif\u001b[0m \u001b[0misinstance\u001b[0m\u001b[0;34m(\u001b[0m\u001b[0mresult\u001b[0m\u001b[0;34m,\u001b[0m \u001b[0mModuleType\u001b[0m\u001b[0;34m)\u001b[0m\u001b[0;34m:\u001b[0m\u001b[0;34m\u001b[0m\u001b[0;34m\u001b[0m\u001b[0m\n",
      "\u001b[0;32m~/anaconda3/lib/python3.8/site-packages/use/pimp.py\u001b[0m in \u001b[0;36m_fail_or_default\u001b[0;34m(exception, default)\u001b[0m\n\u001b[1;32m    943\u001b[0m         \u001b[0;32mreturn\u001b[0m \u001b[0mdefault\u001b[0m\u001b[0;34m\u001b[0m\u001b[0;34m\u001b[0m\u001b[0m\n\u001b[1;32m    944\u001b[0m     \u001b[0;32melse\u001b[0m\u001b[0;34m:\u001b[0m\u001b[0;34m\u001b[0m\u001b[0;34m\u001b[0m\u001b[0m\n\u001b[0;32m--> 945\u001b[0;31m         \u001b[0;32mraise\u001b[0m \u001b[0mexception\u001b[0m\u001b[0;34m\u001b[0m\u001b[0;34m\u001b[0m\u001b[0m\n\u001b[0m\u001b[1;32m    946\u001b[0m \u001b[0;34m\u001b[0m\u001b[0m\n\u001b[1;32m    947\u001b[0m \u001b[0;34m\u001b[0m\u001b[0m\n",
      "\u001b[0;31mImportError\u001b[0m: No pkg installed named pygame and auto-installation not requested. Aborting."
     ]
    }
   ],
   "source": [
    "pg = use(\"pygame\")"
   ]
  },
  {
   "cell_type": "markdown",
   "metadata": {},
   "source": [
    "Well, bummer! We want to play with pygame, let's have pygame!"
   ]
  },
  {
   "cell_type": "code",
   "execution_count": 11,
   "metadata": {
    "execution": {
     "iopub.execute_input": "2022-04-19T20:29:57.119115Z",
     "iopub.status.busy": "2022-04-19T20:29:57.118240Z",
     "iopub.status.idle": "2022-04-19T20:30:01.695768Z",
     "shell.execute_reply": "2022-04-19T20:30:01.693875Z",
     "shell.execute_reply.started": "2022-04-19T20:29:57.119082Z"
    },
    "tags": []
   },
   "outputs": [
    {
     "name": "stderr",
     "output_type": "stream",
     "text": [
      "\u001b[1;320mINFO\u001b[1;30m: \u001b[0m\u001b[1;36muse.main\u001b[1;30m: \u001b[0mcase = (False, False, False, True)\n"
     ]
    },
    {
     "name": "stdout",
     "output_type": "stream",
     "text": [
      "2.1.3.dev4\n"
     ]
    },
    {
     "name": "stderr",
     "output_type": "stream",
     "text": [
      "\u001b[1;320mINFO\u001b[1;30m: \u001b[0m\u001b[1;36muse.buffet_old\u001b[1;30m: \u001b[0mresult = RuntimeWarning('Please specify version and hash for auto-installation of \\'pygame\\'.\\nA webbrowser should open to the Snyk Advisor to check whether the package is vulnerable or malicious.\\nIf you want to auto-install the latest version, try the following line to select all viable hashes:\\nuse(\"pygame\", version=\"2.1.3.dev4\", modes=use.auto_install)')\n"
     ]
    },
    {
     "ename": "RuntimeWarning",
     "evalue": "Please specify version and hash for auto-installation of 'pygame'.\nA webbrowser should open to the Snyk Advisor to check whether the package is vulnerable or malicious.\nIf you want to auto-install the latest version, try the following line to select all viable hashes:\nuse(\"pygame\", version=\"2.1.3.dev4\", modes=use.auto_install)",
     "output_type": "error",
     "traceback": [
      "\u001b[0;31m---------------------------------------------------------------------------\u001b[0m",
      "\u001b[0;31mRuntimeWarning\u001b[0m                            Traceback (most recent call last)",
      "\u001b[0;32m/tmp/ipykernel_2447/1145780527.py\u001b[0m in \u001b[0;36m<module>\u001b[0;34m\u001b[0m\n\u001b[0;32m----> 1\u001b[0;31m \u001b[0mpg\u001b[0m \u001b[0;34m=\u001b[0m \u001b[0muse\u001b[0m\u001b[0;34m(\u001b[0m\u001b[0;34m\"pygame\"\u001b[0m\u001b[0;34m,\u001b[0m \u001b[0mmodes\u001b[0m\u001b[0;34m=\u001b[0m\u001b[0muse\u001b[0m\u001b[0;34m.\u001b[0m\u001b[0mauto_install\u001b[0m\u001b[0;34m)\u001b[0m\u001b[0;34m\u001b[0m\u001b[0;34m\u001b[0m\u001b[0m\n\u001b[0m",
      "\u001b[0;32m~/anaconda3/lib/python3.8/site-packages/use/main.py\u001b[0m in \u001b[0;36m__call__\u001b[0;34m(self, *args, **kwargs)\u001b[0m\n\u001b[1;32m    133\u001b[0m     \u001b[0;32mdef\u001b[0m \u001b[0m__call__\u001b[0m\u001b[0;34m(\u001b[0m\u001b[0mself\u001b[0m\u001b[0;34m,\u001b[0m \u001b[0;34m*\u001b[0m\u001b[0margs\u001b[0m\u001b[0;34m,\u001b[0m \u001b[0;34m**\u001b[0m\u001b[0mkwargs\u001b[0m\u001b[0;34m)\u001b[0m\u001b[0;34m:\u001b[0m\u001b[0;34m\u001b[0m\u001b[0;34m\u001b[0m\u001b[0m\n\u001b[1;32m    134\u001b[0m         \u001b[0;32mwith\u001b[0m \u001b[0mself\u001b[0m\u001b[0;34m.\u001b[0m\u001b[0m__condition\u001b[0m\u001b[0;34m:\u001b[0m\u001b[0;34m\u001b[0m\u001b[0;34m\u001b[0m\u001b[0m\n\u001b[0;32m--> 135\u001b[0;31m             \u001b[0;32mreturn\u001b[0m \u001b[0mself\u001b[0m\u001b[0;34m.\u001b[0m\u001b[0m__implementation\u001b[0m\u001b[0;34m(\u001b[0m\u001b[0;34m*\u001b[0m\u001b[0margs\u001b[0m\u001b[0;34m,\u001b[0m \u001b[0;34m**\u001b[0m\u001b[0mkwargs\u001b[0m\u001b[0;34m)\u001b[0m\u001b[0;34m\u001b[0m\u001b[0;34m\u001b[0m\u001b[0m\n\u001b[0m\u001b[1;32m    136\u001b[0m \u001b[0;34m\u001b[0m\u001b[0m\n\u001b[1;32m    137\u001b[0m     \u001b[0;31m# to allow `numpy @ use` for a quick check\u001b[0m\u001b[0;34m\u001b[0m\u001b[0;34m\u001b[0m\u001b[0;34m\u001b[0m\u001b[0m\n",
      "\u001b[0;32m~/anaconda3/lib/python3.8/site-packages/use/tools.py\u001b[0m in \u001b[0;36mwrapper\u001b[0;34m(*args, **kwargs)\u001b[0m\n\u001b[1;32m     44\u001b[0m                 \u001b[0;32mraise\u001b[0m \u001b[0mNirvanaWarning\u001b[0m\u001b[0;34m(\u001b[0m\u001b[0;34m\"No use trying to use Nothing.\"\u001b[0m\u001b[0;34m)\u001b[0m\u001b[0;34m\u001b[0m\u001b[0;34m\u001b[0m\u001b[0m\n\u001b[1;32m     45\u001b[0m             \u001b[0margs\u001b[0m \u001b[0;34m=\u001b[0m \u001b[0margs\u001b[0m \u001b[0;34m+\u001b[0m \u001b[0;34m(\u001b[0m\u001b[0;32mNone\u001b[0m\u001b[0;34m,\u001b[0m\u001b[0;34m)\u001b[0m\u001b[0;34m\u001b[0m\u001b[0;34m\u001b[0m\u001b[0m\n\u001b[0;32m---> 46\u001b[0;31m         \u001b[0;32mreturn\u001b[0m \u001b[0mdispatcher\u001b[0m\u001b[0;34m.\u001b[0m\u001b[0mdispatch\u001b[0m\u001b[0;34m(\u001b[0m\u001b[0margs\u001b[0m\u001b[0;34m[\u001b[0m\u001b[0;36m1\u001b[0m\u001b[0;34m]\u001b[0m\u001b[0;34m.\u001b[0m\u001b[0m__class__\u001b[0m\u001b[0;34m)\u001b[0m\u001b[0;34m(\u001b[0m\u001b[0;34m*\u001b[0m\u001b[0margs\u001b[0m\u001b[0;34m,\u001b[0m \u001b[0;34m**\u001b[0m\u001b[0mkwargs\u001b[0m\u001b[0;34m)\u001b[0m\u001b[0;34m\u001b[0m\u001b[0;34m\u001b[0m\u001b[0m\n\u001b[0m\u001b[1;32m     47\u001b[0m \u001b[0;34m\u001b[0m\u001b[0m\n\u001b[1;32m     48\u001b[0m     \u001b[0mwrapper\u001b[0m\u001b[0;34m.\u001b[0m\u001b[0mregister\u001b[0m \u001b[0;34m=\u001b[0m \u001b[0mdispatcher\u001b[0m\u001b[0;34m.\u001b[0m\u001b[0mregister\u001b[0m\u001b[0;34m\u001b[0m\u001b[0;34m\u001b[0m\u001b[0m\n",
      "\u001b[0;32m~/anaconda3/lib/python3.8/site-packages/use/main.py\u001b[0m in \u001b[0;36m_use_str\u001b[0;34m(self, name, version, hash_algo, hashes, default, modes)\u001b[0m\n\u001b[1;32m    667\u001b[0m         \"\"\"\n\u001b[1;32m    668\u001b[0m         \u001b[0mpackage_name\u001b[0m\u001b[0;34m,\u001b[0m \u001b[0mmodule_name\u001b[0m \u001b[0;34m=\u001b[0m \u001b[0m_parse_name\u001b[0m\u001b[0;34m(\u001b[0m\u001b[0mname\u001b[0m\u001b[0;34m)\u001b[0m\u001b[0;34m\u001b[0m\u001b[0;34m\u001b[0m\u001b[0m\n\u001b[0;32m--> 669\u001b[0;31m         return self._use_package(\n\u001b[0m\u001b[1;32m    670\u001b[0m             \u001b[0mname\u001b[0m\u001b[0;34m=\u001b[0m\u001b[0mname\u001b[0m\u001b[0;34m,\u001b[0m\u001b[0;34m\u001b[0m\u001b[0;34m\u001b[0m\u001b[0m\n\u001b[1;32m    671\u001b[0m             \u001b[0mpackage_name\u001b[0m\u001b[0;34m=\u001b[0m\u001b[0mpackage_name\u001b[0m\u001b[0;34m,\u001b[0m\u001b[0;34m\u001b[0m\u001b[0;34m\u001b[0m\u001b[0m\n",
      "\u001b[0;32m~/anaconda3/lib/python3.8/site-packages/icontract/_checkers.py\u001b[0m in \u001b[0;36mwrapper\u001b[0;34m(*args, **kwargs)\u001b[0m\n\u001b[1;32m    639\u001b[0m                 \u001b[0;31m# Unfortunately, this can not be done in Python 3, see\u001b[0m\u001b[0;34m\u001b[0m\u001b[0;34m\u001b[0m\u001b[0;34m\u001b[0m\u001b[0m\n\u001b[1;32m    640\u001b[0m                 \u001b[0;31m# https://stackoverflow.com/questions/44813333/how-can-i-elide-a-function-wrapper-from-the-traceback-in-python-3\u001b[0m\u001b[0;34m\u001b[0m\u001b[0;34m\u001b[0m\u001b[0;34m\u001b[0m\u001b[0m\n\u001b[0;32m--> 641\u001b[0;31m                 \u001b[0mresult\u001b[0m \u001b[0;34m=\u001b[0m \u001b[0mfunc\u001b[0m\u001b[0;34m(\u001b[0m\u001b[0;34m*\u001b[0m\u001b[0margs\u001b[0m\u001b[0;34m,\u001b[0m \u001b[0;34m**\u001b[0m\u001b[0mkwargs\u001b[0m\u001b[0;34m)\u001b[0m\u001b[0;34m\u001b[0m\u001b[0;34m\u001b[0m\u001b[0m\n\u001b[0m\u001b[1;32m    642\u001b[0m \u001b[0;34m\u001b[0m\u001b[0m\n\u001b[1;32m    643\u001b[0m                 \u001b[0;32mif\u001b[0m \u001b[0mpostconditions\u001b[0m\u001b[0;34m:\u001b[0m\u001b[0;34m\u001b[0m\u001b[0;34m\u001b[0m\u001b[0m\n",
      "\u001b[0;32m~/anaconda3/lib/python3.8/site-packages/use/main.py\u001b[0m in \u001b[0;36m_use_package\u001b[0;34m(self, name, package_name, module_name, version, hashes, default, hash_algo, modes, Message)\u001b[0m\n\u001b[1;32m    751\u001b[0m \u001b[0;34m\u001b[0m\u001b[0m\n\u001b[1;32m    752\u001b[0m         \u001b[0;32mif\u001b[0m \u001b[0misinstance\u001b[0m\u001b[0;34m(\u001b[0m\u001b[0mresult\u001b[0m\u001b[0;34m,\u001b[0m \u001b[0mException\u001b[0m\u001b[0;34m)\u001b[0m\u001b[0;34m:\u001b[0m\u001b[0;34m\u001b[0m\u001b[0;34m\u001b[0m\u001b[0m\n\u001b[0;32m--> 753\u001b[0;31m             \u001b[0;32mreturn\u001b[0m \u001b[0m_fail_or_default\u001b[0m\u001b[0;34m(\u001b[0m\u001b[0mresult\u001b[0m\u001b[0;34m,\u001b[0m \u001b[0mdefault\u001b[0m\u001b[0;34m)\u001b[0m\u001b[0;34m\u001b[0m\u001b[0;34m\u001b[0m\u001b[0m\n\u001b[0m\u001b[1;32m    754\u001b[0m \u001b[0;34m\u001b[0m\u001b[0m\n\u001b[1;32m    755\u001b[0m         \u001b[0;32mif\u001b[0m \u001b[0misinstance\u001b[0m\u001b[0;34m(\u001b[0m\u001b[0mresult\u001b[0m\u001b[0;34m,\u001b[0m \u001b[0mModuleType\u001b[0m\u001b[0;34m)\u001b[0m\u001b[0;34m:\u001b[0m\u001b[0;34m\u001b[0m\u001b[0;34m\u001b[0m\u001b[0m\n",
      "\u001b[0;32m~/anaconda3/lib/python3.8/site-packages/use/pimp.py\u001b[0m in \u001b[0;36m_fail_or_default\u001b[0;34m(exception, default)\u001b[0m\n\u001b[1;32m    943\u001b[0m         \u001b[0;32mreturn\u001b[0m \u001b[0mdefault\u001b[0m\u001b[0;34m\u001b[0m\u001b[0;34m\u001b[0m\u001b[0m\n\u001b[1;32m    944\u001b[0m     \u001b[0;32melse\u001b[0m\u001b[0;34m:\u001b[0m\u001b[0;34m\u001b[0m\u001b[0;34m\u001b[0m\u001b[0m\n\u001b[0;32m--> 945\u001b[0;31m         \u001b[0;32mraise\u001b[0m \u001b[0mexception\u001b[0m\u001b[0;34m\u001b[0m\u001b[0;34m\u001b[0m\u001b[0m\n\u001b[0m\u001b[1;32m    946\u001b[0m \u001b[0;34m\u001b[0m\u001b[0m\n\u001b[1;32m    947\u001b[0m \u001b[0;34m\u001b[0m\u001b[0m\n",
      "\u001b[0;31mRuntimeWarning\u001b[0m: Please specify version and hash for auto-installation of 'pygame'.\nA webbrowser should open to the Snyk Advisor to check whether the package is vulnerable or malicious.\nIf you want to auto-install the latest version, try the following line to select all viable hashes:\nuse(\"pygame\", version=\"2.1.3.dev4\", modes=use.auto_install)"
     ]
    }
   ],
   "source": [
    "pg = use(\"pygame\", modes=use.auto_install)"
   ]
  },
  {
   "cell_type": "markdown",
   "metadata": {},
   "source": [
    "Now we're getting somewhere! Hmm.. it says \"To get some valuable insight on the health of this package, please check out https://snyk.io/advisor/python/pygame - see for yourself!"
   ]
  },
  {
   "cell_type": "markdown",
   "metadata": {},
   "source": [
    "Let's look at this last line of the message.. hmm.. a dev version? Nah, let's pick the last stable version instead."
   ]
  },
  {
   "cell_type": "code",
   "execution_count": 12,
   "metadata": {
    "execution": {
     "iopub.execute_input": "2022-04-19T20:30:06.458357Z",
     "iopub.status.busy": "2022-04-19T20:30:06.457372Z",
     "iopub.status.idle": "2022-04-19T20:30:06.466495Z",
     "shell.execute_reply": "2022-04-19T20:30:06.465465Z",
     "shell.execute_reply.started": "2022-04-19T20:30:06.458306Z"
    },
    "tags": []
   },
   "outputs": [
    {
     "name": "stdout",
     "output_type": "stream",
     "text": [
      "Linux 5.4.0-107-generic \n",
      " 3.8.5\n"
     ]
    }
   ],
   "source": [
    "import platform; print(platform.system(), platform.release(), \"\\n\", platform.python_version())"
   ]
  },
  {
   "cell_type": "code",
   "execution_count": 13,
   "metadata": {
    "execution": {
     "iopub.execute_input": "2022-04-19T20:30:06.649889Z",
     "iopub.status.busy": "2022-04-19T20:30:06.648822Z",
     "iopub.status.idle": "2022-04-19T20:30:08.090142Z",
     "shell.execute_reply": "2022-04-19T20:30:08.088227Z",
     "shell.execute_reply.started": "2022-04-19T20:30:06.649856Z"
    },
    "tags": []
   },
   "outputs": [
    {
     "name": "stderr",
     "output_type": "stream",
     "text": [
      "\u001b[1;320mINFO\u001b[1;30m: \u001b[0m\u001b[1;36muse.main\u001b[1;30m: \u001b[0mcase = (True, False, False, True)\n",
      "\u001b[1;320mINFO\u001b[1;30m: \u001b[0m\u001b[1;36muse.buffet_old\u001b[1;30m: \u001b[0mresult = RuntimeWarning('Failed to auto-install \\'pygame\\' because hashes aren\\'t specified.\\n        A webbrowser should open with a list of available hashes for different platforms for you to pick.\"\\n        If you want to use the package only on this platform, this should work:\\n    use(\"pygame\", version=\"2.1.2\", hashes=\\'V蘕驈詋光釠軫鳌铎縵䁄鉠龔嵚匟䍶癦㣠\\', modes=use.auto_install)')\n"
     ]
    },
    {
     "name": "stdout",
     "output_type": "stream",
     "text": [
      "V蘕驈詋光釠軫鳌铎縵䁄鉠龔嵚匟䍶癦㣠\n"
     ]
    },
    {
     "ename": "RuntimeWarning",
     "evalue": "Failed to auto-install 'pygame' because hashes aren't specified.\n        A webbrowser should open with a list of available hashes for different platforms for you to pick.\"\n        If you want to use the package only on this platform, this should work:\n    use(\"pygame\", version=\"2.1.2\", hashes='V蘕驈詋光釠軫鳌铎縵䁄鉠龔嵚匟䍶癦㣠', modes=use.auto_install)",
     "output_type": "error",
     "traceback": [
      "\u001b[0;31m---------------------------------------------------------------------------\u001b[0m",
      "\u001b[0;31mRuntimeWarning\u001b[0m                            Traceback (most recent call last)",
      "\u001b[0;32m/tmp/ipykernel_2447/1367005035.py\u001b[0m in \u001b[0;36m<module>\u001b[0;34m\u001b[0m\n\u001b[0;32m----> 1\u001b[0;31m \u001b[0muse\u001b[0m\u001b[0;34m(\u001b[0m\u001b[0;34m\"pygame\"\u001b[0m\u001b[0;34m,\u001b[0m \u001b[0mversion\u001b[0m\u001b[0;34m=\u001b[0m\u001b[0;34m\"2.1.2\"\u001b[0m\u001b[0;34m,\u001b[0m \u001b[0mmodes\u001b[0m\u001b[0;34m=\u001b[0m\u001b[0muse\u001b[0m\u001b[0;34m.\u001b[0m\u001b[0mauto_install\u001b[0m\u001b[0;34m)\u001b[0m\u001b[0;34m\u001b[0m\u001b[0;34m\u001b[0m\u001b[0m\n\u001b[0m",
      "\u001b[0;32m~/anaconda3/lib/python3.8/site-packages/use/main.py\u001b[0m in \u001b[0;36m__call__\u001b[0;34m(self, *args, **kwargs)\u001b[0m\n\u001b[1;32m    133\u001b[0m     \u001b[0;32mdef\u001b[0m \u001b[0m__call__\u001b[0m\u001b[0;34m(\u001b[0m\u001b[0mself\u001b[0m\u001b[0;34m,\u001b[0m \u001b[0;34m*\u001b[0m\u001b[0margs\u001b[0m\u001b[0;34m,\u001b[0m \u001b[0;34m**\u001b[0m\u001b[0mkwargs\u001b[0m\u001b[0;34m)\u001b[0m\u001b[0;34m:\u001b[0m\u001b[0;34m\u001b[0m\u001b[0;34m\u001b[0m\u001b[0m\n\u001b[1;32m    134\u001b[0m         \u001b[0;32mwith\u001b[0m \u001b[0mself\u001b[0m\u001b[0;34m.\u001b[0m\u001b[0m__condition\u001b[0m\u001b[0;34m:\u001b[0m\u001b[0;34m\u001b[0m\u001b[0;34m\u001b[0m\u001b[0m\n\u001b[0;32m--> 135\u001b[0;31m             \u001b[0;32mreturn\u001b[0m \u001b[0mself\u001b[0m\u001b[0;34m.\u001b[0m\u001b[0m__implementation\u001b[0m\u001b[0;34m(\u001b[0m\u001b[0;34m*\u001b[0m\u001b[0margs\u001b[0m\u001b[0;34m,\u001b[0m \u001b[0;34m**\u001b[0m\u001b[0mkwargs\u001b[0m\u001b[0;34m)\u001b[0m\u001b[0;34m\u001b[0m\u001b[0;34m\u001b[0m\u001b[0m\n\u001b[0m\u001b[1;32m    136\u001b[0m \u001b[0;34m\u001b[0m\u001b[0m\n\u001b[1;32m    137\u001b[0m     \u001b[0;31m# to allow `numpy @ use` for a quick check\u001b[0m\u001b[0;34m\u001b[0m\u001b[0;34m\u001b[0m\u001b[0;34m\u001b[0m\u001b[0m\n",
      "\u001b[0;32m~/anaconda3/lib/python3.8/site-packages/use/tools.py\u001b[0m in \u001b[0;36mwrapper\u001b[0;34m(*args, **kwargs)\u001b[0m\n\u001b[1;32m     44\u001b[0m                 \u001b[0;32mraise\u001b[0m \u001b[0mNirvanaWarning\u001b[0m\u001b[0;34m(\u001b[0m\u001b[0;34m\"No use trying to use Nothing.\"\u001b[0m\u001b[0;34m)\u001b[0m\u001b[0;34m\u001b[0m\u001b[0;34m\u001b[0m\u001b[0m\n\u001b[1;32m     45\u001b[0m             \u001b[0margs\u001b[0m \u001b[0;34m=\u001b[0m \u001b[0margs\u001b[0m \u001b[0;34m+\u001b[0m \u001b[0;34m(\u001b[0m\u001b[0;32mNone\u001b[0m\u001b[0;34m,\u001b[0m\u001b[0;34m)\u001b[0m\u001b[0;34m\u001b[0m\u001b[0;34m\u001b[0m\u001b[0m\n\u001b[0;32m---> 46\u001b[0;31m         \u001b[0;32mreturn\u001b[0m \u001b[0mdispatcher\u001b[0m\u001b[0;34m.\u001b[0m\u001b[0mdispatch\u001b[0m\u001b[0;34m(\u001b[0m\u001b[0margs\u001b[0m\u001b[0;34m[\u001b[0m\u001b[0;36m1\u001b[0m\u001b[0;34m]\u001b[0m\u001b[0;34m.\u001b[0m\u001b[0m__class__\u001b[0m\u001b[0;34m)\u001b[0m\u001b[0;34m(\u001b[0m\u001b[0;34m*\u001b[0m\u001b[0margs\u001b[0m\u001b[0;34m,\u001b[0m \u001b[0;34m**\u001b[0m\u001b[0mkwargs\u001b[0m\u001b[0;34m)\u001b[0m\u001b[0;34m\u001b[0m\u001b[0;34m\u001b[0m\u001b[0m\n\u001b[0m\u001b[1;32m     47\u001b[0m \u001b[0;34m\u001b[0m\u001b[0m\n\u001b[1;32m     48\u001b[0m     \u001b[0mwrapper\u001b[0m\u001b[0;34m.\u001b[0m\u001b[0mregister\u001b[0m \u001b[0;34m=\u001b[0m \u001b[0mdispatcher\u001b[0m\u001b[0;34m.\u001b[0m\u001b[0mregister\u001b[0m\u001b[0;34m\u001b[0m\u001b[0;34m\u001b[0m\u001b[0m\n",
      "\u001b[0;32m~/anaconda3/lib/python3.8/site-packages/use/main.py\u001b[0m in \u001b[0;36m_use_str\u001b[0;34m(self, name, version, hash_algo, hashes, default, modes)\u001b[0m\n\u001b[1;32m    667\u001b[0m         \"\"\"\n\u001b[1;32m    668\u001b[0m         \u001b[0mpackage_name\u001b[0m\u001b[0;34m,\u001b[0m \u001b[0mmodule_name\u001b[0m \u001b[0;34m=\u001b[0m \u001b[0m_parse_name\u001b[0m\u001b[0;34m(\u001b[0m\u001b[0mname\u001b[0m\u001b[0;34m)\u001b[0m\u001b[0;34m\u001b[0m\u001b[0;34m\u001b[0m\u001b[0m\n\u001b[0;32m--> 669\u001b[0;31m         return self._use_package(\n\u001b[0m\u001b[1;32m    670\u001b[0m             \u001b[0mname\u001b[0m\u001b[0;34m=\u001b[0m\u001b[0mname\u001b[0m\u001b[0;34m,\u001b[0m\u001b[0;34m\u001b[0m\u001b[0;34m\u001b[0m\u001b[0m\n\u001b[1;32m    671\u001b[0m             \u001b[0mpackage_name\u001b[0m\u001b[0;34m=\u001b[0m\u001b[0mpackage_name\u001b[0m\u001b[0;34m,\u001b[0m\u001b[0;34m\u001b[0m\u001b[0;34m\u001b[0m\u001b[0m\n",
      "\u001b[0;32m~/anaconda3/lib/python3.8/site-packages/icontract/_checkers.py\u001b[0m in \u001b[0;36mwrapper\u001b[0;34m(*args, **kwargs)\u001b[0m\n\u001b[1;32m    639\u001b[0m                 \u001b[0;31m# Unfortunately, this can not be done in Python 3, see\u001b[0m\u001b[0;34m\u001b[0m\u001b[0;34m\u001b[0m\u001b[0;34m\u001b[0m\u001b[0m\n\u001b[1;32m    640\u001b[0m                 \u001b[0;31m# https://stackoverflow.com/questions/44813333/how-can-i-elide-a-function-wrapper-from-the-traceback-in-python-3\u001b[0m\u001b[0;34m\u001b[0m\u001b[0;34m\u001b[0m\u001b[0;34m\u001b[0m\u001b[0m\n\u001b[0;32m--> 641\u001b[0;31m                 \u001b[0mresult\u001b[0m \u001b[0;34m=\u001b[0m \u001b[0mfunc\u001b[0m\u001b[0;34m(\u001b[0m\u001b[0;34m*\u001b[0m\u001b[0margs\u001b[0m\u001b[0;34m,\u001b[0m \u001b[0;34m**\u001b[0m\u001b[0mkwargs\u001b[0m\u001b[0;34m)\u001b[0m\u001b[0;34m\u001b[0m\u001b[0;34m\u001b[0m\u001b[0m\n\u001b[0m\u001b[1;32m    642\u001b[0m \u001b[0;34m\u001b[0m\u001b[0m\n\u001b[1;32m    643\u001b[0m                 \u001b[0;32mif\u001b[0m \u001b[0mpostconditions\u001b[0m\u001b[0;34m:\u001b[0m\u001b[0;34m\u001b[0m\u001b[0;34m\u001b[0m\u001b[0m\n",
      "\u001b[0;32m~/anaconda3/lib/python3.8/site-packages/use/main.py\u001b[0m in \u001b[0;36m_use_package\u001b[0;34m(self, name, package_name, module_name, version, hashes, default, hash_algo, modes, Message)\u001b[0m\n\u001b[1;32m    751\u001b[0m \u001b[0;34m\u001b[0m\u001b[0m\n\u001b[1;32m    752\u001b[0m         \u001b[0;32mif\u001b[0m \u001b[0misinstance\u001b[0m\u001b[0;34m(\u001b[0m\u001b[0mresult\u001b[0m\u001b[0;34m,\u001b[0m \u001b[0mException\u001b[0m\u001b[0;34m)\u001b[0m\u001b[0;34m:\u001b[0m\u001b[0;34m\u001b[0m\u001b[0;34m\u001b[0m\u001b[0m\n\u001b[0;32m--> 753\u001b[0;31m             \u001b[0;32mreturn\u001b[0m \u001b[0m_fail_or_default\u001b[0m\u001b[0;34m(\u001b[0m\u001b[0mresult\u001b[0m\u001b[0;34m,\u001b[0m \u001b[0mdefault\u001b[0m\u001b[0;34m)\u001b[0m\u001b[0;34m\u001b[0m\u001b[0;34m\u001b[0m\u001b[0m\n\u001b[0m\u001b[1;32m    754\u001b[0m \u001b[0;34m\u001b[0m\u001b[0m\n\u001b[1;32m    755\u001b[0m         \u001b[0;32mif\u001b[0m \u001b[0misinstance\u001b[0m\u001b[0;34m(\u001b[0m\u001b[0mresult\u001b[0m\u001b[0;34m,\u001b[0m \u001b[0mModuleType\u001b[0m\u001b[0;34m)\u001b[0m\u001b[0;34m:\u001b[0m\u001b[0;34m\u001b[0m\u001b[0;34m\u001b[0m\u001b[0m\n",
      "\u001b[0;32m~/anaconda3/lib/python3.8/site-packages/use/pimp.py\u001b[0m in \u001b[0;36m_fail_or_default\u001b[0;34m(exception, default)\u001b[0m\n\u001b[1;32m    943\u001b[0m         \u001b[0;32mreturn\u001b[0m \u001b[0mdefault\u001b[0m\u001b[0;34m\u001b[0m\u001b[0;34m\u001b[0m\u001b[0m\n\u001b[1;32m    944\u001b[0m     \u001b[0;32melse\u001b[0m\u001b[0;34m:\u001b[0m\u001b[0;34m\u001b[0m\u001b[0;34m\u001b[0m\u001b[0m\n\u001b[0;32m--> 945\u001b[0;31m         \u001b[0;32mraise\u001b[0m \u001b[0mexception\u001b[0m\u001b[0;34m\u001b[0m\u001b[0;34m\u001b[0m\u001b[0m\n\u001b[0m\u001b[1;32m    946\u001b[0m \u001b[0;34m\u001b[0m\u001b[0m\n\u001b[1;32m    947\u001b[0m \u001b[0;34m\u001b[0m\u001b[0m\n",
      "\u001b[0;31mRuntimeWarning\u001b[0m: Failed to auto-install 'pygame' because hashes aren't specified.\n        A webbrowser should open with a list of available hashes for different platforms for you to pick.\"\n        If you want to use the package only on this platform, this should work:\n    use(\"pygame\", version=\"2.1.2\", hashes='V蘕驈詋光釠軫鳌铎縵䁄鉠龔嵚匟䍶癦㣠', modes=use.auto_install)"
     ]
    }
   ],
   "source": [
    "use(\"pygame\", version=\"2.1.2\", modes=use.auto_install)"
   ]
  },
  {
   "cell_type": "markdown",
   "metadata": {},
   "source": [
    "Hey, did you see the browser tab that just opened? You can select all the platforms and python versions you want to support there and just copy & paste the snippet - let's get the one for python 3.8 and ubuntu I'm running here.."
   ]
  },
  {
   "cell_type": "markdown",
   "metadata": {
    "execution": {
     "iopub.execute_input": "2021-11-23T20:24:34.295653Z",
     "iopub.status.busy": "2021-11-23T20:24:34.294878Z",
     "iopub.status.idle": "2021-11-23T20:24:34.314741Z",
     "shell.execute_reply": "2021-11-23T20:24:34.312597Z",
     "shell.execute_reply.started": "2021-11-23T20:24:34.295588Z"
    }
   },
   "source": [
    "You wonder what those chinese looking characters are? Well. Normally, hexdigests look something like `d6c1c1c53a988b3daf44c1865d40f86de48665639bfbd5eea1317eb083638a3a` which is way too verbose on a normal line of code and since you shouldn't manually type those anyway but only copy&paste, we thought what the heck - let's use the japanese, ascii, chinese and korean alphabets (thus JACK) to encode those hashes as compact as we can."
   ]
  },
  {
   "cell_type": "markdown",
   "metadata": {},
   "source": [
    "Well, let's try to use all the linux ones for py38 - copy&paste.."
   ]
  },
  {
   "cell_type": "code",
   "execution_count": 14,
   "metadata": {
    "execution": {
     "iopub.execute_input": "2022-04-19T20:30:14.509533Z",
     "iopub.status.busy": "2022-04-19T20:30:14.508629Z",
     "iopub.status.idle": "2022-04-19T20:30:14.672020Z",
     "shell.execute_reply": "2022-04-19T20:30:14.670783Z",
     "shell.execute_reply.started": "2022-04-19T20:30:14.509485Z"
    },
    "tags": []
   },
   "outputs": [
    {
     "name": "stderr",
     "output_type": "stream",
     "text": [
      "\u001b[1;320mINFO\u001b[1;30m: \u001b[0m\u001b[1;36muse.main\u001b[1;30m: \u001b[0mcase = (True, True, False, True)\n",
      "\u001b[1;320mINFO\u001b[1;30m: \u001b[0m\u001b[1;36muse.buffet_old\u001b[1;30m: \u001b[0mresult = <module 'pygame' from '/home/thorsten/.justuse-python/venv/pygame/2.1.2/lib/python3.8/site-packages/pygame/__init__.py'>\n"
     ]
    },
    {
     "name": "stdout",
     "output_type": "stream",
     "text": [
      "pygame 2.1.2 (SDL 2.0.16, Python 3.8.5)\n",
      "Hello from the pygame community. https://www.pygame.org/contribute.html\n"
     ]
    },
    {
     "data": {
      "text/plain": [
       "<module 'pygame' from '/home/thorsten/.justuse-python/venv/pygame/2.1.2/lib/python3.8/site-packages/pygame/__init__.py'>"
      ]
     },
     "execution_count": 14,
     "metadata": {},
     "output_type": "execute_result"
    }
   ],
   "source": [
    "use('pygame', version='2.1.2', modes=use.auto_install, hash_algo=use.Hash.sha256, hashes={\n",
    "    '1219a963941bd53aa754e8449364c142004fe706c33a9c22ff2a76521a82d078',  # cp38-manylinux_2_12_x86_64.manylinux2010_x86_64\n",
    "    'ea36f4f93524554a35cac2359df63b50af6556ed866830aa1f07f0d8580280ea',  # cp38-manylinux_2_5_x86_64.manylinux1_x86_64\n",
    "    '97a74ba186deee68318a52637012ef6abf5be6282c659e1d1ba6ad08cf35ec85',  # cp38-manylinux_2_17_x86_64.manylinux2014_x86_64 \n",
    "})"
   ]
  },
  {
   "cell_type": "markdown",
   "metadata": {
    "execution": {
     "iopub.execute_input": "2021-11-22T18:09:18.480558Z",
     "iopub.status.busy": "2021-11-22T18:09:18.479870Z",
     "iopub.status.idle": "2021-11-22T18:09:18.495532Z",
     "shell.execute_reply": "2021-11-22T18:09:18.492594Z",
     "shell.execute_reply.started": "2021-11-22T18:09:18.480515Z"
    }
   },
   "source": [
    "Wow, did we just download, install and load the pygame package without leaving our own sweet code?? Yes, we did!"
   ]
  },
  {
   "cell_type": "markdown",
   "metadata": {
    "execution": {
     "iopub.execute_input": "2021-11-22T18:13:38.832767Z",
     "iopub.status.busy": "2021-11-22T18:13:38.832002Z",
     "iopub.status.idle": "2021-11-22T18:13:38.847351Z",
     "shell.execute_reply": "2021-11-22T18:13:38.844955Z",
     "shell.execute_reply.started": "2021-11-22T18:13:38.832713Z"
    }
   },
   "source": [
    "Furthermore, the package we installed is version and hash-pinned so we really only get what we asked for and nothing else."
   ]
  },
  {
   "cell_type": "markdown",
   "metadata": {},
   "source": [
    "There's a small problem though. Those hashes refer to very specific files and some of those packages may be written in C or even Fortran (like numpy) that are compiled for specific platforms.\n",
    "If you happily develop code on Linux that uses something platform-specific (like numpy!) it will all work without problems - until you try to run your code on another platform. In this case, you need to specify all hashes for all platforms you want to run your code on."
   ]
  },
  {
   "cell_type": "markdown",
   "metadata": {},
   "source": [
    "Version- and hash-pinning is the most secure way to install a package. It will ensure that your code will always run as you expect it, but there's a drawback: there is no immediate and automatic way to update code without involving the user (yet). On one side, you won't ever accidentally break your stuff by updating something else, but you also won't benefit from automatic security patches. To fix this shortcoming, it might be feasible to build IDE-plugins that check and update these pins in the code or check some database for security patches every time an auto-installed package is imported - please contact us if you have ideas or better yet, code ;-)"
   ]
  },
  {
   "cell_type": "markdown",
   "metadata": {},
   "source": [
    "## Use() modules from anywhere!\n",
    "If you `import` some package or module, you're limited to the stuff you have in your current directory or below (but only if there is a `__init__.py` or if it's an implicit namespace package) and the things in your sys.path, which can be manipulated freely, making it very complicated to handle. Let's suppose we're in our test directory."
   ]
  },
  {
   "cell_type": "code",
   "execution_count": 15,
   "metadata": {
    "execution": {
     "iopub.execute_input": "2022-04-19T20:30:49.675161Z",
     "iopub.status.busy": "2022-04-19T20:30:49.673448Z",
     "iopub.status.idle": "2022-04-19T20:30:49.687338Z",
     "shell.execute_reply": "2022-04-19T20:30:49.686215Z",
     "shell.execute_reply.started": "2022-04-19T20:30:49.675083Z"
    },
    "tags": []
   },
   "outputs": [
    {
     "name": "stdout",
     "output_type": "stream",
     "text": [
      "/media/sf_Dropbox/code/justuse/tests\n"
     ]
    }
   ],
   "source": [
    "%cd ~/Desktop/sf_Dropbox/code/justuse/tests"
   ]
  },
  {
   "cell_type": "markdown",
   "metadata": {},
   "source": [
    "the code we want to run is in justuse/docs and there is no `__init__.py` in between, so to get to run the code, we could put the src directory in sys.path - or we could use() a module directly!"
   ]
  },
  {
   "cell_type": "code",
   "execution_count": 16,
   "metadata": {
    "execution": {
     "iopub.execute_input": "2022-04-19T20:30:51.110548Z",
     "iopub.status.busy": "2022-04-19T20:30:51.110177Z",
     "iopub.status.idle": "2022-04-19T20:30:51.119782Z",
     "shell.execute_reply": "2022-04-19T20:30:51.118875Z",
     "shell.execute_reply.started": "2022-04-19T20:30:51.110508Z"
    },
    "tags": []
   },
   "outputs": [
    {
     "name": "stderr",
     "output_type": "stream",
     "text": [
      "\u001b[1;320mINFO\u001b[1;30m: \u001b[0m\u001b[1;36muse.pimp\u001b[1;30m: \u001b[0mPath.cwd()=PosixPath('/media/sf_Dropbox/code/justuse/docs') package_name='' module_name='demo' module_path=PosixPath('/media/sf_Dropbox/code/justuse/docs/demo.py')\n"
     ]
    }
   ],
   "source": [
    "mod = use(use.Path(\"../docs/demo.py\"))"
   ]
  },
  {
   "cell_type": "code",
   "execution_count": 17,
   "metadata": {
    "execution": {
     "iopub.execute_input": "2022-04-19T20:30:51.589542Z",
     "iopub.status.busy": "2022-04-19T20:30:51.589202Z",
     "iopub.status.idle": "2022-04-19T20:30:51.595387Z",
     "shell.execute_reply": "2022-04-19T20:30:51.593840Z",
     "shell.execute_reply.started": "2022-04-19T20:30:51.589506Z"
    },
    "tags": []
   },
   "outputs": [
    {
     "name": "stdout",
     "output_type": "stream",
     "text": [
      "Hello justuse-user!\n"
     ]
    }
   ],
   "source": [
    "mod.foo()"
   ]
  },
  {
   "cell_type": "markdown",
   "metadata": {},
   "source": [
    "Loading single modules doesn't sound like much, but especially while experimenting on jupyter, this can be used very effectively in conjunction with the reloading mode:"
   ]
  },
  {
   "cell_type": "code",
   "execution_count": 18,
   "metadata": {
    "execution": {
     "iopub.execute_input": "2022-04-19T20:30:55.302197Z",
     "iopub.status.busy": "2022-04-19T20:30:55.301833Z",
     "iopub.status.idle": "2022-04-19T20:30:55.311903Z",
     "shell.execute_reply": "2022-04-19T20:30:55.310900Z",
     "shell.execute_reply.started": "2022-04-19T20:30:55.302159Z"
    },
    "tags": []
   },
   "outputs": [
    {
     "name": "stderr",
     "output_type": "stream",
     "text": [
      "\u001b[1;320mINFO\u001b[1;30m: \u001b[0m\u001b[1;36muse.pimp\u001b[1;30m: \u001b[0mPath.cwd()=PosixPath('/media/sf_Dropbox/code/justuse/docs') package_name='' module_name='demo' module_path=PosixPath('/media/sf_Dropbox/code/justuse/docs/demo.py')\n"
     ]
    }
   ],
   "source": [
    "mod = use(use.Path(\"../docs/demo.py\"), modes=use.reloading)"
   ]
  },
  {
   "cell_type": "markdown",
   "metadata": {},
   "source": [
    "Now this module is loaded fresh whenever you modify and save the file, replacing the implementation behind the scene. This will work without any problems as long as you put functions in that module and if you access those functions via attribute-access (`mod.func()` **not** `func = mod.func; func()`)."
   ]
  },
  {
   "cell_type": "markdown",
   "metadata": {
    "execution": {
     "iopub.execute_input": "2021-11-23T00:11:22.768463Z",
     "iopub.status.busy": "2021-11-23T00:11:22.767536Z",
     "iopub.status.idle": "2021-11-23T00:11:22.781007Z",
     "shell.execute_reply": "2021-11-23T00:11:22.779348Z",
     "shell.execute_reply.started": "2021-11-23T00:11:22.768380Z"
    }
   },
   "source": [
    "If you can load modules from disk, why couldn't you load them from the web? Let's say you found an interesting github repo like https://github.com/amogorkon/justuse. Chances are, there's also a package on pypi you can pip-install, but maybe there's not. Maybe you're only interested in a single module from that repo/package, so you don't even want to install anything. Then you could download it from github, move the file manually into your folder and import it - sounds like a lot of trouble for a single module!\n",
    "There has to be a better way! And there is - you can just use() web resources:"
   ]
  },
  {
   "cell_type": "code",
   "execution_count": 19,
   "metadata": {
    "execution": {
     "iopub.execute_input": "2022-04-19T20:31:00.853780Z",
     "iopub.status.busy": "2022-04-19T20:31:00.853388Z",
     "iopub.status.idle": "2022-04-19T20:31:01.126170Z",
     "shell.execute_reply": "2022-04-19T20:31:01.125400Z",
     "shell.execute_reply.started": "2022-04-19T20:31:00.853736Z"
    },
    "tags": []
   },
   "outputs": [
    {
     "name": "stderr",
     "output_type": "stream",
     "text": [
      "/home/thorsten/anaconda3/lib/python3.8/site-packages/use/main.py:414: NoValidationWarning: Attempting to import from the interwebs with no validation whatsoever!\n",
      "To safely reproduce:\n",
      "use(use.URL('https://raw.githubusercontent.com/amogorkon/justuse/unstable/docs/demo.py'), hash_algo=use.Hash.sha256, hash_value='59eff31bb220ce933ccc083b9306020ec25d19d43de30e5ad4341b355d4b48bf')\n",
      "  warn(UserMessage.no_validation(url, hash_algo, this_hash), NoValidationWarning)\n",
      "\u001b[1;320mINFO\u001b[1;30m: \u001b[0m\u001b[1;36muse.pimp\u001b[1;30m: \u001b[0mPath.cwd()=PosixPath('/media/sf_Dropbox/code/justuse/tests') package_name='' module_name='demo.py' module_path=PosixPath('/media/sf_Dropbox/code/justuse/tests/amogorkon/justuse/unstable/docs/demo.py')\n"
     ]
    }
   ],
   "source": [
    "mod = use(use.URL(\"https://raw.githubusercontent.com/amogorkon/justuse/unstable/docs/demo.py\"))"
   ]
  },
  {
   "cell_type": "markdown",
   "metadata": {
    "execution": {
     "iopub.execute_input": "2021-11-23T00:17:40.146456Z",
     "iopub.status.busy": "2021-11-23T00:17:40.145947Z",
     "iopub.status.idle": "2021-11-23T00:17:40.155091Z",
     "shell.execute_reply": "2021-11-23T00:17:40.153301Z",
     "shell.execute_reply.started": "2021-11-23T00:17:40.146414Z"
    }
   },
   "source": [
    "copy&paste that line from the exception to get that sweet hash.."
   ]
  },
  {
   "cell_type": "code",
   "execution_count": 20,
   "metadata": {
    "execution": {
     "iopub.execute_input": "2022-04-19T20:31:02.532609Z",
     "iopub.status.busy": "2022-04-19T20:31:02.532225Z",
     "iopub.status.idle": "2022-04-19T20:31:02.624535Z",
     "shell.execute_reply": "2022-04-19T20:31:02.623682Z",
     "shell.execute_reply.started": "2022-04-19T20:31:02.532570Z"
    },
    "tags": []
   },
   "outputs": [
    {
     "name": "stderr",
     "output_type": "stream",
     "text": [
      "\u001b[1;320mINFO\u001b[1;30m: \u001b[0m\u001b[1;36muse.pimp\u001b[1;30m: \u001b[0mPath.cwd()=PosixPath('/media/sf_Dropbox/code/justuse/tests') package_name='' module_name='demo.py' module_path=PosixPath('/media/sf_Dropbox/code/justuse/tests/amogorkon/justuse/unstable/docs/demo.py')\n"
     ]
    }
   ],
   "source": [
    "mod = use(use.URL('https://raw.githubusercontent.com/amogorkon/justuse/unstable/docs/demo.py'), hash_algo=use.Hash.sha256, hash_value='59eff31bb220ce933ccc083b9306020ec25d19d43de30e5ad4341b355d4b48bf')"
   ]
  },
  {
   "cell_type": "code",
   "execution_count": 21,
   "metadata": {
    "execution": {
     "iopub.execute_input": "2022-04-19T20:31:03.120641Z",
     "iopub.status.busy": "2022-04-19T20:31:03.119765Z",
     "iopub.status.idle": "2022-04-19T20:31:03.128720Z",
     "shell.execute_reply": "2022-04-19T20:31:03.127024Z",
     "shell.execute_reply.started": "2022-04-19T20:31:03.120584Z"
    },
    "tags": []
   },
   "outputs": [
    {
     "name": "stdout",
     "output_type": "stream",
     "text": [
      "Hello justuse-user!\n"
     ]
    }
   ],
   "source": [
    "mod.foo()"
   ]
  },
  {
   "cell_type": "markdown",
   "metadata": {},
   "source": [
    "Since the content of this file is now hash-pinned, it doesn't matter whether or not someone hacks github and changes the code - justuse will instantly notice before executing any code. You can even execute code directly from pastebin or any other untrusted, public platform - as long as you have the proper hash, you're safe."
   ]
  },
  {
   "cell_type": "markdown",
   "metadata": {},
   "source": [
    "## A word on circular imports\n",
    "Everyone stumbles over a circular import once they try to build slightly more complex projects and it can get very ugly and overly frustrating to deal with those.\n",
    "\n",
    "Let's suppose we have two modules A and B:"
   ]
  },
  {
   "cell_type": "code",
   "execution_count": 22,
   "metadata": {
    "execution": {
     "iopub.execute_input": "2022-04-19T20:31:06.628253Z",
     "iopub.status.busy": "2022-04-19T20:31:06.627811Z",
     "iopub.status.idle": "2022-04-19T20:31:06.761001Z",
     "shell.execute_reply": "2022-04-19T20:31:06.759975Z",
     "shell.execute_reply.started": "2022-04-19T20:31:06.628214Z"
    },
    "tags": []
   },
   "outputs": [
    {
     "name": "stdout",
     "output_type": "stream",
     "text": [
      "/media/sf_Dropbox/code/justuse/docs\n",
      "insgesamt 47\n",
      "-rwxrwx--- 1 root  2356 Mär 24 11:29  \u001b[0m\u001b[01;32mcodeflow.md\u001b[0m*\n",
      "-rwxrwx--- 1 root  1326 Mär 24 11:29 \u001b[01;32m'database schema.md'\u001b[0m*\n",
      "-rwxrwx--- 1 root    43 Feb 16 11:35  \u001b[01;32mdemo.py\u001b[0m*\n",
      "-rwxrwx--- 1 root    97 Feb 16 11:35  \u001b[01;32mmodule_a.py\u001b[0m*\n",
      "-rwxrwx--- 1 root    47 Feb 16 11:35  \u001b[01;32mmodule_b.py\u001b[0m*\n",
      "-rwxrwx--- 1 root    62 Feb 16 11:35  \u001b[01;32mmodule_circular_a.py\u001b[0m*\n",
      "-rwxrwx--- 1 root    68 Feb 16 11:35  \u001b[01;32mmodule_circular_b.py\u001b[0m*\n",
      "drwxrwx--- 1 root  4096 Mär 29 19:09  \u001b[01;34m__pycache__\u001b[0m/\n",
      "-rwxrwx--- 1 root 70184 Apr 19 22:30  \u001b[01;32mShowcase.ipynb\u001b[0m*\n"
     ]
    }
   ],
   "source": [
    "%cd ../docs\n",
    "%ll"
   ]
  },
  {
   "cell_type": "code",
   "execution_count": 23,
   "metadata": {
    "execution": {
     "iopub.execute_input": "2022-04-19T20:31:07.079592Z",
     "iopub.status.busy": "2022-04-19T20:31:07.078580Z",
     "iopub.status.idle": "2022-04-19T20:31:07.087197Z",
     "shell.execute_reply": "2022-04-19T20:31:07.086137Z",
     "shell.execute_reply.started": "2022-04-19T20:31:07.079553Z"
    },
    "tags": []
   },
   "outputs": [
    {
     "data": {
      "text/plain": [
       "\u001b[0mprint\u001b[0m\u001b[0;34m(\u001b[0m\u001b[0;34m\"Hello from A!\"\u001b[0m\u001b[0;34m)\u001b[0m\u001b[0;34m\u001b[0m\n",
       "\u001b[0;34m\u001b[0m\u001b[0;34m\u001b[0m\n",
       "\u001b[0;34m\u001b[0m\u001b[0;32mimport\u001b[0m \u001b[0mmodule_circular_b\u001b[0m\u001b[0;34m\u001b[0m\n",
       "\u001b[0;34m\u001b[0m\u001b[0;34m\u001b[0m\n",
       "\u001b[0;34m\u001b[0m\u001b[0mfoo\u001b[0m \u001b[0;34m=\u001b[0m \u001b[0;36m23\u001b[0m\u001b[0;34m\u001b[0m\u001b[0;34m\u001b[0m\u001b[0m\n"
      ]
     },
     "metadata": {},
     "output_type": "display_data"
    }
   ],
   "source": [
    "%less module_circular_a.py"
   ]
  },
  {
   "cell_type": "code",
   "execution_count": 24,
   "metadata": {
    "execution": {
     "iopub.execute_input": "2022-04-19T20:31:08.076755Z",
     "iopub.status.busy": "2022-04-19T20:31:08.076343Z",
     "iopub.status.idle": "2022-04-19T20:31:08.089122Z",
     "shell.execute_reply": "2022-04-19T20:31:08.088081Z",
     "shell.execute_reply.started": "2022-04-19T20:31:08.076712Z"
    },
    "tags": []
   },
   "outputs": [
    {
     "data": {
      "text/plain": [
       "\u001b[0;34m\u001b[0m\n",
       "\u001b[0;34m\u001b[0m\u001b[0;32mfrom\u001b[0m \u001b[0mmodule_circular_a\u001b[0m \u001b[0;32mimport\u001b[0m \u001b[0mfoo\u001b[0m\u001b[0;34m\u001b[0m\n",
       "\u001b[0;34m\u001b[0m\u001b[0;34m\u001b[0m\n",
       "\u001b[0;34m\u001b[0m\u001b[0mprint\u001b[0m\u001b[0;34m(\u001b[0m\u001b[0;34m\"Hello from B!\"\u001b[0m\u001b[0;34m,\u001b[0m \u001b[0mfoo\u001b[0m\u001b[0;34m)\u001b[0m\u001b[0;34m\u001b[0m\u001b[0;34m\u001b[0m\u001b[0m\n"
      ]
     },
     "metadata": {},
     "output_type": "display_data"
    }
   ],
   "source": [
    "%less module_circular_b.py"
   ]
  },
  {
   "cell_type": "code",
   "execution_count": 25,
   "metadata": {
    "execution": {
     "iopub.execute_input": "2022-04-19T20:31:08.990855Z",
     "iopub.status.busy": "2022-04-19T20:31:08.990417Z",
     "iopub.status.idle": "2022-04-19T20:31:09.036205Z",
     "shell.execute_reply": "2022-04-19T20:31:09.030901Z",
     "shell.execute_reply.started": "2022-04-19T20:31:08.990765Z"
    },
    "tags": []
   },
   "outputs": [
    {
     "name": "stdout",
     "output_type": "stream",
     "text": [
      "Hello from A!\n"
     ]
    },
    {
     "ename": "ImportError",
     "evalue": "cannot import name 'foo' from partially initialized module 'module_circular_a' (most likely due to a circular import) (/media/sf_Dropbox/code/justuse/docs/module_circular_a.py)",
     "output_type": "error",
     "traceback": [
      "\u001b[0;31m---------------------------------------------------------------------------\u001b[0m",
      "\u001b[0;31mImportError\u001b[0m                               Traceback (most recent call last)",
      "\u001b[0;32m/tmp/ipykernel_2447/2853914029.py\u001b[0m in \u001b[0;36m<module>\u001b[0;34m\u001b[0m\n\u001b[0;32m----> 1\u001b[0;31m \u001b[0;32mimport\u001b[0m \u001b[0mmodule_circular_a\u001b[0m\u001b[0;34m\u001b[0m\u001b[0;34m\u001b[0m\u001b[0m\n\u001b[0m",
      "\u001b[0;32m/media/sf_Dropbox/code/justuse/docs/module_circular_a.py\u001b[0m in \u001b[0;36m<module>\u001b[0;34m\u001b[0m\n\u001b[1;32m      1\u001b[0m \u001b[0mprint\u001b[0m\u001b[0;34m(\u001b[0m\u001b[0;34m\"Hello from A!\"\u001b[0m\u001b[0;34m)\u001b[0m\u001b[0;34m\u001b[0m\u001b[0;34m\u001b[0m\u001b[0m\n\u001b[1;32m      2\u001b[0m \u001b[0;34m\u001b[0m\u001b[0m\n\u001b[0;32m----> 3\u001b[0;31m \u001b[0;32mimport\u001b[0m \u001b[0mmodule_circular_b\u001b[0m\u001b[0;34m\u001b[0m\u001b[0;34m\u001b[0m\u001b[0m\n\u001b[0m\u001b[1;32m      4\u001b[0m \u001b[0;34m\u001b[0m\u001b[0m\n\u001b[1;32m      5\u001b[0m \u001b[0mfoo\u001b[0m \u001b[0;34m=\u001b[0m \u001b[0;36m23\u001b[0m\u001b[0;34m\u001b[0m\u001b[0;34m\u001b[0m\u001b[0m\n",
      "\u001b[0;32m/media/sf_Dropbox/code/justuse/docs/module_circular_b.py\u001b[0m in \u001b[0;36m<module>\u001b[0;34m\u001b[0m\n\u001b[1;32m      1\u001b[0m \u001b[0;34m\u001b[0m\u001b[0m\n\u001b[0;32m----> 2\u001b[0;31m \u001b[0;32mfrom\u001b[0m \u001b[0mmodule_circular_a\u001b[0m \u001b[0;32mimport\u001b[0m \u001b[0mfoo\u001b[0m\u001b[0;34m\u001b[0m\u001b[0;34m\u001b[0m\u001b[0m\n\u001b[0m\u001b[1;32m      3\u001b[0m \u001b[0;34m\u001b[0m\u001b[0m\n\u001b[1;32m      4\u001b[0m \u001b[0mprint\u001b[0m\u001b[0;34m(\u001b[0m\u001b[0;34m\"Hello from B!\"\u001b[0m\u001b[0;34m,\u001b[0m \u001b[0mfoo\u001b[0m\u001b[0;34m)\u001b[0m\u001b[0;34m\u001b[0m\u001b[0;34m\u001b[0m\u001b[0m\n",
      "\u001b[0;31mImportError\u001b[0m: cannot import name 'foo' from partially initialized module 'module_circular_a' (most likely due to a circular import) (/media/sf_Dropbox/code/justuse/docs/module_circular_a.py)"
     ]
    }
   ],
   "source": [
    "import module_circular_a"
   ]
  },
  {
   "cell_type": "code",
   "execution_count": 26,
   "metadata": {
    "execution": {
     "iopub.execute_input": "2022-04-19T20:31:09.998500Z",
     "iopub.status.busy": "2022-04-19T20:31:09.998035Z",
     "iopub.status.idle": "2022-04-19T20:31:10.006325Z",
     "shell.execute_reply": "2022-04-19T20:31:10.005255Z",
     "shell.execute_reply.started": "2022-04-19T20:31:09.998461Z"
    },
    "tags": []
   },
   "outputs": [
    {
     "data": {
      "text/plain": [
       "\u001b[0;32mimport\u001b[0m \u001b[0muse\u001b[0m\u001b[0;34m\u001b[0m\n",
       "\u001b[0;34m\u001b[0m\u001b[0;34m\u001b[0m\n",
       "\u001b[0;34m\u001b[0m\u001b[0mprint\u001b[0m\u001b[0;34m(\u001b[0m\u001b[0;34m\"Hello from A!\"\u001b[0m\u001b[0;34m)\u001b[0m\u001b[0;34m\u001b[0m\n",
       "\u001b[0;34m\u001b[0m\u001b[0;34m\u001b[0m\n",
       "\u001b[0;34m\u001b[0m\u001b[0muse\u001b[0m\u001b[0;34m(\u001b[0m\u001b[0muse\u001b[0m\u001b[0;34m.\u001b[0m\u001b[0mPath\u001b[0m\u001b[0;34m(\u001b[0m\u001b[0;34m\"module_b.py\"\u001b[0m\u001b[0;34m)\u001b[0m\u001b[0;34m,\u001b[0m \u001b[0minitial_globals\u001b[0m\u001b[0;34m=\u001b[0m\u001b[0;34m{\u001b[0m\u001b[0;34m\"foo\"\u001b[0m\u001b[0;34m:\u001b[0m \u001b[0;36m23\u001b[0m\u001b[0;34m}\u001b[0m\u001b[0;34m)\u001b[0m\u001b[0;34m\u001b[0m\u001b[0;34m\u001b[0m\u001b[0m\n"
      ]
     },
     "metadata": {},
     "output_type": "display_data"
    }
   ],
   "source": [
    "%less module_a.py"
   ]
  },
  {
   "cell_type": "code",
   "execution_count": 27,
   "metadata": {
    "execution": {
     "iopub.execute_input": "2022-04-19T20:31:10.776789Z",
     "iopub.status.busy": "2022-04-19T20:31:10.776427Z",
     "iopub.status.idle": "2022-04-19T20:31:10.785454Z",
     "shell.execute_reply": "2022-04-19T20:31:10.784168Z",
     "shell.execute_reply.started": "2022-04-19T20:31:10.776750Z"
    },
    "tags": []
   },
   "outputs": [
    {
     "data": {
      "text/plain": [
       "\u001b[0mfoo\u001b[0m\u001b[0;34m:\u001b[0m \u001b[0mint\u001b[0m\u001b[0;34m\u001b[0m\n",
       "\u001b[0;34m\u001b[0m\u001b[0;34m\u001b[0m\n",
       "\u001b[0;34m\u001b[0m\u001b[0mprint\u001b[0m\u001b[0;34m(\u001b[0m\u001b[0;34mf\"Hello from B! foo={foo}\"\u001b[0m\u001b[0;34m)\u001b[0m\u001b[0;34m\u001b[0m\u001b[0;34m\u001b[0m\u001b[0m\n"
      ]
     },
     "metadata": {},
     "output_type": "display_data"
    }
   ],
   "source": [
    "%less module_b.py"
   ]
  },
  {
   "cell_type": "code",
   "execution_count": 28,
   "metadata": {
    "execution": {
     "iopub.execute_input": "2022-04-19T20:31:11.391605Z",
     "iopub.status.busy": "2022-04-19T20:31:11.391237Z",
     "iopub.status.idle": "2022-04-19T20:31:11.407985Z",
     "shell.execute_reply": "2022-04-19T20:31:11.406416Z",
     "shell.execute_reply.started": "2022-04-19T20:31:11.391564Z"
    },
    "tags": []
   },
   "outputs": [
    {
     "name": "stderr",
     "output_type": "stream",
     "text": [
      "\u001b[1;320mINFO\u001b[1;30m: \u001b[0m\u001b[1;36muse.pimp\u001b[1;30m: \u001b[0mPath.cwd()=PosixPath('/media/sf_Dropbox/code/justuse/docs') package_name='' module_name='module_a' module_path=PosixPath('/media/sf_Dropbox/code/justuse/docs/module_a.py')\n",
      "\u001b[1;320mINFO\u001b[1;30m: \u001b[0m\u001b[1;36muse.pimp\u001b[1;30m: \u001b[0mPath.cwd()=PosixPath('/media/sf_Dropbox/code/justuse/docs') package_name='' module_name='module_b' module_path=PosixPath('/media/sf_Dropbox/code/justuse/docs/module_b.py')\n"
     ]
    },
    {
     "name": "stdout",
     "output_type": "stream",
     "text": [
      "Hello from A!\n",
      "Hello from B! foo=23\n"
     ]
    }
   ],
   "source": [
    "modA = use(use.Path(\"module_a.py\"))"
   ]
  },
  {
   "cell_type": "markdown",
   "metadata": {},
   "source": [
    "## Aspects and decorators\n",
    "If you have code like\n",
    "\n",
    "```\n",
    "def foo(x):\n",
    "    return x ** 2\n",
    "```\n",
    "There are two ways to modify the behaviour of the code. Let's say you want to know which arguments were passed in and you want to print those arguments, so you can either add the print statement inside like\n",
    "```\n",
    "def foo(x):\n",
    "    print(x)\n",
    "    return x ** 2\n",
    "```\n",
    "or you can wrap the function with another function which gets called instead like\n",
    "\n",
    "```\n",
    "def decorator(x):\n",
    "    print(x)\n",
    "    return foo(x)\n",
    "```\n",
    "which you can also write as a function that takes a function as argument - a \"higher order function\" if you will - like\n",
    "```\n",
    "def decorator(func):\n",
    "   def wrapper(*args, **kwargs):\n",
    "       print(*args, **kwargs)\n",
    "       return func(*args, **kwargs)\n",
    "   return wrapper\n",
    "foo = wrap(foo)\n",
    "foo(x)\n",
    "```\n",
    "which looks a bit convoluted, so there is some syntactic sugar in python to make it look nicer:\n",
    "```\n",
    "@decorator\n",
    "def foo(x):\n",
    "    return x ** 2\n",
    "```"
   ]
  },
  {
   "cell_type": "markdown",
   "metadata": {},
   "source": [
    "There is nothing wrong with this approach, it's a plain and simple decorator, obvious reading the code. The only big problem is that single decorator is nice and simple but adding more quickly gets messy and complicated, not just because it gets hard to read and reason about but also because writing correct decorators is not as plain and simple as it may look like. For example, the *decorator* function above is bad because it will shadow the signature and docstring of the function it is wrapping. The second big problem is that it is quite messy to add decorators manually to code with lots of functions or methods. It can be not only a lot to write but also add visual noise, making it harder to read code (the opposite of what it was supposed to do!) while making it harder to keep [DRY](https://en.wikipedia.org/wiki/Don%27t_repeat_yourself). The third big problem, no wait, amongst the chief problems of manually adding decorators is that it can be quite painful or impossible to deal with callables (functions, methods but also classes can be callable!) that originate in code you can't control, for example code that isn't even written in python but in C (like numpy)."
   ]
  },
  {
   "cell_type": "markdown",
   "metadata": {},
   "source": [
    "Our solution: use() adds functionality to the modules you request and gives you an easy way to decorate *everything* in a single line."
   ]
  },
  {
   "cell_type": "code",
   "execution_count": 29,
   "metadata": {
    "execution": {
     "iopub.execute_input": "2022-04-19T20:31:16.432872Z",
     "iopub.status.busy": "2022-04-19T20:31:16.432344Z",
     "iopub.status.idle": "2022-04-19T20:31:16.439076Z",
     "shell.execute_reply": "2022-04-19T20:31:16.437645Z",
     "shell.execute_reply.started": "2022-04-19T20:31:16.432815Z"
    },
    "tags": []
   },
   "outputs": [],
   "source": [
    "import numpy"
   ]
  },
  {
   "cell_type": "markdown",
   "metadata": {},
   "source": [
    "Justuse comes with two decorators `use.woody_logger` and `use.tinny_profiler` which you can use but it also works for decorators like `beartype`."
   ]
  },
  {
   "cell_type": "code",
   "execution_count": 30,
   "metadata": {
    "execution": {
     "iopub.execute_input": "2022-04-19T20:31:18.138589Z",
     "iopub.status.busy": "2022-04-19T20:31:18.138198Z",
     "iopub.status.idle": "2022-04-19T20:31:18.574652Z",
     "shell.execute_reply": "2022-04-19T20:31:18.573498Z",
     "shell.execute_reply.started": "2022-04-19T20:31:18.138553Z"
    },
    "tags": []
   },
   "outputs": [
    {
     "name": "stdout",
     "output_type": "stream",
     "text": [
      "Please check your browser to select options and filters for aspects.\n"
     ]
    }
   ],
   "source": [
    "numpy @  use"
   ]
  },
  {
   "cell_type": "markdown",
   "metadata": {
    "execution": {
     "iopub.execute_input": "2021-11-26T15:28:48.065021Z",
     "iopub.status.busy": "2021-11-26T15:28:48.064485Z",
     "iopub.status.idle": "2021-11-26T15:28:48.074691Z",
     "shell.execute_reply": "2021-11-26T15:28:48.072916Z",
     "shell.execute_reply.started": "2021-11-26T15:28:48.064974Z"
    }
   },
   "source": [
    "After waiting until the page is fully loaded (which can take a while..) we now can see all the thousands of callables inside numpy that we could apply our decorator with. This also allows us to play with different filters to make sure we only hit what we want. Now let's see what happens when we actually apply this decorator to all those callables."
   ]
  },
  {
   "cell_type": "code",
   "execution_count": 31,
   "metadata": {
    "execution": {
     "iopub.execute_input": "2022-04-19T20:31:29.350706Z",
     "iopub.status.busy": "2022-04-19T20:31:29.350337Z",
     "iopub.status.idle": "2022-04-19T20:31:29.526291Z",
     "shell.execute_reply": "2022-04-19T20:31:29.525128Z",
     "shell.execute_reply.started": "2022-04-19T20:31:29.350664Z"
    },
    "tags": []
   },
   "outputs": [],
   "source": [
    "use.apply_aspect(numpy, use.woody_logger)"
   ]
  },
  {
   "cell_type": "markdown",
   "metadata": {},
   "source": [
    "We wrapped *all* functions in the numpy package with a decorator that lets us directly observe what happens when we call something without the need for an external debugger!"
   ]
  },
  {
   "cell_type": "code",
   "execution_count": 34,
   "metadata": {
    "execution": {
     "iopub.execute_input": "2022-04-19T20:33:10.319606Z",
     "iopub.status.busy": "2022-04-19T20:33:10.318943Z",
     "iopub.status.idle": "2022-04-19T20:33:10.340644Z",
     "shell.execute_reply": "2022-04-19T20:33:10.339856Z",
     "shell.execute_reply.started": "2022-04-19T20:33:10.319555Z"
    },
    "tags": []
   },
   "outputs": [
    {
     "name": "stdout",
     "output_type": "stream",
     "text": [
      "((3, 3),) {} -> numpy::zeros\n",
      "(0.0,) {} -> numpy::isfinite\n",
      "-> numpy::isfinite (in 17901 ns (2e-05 sec) -> True <class 'numpy.bool_'>\n",
      "(0.0,) {} -> numpy::isfinite\n",
      "-> numpy::isfinite (in 14276 ns (1e-05 sec) -> True <class 'numpy.bool_'>\n",
      "(0.0,) {} -> numpy::isfinite\n",
      "-> numpy::isfinite (in 14157 ns (1e-05 sec) -> True <class 'numpy.bool_'>\n",
      "(0.0,) {} -> numpy::isfinite\n",
      "-> numpy::isfinite (in 14488 ns (1e-05 sec) -> True <class 'numpy.bool_'>\n",
      "(0.0,) {} -> numpy::isfinite\n",
      "-> numpy::isfinite (in 13604 ns (1e-05 sec) -> True <class 'numpy.bool_'>\n",
      "(0.0,) {} -> numpy::isfinite\n",
      "-> numpy::isfinite (in 14602 ns (1e-05 sec) -> True <class 'numpy.bool_'>\n",
      "(0.0,) {} -> numpy::isfinite\n",
      "-> numpy::isfinite (in 21241 ns (2e-05 sec) -> True <class 'numpy.bool_'>\n",
      "(0.0,) {} -> numpy::isfinite\n",
      "-> numpy::isfinite (in 18995 ns (2e-05 sec) -> True <class 'numpy.bool_'>\n",
      "(0.0,) {} -> numpy::isfinite\n",
      "-> numpy::isfinite (in 12165 ns (1e-05 sec) -> True <class 'numpy.bool_'>\n",
      "-> numpy::zeros (in 8238 ns (1e-05 sec) -> [[0. 0. 0.]\n",
      " [0. 0. 0.]\n",
      " [0. 0. 0.]] <class 'numpy.ndarray'>\n",
      "(0.0,) {} -> numpy::isfinite\n",
      "-> numpy::isfinite (in 12119 ns (1e-05 sec) -> True <class 'numpy.bool_'>\n",
      "(0.0,) {} -> numpy::isfinite\n",
      "-> numpy::isfinite (in 12556 ns (1e-05 sec) -> True <class 'numpy.bool_'>\n",
      "(0.0,) {} -> numpy::isfinite\n",
      "-> numpy::isfinite (in 10597 ns (1e-05 sec) -> True <class 'numpy.bool_'>\n",
      "(0.0,) {} -> numpy::isfinite\n",
      "-> numpy::isfinite (in 10533 ns (1e-05 sec) -> True <class 'numpy.bool_'>\n",
      "(0.0,) {} -> numpy::isfinite\n",
      "-> numpy::isfinite (in 10200 ns (1e-05 sec) -> True <class 'numpy.bool_'>\n",
      "(0.0,) {} -> numpy::isfinite\n",
      "-> numpy::isfinite (in 10335 ns (1e-05 sec) -> True <class 'numpy.bool_'>\n",
      "(0.0,) {} -> numpy::isfinite\n",
      "-> numpy::isfinite (in 24559 ns (2e-05 sec) -> True <class 'numpy.bool_'>\n",
      "(0.0,) {} -> numpy::isfinite\n",
      "-> numpy::isfinite (in 12838 ns (1e-05 sec) -> True <class 'numpy.bool_'>\n",
      "(0.0,) {} -> numpy::isfinite\n",
      "-> numpy::isfinite (in 11179 ns (1e-05 sec) -> True <class 'numpy.bool_'>\n"
     ]
    },
    {
     "data": {
      "text/plain": [
       "array([[0., 0., 0.],\n",
       "       [0., 0., 0.],\n",
       "       [0., 0., 0.]])"
      ]
     },
     "execution_count": 34,
     "metadata": {},
     "output_type": "execute_result"
    }
   ],
   "source": [
    "np.zeros((3,3))"
   ]
  },
  {
   "cell_type": "markdown",
   "metadata": {},
   "source": [
    "This looks a bit weird in jupyter, but if run from a module or interactive interpreter, this should work as expected."
   ]
  },
  {
   "cell_type": "markdown",
   "metadata": {},
   "source": [
    "If you aren't in a situation where you need to debug, log or control access (the classical applications of AOP) you might still want to use it in python - for type-checking/testing!\n",
    "For example you can apply our favorite dynamic type checker library beartype quite easily like so:"
   ]
  },
  {
   "cell_type": "code",
   "execution_count": 35,
   "metadata": {
    "execution": {
     "iopub.execute_input": "2022-04-19T20:34:01.703652Z",
     "iopub.status.busy": "2022-04-19T20:34:01.702628Z",
     "iopub.status.idle": "2022-04-19T20:34:01.724646Z",
     "shell.execute_reply": "2022-04-19T20:34:01.723760Z",
     "shell.execute_reply.started": "2022-04-19T20:34:01.703621Z"
    },
    "tags": []
   },
   "outputs": [
    {
     "name": "stdout",
     "output_type": "stream",
     "text": [
      "() {} -> numpy::__dir__\n",
      "-> numpy::__dir__ (in 112171 ns (0.00011 sec) -> ['nancumprod', 'ERR_PRINT', 'asscalar', 'atleast_3d', 'unsignedinteger', 'FPE_INVALID', 'complex128', 'inexact', 'fromfile', 'rad2deg', 'arctan', 'mean', 'ulonglong', 'fliplr', 'intc', 'trace', 'Uint64', '__package__', 'vdot', 'common_type', 'indices', 'dot', 'fromregex', 'ceil', 'tile', 'os', '__NUMPY_SETUP__', 'polyval', 'bitwise_not', 'isfortran', 'putmask', 'math', 'ptp', 'polydiv', 'deprecate_with_doc', 'NaN', 'rollaxis', 'get_include', '__builtins__', 'isposinf', 'csingle', 'column_stack', 'unique', 'result_type', 'kernel_version', 'nanstd', 'var', 'isin', 'einsum_path', 'arcsin', 'savez_compressed', 'ERR_RAISE', 'nanvar', 'DataSource', 'asfarray', 'pad', '__getattr__', 'trunc', 'half', 'fastCopyAndTranspose', 'gradient', 'add_newdoc_ufunc', 'ravel_multi_index', 'int64', 'nanmedian', 'datetime_data', 'FPE_OVERFLOW', 'mafromtxt', 'heaviside', 'nbytes', 'polymul', 'ndindex', 'place', 'digitize', 'MAXDIMS', 'histogram_bin_edges', 'copy', 'get_array_wrap', 'imag', 'savetxt', 'mat', 'logspace', 'frombuffer', 'NINF', 'greater_equal', 'fabs', '__all__', 'divmod', 'meshgrid', 'multiply', 'prod', 'zeros', 'float16', 'outer', 'logical_or', 'busday_count', 'cosh', 'around', 'sign', 'put', 'asmatrix', 'ctypeslib', 'compress', 'asarray', 'diff', 'kaiser', 'fmin', 'array2string', '__loader__', 'tanh', 'load', 'rot90', 'complex256', 'vectorize', 'conjugate', 'sctype2char', 'cos', 'euler_gamma', 'stack', 'RankWarning', 'typecodes', 'hypot', 'sin', 'finfo', '_add_newdoc_ufunc', 'ERR_DEFAULT', 'str0', 'object_', 'setdiff1d', 'triu_indices', 'str_', 'ModuleDeprecationWarning', '_UFUNC_API', 'extract', 'cumsum', 'bool8', 'UFUNC_PYVALS_NAME', 'float64', 'longfloat', 'packbits', 'BUFSIZE', '_financial_names', 'corrcoef', 'histogram', 'where', 'fill_diagonal', 'bytes_', 'character', 'isreal', 'expm1', 'divide', 'uint64', 'issubsctype', 'ndim', 'FPE_UNDERFLOW', 'hstack', 'row_stack', 'sqrt', 'bartlett', 'kron', 'alltrue', 'absolute', 'equal', 'real', 'Bytes0', '__config__', 'signbit', 'broadcast', 'array_equal', 'byte', 'memmap', 'Datetime64', 'r_', 'source', 'logaddexp2', 'hsplit', 'isfinite', 'PINF', 'arange', 'recfromtxt', 'logaddexp', 'asfortranarray', 'isscalar', 'insert', 'UFUNC_BUFSIZE_DEFAULT', 'broadcast_shapes', 'alen', 'setxor1d', 'WRAP', 'exp', 'little_endian', 'recarray', 'diag_indices_from', '__cached__', 'zeros_like', 'append', 'compare_chararrays', 'ERR_WARN', 'int8', 'take_along_axis', 'save', '_version', 'RAISE', 'longdouble', 'bytes0', 'eye', 'cov', 'frompyfunc', 'tri', 'busday_offset', 'trim_zeros', 'polynomial', 'TooHardError', 'promote_types', 'positive', 'negative', 'matmul', 'sort_complex', 'repeat', 'frexp', 'setbufsize', 'copysign', 'core', 'int32', 'remainder', 'seterrobj', 'nanmin', 'datetime64', 'iscomplexobj', 'atleast_1d', 'ComplexWarning', 'swapaxes', 'mgrid', 'disp', 'hamming', 'percentile', 'partition', 'chararray', 'unravel_index', 'show_config', 'argsort', '__name__', 'e', 'diag', 'select', 'Tester', 'copyto', 'split', 'lookfor', 'complex64', 'int16', 'tensordot', 'flatnonzero', 'testing', 'all', 'conj', 'maximum_sctype', 'numarray', 'cumproduct', 'triu', '__doc__', 'seterr', 'PZERO', '__file__', 'intp', 'nextafter', 'vander', 'histogramdd', 'arctanh', 'uintp', 'complexfloating', 'byte_bounds', 'nanargmin', '__path__', 'vsplit', 'uint0', 'SHIFT_INVALID', 'record', 'random', 'ravel', 'gcd', 'subtract', 'identity', 'sum', 'format_float_positional', 'ones_like', 'int_', 'ERR_IGNORE', 'busdaycalendar', 'deprecate', 'number', 'moveaxis', 'fmod', 'in1d', 'string_', 'logical_xor', 'floor_divide', 'sinc', 'integer', 'tril_indices', 'Inf', 'tan', 'uint8', 'set_printoptions', 'resize', 'False_', 'quantile', 'MachAr', 'floor', 'polysub', 'less_equal', 'degrees', 'greater', 'fromstring', 'set_string_function', 'bitwise_and', 'unicode_', '__spec__', 'isclose', 'mod', 'shape', 'float_power', 'iinfo', 'put_along_axis', 'intersect1d', 'nan', 'tril_indices_from', 'ScalarType', 'i0', 'asanyarray', 'dsplit', 'matrix', 'array_equiv', 'get_printoptions', 'typename', 'fft', 'arctan2', 'geterrcall', 'may_share_memory', 'abs', 'set_numeric_ops', 'hanning', 'amin', 'ldexp', 'complex_', 'argwhere', 'allclose', 'min', 'nancumsum', 'single', 'object0', 'log10', 'dstack', 'warnings', 'cdouble', 'take', 'NZERO', 'nan_to_num', 'seterrcall', 'log2', 'safe_eval', 'issubclass_', 'SHIFT_DIVIDEBYZERO', 'nested_iters', 'polyfit', 'triu_indices_from', 'average', 'VisibleDeprecationWarning', 'broadcast_arrays', 'poly', 'array_repr', '__dir__', 'count_nonzero', 'transpose', 'argmin', 'ascontiguousarray', 'bool_', 'rint', 'sys', 'binary_repr', 'bitwise_or', 'oldnumeric', '__mkl_version__', 'spacing', 'deg2rad', 'isneginf', 'newaxis', 'cbrt', 'cast', 'angle', 'argpartition', 'bitwise_xor', 'ERR_CALL', 'timedelta64', 'issctype', 'apply_over_axes', 'ndfromtxt', 'logical_not', 'void0', 'right_shift', 'diagflat', 'cross', 'version', 'datetime_as_string', 'singlecomplex', 'trapz', 'cumprod', 'nonzero', 'issubdtype', 'array', 'ERR_LOG', 'piecewise', 'sinh', 'inner', 'any', 'unwrap', 'add_docstring', 'nanprod', 'void', 'empty', 'array_split', 'Infinity', 'sctypes', 'power', 'nditer', 'clongfloat', 'ALLOW_THREADS', 'histogram2d', 'product', 'True_', 'block', 'max', 'linalg', 'compat', 'cfloat', 'bmat', 'longlong', 'arcsinh', 'index_exp', 'Str0', 'reshape', 'c_', '_NoValue', 'blackman', 'floating', 'ediff1d', 'CLIP', 'flexible', 'radians', 'iterable', 'invert', 'uint32', 'polyint', 'MAY_SHARE_EXACT', 'choose', 'reciprocal', 'tracemalloc_domain', 'FPE_DIVIDEBYZERO', 'polyder', 'fromfunction', 'iscomplex', 'char', 'float32', 'poly1d', 'log1p', 'generic', 'square', 'searchsorted', '__version__', 'sort', 'full', 'logical_and', 'lcm', 'longcomplex', '__deprecated_attrs__', 'ushort', 'arccos', 'nanpercentile', 'less', 'printoptions', 'use_hugepage', 'mask_indices', 'atleast_2d', 'who', '__expired_functions__', 'ubyte', 'maximum', 'linspace', '_mat', 'dtype', 'flipud', 'minimum', 'ix_', 'isrealobj', 'inf', 'ndarray', 'nanquantile', 'format_parser', 'savez', 'clip', 'add', 'SHIFT_OVERFLOW', 'empty_like', 'lexsort', 'pi', 'base_repr', 'mintypecode', 'nanargmax', 'info', 'double', 'flip', 'std', 'uint16', 'median', 'short', 'nanmax', 'FLOATING_POINT_SUPPORT', 'concatenate', 'is_busday', 'errstate', 'uint', 'exp2', 'find_common_type', 'genfromtxt', 'not_equal', 'float128', 'expand_dims', 'left_shift', 'fix', 'recfromcsv', 'getbufsize', 'format_float_scientific', 'infty', 'nansum', 'roots', 'isnan', 'roll', 'ndenumerate', '_distributor_init', 'broadcast_to', 'test', 'vstack', 'bincount', 'matrixlib', '__git_version__', 'array_str', 'MAY_SHARE_BOUNDS', 'delete', 'ogrid', 'einsum', 'apply_along_axis', '_globals', 'nanmean', 'correlate', 'tril', 'arccosh', 'clongdouble', 'loads', 'true_divide', 'shares_memory', 'signedinteger', 'unpackbits', 'require', 'uintc', 'fromiter', 'log', 'ma', 'lib', 'fmax', 'real_if_close', 'union1d', 'isinf', 'sometrue', 'geterr', 'amax', 'ufunc', 'isnat', 'ones', 'argmax', 'size', 'NAN', 'round_', 'geomspace', 'asarray_chkfinite', 'round', 'sctypeDict', 'loadtxt', 'msort', 'diag_indices', 'float_', 'geterrobj', 'convolve', 'mkl', '_pytesttester', 'full_like', 'flatiter', 'obj2sctype', 's_', 'can_cast', 'add_newdoc', 'AxisError', 'int0', 'min_scalar_type', 'diagonal', 'polyadd', 'rec', 'modf', 'SHIFT_UNDERFLOW', 'squeeze', 'interp', 'emath'] <class 'list'>\n"
     ]
    }
   ],
   "source": [
    "from beartype import beartype\n",
    "\n",
    "use.apply_aspect(numpy, beartype)"
   ]
  },
  {
   "cell_type": "markdown",
   "metadata": {
    "execution": {
     "iopub.execute_input": "2021-11-26T15:35:16.483099Z",
     "iopub.status.busy": "2021-11-26T15:35:16.482573Z",
     "iopub.status.idle": "2021-11-26T15:35:16.507905Z",
     "shell.execute_reply": "2021-11-26T15:35:16.505878Z",
     "shell.execute_reply.started": "2021-11-26T15:35:16.483062Z"
    }
   },
   "source": [
    "Now all functions in numpy are beartype-checked! You don't even need to use() your modules, just import and `use.apply_aspect(mod, decorator)`!"
   ]
  },
  {
   "cell_type": "markdown",
   "metadata": {
    "execution": {
     "iopub.execute_input": "2021-11-26T15:32:34.252907Z",
     "iopub.status.busy": "2021-11-26T15:32:34.252454Z",
     "iopub.status.idle": "2021-11-26T15:32:34.270157Z",
     "shell.execute_reply": "2021-11-26T15:32:34.266549Z",
     "shell.execute_reply.started": "2021-11-26T15:32:34.252870Z"
    }
   },
   "source": [
    "If you want to learn more about aspect-oriented programming, check out https://en.wikipedia.org/wiki/Aspect-oriented_programming "
   ]
  }
 ],
 "metadata": {
  "kernelspec": {
   "display_name": "Python 3 (ipykernel)",
   "language": "python",
   "name": "python3"
  },
  "language_info": {
   "codemirror_mode": {
    "name": "ipython",
    "version": 3
   },
   "file_extension": ".py",
   "mimetype": "text/x-python",
   "name": "python",
   "nbconvert_exporter": "python",
   "pygments_lexer": "ipython3",
   "version": "3.8.5"
  }
 },
 "nbformat": 4,
 "nbformat_minor": 4
}
