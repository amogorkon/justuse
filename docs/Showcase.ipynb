{
 "cells": [
  {
   "cell_type": "markdown",
   "metadata": {},
   "source": [
    "# Welcome to Justuse!"
   ]
  },
  {
   "cell_type": "markdown",
   "metadata": {},
   "source": [
    "## Installation\n",
    "Before we start, let's get the latest version"
   ]
  },
  {
   "cell_type": "code",
   "execution_count": 2,
   "metadata": {
    "tags": []
   },
   "outputs": [
    {
     "name": "stdout",
     "output_type": "stream",
     "text": [
      "Collecting justuse\n",
      "  Downloading justuse-0.7.4.tar.gz (162 kB)\n",
      "Requirement already satisfied: beartype>=0.8.1 in /home/thorsten/.local/lib/python3.9/site-packages (from justuse) (0.9.1)\n",
      "Requirement already satisfied: furl>=2.1.2 in /home/thorsten/.local/lib/python3.9/site-packages (from justuse) (2.1.3)\n",
      "Requirement already satisfied: icontract>=2.5.4 in /home/thorsten/.local/lib/python3.9/site-packages (from justuse) (2.6.1)\n",
      "Requirement already satisfied: jinja2 in /home/thorsten/.local/lib/python3.9/site-packages (from justuse) (2.11.3)\n",
      "Collecting packaging==21.0\n",
      "  Using cached packaging-21.0-py3-none-any.whl (40 kB)\n",
      "Requirement already satisfied: pip in /usr/lib/python3/dist-packages (from justuse) (20.3.4)\n",
      "Requirement already satisfied: pydantic>=1.8.2 in /home/thorsten/.local/lib/python3.9/site-packages (from justuse) (1.9.0)\n",
      "Requirement already satisfied: requests in /usr/lib/python3/dist-packages (from justuse) (2.25.1)\n",
      "Requirement already satisfied: toml in /home/thorsten/.local/lib/python3.9/site-packages (from justuse) (0.10.2)\n",
      "Requirement already satisfied: wheel in /usr/lib/python3/dist-packages (from justuse) (0.34.2)\n",
      "Requirement already satisfied: pyparsing>=2.0.2 in /home/thorsten/.local/lib/python3.9/site-packages (from packaging==21.0->justuse) (2.4.7)\n",
      "Requirement already satisfied: orderedmultidict>=1.0.1 in /home/thorsten/.local/lib/python3.9/site-packages (from furl>=2.1.2->justuse) (1.0.1)\n",
      "Requirement already satisfied: six>=1.8.0 in /usr/lib/python3/dist-packages (from furl>=2.1.2->justuse) (1.15.0)\n",
      "Requirement already satisfied: asttokens<3,>=2 in /home/thorsten/.local/lib/python3.9/site-packages (from icontract>=2.5.4->justuse) (2.0.5)\n",
      "Requirement already satisfied: typing-extensions in /home/thorsten/.local/lib/python3.9/site-packages (from icontract>=2.5.4->justuse) (4.1.1)\n",
      "Requirement already satisfied: MarkupSafe>=0.23 in /home/thorsten/.local/lib/python3.9/site-packages (from jinja2->justuse) (1.1.1)\n",
      "Building wheels for collected packages: justuse\n",
      "  Building wheel for justuse (setup.py): started\n",
      "  Building wheel for justuse (setup.py): finished with status 'done'\n",
      "  Created wheel for justuse: filename=justuse-0.7.4-py3-none-any.whl size=144951 sha256=138c673b2c983aa3afd5dfcba7b45d37b5fe5fd467eb1744ace51b51fb564dfc\n",
      "  Stored in directory: /home/thorsten/.cache/pip/wheels/d9/10/67/7436a55293bc60b77572182cee39d3a9d4dc9689ef6ac4fbd0\n",
      "Successfully built justuse\n",
      "Installing collected packages: packaging, justuse\n",
      "  Attempting uninstall: packaging\n",
      "    Found existing installation: packaging 20.9\n",
      "    Uninstalling packaging-20.9:\n",
      "      Successfully uninstalled packaging-20.9\n",
      "Successfully installed justuse-0.7.4 packaging-21.0\n"
     ]
    }
   ],
   "source": [
    "%%bash\n",
    "python3 -m pip install justuse"
   ]
  },
  {
   "cell_type": "code",
   "execution_count": 3,
   "metadata": {
    "tags": []
   },
   "outputs": [
    {
     "name": "stderr",
     "output_type": "stream",
     "text": [
      "\u001b[1;310mDEBUG\u001b[1;30m: \u001b[0m\u001b[1;36murllib3.connectionpool\u001b[1;30m: \u001b[0mStarting new HTTPS connection (1): pypi.org:443\n",
      "\u001b[1;310mDEBUG\u001b[1;30m: \u001b[0m\u001b[1;36murllib3.connectionpool\u001b[1;30m: \u001b[0mhttps://pypi.org:443 \"GET /pypi/justuse/json HTTP/1.1\" 200 11098\n"
     ]
    }
   ],
   "source": [
    "import use"
   ]
  },
  {
   "cell_type": "code",
   "execution_count": 4,
   "metadata": {
    "tags": []
   },
   "outputs": [
    {
     "data": {
      "text/plain": [
       "'0.7.4'"
      ]
     },
     "execution_count": 4,
     "metadata": {},
     "output_type": "execute_result"
    }
   ],
   "source": [
    "use.__version__"
   ]
  },
  {
   "cell_type": "markdown",
   "metadata": {
    "execution": {
     "iopub.execute_input": "2021-11-22T22:33:53.303316Z",
     "iopub.status.busy": "2021-11-22T22:33:53.302686Z",
     "iopub.status.idle": "2021-11-22T22:33:53.308157Z",
     "shell.execute_reply": "2021-11-22T22:33:53.306483Z",
     "shell.execute_reply.started": "2021-11-22T22:33:53.303275Z"
    }
   },
   "source": [
    "## Basic Usage"
   ]
  },
  {
   "cell_type": "markdown",
   "metadata": {},
   "source": [
    "Let's start with a simple case"
   ]
  },
  {
   "cell_type": "code",
   "execution_count": 5,
   "metadata": {
    "tags": []
   },
   "outputs": [
    {
     "name": "stderr",
     "output_type": "stream",
     "text": [
      "\u001b[1;320mINFO\u001b[1;30m: \u001b[0m\u001b[1;36muse.main\u001b[1;30m: \u001b[0mcase = (False, False, True, False)\n",
      "\u001b[1;320mINFO\u001b[1;30m: \u001b[0m\u001b[1;36muse.buffet_old\u001b[1;30m: \u001b[0mresult = <module 'math' (built-in)>\n"
     ]
    },
    {
     "data": {
      "text/plain": [
       "-0.5328330203333975"
      ]
     },
     "execution_count": 5,
     "metadata": {},
     "output_type": "execute_result"
    }
   ],
   "source": [
    "use(\"math\").cos(23)"
   ]
  },
  {
   "cell_type": "markdown",
   "metadata": {},
   "source": [
    "Here we loaded math but without adding it to the global namespace, so if you only need one thing from a module or package, you don't have to pollute your namespace."
   ]
  },
  {
   "cell_type": "markdown",
   "metadata": {
    "execution": {
     "iopub.execute_input": "2021-11-22T19:32:29.373810Z",
     "iopub.status.busy": "2021-11-22T19:32:29.373320Z",
     "iopub.status.idle": "2021-11-22T19:32:29.383680Z",
     "shell.execute_reply": "2021-11-22T19:32:29.382305Z",
     "shell.execute_reply.started": "2021-11-22T19:32:29.373772Z"
    }
   },
   "source": [
    "Installing something could be inconvenient or unnecessary if something else is available - or we want to include some minimal functionality in our program and only fetch additional dependencies only under certain conditions."
   ]
  },
  {
   "cell_type": "markdown",
   "metadata": {},
   "source": [
    "The common approach would be something like"
   ]
  },
  {
   "cell_type": "code",
   "execution_count": 6,
   "metadata": {
    "tags": []
   },
   "outputs": [],
   "source": [
    "try:\n",
    "    import some_big_package\n",
    "except ImportError:\n",
    "    some_big_package = None\n",
    "if some_big_package:\n",
    "    ..."
   ]
  },
  {
   "cell_type": "markdown",
   "metadata": {
    "execution": {
     "iopub.execute_input": "2021-11-22T19:57:09.320535Z",
     "iopub.status.busy": "2021-11-22T19:57:09.319761Z",
     "iopub.status.idle": "2021-11-22T19:57:09.328957Z",
     "shell.execute_reply": "2021-11-22T19:57:09.327576Z",
     "shell.execute_reply.started": "2021-11-22T19:57:09.320488Z"
    }
   },
   "source": [
    "which is unnecessarily cumbersome - couldn't we simply have a default like in so many other functions that is returned instead of raising an exception? Of course we can!"
   ]
  },
  {
   "cell_type": "markdown",
   "metadata": {},
   "source": [
    "Here's a metaphor from *The Matrix*:\n",
    "[![Matrix - Skill Upload](https://img.youtube.com/vi/w_8NsPQBdV0/0.jpg)](https://www.youtube.com/watch?v=w_8NsPQBdV0)\n",
    "\n",
    "Imagine you want to streamline the user experience by distributing a very minimal, \"free\" but fully functional software to your end users which installs within seconds. Now, whenever the user wants to use a premium feature (or simply a feature that isn't generally required by the majority of users, therefor not included in the basic installation) the program could use() the packages and modules needed to realise the feature to download and install in the background while the user can still use other stuff, then trigger a callback when use() is done loading. The experience would be similar to playing an open world game which seamlessly downloads and loads new areas in the background on demand, without hiccup or loading screens. Or like Neo and Trinity - just get the skills to pilot a helicopter when you need them, right there on the spot. "
   ]
  },
  {
   "cell_type": "code",
   "execution_count": 7,
   "metadata": {
    "tags": []
   },
   "outputs": [
    {
     "name": "stderr",
     "output_type": "stream",
     "text": [
      "\u001b[1;320mINFO\u001b[1;30m: \u001b[0m\u001b[1;36muse.main\u001b[1;30m: \u001b[0mcase = (False, False, False, False)\n",
      "\u001b[1;320mINFO\u001b[1;30m: \u001b[0m\u001b[1;36muse.buffet_old\u001b[1;30m: \u001b[0mresult = ImportError('No pkg installed named some_big_package and auto-installation not requested. Aborting.')\n"
     ]
    },
    {
     "name": "stdout",
     "output_type": "stream",
     "text": [
      "I'm going to learn Ju-Jutsu?\n"
     ]
    }
   ],
   "source": [
    "pkg = use(\"some_big_package\", default=None)\n",
    "if not pkg:\n",
    "    print(\"I'm going to learn Ju-Jutsu?\")"
   ]
  },
  {
   "cell_type": "markdown",
   "metadata": {
    "execution": {
     "iopub.execute_input": "2021-11-22T19:58:53.761253Z",
     "iopub.status.busy": "2021-11-22T19:58:53.760790Z",
     "iopub.status.idle": "2021-11-22T19:58:53.768580Z",
     "shell.execute_reply": "2021-11-22T19:58:53.767072Z",
     "shell.execute_reply.started": "2021-11-22T19:58:53.761215Z"
    }
   },
   "source": [
    "Even more concise (python >3.9):"
   ]
  },
  {
   "cell_type": "code",
   "execution_count": 8,
   "metadata": {
    "tags": []
   },
   "outputs": [
    {
     "name": "stderr",
     "output_type": "stream",
     "text": [
      "\u001b[1;320mINFO\u001b[1;30m: \u001b[0m\u001b[1;36muse.main\u001b[1;30m: \u001b[0mcase = (False, False, True, False)\n",
      "\u001b[1;320mINFO\u001b[1;30m: \u001b[0m\u001b[1;36muse.buffet_old\u001b[1;30m: \u001b[0mresult = <module 'pytest' from '/home/thorsten/.local/lib/python3.9/site-packages/pytest/__init__.py'>\n"
     ]
    },
    {
     "name": "stdout",
     "output_type": "stream",
     "text": [
      "I know Kung Fu!\n"
     ]
    }
   ],
   "source": [
    "if (pkg := use(\"pytest\", default=None)):\n",
    "    print(\"I know Kung Fu!\")"
   ]
  },
  {
   "cell_type": "markdown",
   "metadata": {},
   "source": [
    "It is also possible to lazily chain use() calls with defaults like\n",
    "\n",
    "> math = use(\"numpy\", default=None) or use(\"math\")\n",
    "\n",
    "which will evaluate from left to right and return whichever call returns something truthy (like a viable module) first."
   ]
  },
  {
   "cell_type": "markdown",
   "metadata": {},
   "source": [
    "One of the most practical use()s is making sure we imported the expected version of a certain package. This is especially important in research papers, notebooks and other publications because those often don't come with a `requirements.txt` and there is no way to make sure you are actually running the published code with the same versions as the author.\n",
    "Also, if you pip-install something, it can happen that it upgrades a dependency, accidentally breaking code that requires the old version - with pip you *can't have more than one version installed*. With justuse any number of versions can be installed in parallel, without interfering with anything that was installed globally via pip, conda etc."
   ]
  },
  {
   "cell_type": "code",
   "execution_count": 9,
   "metadata": {
    "tags": []
   },
   "outputs": [
    {
     "name": "stderr",
     "output_type": "stream",
     "text": [
      "\u001b[1;320mINFO\u001b[1;30m: \u001b[0m\u001b[1;36muse.main\u001b[1;30m: \u001b[0mcase = (True, False, True, False)\n",
      "/home/thorsten/.local/lib/python3.9/site-packages/use/pimp.py:87: VersionWarning: numpy expected to be version 2022, but got 1.20.3 instead\n",
      "  warn(UserMessage.version_warning(name, version, result_version), category=VersionWarning)\n",
      "\u001b[1;320mINFO\u001b[1;30m: \u001b[0m\u001b[1;36muse.buffet_old\u001b[1;30m: \u001b[0mresult = <module 'numpy' from '/home/thorsten/.local/lib/python3.9/site-packages/numpy/__init__.py'>\n"
     ]
    }
   ],
   "source": [
    "np = use(\"numpy\", version=\"2022\")"
   ]
  },
  {
   "cell_type": "code",
   "execution_count": 10,
   "metadata": {
    "tags": []
   },
   "outputs": [
    {
     "data": {
      "text/plain": [
       "'1.20.3'"
      ]
     },
     "execution_count": 10,
     "metadata": {},
     "output_type": "execute_result"
    }
   ],
   "source": [
    "np.__version__"
   ]
  },
  {
   "cell_type": "markdown",
   "metadata": {},
   "source": [
    "Here you see that even though we got a warning about the wrong version, we still get the requested package, just giving you a heads up about a possibly problematic situation without standing in the way."
   ]
  },
  {
   "cell_type": "markdown",
   "metadata": {},
   "source": [
    "Let's try another one!"
   ]
  },
  {
   "cell_type": "code",
   "execution_count": 11,
   "metadata": {
    "tags": []
   },
   "outputs": [
    {
     "name": "stderr",
     "output_type": "stream",
     "text": [
      "\u001b[1;320mINFO\u001b[1;30m: \u001b[0m\u001b[1;36muse.main\u001b[1;30m: \u001b[0mcase = (False, False, False, False)\n",
      "\u001b[1;320mINFO\u001b[1;30m: \u001b[0m\u001b[1;36muse.buffet_old\u001b[1;30m: \u001b[0mresult = ImportError('No pkg installed named pygame and auto-installation not requested. Aborting.')\n"
     ]
    },
    {
     "ename": "ImportError",
     "evalue": "No pkg installed named pygame and auto-installation not requested. Aborting.",
     "output_type": "error",
     "traceback": [
      "\u001b[0;31m---------------------------------------------------------------------------\u001b[0m",
      "\u001b[0;31mImportError\u001b[0m                               Traceback (most recent call last)",
      "\u001b[0;32m<ipython-input-11-c529db7c826a>\u001b[0m in \u001b[0;36m<module>\u001b[0;34m\u001b[0m\n\u001b[0;32m----> 1\u001b[0;31m \u001b[0mpg\u001b[0m \u001b[0;34m=\u001b[0m \u001b[0muse\u001b[0m\u001b[0;34m(\u001b[0m\u001b[0;34m\"pygame\"\u001b[0m\u001b[0;34m)\u001b[0m\u001b[0;34m\u001b[0m\u001b[0;34m\u001b[0m\u001b[0m\n\u001b[0m",
      "\u001b[0;32m~/.local/lib/python3.9/site-packages/use/main.py\u001b[0m in \u001b[0;36m__call__\u001b[0;34m(self, *args, **kwargs)\u001b[0m\n\u001b[1;32m    128\u001b[0m     \u001b[0;32mdef\u001b[0m \u001b[0m__call__\u001b[0m\u001b[0;34m(\u001b[0m\u001b[0mself\u001b[0m\u001b[0;34m,\u001b[0m \u001b[0;34m*\u001b[0m\u001b[0margs\u001b[0m\u001b[0;34m,\u001b[0m \u001b[0;34m**\u001b[0m\u001b[0mkwargs\u001b[0m\u001b[0;34m)\u001b[0m\u001b[0;34m:\u001b[0m\u001b[0;34m\u001b[0m\u001b[0;34m\u001b[0m\u001b[0m\n\u001b[1;32m    129\u001b[0m         \u001b[0;32mwith\u001b[0m \u001b[0mself\u001b[0m\u001b[0;34m.\u001b[0m\u001b[0m__condition\u001b[0m\u001b[0;34m:\u001b[0m\u001b[0;34m\u001b[0m\u001b[0;34m\u001b[0m\u001b[0m\n\u001b[0;32m--> 130\u001b[0;31m             \u001b[0;32mreturn\u001b[0m \u001b[0mself\u001b[0m\u001b[0;34m.\u001b[0m\u001b[0m__implementation\u001b[0m\u001b[0;34m(\u001b[0m\u001b[0;34m*\u001b[0m\u001b[0margs\u001b[0m\u001b[0;34m,\u001b[0m \u001b[0;34m**\u001b[0m\u001b[0mkwargs\u001b[0m\u001b[0;34m)\u001b[0m\u001b[0;34m\u001b[0m\u001b[0;34m\u001b[0m\u001b[0m\n\u001b[0m\u001b[1;32m    131\u001b[0m \u001b[0;34m\u001b[0m\u001b[0m\n\u001b[1;32m    132\u001b[0m     \u001b[0;31m# to allow `numpy @ use` for a quick check\u001b[0m\u001b[0;34m\u001b[0m\u001b[0;34m\u001b[0m\u001b[0;34m\u001b[0m\u001b[0m\n",
      "\u001b[0;32m~/.local/lib/python3.9/site-packages/use/tools.py\u001b[0m in \u001b[0;36mwrapper\u001b[0;34m(*args, **kwargs)\u001b[0m\n\u001b[1;32m     44\u001b[0m                 \u001b[0;32mraise\u001b[0m \u001b[0mNirvanaWarning\u001b[0m\u001b[0;34m(\u001b[0m\u001b[0;34m\"No use trying to use Nothing.\"\u001b[0m\u001b[0;34m)\u001b[0m\u001b[0;34m\u001b[0m\u001b[0;34m\u001b[0m\u001b[0m\n\u001b[1;32m     45\u001b[0m             \u001b[0margs\u001b[0m \u001b[0;34m=\u001b[0m \u001b[0margs\u001b[0m \u001b[0;34m+\u001b[0m \u001b[0;34m(\u001b[0m\u001b[0;32mNone\u001b[0m\u001b[0;34m,\u001b[0m\u001b[0;34m)\u001b[0m\u001b[0;34m\u001b[0m\u001b[0;34m\u001b[0m\u001b[0m\n\u001b[0;32m---> 46\u001b[0;31m         \u001b[0;32mreturn\u001b[0m \u001b[0mdispatcher\u001b[0m\u001b[0;34m.\u001b[0m\u001b[0mdispatch\u001b[0m\u001b[0;34m(\u001b[0m\u001b[0margs\u001b[0m\u001b[0;34m[\u001b[0m\u001b[0;36m1\u001b[0m\u001b[0;34m]\u001b[0m\u001b[0;34m.\u001b[0m\u001b[0m__class__\u001b[0m\u001b[0;34m)\u001b[0m\u001b[0;34m(\u001b[0m\u001b[0;34m*\u001b[0m\u001b[0margs\u001b[0m\u001b[0;34m,\u001b[0m \u001b[0;34m**\u001b[0m\u001b[0mkwargs\u001b[0m\u001b[0;34m)\u001b[0m\u001b[0;34m\u001b[0m\u001b[0;34m\u001b[0m\u001b[0m\n\u001b[0m\u001b[1;32m     47\u001b[0m \u001b[0;34m\u001b[0m\u001b[0m\n\u001b[1;32m     48\u001b[0m     \u001b[0mwrapper\u001b[0m\u001b[0;34m.\u001b[0m\u001b[0mregister\u001b[0m \u001b[0;34m=\u001b[0m \u001b[0mdispatcher\u001b[0m\u001b[0;34m.\u001b[0m\u001b[0mregister\u001b[0m\u001b[0;34m\u001b[0m\u001b[0;34m\u001b[0m\u001b[0m\n",
      "\u001b[0;32m~/.local/lib/python3.9/site-packages/use/main.py\u001b[0m in \u001b[0;36m_use_str\u001b[0;34m(self, name, version, hash_algo, hashes, default, modes)\u001b[0m\n\u001b[1;32m    723\u001b[0m         \"\"\"\n\u001b[1;32m    724\u001b[0m         \u001b[0mpackage_name\u001b[0m\u001b[0;34m,\u001b[0m \u001b[0mmodule_name\u001b[0m \u001b[0;34m=\u001b[0m \u001b[0m_parse_name\u001b[0m\u001b[0;34m(\u001b[0m\u001b[0mname\u001b[0m\u001b[0;34m)\u001b[0m\u001b[0;34m\u001b[0m\u001b[0;34m\u001b[0m\u001b[0m\n\u001b[0;32m--> 725\u001b[0;31m         return self._use_package(\n\u001b[0m\u001b[1;32m    726\u001b[0m             \u001b[0mname\u001b[0m\u001b[0;34m=\u001b[0m\u001b[0mname\u001b[0m\u001b[0;34m,\u001b[0m\u001b[0;34m\u001b[0m\u001b[0;34m\u001b[0m\u001b[0m\n\u001b[1;32m    727\u001b[0m             \u001b[0mpackage_name\u001b[0m\u001b[0;34m=\u001b[0m\u001b[0mpackage_name\u001b[0m\u001b[0;34m,\u001b[0m\u001b[0;34m\u001b[0m\u001b[0;34m\u001b[0m\u001b[0m\n",
      "\u001b[0;32m~/.local/lib/python3.9/site-packages/icontract/_checkers.py\u001b[0m in \u001b[0;36mwrapper\u001b[0;34m(*args, **kwargs)\u001b[0m\n\u001b[1;32m    639\u001b[0m                 \u001b[0;31m# Unfortunately, this can not be done in Python 3, see\u001b[0m\u001b[0;34m\u001b[0m\u001b[0;34m\u001b[0m\u001b[0;34m\u001b[0m\u001b[0m\n\u001b[1;32m    640\u001b[0m                 \u001b[0;31m# https://stackoverflow.com/questions/44813333/how-can-i-elide-a-function-wrapper-from-the-traceback-in-python-3\u001b[0m\u001b[0;34m\u001b[0m\u001b[0;34m\u001b[0m\u001b[0;34m\u001b[0m\u001b[0m\n\u001b[0;32m--> 641\u001b[0;31m                 \u001b[0mresult\u001b[0m \u001b[0;34m=\u001b[0m \u001b[0mfunc\u001b[0m\u001b[0;34m(\u001b[0m\u001b[0;34m*\u001b[0m\u001b[0margs\u001b[0m\u001b[0;34m,\u001b[0m \u001b[0;34m**\u001b[0m\u001b[0mkwargs\u001b[0m\u001b[0;34m)\u001b[0m\u001b[0;34m\u001b[0m\u001b[0;34m\u001b[0m\u001b[0m\n\u001b[0m\u001b[1;32m    642\u001b[0m \u001b[0;34m\u001b[0m\u001b[0m\n\u001b[1;32m    643\u001b[0m                 \u001b[0;32mif\u001b[0m \u001b[0mpostconditions\u001b[0m\u001b[0;34m:\u001b[0m\u001b[0;34m\u001b[0m\u001b[0;34m\u001b[0m\u001b[0m\n",
      "\u001b[0;32m~/.local/lib/python3.9/site-packages/use/main.py\u001b[0m in \u001b[0;36m_use_package\u001b[0;34m(self, name, package_name, module_name, version, hashes, default, hash_algo, modes, Message)\u001b[0m\n\u001b[1;32m    807\u001b[0m \u001b[0;34m\u001b[0m\u001b[0m\n\u001b[1;32m    808\u001b[0m         \u001b[0;32mif\u001b[0m \u001b[0misinstance\u001b[0m\u001b[0;34m(\u001b[0m\u001b[0mresult\u001b[0m\u001b[0;34m,\u001b[0m \u001b[0mException\u001b[0m\u001b[0;34m)\u001b[0m\u001b[0;34m:\u001b[0m\u001b[0;34m\u001b[0m\u001b[0;34m\u001b[0m\u001b[0m\n\u001b[0;32m--> 809\u001b[0;31m             \u001b[0;32mreturn\u001b[0m \u001b[0m_fail_or_default\u001b[0m\u001b[0;34m(\u001b[0m\u001b[0mresult\u001b[0m\u001b[0;34m,\u001b[0m \u001b[0mdefault\u001b[0m\u001b[0;34m)\u001b[0m\u001b[0;34m\u001b[0m\u001b[0;34m\u001b[0m\u001b[0m\n\u001b[0m\u001b[1;32m    810\u001b[0m \u001b[0;34m\u001b[0m\u001b[0m\n\u001b[1;32m    811\u001b[0m         \u001b[0;32mif\u001b[0m \u001b[0misinstance\u001b[0m\u001b[0;34m(\u001b[0m\u001b[0mresult\u001b[0m\u001b[0;34m,\u001b[0m \u001b[0mModuleType\u001b[0m\u001b[0;34m)\u001b[0m\u001b[0;34m:\u001b[0m\u001b[0;34m\u001b[0m\u001b[0;34m\u001b[0m\u001b[0m\n",
      "\u001b[0;32m~/.local/lib/python3.9/site-packages/use/pimp.py\u001b[0m in \u001b[0;36m_fail_or_default\u001b[0;34m(exception, default)\u001b[0m\n\u001b[1;32m    955\u001b[0m         \u001b[0;32mreturn\u001b[0m \u001b[0mdefault\u001b[0m\u001b[0;34m\u001b[0m\u001b[0;34m\u001b[0m\u001b[0m\n\u001b[1;32m    956\u001b[0m     \u001b[0;32melse\u001b[0m\u001b[0;34m:\u001b[0m\u001b[0;34m\u001b[0m\u001b[0;34m\u001b[0m\u001b[0m\n\u001b[0;32m--> 957\u001b[0;31m         \u001b[0;32mraise\u001b[0m \u001b[0mexception\u001b[0m\u001b[0;34m\u001b[0m\u001b[0;34m\u001b[0m\u001b[0m\n\u001b[0m\u001b[1;32m    958\u001b[0m \u001b[0;34m\u001b[0m\u001b[0m\n\u001b[1;32m    959\u001b[0m \u001b[0;34m\u001b[0m\u001b[0m\n",
      "\u001b[0;31mImportError\u001b[0m: No pkg installed named pygame and auto-installation not requested. Aborting."
     ]
    }
   ],
   "source": [
    "pg = use(\"pygame\")"
   ]
  },
  {
   "cell_type": "markdown",
   "metadata": {},
   "source": [
    "Well, bummer! We want to play with pygame, let's have pygame!"
   ]
  },
  {
   "cell_type": "code",
   "execution_count": 12,
   "metadata": {
    "tags": []
   },
   "outputs": [
    {
     "name": "stderr",
     "output_type": "stream",
     "text": [
      "\u001b[1;320mINFO\u001b[1;30m: \u001b[0m\u001b[1;36muse.main\u001b[1;30m: \u001b[0mcase = (False, False, False, True)\n",
      "\u001b[1;310mDEBUG\u001b[1;30m: \u001b[0m\u001b[1;36murllib3.connectionpool\u001b[1;30m: \u001b[0mStarting new HTTPS connection (1): pypi.org:443\n",
      "\u001b[1;310mDEBUG\u001b[1;30m: \u001b[0m\u001b[1;36murllib3.connectionpool\u001b[1;30m: \u001b[0mhttps://pypi.org:443 \"GET /pypi/pygame/json HTTP/1.1\" 200 221690\n",
      "\u001b[1;310mDEBUG\u001b[1;30m: \u001b[0m\u001b[1;36mpip._internal.vcs.versioncontrol\u001b[1;30m: \u001b[0mRegistered VCS backend: bzr\n",
      "\u001b[1;310mDEBUG\u001b[1;30m: \u001b[0m\u001b[1;36mpip._internal.vcs.versioncontrol\u001b[1;30m: \u001b[0mRegistered VCS backend: git\n",
      "\u001b[1;310mDEBUG\u001b[1;30m: \u001b[0m\u001b[1;36mpip._internal.vcs.versioncontrol\u001b[1;30m: \u001b[0mRegistered VCS backend: hg\n",
      "\u001b[1;310mDEBUG\u001b[1;30m: \u001b[0m\u001b[1;36mpip._internal.vcs.versioncontrol\u001b[1;30m: \u001b[0mRegistered VCS backend: svn\n"
     ]
    },
    {
     "name": "stdout",
     "output_type": "stream",
     "text": [
      "2.1.3.dev4\n"
     ]
    },
    {
     "name": "stderr",
     "output_type": "stream",
     "text": [
      "\u001b[1;320mINFO\u001b[1;30m: \u001b[0m\u001b[1;36muse.buffet_old\u001b[1;30m: \u001b[0mresult = RuntimeWarning('Please specify version and hash for auto-installation of \\'pygame\\'.\\nA webbrowser should open to the Snyk Advisor to check whether the package is vulnerable or malicious.\\nIf you want to auto-install the latest version, try the following line to select all viable hashes:\\nuse(\"pygame\", version=\"2.1.3.dev4\", modes=use.auto_install)')\n"
     ]
    },
    {
     "ename": "RuntimeWarning",
     "evalue": "Please specify version and hash for auto-installation of 'pygame'.\nA webbrowser should open to the Snyk Advisor to check whether the package is vulnerable or malicious.\nIf you want to auto-install the latest version, try the following line to select all viable hashes:\nuse(\"pygame\", version=\"2.1.3.dev4\", modes=use.auto_install)",
     "output_type": "error",
     "traceback": [
      "\u001b[0;31m---------------------------------------------------------------------------\u001b[0m",
      "\u001b[0;31mRuntimeWarning\u001b[0m                            Traceback (most recent call last)",
      "\u001b[0;32m<ipython-input-12-7be8a0821eca>\u001b[0m in \u001b[0;36m<module>\u001b[0;34m\u001b[0m\n\u001b[0;32m----> 1\u001b[0;31m \u001b[0mpg\u001b[0m \u001b[0;34m=\u001b[0m \u001b[0muse\u001b[0m\u001b[0;34m(\u001b[0m\u001b[0;34m\"pygame\"\u001b[0m\u001b[0;34m,\u001b[0m \u001b[0mmodes\u001b[0m\u001b[0;34m=\u001b[0m\u001b[0muse\u001b[0m\u001b[0;34m.\u001b[0m\u001b[0mauto_install\u001b[0m\u001b[0;34m)\u001b[0m\u001b[0;34m\u001b[0m\u001b[0;34m\u001b[0m\u001b[0m\n\u001b[0m",
      "\u001b[0;32m~/.local/lib/python3.9/site-packages/use/main.py\u001b[0m in \u001b[0;36m__call__\u001b[0;34m(self, *args, **kwargs)\u001b[0m\n\u001b[1;32m    128\u001b[0m     \u001b[0;32mdef\u001b[0m \u001b[0m__call__\u001b[0m\u001b[0;34m(\u001b[0m\u001b[0mself\u001b[0m\u001b[0;34m,\u001b[0m \u001b[0;34m*\u001b[0m\u001b[0margs\u001b[0m\u001b[0;34m,\u001b[0m \u001b[0;34m**\u001b[0m\u001b[0mkwargs\u001b[0m\u001b[0;34m)\u001b[0m\u001b[0;34m:\u001b[0m\u001b[0;34m\u001b[0m\u001b[0;34m\u001b[0m\u001b[0m\n\u001b[1;32m    129\u001b[0m         \u001b[0;32mwith\u001b[0m \u001b[0mself\u001b[0m\u001b[0;34m.\u001b[0m\u001b[0m__condition\u001b[0m\u001b[0;34m:\u001b[0m\u001b[0;34m\u001b[0m\u001b[0;34m\u001b[0m\u001b[0m\n\u001b[0;32m--> 130\u001b[0;31m             \u001b[0;32mreturn\u001b[0m \u001b[0mself\u001b[0m\u001b[0;34m.\u001b[0m\u001b[0m__implementation\u001b[0m\u001b[0;34m(\u001b[0m\u001b[0;34m*\u001b[0m\u001b[0margs\u001b[0m\u001b[0;34m,\u001b[0m \u001b[0;34m**\u001b[0m\u001b[0mkwargs\u001b[0m\u001b[0;34m)\u001b[0m\u001b[0;34m\u001b[0m\u001b[0;34m\u001b[0m\u001b[0m\n\u001b[0m\u001b[1;32m    131\u001b[0m \u001b[0;34m\u001b[0m\u001b[0m\n\u001b[1;32m    132\u001b[0m     \u001b[0;31m# to allow `numpy @ use` for a quick check\u001b[0m\u001b[0;34m\u001b[0m\u001b[0;34m\u001b[0m\u001b[0;34m\u001b[0m\u001b[0m\n",
      "\u001b[0;32m~/.local/lib/python3.9/site-packages/use/tools.py\u001b[0m in \u001b[0;36mwrapper\u001b[0;34m(*args, **kwargs)\u001b[0m\n\u001b[1;32m     44\u001b[0m                 \u001b[0;32mraise\u001b[0m \u001b[0mNirvanaWarning\u001b[0m\u001b[0;34m(\u001b[0m\u001b[0;34m\"No use trying to use Nothing.\"\u001b[0m\u001b[0;34m)\u001b[0m\u001b[0;34m\u001b[0m\u001b[0;34m\u001b[0m\u001b[0m\n\u001b[1;32m     45\u001b[0m             \u001b[0margs\u001b[0m \u001b[0;34m=\u001b[0m \u001b[0margs\u001b[0m \u001b[0;34m+\u001b[0m \u001b[0;34m(\u001b[0m\u001b[0;32mNone\u001b[0m\u001b[0;34m,\u001b[0m\u001b[0;34m)\u001b[0m\u001b[0;34m\u001b[0m\u001b[0;34m\u001b[0m\u001b[0m\n\u001b[0;32m---> 46\u001b[0;31m         \u001b[0;32mreturn\u001b[0m \u001b[0mdispatcher\u001b[0m\u001b[0;34m.\u001b[0m\u001b[0mdispatch\u001b[0m\u001b[0;34m(\u001b[0m\u001b[0margs\u001b[0m\u001b[0;34m[\u001b[0m\u001b[0;36m1\u001b[0m\u001b[0;34m]\u001b[0m\u001b[0;34m.\u001b[0m\u001b[0m__class__\u001b[0m\u001b[0;34m)\u001b[0m\u001b[0;34m(\u001b[0m\u001b[0;34m*\u001b[0m\u001b[0margs\u001b[0m\u001b[0;34m,\u001b[0m \u001b[0;34m**\u001b[0m\u001b[0mkwargs\u001b[0m\u001b[0;34m)\u001b[0m\u001b[0;34m\u001b[0m\u001b[0;34m\u001b[0m\u001b[0m\n\u001b[0m\u001b[1;32m     47\u001b[0m \u001b[0;34m\u001b[0m\u001b[0m\n\u001b[1;32m     48\u001b[0m     \u001b[0mwrapper\u001b[0m\u001b[0;34m.\u001b[0m\u001b[0mregister\u001b[0m \u001b[0;34m=\u001b[0m \u001b[0mdispatcher\u001b[0m\u001b[0;34m.\u001b[0m\u001b[0mregister\u001b[0m\u001b[0;34m\u001b[0m\u001b[0;34m\u001b[0m\u001b[0m\n",
      "\u001b[0;32m~/.local/lib/python3.9/site-packages/use/main.py\u001b[0m in \u001b[0;36m_use_str\u001b[0;34m(self, name, version, hash_algo, hashes, default, modes)\u001b[0m\n\u001b[1;32m    723\u001b[0m         \"\"\"\n\u001b[1;32m    724\u001b[0m         \u001b[0mpackage_name\u001b[0m\u001b[0;34m,\u001b[0m \u001b[0mmodule_name\u001b[0m \u001b[0;34m=\u001b[0m \u001b[0m_parse_name\u001b[0m\u001b[0;34m(\u001b[0m\u001b[0mname\u001b[0m\u001b[0;34m)\u001b[0m\u001b[0;34m\u001b[0m\u001b[0;34m\u001b[0m\u001b[0m\n\u001b[0;32m--> 725\u001b[0;31m         return self._use_package(\n\u001b[0m\u001b[1;32m    726\u001b[0m             \u001b[0mname\u001b[0m\u001b[0;34m=\u001b[0m\u001b[0mname\u001b[0m\u001b[0;34m,\u001b[0m\u001b[0;34m\u001b[0m\u001b[0;34m\u001b[0m\u001b[0m\n\u001b[1;32m    727\u001b[0m             \u001b[0mpackage_name\u001b[0m\u001b[0;34m=\u001b[0m\u001b[0mpackage_name\u001b[0m\u001b[0;34m,\u001b[0m\u001b[0;34m\u001b[0m\u001b[0;34m\u001b[0m\u001b[0m\n",
      "\u001b[0;32m~/.local/lib/python3.9/site-packages/icontract/_checkers.py\u001b[0m in \u001b[0;36mwrapper\u001b[0;34m(*args, **kwargs)\u001b[0m\n\u001b[1;32m    639\u001b[0m                 \u001b[0;31m# Unfortunately, this can not be done in Python 3, see\u001b[0m\u001b[0;34m\u001b[0m\u001b[0;34m\u001b[0m\u001b[0;34m\u001b[0m\u001b[0m\n\u001b[1;32m    640\u001b[0m                 \u001b[0;31m# https://stackoverflow.com/questions/44813333/how-can-i-elide-a-function-wrapper-from-the-traceback-in-python-3\u001b[0m\u001b[0;34m\u001b[0m\u001b[0;34m\u001b[0m\u001b[0;34m\u001b[0m\u001b[0m\n\u001b[0;32m--> 641\u001b[0;31m                 \u001b[0mresult\u001b[0m \u001b[0;34m=\u001b[0m \u001b[0mfunc\u001b[0m\u001b[0;34m(\u001b[0m\u001b[0;34m*\u001b[0m\u001b[0margs\u001b[0m\u001b[0;34m,\u001b[0m \u001b[0;34m**\u001b[0m\u001b[0mkwargs\u001b[0m\u001b[0;34m)\u001b[0m\u001b[0;34m\u001b[0m\u001b[0;34m\u001b[0m\u001b[0m\n\u001b[0m\u001b[1;32m    642\u001b[0m \u001b[0;34m\u001b[0m\u001b[0m\n\u001b[1;32m    643\u001b[0m                 \u001b[0;32mif\u001b[0m \u001b[0mpostconditions\u001b[0m\u001b[0;34m:\u001b[0m\u001b[0;34m\u001b[0m\u001b[0;34m\u001b[0m\u001b[0m\n",
      "\u001b[0;32m~/.local/lib/python3.9/site-packages/use/main.py\u001b[0m in \u001b[0;36m_use_package\u001b[0;34m(self, name, package_name, module_name, version, hashes, default, hash_algo, modes, Message)\u001b[0m\n\u001b[1;32m    807\u001b[0m \u001b[0;34m\u001b[0m\u001b[0m\n\u001b[1;32m    808\u001b[0m         \u001b[0;32mif\u001b[0m \u001b[0misinstance\u001b[0m\u001b[0;34m(\u001b[0m\u001b[0mresult\u001b[0m\u001b[0;34m,\u001b[0m \u001b[0mException\u001b[0m\u001b[0;34m)\u001b[0m\u001b[0;34m:\u001b[0m\u001b[0;34m\u001b[0m\u001b[0;34m\u001b[0m\u001b[0m\n\u001b[0;32m--> 809\u001b[0;31m             \u001b[0;32mreturn\u001b[0m \u001b[0m_fail_or_default\u001b[0m\u001b[0;34m(\u001b[0m\u001b[0mresult\u001b[0m\u001b[0;34m,\u001b[0m \u001b[0mdefault\u001b[0m\u001b[0;34m)\u001b[0m\u001b[0;34m\u001b[0m\u001b[0;34m\u001b[0m\u001b[0m\n\u001b[0m\u001b[1;32m    810\u001b[0m \u001b[0;34m\u001b[0m\u001b[0m\n\u001b[1;32m    811\u001b[0m         \u001b[0;32mif\u001b[0m \u001b[0misinstance\u001b[0m\u001b[0;34m(\u001b[0m\u001b[0mresult\u001b[0m\u001b[0;34m,\u001b[0m \u001b[0mModuleType\u001b[0m\u001b[0;34m)\u001b[0m\u001b[0;34m:\u001b[0m\u001b[0;34m\u001b[0m\u001b[0;34m\u001b[0m\u001b[0m\n",
      "\u001b[0;32m~/.local/lib/python3.9/site-packages/use/pimp.py\u001b[0m in \u001b[0;36m_fail_or_default\u001b[0;34m(exception, default)\u001b[0m\n\u001b[1;32m    955\u001b[0m         \u001b[0;32mreturn\u001b[0m \u001b[0mdefault\u001b[0m\u001b[0;34m\u001b[0m\u001b[0;34m\u001b[0m\u001b[0m\n\u001b[1;32m    956\u001b[0m     \u001b[0;32melse\u001b[0m\u001b[0;34m:\u001b[0m\u001b[0;34m\u001b[0m\u001b[0;34m\u001b[0m\u001b[0m\n\u001b[0;32m--> 957\u001b[0;31m         \u001b[0;32mraise\u001b[0m \u001b[0mexception\u001b[0m\u001b[0;34m\u001b[0m\u001b[0;34m\u001b[0m\u001b[0m\n\u001b[0m\u001b[1;32m    958\u001b[0m \u001b[0;34m\u001b[0m\u001b[0m\n\u001b[1;32m    959\u001b[0m \u001b[0;34m\u001b[0m\u001b[0m\n",
      "\u001b[0;31mRuntimeWarning\u001b[0m: Please specify version and hash for auto-installation of 'pygame'.\nA webbrowser should open to the Snyk Advisor to check whether the package is vulnerable or malicious.\nIf you want to auto-install the latest version, try the following line to select all viable hashes:\nuse(\"pygame\", version=\"2.1.3.dev4\", modes=use.auto_install)"
     ]
    }
   ],
   "source": [
    "pg = use(\"pygame\", modes=use.auto_install)"
   ]
  },
  {
   "cell_type": "markdown",
   "metadata": {},
   "source": [
    "Now we're getting somewhere! Hmm.. it says \"To get some valuable insight on the health of this package, please check out https://snyk.io/advisor/python/pygame - see for yourself!"
   ]
  },
  {
   "cell_type": "markdown",
   "metadata": {},
   "source": [
    "Let's look at this last line of the message.. hmm.. a dev version? Nah, let's pick the last stable version instead."
   ]
  },
  {
   "cell_type": "code",
   "execution_count": 13,
   "metadata": {
    "tags": []
   },
   "outputs": [
    {
     "name": "stdout",
     "output_type": "stream",
     "text": [
      "Linux 5.11.0-49-generic \n",
      " 3.9.5\n"
     ]
    }
   ],
   "source": [
    "import platform; print(platform.system(), platform.release(), \"\\n\", platform.python_version())"
   ]
  },
  {
   "cell_type": "code",
   "execution_count": 14,
   "metadata": {
    "tags": []
   },
   "outputs": [
    {
     "name": "stderr",
     "output_type": "stream",
     "text": [
      "\u001b[1;320mINFO\u001b[1;30m: \u001b[0m\u001b[1;36muse.main\u001b[1;30m: \u001b[0mcase = (True, False, False, True)\n",
      "\u001b[1;310mDEBUG\u001b[1;30m: \u001b[0m\u001b[1;36murllib3.connectionpool\u001b[1;30m: \u001b[0mStarting new HTTPS connection (1): pypi.org:443\n",
      "\u001b[1;310mDEBUG\u001b[1;30m: \u001b[0m\u001b[1;36murllib3.connectionpool\u001b[1;30m: \u001b[0mhttps://pypi.org:443 \"GET /pypi/pygame/2.1.2/json HTTP/1.1\" 200 221690\n",
      "\u001b[1;320mINFO\u001b[1;30m: \u001b[0m\u001b[1;36muse.buffet_old\u001b[1;30m: \u001b[0mresult = RuntimeWarning('Failed to auto-install \\'pygame\\' because hashes aren\\'t specified.\\n        A webbrowser should open with a list of available hashes for different platforms for you to pick.\"\\n        If you want to use the package only on this platform, this should work:\\n    use(\"pygame\", version=\"2.1.2\", hashes=\\'T榮燰帛瓁䙶薮鼙䛔棙卮榙㿪茬䟐苙狋蹊\\', modes=use.auto_install)')\n"
     ]
    },
    {
     "name": "stdout",
     "output_type": "stream",
     "text": [
      "T榮燰帛瓁䙶薮鼙䛔棙卮榙㿪茬䟐苙狋蹊\n"
     ]
    },
    {
     "ename": "RuntimeWarning",
     "evalue": "Failed to auto-install 'pygame' because hashes aren't specified.\n        A webbrowser should open with a list of available hashes for different platforms for you to pick.\"\n        If you want to use the package only on this platform, this should work:\n    use(\"pygame\", version=\"2.1.2\", hashes='T榮燰帛瓁䙶薮鼙䛔棙卮榙㿪茬䟐苙狋蹊', modes=use.auto_install)",
     "output_type": "error",
     "traceback": [
      "\u001b[0;31m---------------------------------------------------------------------------\u001b[0m",
      "\u001b[0;31mRuntimeWarning\u001b[0m                            Traceback (most recent call last)",
      "\u001b[0;32m<ipython-input-14-29c9b5afd57b>\u001b[0m in \u001b[0;36m<module>\u001b[0;34m\u001b[0m\n\u001b[0;32m----> 1\u001b[0;31m \u001b[0muse\u001b[0m\u001b[0;34m(\u001b[0m\u001b[0;34m\"pygame\"\u001b[0m\u001b[0;34m,\u001b[0m \u001b[0mversion\u001b[0m\u001b[0;34m=\u001b[0m\u001b[0;34m\"2.1.2\"\u001b[0m\u001b[0;34m,\u001b[0m \u001b[0mmodes\u001b[0m\u001b[0;34m=\u001b[0m\u001b[0muse\u001b[0m\u001b[0;34m.\u001b[0m\u001b[0mauto_install\u001b[0m\u001b[0;34m)\u001b[0m\u001b[0;34m\u001b[0m\u001b[0;34m\u001b[0m\u001b[0m\n\u001b[0m",
      "\u001b[0;32m~/.local/lib/python3.9/site-packages/use/main.py\u001b[0m in \u001b[0;36m__call__\u001b[0;34m(self, *args, **kwargs)\u001b[0m\n\u001b[1;32m    128\u001b[0m     \u001b[0;32mdef\u001b[0m \u001b[0m__call__\u001b[0m\u001b[0;34m(\u001b[0m\u001b[0mself\u001b[0m\u001b[0;34m,\u001b[0m \u001b[0;34m*\u001b[0m\u001b[0margs\u001b[0m\u001b[0;34m,\u001b[0m \u001b[0;34m**\u001b[0m\u001b[0mkwargs\u001b[0m\u001b[0;34m)\u001b[0m\u001b[0;34m:\u001b[0m\u001b[0;34m\u001b[0m\u001b[0;34m\u001b[0m\u001b[0m\n\u001b[1;32m    129\u001b[0m         \u001b[0;32mwith\u001b[0m \u001b[0mself\u001b[0m\u001b[0;34m.\u001b[0m\u001b[0m__condition\u001b[0m\u001b[0;34m:\u001b[0m\u001b[0;34m\u001b[0m\u001b[0;34m\u001b[0m\u001b[0m\n\u001b[0;32m--> 130\u001b[0;31m             \u001b[0;32mreturn\u001b[0m \u001b[0mself\u001b[0m\u001b[0;34m.\u001b[0m\u001b[0m__implementation\u001b[0m\u001b[0;34m(\u001b[0m\u001b[0;34m*\u001b[0m\u001b[0margs\u001b[0m\u001b[0;34m,\u001b[0m \u001b[0;34m**\u001b[0m\u001b[0mkwargs\u001b[0m\u001b[0;34m)\u001b[0m\u001b[0;34m\u001b[0m\u001b[0;34m\u001b[0m\u001b[0m\n\u001b[0m\u001b[1;32m    131\u001b[0m \u001b[0;34m\u001b[0m\u001b[0m\n\u001b[1;32m    132\u001b[0m     \u001b[0;31m# to allow `numpy @ use` for a quick check\u001b[0m\u001b[0;34m\u001b[0m\u001b[0;34m\u001b[0m\u001b[0;34m\u001b[0m\u001b[0m\n",
      "\u001b[0;32m~/.local/lib/python3.9/site-packages/use/tools.py\u001b[0m in \u001b[0;36mwrapper\u001b[0;34m(*args, **kwargs)\u001b[0m\n\u001b[1;32m     44\u001b[0m                 \u001b[0;32mraise\u001b[0m \u001b[0mNirvanaWarning\u001b[0m\u001b[0;34m(\u001b[0m\u001b[0;34m\"No use trying to use Nothing.\"\u001b[0m\u001b[0;34m)\u001b[0m\u001b[0;34m\u001b[0m\u001b[0;34m\u001b[0m\u001b[0m\n\u001b[1;32m     45\u001b[0m             \u001b[0margs\u001b[0m \u001b[0;34m=\u001b[0m \u001b[0margs\u001b[0m \u001b[0;34m+\u001b[0m \u001b[0;34m(\u001b[0m\u001b[0;32mNone\u001b[0m\u001b[0;34m,\u001b[0m\u001b[0;34m)\u001b[0m\u001b[0;34m\u001b[0m\u001b[0;34m\u001b[0m\u001b[0m\n\u001b[0;32m---> 46\u001b[0;31m         \u001b[0;32mreturn\u001b[0m \u001b[0mdispatcher\u001b[0m\u001b[0;34m.\u001b[0m\u001b[0mdispatch\u001b[0m\u001b[0;34m(\u001b[0m\u001b[0margs\u001b[0m\u001b[0;34m[\u001b[0m\u001b[0;36m1\u001b[0m\u001b[0;34m]\u001b[0m\u001b[0;34m.\u001b[0m\u001b[0m__class__\u001b[0m\u001b[0;34m)\u001b[0m\u001b[0;34m(\u001b[0m\u001b[0;34m*\u001b[0m\u001b[0margs\u001b[0m\u001b[0;34m,\u001b[0m \u001b[0;34m**\u001b[0m\u001b[0mkwargs\u001b[0m\u001b[0;34m)\u001b[0m\u001b[0;34m\u001b[0m\u001b[0;34m\u001b[0m\u001b[0m\n\u001b[0m\u001b[1;32m     47\u001b[0m \u001b[0;34m\u001b[0m\u001b[0m\n\u001b[1;32m     48\u001b[0m     \u001b[0mwrapper\u001b[0m\u001b[0;34m.\u001b[0m\u001b[0mregister\u001b[0m \u001b[0;34m=\u001b[0m \u001b[0mdispatcher\u001b[0m\u001b[0;34m.\u001b[0m\u001b[0mregister\u001b[0m\u001b[0;34m\u001b[0m\u001b[0;34m\u001b[0m\u001b[0m\n",
      "\u001b[0;32m~/.local/lib/python3.9/site-packages/use/main.py\u001b[0m in \u001b[0;36m_use_str\u001b[0;34m(self, name, version, hash_algo, hashes, default, modes)\u001b[0m\n\u001b[1;32m    723\u001b[0m         \"\"\"\n\u001b[1;32m    724\u001b[0m         \u001b[0mpackage_name\u001b[0m\u001b[0;34m,\u001b[0m \u001b[0mmodule_name\u001b[0m \u001b[0;34m=\u001b[0m \u001b[0m_parse_name\u001b[0m\u001b[0;34m(\u001b[0m\u001b[0mname\u001b[0m\u001b[0;34m)\u001b[0m\u001b[0;34m\u001b[0m\u001b[0;34m\u001b[0m\u001b[0m\n\u001b[0;32m--> 725\u001b[0;31m         return self._use_package(\n\u001b[0m\u001b[1;32m    726\u001b[0m             \u001b[0mname\u001b[0m\u001b[0;34m=\u001b[0m\u001b[0mname\u001b[0m\u001b[0;34m,\u001b[0m\u001b[0;34m\u001b[0m\u001b[0;34m\u001b[0m\u001b[0m\n\u001b[1;32m    727\u001b[0m             \u001b[0mpackage_name\u001b[0m\u001b[0;34m=\u001b[0m\u001b[0mpackage_name\u001b[0m\u001b[0;34m,\u001b[0m\u001b[0;34m\u001b[0m\u001b[0;34m\u001b[0m\u001b[0m\n",
      "\u001b[0;32m~/.local/lib/python3.9/site-packages/icontract/_checkers.py\u001b[0m in \u001b[0;36mwrapper\u001b[0;34m(*args, **kwargs)\u001b[0m\n\u001b[1;32m    639\u001b[0m                 \u001b[0;31m# Unfortunately, this can not be done in Python 3, see\u001b[0m\u001b[0;34m\u001b[0m\u001b[0;34m\u001b[0m\u001b[0;34m\u001b[0m\u001b[0m\n\u001b[1;32m    640\u001b[0m                 \u001b[0;31m# https://stackoverflow.com/questions/44813333/how-can-i-elide-a-function-wrapper-from-the-traceback-in-python-3\u001b[0m\u001b[0;34m\u001b[0m\u001b[0;34m\u001b[0m\u001b[0;34m\u001b[0m\u001b[0m\n\u001b[0;32m--> 641\u001b[0;31m                 \u001b[0mresult\u001b[0m \u001b[0;34m=\u001b[0m \u001b[0mfunc\u001b[0m\u001b[0;34m(\u001b[0m\u001b[0;34m*\u001b[0m\u001b[0margs\u001b[0m\u001b[0;34m,\u001b[0m \u001b[0;34m**\u001b[0m\u001b[0mkwargs\u001b[0m\u001b[0;34m)\u001b[0m\u001b[0;34m\u001b[0m\u001b[0;34m\u001b[0m\u001b[0m\n\u001b[0m\u001b[1;32m    642\u001b[0m \u001b[0;34m\u001b[0m\u001b[0m\n\u001b[1;32m    643\u001b[0m                 \u001b[0;32mif\u001b[0m \u001b[0mpostconditions\u001b[0m\u001b[0;34m:\u001b[0m\u001b[0;34m\u001b[0m\u001b[0;34m\u001b[0m\u001b[0m\n",
      "\u001b[0;32m~/.local/lib/python3.9/site-packages/use/main.py\u001b[0m in \u001b[0;36m_use_package\u001b[0;34m(self, name, package_name, module_name, version, hashes, default, hash_algo, modes, Message)\u001b[0m\n\u001b[1;32m    807\u001b[0m \u001b[0;34m\u001b[0m\u001b[0m\n\u001b[1;32m    808\u001b[0m         \u001b[0;32mif\u001b[0m \u001b[0misinstance\u001b[0m\u001b[0;34m(\u001b[0m\u001b[0mresult\u001b[0m\u001b[0;34m,\u001b[0m \u001b[0mException\u001b[0m\u001b[0;34m)\u001b[0m\u001b[0;34m:\u001b[0m\u001b[0;34m\u001b[0m\u001b[0;34m\u001b[0m\u001b[0m\n\u001b[0;32m--> 809\u001b[0;31m             \u001b[0;32mreturn\u001b[0m \u001b[0m_fail_or_default\u001b[0m\u001b[0;34m(\u001b[0m\u001b[0mresult\u001b[0m\u001b[0;34m,\u001b[0m \u001b[0mdefault\u001b[0m\u001b[0;34m)\u001b[0m\u001b[0;34m\u001b[0m\u001b[0;34m\u001b[0m\u001b[0m\n\u001b[0m\u001b[1;32m    810\u001b[0m \u001b[0;34m\u001b[0m\u001b[0m\n\u001b[1;32m    811\u001b[0m         \u001b[0;32mif\u001b[0m \u001b[0misinstance\u001b[0m\u001b[0;34m(\u001b[0m\u001b[0mresult\u001b[0m\u001b[0;34m,\u001b[0m \u001b[0mModuleType\u001b[0m\u001b[0;34m)\u001b[0m\u001b[0;34m:\u001b[0m\u001b[0;34m\u001b[0m\u001b[0;34m\u001b[0m\u001b[0m\n",
      "\u001b[0;32m~/.local/lib/python3.9/site-packages/use/pimp.py\u001b[0m in \u001b[0;36m_fail_or_default\u001b[0;34m(exception, default)\u001b[0m\n\u001b[1;32m    955\u001b[0m         \u001b[0;32mreturn\u001b[0m \u001b[0mdefault\u001b[0m\u001b[0;34m\u001b[0m\u001b[0;34m\u001b[0m\u001b[0m\n\u001b[1;32m    956\u001b[0m     \u001b[0;32melse\u001b[0m\u001b[0;34m:\u001b[0m\u001b[0;34m\u001b[0m\u001b[0;34m\u001b[0m\u001b[0m\n\u001b[0;32m--> 957\u001b[0;31m         \u001b[0;32mraise\u001b[0m \u001b[0mexception\u001b[0m\u001b[0;34m\u001b[0m\u001b[0;34m\u001b[0m\u001b[0m\n\u001b[0m\u001b[1;32m    958\u001b[0m \u001b[0;34m\u001b[0m\u001b[0m\n\u001b[1;32m    959\u001b[0m \u001b[0;34m\u001b[0m\u001b[0m\n",
      "\u001b[0;31mRuntimeWarning\u001b[0m: Failed to auto-install 'pygame' because hashes aren't specified.\n        A webbrowser should open with a list of available hashes for different platforms for you to pick.\"\n        If you want to use the package only on this platform, this should work:\n    use(\"pygame\", version=\"2.1.2\", hashes='T榮燰帛瓁䙶薮鼙䛔棙卮榙㿪茬䟐苙狋蹊', modes=use.auto_install)"
     ]
    }
   ],
   "source": [
    "use(\"pygame\", version=\"2.1.2\", modes=use.auto_install)"
   ]
  },
  {
   "cell_type": "markdown",
   "metadata": {},
   "source": [
    "Hey, did you see the browser tab that just opened? You can select all the platforms and python versions you want to support there and just copy & paste the snippet - let's get the one for python 3.8 and ubuntu I'm running here.."
   ]
  },
  {
   "cell_type": "markdown",
   "metadata": {
    "execution": {
     "iopub.execute_input": "2021-11-23T20:24:34.295653Z",
     "iopub.status.busy": "2021-11-23T20:24:34.294878Z",
     "iopub.status.idle": "2021-11-23T20:24:34.314741Z",
     "shell.execute_reply": "2021-11-23T20:24:34.312597Z",
     "shell.execute_reply.started": "2021-11-23T20:24:34.295588Z"
    }
   },
   "source": [
    "You wonder what those chinese looking characters are? Well. Normally, hexdigests look something like `d6c1c1c53a988b3daf44c1865d40f86de48665639bfbd5eea1317eb083638a3a` which is way too verbose on a normal line of code and since you shouldn't manually type those anyway but only copy&paste, we thought what the heck - let's use the japanese, ascii, chinese and korean alphabets (thus JACK) to encode those hashes as compact as we can."
   ]
  },
  {
   "cell_type": "markdown",
   "metadata": {},
   "source": [
    "Have a look at the last line of the Error message - let's try to copy&paste it.."
   ]
  },
  {
   "cell_type": "code",
   "execution_count": 16,
   "metadata": {
    "tags": []
   },
   "outputs": [
    {
     "name": "stderr",
     "output_type": "stream",
     "text": [
      "\u001b[1;320mINFO\u001b[1;30m: \u001b[0m\u001b[1;36muse.main\u001b[1;30m: \u001b[0mcase = (True, True, False, True)\n",
      "\u001b[1;320mINFO\u001b[1;30m: \u001b[0m\u001b[1;36muse.pimp\u001b[1;30m: \u001b[0mAttempting auto-installation of <87f20a6b5189ac48b057c687890624224236bfd009a43daf6d1d4aadf9aaa026>...\n",
      "\u001b[1;320mINFO\u001b[1;30m: \u001b[0m\u001b[1;36muse.pimp\u001b[1;30m: \u001b[0mDownloading artifact from PyPI...\n",
      "\u001b[1;310mDEBUG\u001b[1;30m: \u001b[0m\u001b[1;36murllib3.connectionpool\u001b[1;30m: \u001b[0mStarting new HTTPS connection (1): files.pythonhosted.org:443\n",
      "\u001b[1;310mDEBUG\u001b[1;30m: \u001b[0m\u001b[1;36murllib3.connectionpool\u001b[1;30m: \u001b[0mhttps://files.pythonhosted.org:443 \"GET /packages/4b/e2/e35260915e932f4e0ca905672ceabe1488940b6548d0ba62a3724f05390f/pygame-2.1.3.dev4-cp39-cp39-manylinux_2_12_x86_64.manylinux2010_x86_64.whl HTTP/1.1\" 200 21414738\n",
      "\u001b[1;320mINFO\u001b[1;30m: \u001b[0m\u001b[1;36muse.pimp\u001b[1;30m: \u001b[0mDownload successful.\n",
      "\u001b[1;320mINFO\u001b[1;30m: \u001b[0m\u001b[1;36muse.pimp\u001b[1;30m: \u001b[0mAttempting to install..\n",
      "\u001b[1;320mINFO\u001b[1;30m: \u001b[0m\u001b[1;36muse.pimp\u001b[1;30m: \u001b[0mInstallation successful.\n",
      "\u001b[1;310mDEBUG\u001b[1;30m: \u001b[0m\u001b[1;36muse.pimp\u001b[1;30m: \u001b[0menv_dir=/home/thorsten/.justuse-python/venv/pygame/2.1.2\n",
      "\u001b[1;310mDEBUG\u001b[1;30m: \u001b[0m\u001b[1;36muse.pimp\u001b[1;30m: \u001b[0msite_dirs=[PosixPath('/home/thorsten/.justuse-python/venv/pygame/2.1.2/lib64/python3.9/site-packages'), PosixPath('/home/thorsten/.justuse-python/venv/pygame/2.1.2/lib/python3.9/site-packages')]\n",
      "\u001b[1;310mDEBUG\u001b[1;30m: \u001b[0m\u001b[1;36muse.pimp\u001b[1;30m: \u001b[0m  - lib\n",
      "\u001b[1;310mDEBUG\u001b[1;30m: \u001b[0m\u001b[1;36muse.pimp\u001b[1;30m: \u001b[0m  - include\n",
      "\u001b[1;310mDEBUG\u001b[1;30m: \u001b[0m\u001b[1;36muse.pimp\u001b[1;30m: \u001b[0m  - lib/python3.9\n",
      "\u001b[1;310mDEBUG\u001b[1;30m: \u001b[0m\u001b[1;36muse.pimp\u001b[1;30m: \u001b[0m  - lib/python3.9/site-packages\n",
      "\u001b[1;310mDEBUG\u001b[1;30m: \u001b[0m\u001b[1;36muse.pimp\u001b[1;30m: \u001b[0m  - lib/python3.9/site-packages/pygame\n",
      "\u001b[1;310mDEBUG\u001b[1;30m: \u001b[0m\u001b[1;36muse.pimp\u001b[1;30m: \u001b[0m  - lib/python3.9/site-packages/pygame.libs\n",
      "\u001b[1;310mDEBUG\u001b[1;30m: \u001b[0m\u001b[1;36muse.pimp\u001b[1;30m: \u001b[0m  - lib/python3.9/site-packages/pygame-2.1.3.dev4.dist-info\n",
      "\u001b[1;310mDEBUG\u001b[1;30m: \u001b[0m\u001b[1;36muse.pimp\u001b[1;30m: \u001b[0m  - lib/python3.9/site-packages/pygame/joystick.pyi\n",
      "\u001b[1;310mDEBUG\u001b[1;30m: \u001b[0m\u001b[1;36muse.pimp\u001b[1;30m: \u001b[0m  - lib/python3.9/site-packages/pygame/key.pyi\n",
      "\u001b[1;310mDEBUG\u001b[1;30m: \u001b[0m\u001b[1;36muse.pimp\u001b[1;30m: \u001b[0m  - lib/python3.9/site-packages/pygame/pygame_icon.bmp\n",
      "\u001b[1;310mDEBUG\u001b[1;30m: \u001b[0m\u001b[1;36muse.pimp\u001b[1;30m: \u001b[0m  - lib/python3.9/site-packages/pygame/gfxdraw.cpython-39-x86_64-linux-gnu.so\n",
      "\u001b[1;310mDEBUG\u001b[1;30m: \u001b[0m\u001b[1;36muse.pimp\u001b[1;30m: \u001b[0m  - lib/python3.9/site-packages/pygame/draw.cpython-39-x86_64-linux-gnu.so\n",
      "\u001b[1;310mDEBUG\u001b[1;30m: \u001b[0m\u001b[1;36muse.pimp\u001b[1;30m: \u001b[0m  - lib/python3.9/site-packages/pygame/surflock.pyi\n",
      "\u001b[1;310mDEBUG\u001b[1;30m: \u001b[0m\u001b[1;36muse.pimp\u001b[1;30m: \u001b[0m  - lib/python3.9/site-packages/pygame/version.py\n",
      "\u001b[1;310mDEBUG\u001b[1;30m: \u001b[0m\u001b[1;36muse.pimp\u001b[1;30m: \u001b[0m  - lib/python3.9/site-packages/pygame/_camera_opencv.py\n",
      "\u001b[1;310mDEBUG\u001b[1;30m: \u001b[0m\u001b[1;36muse.pimp\u001b[1;30m: \u001b[0m  - lib/python3.9/site-packages/pygame/gfxdraw.pyi\n",
      "\u001b[1;310mDEBUG\u001b[1;30m: \u001b[0m\u001b[1;36muse.pimp\u001b[1;30m: \u001b[0m  - lib/python3.9/site-packages/pygame/mixer_music.pyi\n",
      "\u001b[1;310mDEBUG\u001b[1;30m: \u001b[0m\u001b[1;36muse.pimp\u001b[1;30m: \u001b[0m  - lib/python3.9/site-packages/pygame/newbuffer.cpython-39-x86_64-linux-gnu.so\n",
      "\u001b[1;310mDEBUG\u001b[1;30m: \u001b[0m\u001b[1;36muse.pimp\u001b[1;30m: \u001b[0m  - lib/python3.9/site-packages/pygame/_camera_vidcapture.py\n",
      "\u001b[1;310mDEBUG\u001b[1;30m: \u001b[0m\u001b[1;36muse.pimp\u001b[1;30m: \u001b[0m  - lib/python3.9/site-packages/pygame/__pycache__\n",
      "\u001b[1;310mDEBUG\u001b[1;30m: \u001b[0m\u001b[1;36muse.pimp\u001b[1;30m: \u001b[0m  - lib/python3.9/site-packages/pygame/py.typed\n",
      "\u001b[1;310mDEBUG\u001b[1;30m: \u001b[0m\u001b[1;36muse.pimp\u001b[1;30m: \u001b[0m  - lib/python3.9/site-packages/pygame/_camera.cpython-39-x86_64-linux-gnu.so\n",
      "\u001b[1;310mDEBUG\u001b[1;30m: \u001b[0m\u001b[1;36muse.pimp\u001b[1;30m: \u001b[0m  - lib/python3.9/site-packages/pygame/cursors.py\n",
      "\u001b[1;310mDEBUG\u001b[1;30m: \u001b[0m\u001b[1;36muse.pimp\u001b[1;30m: \u001b[0m  - lib/python3.9/site-packages/pygame/freetype.pyi\n",
      "\u001b[1;310mDEBUG\u001b[1;30m: \u001b[0m\u001b[1;36muse.pimp\u001b[1;30m: \u001b[0m  - lib/python3.9/site-packages/pygame/surflock.cpython-39-x86_64-linux-gnu.so\n",
      "\u001b[1;310mDEBUG\u001b[1;30m: \u001b[0m\u001b[1;36muse.pimp\u001b[1;30m: \u001b[0m  - lib/python3.9/site-packages/pygame/pypm.cpython-39-x86_64-linux-gnu.so\n",
      "\u001b[1;310mDEBUG\u001b[1;30m: \u001b[0m\u001b[1;36muse.pimp\u001b[1;30m: \u001b[0m  - lib/python3.9/site-packages/pygame/surface.cpython-39-x86_64-linux-gnu.so\n",
      "\u001b[1;310mDEBUG\u001b[1;30m: \u001b[0m\u001b[1;36muse.pimp\u001b[1;30m: \u001b[0m  - lib/python3.9/site-packages/pygame/rect.pyi\n",
      "\u001b[1;310mDEBUG\u001b[1;30m: \u001b[0m\u001b[1;36muse.pimp\u001b[1;30m: \u001b[0m  - lib/python3.9/site-packages/pygame/draw.pyi\n",
      "\u001b[1;310mDEBUG\u001b[1;30m: \u001b[0m\u001b[1;36muse.pimp\u001b[1;30m: \u001b[0m  - lib/python3.9/site-packages/pygame/mask.pyi\n",
      "\u001b[1;310mDEBUG\u001b[1;30m: \u001b[0m\u001b[1;36muse.pimp\u001b[1;30m: \u001b[0m  - lib/python3.9/site-packages/pygame/transform.cpython-39-x86_64-linux-gnu.so\n",
      "\u001b[1;310mDEBUG\u001b[1;30m: \u001b[0m\u001b[1;36muse.pimp\u001b[1;30m: \u001b[0m  - lib/python3.9/site-packages/pygame/font.cpython-39-x86_64-linux-gnu.so\n",
      "\u001b[1;310mDEBUG\u001b[1;30m: \u001b[0m\u001b[1;36muse.pimp\u001b[1;30m: \u001b[0m  - lib/python3.9/site-packages/pygame/event.pyi\n",
      "\u001b[1;310mDEBUG\u001b[1;30m: \u001b[0m\u001b[1;36muse.pimp\u001b[1;30m: \u001b[0m  - lib/python3.9/site-packages/pygame/pixelcopy.pyi\n",
      "\u001b[1;310mDEBUG\u001b[1;30m: \u001b[0m\u001b[1;36muse.pimp\u001b[1;30m: \u001b[0m  - lib/python3.9/site-packages/pygame/font.pyi\n",
      "\u001b[1;310mDEBUG\u001b[1;30m: \u001b[0m\u001b[1;36muse.pimp\u001b[1;30m: \u001b[0m  - lib/python3.9/site-packages/pygame/rect.cpython-39-x86_64-linux-gnu.so\n",
      "\u001b[1;310mDEBUG\u001b[1;30m: \u001b[0m\u001b[1;36muse.pimp\u001b[1;30m: \u001b[0m  - lib/python3.9/site-packages/pygame/midi.pyi\n",
      "\u001b[1;310mDEBUG\u001b[1;30m: \u001b[0m\u001b[1;36muse.pimp\u001b[1;30m: \u001b[0m  - lib/python3.9/site-packages/pygame/__init__.pyi\n",
      "\u001b[1;310mDEBUG\u001b[1;30m: \u001b[0m\u001b[1;36muse.pimp\u001b[1;30m: \u001b[0m  - lib/python3.9/site-packages/pygame/time.pyi\n",
      "\u001b[1;310mDEBUG\u001b[1;30m: \u001b[0m\u001b[1;36muse.pimp\u001b[1;30m: \u001b[0m  - lib/python3.9/site-packages/pygame/surface.pyi\n",
      "\u001b[1;310mDEBUG\u001b[1;30m: \u001b[0m\u001b[1;36muse.pimp\u001b[1;30m: \u001b[0m  - lib/python3.9/site-packages/pygame/scrap.pyi\n",
      "\u001b[1;310mDEBUG\u001b[1;30m: \u001b[0m\u001b[1;36muse.pimp\u001b[1;30m: \u001b[0m  - lib/python3.9/site-packages/pygame/cursors.pyi\n",
      "\u001b[1;310mDEBUG\u001b[1;30m: \u001b[0m\u001b[1;36muse.pimp\u001b[1;30m: \u001b[0m  - lib/python3.9/site-packages/pygame/base.pyi\n",
      "\u001b[1;310mDEBUG\u001b[1;30m: \u001b[0m\u001b[1;36muse.pimp\u001b[1;30m: \u001b[0m  - lib/python3.9/site-packages/pygame/transform.pyi\n",
      "\u001b[1;310mDEBUG\u001b[1;30m: \u001b[0m\u001b[1;36muse.pimp\u001b[1;30m: \u001b[0m  - lib/python3.9/site-packages/pygame/mask.cpython-39-x86_64-linux-gnu.so\n",
      "\u001b[1;310mDEBUG\u001b[1;30m: \u001b[0m\u001b[1;36muse.pimp\u001b[1;30m: \u001b[0m  - lib/python3.9/site-packages/pygame/midi.py\n",
      "\u001b[1;310mDEBUG\u001b[1;30m: \u001b[0m\u001b[1;36muse.pimp\u001b[1;30m: \u001b[0m  - lib/python3.9/site-packages/pygame/pygame_icon_mac.bmp\n",
      "\u001b[1;310mDEBUG\u001b[1;30m: \u001b[0m\u001b[1;36muse.pimp\u001b[1;30m: \u001b[0m  - lib/python3.9/site-packages/pygame/sndarray.py\n",
      "\u001b[1;310mDEBUG\u001b[1;30m: \u001b[0m\u001b[1;36muse.pimp\u001b[1;30m: \u001b[0m  - lib/python3.9/site-packages/pygame/bufferproxy.pyi\n",
      "\u001b[1;310mDEBUG\u001b[1;30m: \u001b[0m\u001b[1;36muse.pimp\u001b[1;30m: \u001b[0m  - lib/python3.9/site-packages/pygame/pixelarray.pyi\n",
      "\u001b[1;310mDEBUG\u001b[1;30m: \u001b[0m\u001b[1;36muse.pimp\u001b[1;30m: \u001b[0m  - lib/python3.9/site-packages/pygame/display.cpython-39-x86_64-linux-gnu.so\n",
      "\u001b[1;310mDEBUG\u001b[1;30m: \u001b[0m\u001b[1;36muse.pimp\u001b[1;30m: \u001b[0m  - lib/python3.9/site-packages/pygame/camera.py\n",
      "\u001b[1;310mDEBUG\u001b[1;30m: \u001b[0m\u001b[1;36muse.pimp\u001b[1;30m: \u001b[0m  - lib/python3.9/site-packages/pygame/imageext.cpython-39-x86_64-linux-gnu.so\n",
      "\u001b[1;310mDEBUG\u001b[1;30m: \u001b[0m\u001b[1;36muse.pimp\u001b[1;30m: \u001b[0m  - lib/python3.9/site-packages/pygame/macosx.py\n",
      "\u001b[1;310mDEBUG\u001b[1;30m: \u001b[0m\u001b[1;36muse.pimp\u001b[1;30m: \u001b[0m  - lib/python3.9/site-packages/pygame/image.cpython-39-x86_64-linux-gnu.so\n",
      "\u001b[1;310mDEBUG\u001b[1;30m: \u001b[0m\u001b[1;36muse.pimp\u001b[1;30m: \u001b[0m  - lib/python3.9/site-packages/pygame/pygame_icon.icns\n",
      "\u001b[1;310mDEBUG\u001b[1;30m: \u001b[0m\u001b[1;36muse.pimp\u001b[1;30m: \u001b[0m  - lib/python3.9/site-packages/pygame/threads\n",
      "\u001b[1;310mDEBUG\u001b[1;30m: \u001b[0m\u001b[1;36muse.pimp\u001b[1;30m: \u001b[0m  - lib/python3.9/site-packages/pygame/bufferproxy.cpython-39-x86_64-linux-gnu.so\n",
      "\u001b[1;310mDEBUG\u001b[1;30m: \u001b[0m\u001b[1;36muse.pimp\u001b[1;30m: \u001b[0m  - lib/python3.9/site-packages/pygame/draw_py.py\n",
      "\u001b[1;310mDEBUG\u001b[1;30m: \u001b[0m\u001b[1;36muse.pimp\u001b[1;30m: \u001b[0m  - lib/python3.9/site-packages/pygame/pkgdata.py\n",
      "\u001b[1;310mDEBUG\u001b[1;30m: \u001b[0m\u001b[1;36muse.pimp\u001b[1;30m: \u001b[0m  - lib/python3.9/site-packages/pygame/pixelarray.cpython-39-x86_64-linux-gnu.so\n",
      "\u001b[1;310mDEBUG\u001b[1;30m: \u001b[0m\u001b[1;36muse.pimp\u001b[1;30m: \u001b[0m  - lib/python3.9/site-packages/pygame/pygame.ico\n",
      "\u001b[1;310mDEBUG\u001b[1;30m: \u001b[0m\u001b[1;36muse.pimp\u001b[1;30m: \u001b[0m  - lib/python3.9/site-packages/pygame/sprite.py\n",
      "\u001b[1;310mDEBUG\u001b[1;30m: \u001b[0m\u001b[1;36muse.pimp\u001b[1;30m: \u001b[0m  - lib/python3.9/site-packages/pygame/fastevent.pyi\n",
      "\u001b[1;310mDEBUG\u001b[1;30m: \u001b[0m\u001b[1;36muse.pimp\u001b[1;30m: \u001b[0m  - lib/python3.9/site-packages/pygame/mixer.pyi\n",
      "\u001b[1;310mDEBUG\u001b[1;30m: \u001b[0m\u001b[1;36muse.pimp\u001b[1;30m: \u001b[0m  - lib/python3.9/site-packages/pygame/__pyinstaller\n",
      "\u001b[1;310mDEBUG\u001b[1;30m: \u001b[0m\u001b[1;36muse.pimp\u001b[1;30m: \u001b[0m  - lib/python3.9/site-packages/pygame/mouse.pyi\n",
      "\u001b[1;310mDEBUG\u001b[1;30m: \u001b[0m\u001b[1;36muse.pimp\u001b[1;30m: \u001b[0m  - lib/python3.9/site-packages/pygame/examples\n",
      "\u001b[1;310mDEBUG\u001b[1;30m: \u001b[0m\u001b[1;36muse.pimp\u001b[1;30m: \u001b[0m  - lib/python3.9/site-packages/pygame/color.pyi\n",
      "\u001b[1;310mDEBUG\u001b[1;30m: \u001b[0m\u001b[1;36muse.pimp\u001b[1;30m: \u001b[0m  - lib/python3.9/site-packages/pygame/_sdl2\n",
      "\u001b[1;310mDEBUG\u001b[1;30m: \u001b[0m\u001b[1;36muse.pimp\u001b[1;30m: \u001b[0m  - lib/python3.9/site-packages/pygame/freesansbold.ttf\n",
      "\u001b[1;310mDEBUG\u001b[1;30m: \u001b[0m\u001b[1;36muse.pimp\u001b[1;30m: \u001b[0m  - lib/python3.9/site-packages/pygame/mouse.cpython-39-x86_64-linux-gnu.so\n",
      "\u001b[1;310mDEBUG\u001b[1;30m: \u001b[0m\u001b[1;36muse.pimp\u001b[1;30m: \u001b[0m  - lib/python3.9/site-packages/pygame/event.cpython-39-x86_64-linux-gnu.so\n",
      "\u001b[1;310mDEBUG\u001b[1;30m: \u001b[0m\u001b[1;36muse.pimp\u001b[1;30m: \u001b[0m  - lib/python3.9/site-packages/pygame/math.cpython-39-x86_64-linux-gnu.so\n",
      "\u001b[1;310mDEBUG\u001b[1;30m: \u001b[0m\u001b[1;36muse.pimp\u001b[1;30m: \u001b[0m  - lib/python3.9/site-packages/pygame/colordict.py\n",
      "\u001b[1;310mDEBUG\u001b[1;30m: \u001b[0m\u001b[1;36muse.pimp\u001b[1;30m: \u001b[0m  - lib/python3.9/site-packages/pygame/image.pyi\n",
      "\u001b[1;310mDEBUG\u001b[1;30m: \u001b[0m\u001b[1;36muse.pimp\u001b[1;30m: \u001b[0m  - lib/python3.9/site-packages/pygame/mixer.cpython-39-x86_64-linux-gnu.so\n",
      "\u001b[1;310mDEBUG\u001b[1;30m: \u001b[0m\u001b[1;36muse.pimp\u001b[1;30m: \u001b[0m  - lib/python3.9/site-packages/pygame/mixer_music.cpython-39-x86_64-linux-gnu.so\n",
      "\u001b[1;310mDEBUG\u001b[1;30m: \u001b[0m\u001b[1;36muse.pimp\u001b[1;30m: \u001b[0m  - lib/python3.9/site-packages/pygame/constants.pyi\n",
      "\u001b[1;310mDEBUG\u001b[1;30m: \u001b[0m\u001b[1;36muse.pimp\u001b[1;30m: \u001b[0m  - lib/python3.9/site-packages/pygame/pixelcopy.cpython-39-x86_64-linux-gnu.so\n",
      "\u001b[1;310mDEBUG\u001b[1;30m: \u001b[0m\u001b[1;36muse.pimp\u001b[1;30m: \u001b[0m  - lib/python3.9/site-packages/pygame/docs\n",
      "\u001b[1;310mDEBUG\u001b[1;30m: \u001b[0m\u001b[1;36muse.pimp\u001b[1;30m: \u001b[0m  - lib/python3.9/site-packages/pygame/camera.pyi\n",
      "\u001b[1;310mDEBUG\u001b[1;30m: \u001b[0m\u001b[1;36muse.pimp\u001b[1;30m: \u001b[0m  - lib/python3.9/site-packages/pygame/key.cpython-39-x86_64-linux-gnu.so\n",
      "\u001b[1;310mDEBUG\u001b[1;30m: \u001b[0m\u001b[1;36muse.pimp\u001b[1;30m: \u001b[0m  - lib/python3.9/site-packages/pygame/color.cpython-39-x86_64-linux-gnu.so\n",
      "\u001b[1;310mDEBUG\u001b[1;30m: \u001b[0m\u001b[1;36muse.pimp\u001b[1;30m: \u001b[0m  - lib/python3.9/site-packages/pygame/math.pyi\n",
      "\u001b[1;310mDEBUG\u001b[1;30m: \u001b[0m\u001b[1;36muse.pimp\u001b[1;30m: \u001b[0m  - lib/python3.9/site-packages/pygame/_sprite.cpython-39-x86_64-linux-gnu.so\n",
      "\u001b[1;310mDEBUG\u001b[1;30m: \u001b[0m\u001b[1;36muse.pimp\u001b[1;30m: \u001b[0m  - lib/python3.9/site-packages/pygame/rwobject.pyi\n",
      "\u001b[1;310mDEBUG\u001b[1;30m: \u001b[0m\u001b[1;36muse.pimp\u001b[1;30m: \u001b[0m  - lib/python3.9/site-packages/pygame/joystick.cpython-39-x86_64-linux-gnu.so\n",
      "\u001b[1;310mDEBUG\u001b[1;30m: \u001b[0m\u001b[1;36muse.pimp\u001b[1;30m: \u001b[0m  - lib/python3.9/site-packages/pygame/version.pyi\n",
      "\u001b[1;310mDEBUG\u001b[1;30m: \u001b[0m\u001b[1;36muse.pimp\u001b[1;30m: \u001b[0m  - lib/python3.9/site-packages/pygame/_common.pyi\n",
      "\u001b[1;310mDEBUG\u001b[1;30m: \u001b[0m\u001b[1;36muse.pimp\u001b[1;30m: \u001b[0m  - lib/python3.9/site-packages/pygame/base.cpython-39-x86_64-linux-gnu.so\n",
      "\u001b[1;310mDEBUG\u001b[1;30m: \u001b[0m\u001b[1;36muse.pimp\u001b[1;30m: \u001b[0m  - lib/python3.9/site-packages/pygame/ftfont.py\n",
      "\u001b[1;310mDEBUG\u001b[1;30m: \u001b[0m\u001b[1;36muse.pimp\u001b[1;30m: \u001b[0m  - lib/python3.9/site-packages/pygame/freetype.py\n",
      "\u001b[1;310mDEBUG\u001b[1;30m: \u001b[0m\u001b[1;36muse.pimp\u001b[1;30m: \u001b[0m  - lib/python3.9/site-packages/pygame/_freetype.cpython-39-x86_64-linux-gnu.so\n",
      "\u001b[1;310mDEBUG\u001b[1;30m: \u001b[0m\u001b[1;36muse.pimp\u001b[1;30m: \u001b[0m  - lib/python3.9/site-packages/pygame/sprite.pyi\n",
      "\u001b[1;310mDEBUG\u001b[1;30m: \u001b[0m\u001b[1;36muse.pimp\u001b[1;30m: \u001b[0m  - lib/python3.9/site-packages/pygame/surfarray.pyi\n",
      "\u001b[1;310mDEBUG\u001b[1;30m: \u001b[0m\u001b[1;36muse.pimp\u001b[1;30m: \u001b[0m  - lib/python3.9/site-packages/pygame/tests\n",
      "\u001b[1;310mDEBUG\u001b[1;30m: \u001b[0m\u001b[1;36muse.pimp\u001b[1;30m: \u001b[0m  - lib/python3.9/site-packages/pygame/rwobject.cpython-39-x86_64-linux-gnu.so\n",
      "\u001b[1;310mDEBUG\u001b[1;30m: \u001b[0m\u001b[1;36muse.pimp\u001b[1;30m: \u001b[0m  - lib/python3.9/site-packages/pygame/scrap.cpython-39-x86_64-linux-gnu.so\n",
      "\u001b[1;310mDEBUG\u001b[1;30m: \u001b[0m\u001b[1;36muse.pimp\u001b[1;30m: \u001b[0m  - lib/python3.9/site-packages/pygame/display.pyi\n",
      "\u001b[1;310mDEBUG\u001b[1;30m: \u001b[0m\u001b[1;36muse.pimp\u001b[1;30m: \u001b[0m  - lib/python3.9/site-packages/pygame/surfarray.py\n",
      "\u001b[1;310mDEBUG\u001b[1;30m: \u001b[0m\u001b[1;36muse.pimp\u001b[1;30m: \u001b[0m  - lib/python3.9/site-packages/pygame/__init__.py\n",
      "\u001b[1;310mDEBUG\u001b[1;30m: \u001b[0m\u001b[1;36muse.pimp\u001b[1;30m: \u001b[0m  - lib/python3.9/site-packages/pygame/constants.cpython-39-x86_64-linux-gnu.so\n",
      "\u001b[1;310mDEBUG\u001b[1;30m: \u001b[0m\u001b[1;36muse.pimp\u001b[1;30m: \u001b[0m  - lib/python3.9/site-packages/pygame/time.cpython-39-x86_64-linux-gnu.so\n",
      "\u001b[1;310mDEBUG\u001b[1;30m: \u001b[0m\u001b[1;36muse.pimp\u001b[1;30m: \u001b[0m  - lib/python3.9/site-packages/pygame/locals.py\n",
      "\u001b[1;310mDEBUG\u001b[1;30m: \u001b[0m\u001b[1;36muse.pimp\u001b[1;30m: \u001b[0m  - lib/python3.9/site-packages/pygame/fastevent.py\n",
      "\u001b[1;310mDEBUG\u001b[1;30m: \u001b[0m\u001b[1;36muse.pimp\u001b[1;30m: \u001b[0m  - lib/python3.9/site-packages/pygame/sndarray.pyi\n",
      "\u001b[1;310mDEBUG\u001b[1;30m: \u001b[0m\u001b[1;36muse.pimp\u001b[1;30m: \u001b[0m  - lib/python3.9/site-packages/pygame/sysfont.py\n",
      "\u001b[1;310mDEBUG\u001b[1;30m: \u001b[0m\u001b[1;36muse.pimp\u001b[1;30m: \u001b[0m  - lib/python3.9/site-packages/pygame/__pycache__/draw_py.cpython-39.pyc\n",
      "\u001b[1;310mDEBUG\u001b[1;30m: \u001b[0m\u001b[1;36muse.pimp\u001b[1;30m: \u001b[0m  - lib/python3.9/site-packages/pygame/__pycache__/fastevent.cpython-39.pyc\n",
      "\u001b[1;310mDEBUG\u001b[1;30m: \u001b[0m\u001b[1;36muse.pimp\u001b[1;30m: \u001b[0m  - lib/python3.9/site-packages/pygame/__pycache__/sprite.cpython-39.pyc\n",
      "\u001b[1;310mDEBUG\u001b[1;30m: \u001b[0m\u001b[1;36muse.pimp\u001b[1;30m: \u001b[0m  - lib/python3.9/site-packages/pygame/__pycache__/_camera_vidcapture.cpython-39.pyc\n",
      "\u001b[1;310mDEBUG\u001b[1;30m: \u001b[0m\u001b[1;36muse.pimp\u001b[1;30m: \u001b[0m  - lib/python3.9/site-packages/pygame/__pycache__/locals.cpython-39.pyc\n",
      "\u001b[1;310mDEBUG\u001b[1;30m: \u001b[0m\u001b[1;36muse.pimp\u001b[1;30m: \u001b[0m  - lib/python3.9/site-packages/pygame/__pycache__/cursors.cpython-39.pyc\n",
      "\u001b[1;310mDEBUG\u001b[1;30m: \u001b[0m\u001b[1;36muse.pimp\u001b[1;30m: \u001b[0m  - lib/python3.9/site-packages/pygame/__pycache__/__init__.cpython-39.pyc\n",
      "\u001b[1;310mDEBUG\u001b[1;30m: \u001b[0m\u001b[1;36muse.pimp\u001b[1;30m: \u001b[0m  - lib/python3.9/site-packages/pygame/__pycache__/ftfont.cpython-39.pyc\n",
      "\u001b[1;310mDEBUG\u001b[1;30m: \u001b[0m\u001b[1;36muse.pimp\u001b[1;30m: \u001b[0m  - lib/python3.9/site-packages/pygame/__pycache__/_camera_opencv.cpython-39.pyc\n",
      "\u001b[1;310mDEBUG\u001b[1;30m: \u001b[0m\u001b[1;36muse.pimp\u001b[1;30m: \u001b[0m  - lib/python3.9/site-packages/pygame/__pycache__/camera.cpython-39.pyc\n",
      "\u001b[1;310mDEBUG\u001b[1;30m: \u001b[0m\u001b[1;36muse.pimp\u001b[1;30m: \u001b[0m  - lib/python3.9/site-packages/pygame/__pycache__/version.cpython-39.pyc\n",
      "\u001b[1;310mDEBUG\u001b[1;30m: \u001b[0m\u001b[1;36muse.pimp\u001b[1;30m: \u001b[0m  - lib/python3.9/site-packages/pygame/__pycache__/surfarray.cpython-39.pyc\n",
      "\u001b[1;310mDEBUG\u001b[1;30m: \u001b[0m\u001b[1;36muse.pimp\u001b[1;30m: \u001b[0m  - lib/python3.9/site-packages/pygame/__pycache__/pkgdata.cpython-39.pyc\n",
      "\u001b[1;310mDEBUG\u001b[1;30m: \u001b[0m\u001b[1;36muse.pimp\u001b[1;30m: \u001b[0m  - lib/python3.9/site-packages/pygame/__pycache__/macosx.cpython-39.pyc\n",
      "\u001b[1;310mDEBUG\u001b[1;30m: \u001b[0m\u001b[1;36muse.pimp\u001b[1;30m: \u001b[0m  - lib/python3.9/site-packages/pygame/__pycache__/sndarray.cpython-39.pyc\n",
      "\u001b[1;310mDEBUG\u001b[1;30m: \u001b[0m\u001b[1;36muse.pimp\u001b[1;30m: \u001b[0m  - lib/python3.9/site-packages/pygame/__pycache__/sysfont.cpython-39.pyc\n",
      "\u001b[1;310mDEBUG\u001b[1;30m: \u001b[0m\u001b[1;36muse.pimp\u001b[1;30m: \u001b[0m  - lib/python3.9/site-packages/pygame/__pycache__/midi.cpython-39.pyc\n",
      "\u001b[1;310mDEBUG\u001b[1;30m: \u001b[0m\u001b[1;36muse.pimp\u001b[1;30m: \u001b[0m  - lib/python3.9/site-packages/pygame/__pycache__/colordict.cpython-39.pyc\n",
      "\u001b[1;310mDEBUG\u001b[1;30m: \u001b[0m\u001b[1;36muse.pimp\u001b[1;30m: \u001b[0m  - lib/python3.9/site-packages/pygame/__pycache__/freetype.cpython-39.pyc\n",
      "\u001b[1;310mDEBUG\u001b[1;30m: \u001b[0m\u001b[1;36muse.pimp\u001b[1;30m: \u001b[0m  - lib/python3.9/site-packages/pygame/threads/__pycache__\n",
      "\u001b[1;310mDEBUG\u001b[1;30m: \u001b[0m\u001b[1;36muse.pimp\u001b[1;30m: \u001b[0m  - lib/python3.9/site-packages/pygame/threads/__init__.py\n",
      "\u001b[1;310mDEBUG\u001b[1;30m: \u001b[0m\u001b[1;36muse.pimp\u001b[1;30m: \u001b[0m  - lib/python3.9/site-packages/pygame/threads/__pycache__/__init__.cpython-39.pyc\n",
      "\u001b[1;310mDEBUG\u001b[1;30m: \u001b[0m\u001b[1;36muse.pimp\u001b[1;30m: \u001b[0m  - lib/python3.9/site-packages/pygame/__pyinstaller/__pycache__\n",
      "\u001b[1;310mDEBUG\u001b[1;30m: \u001b[0m\u001b[1;36muse.pimp\u001b[1;30m: \u001b[0m  - lib/python3.9/site-packages/pygame/__pyinstaller/hook-pygame.py\n",
      "\u001b[1;310mDEBUG\u001b[1;30m: \u001b[0m\u001b[1;36muse.pimp\u001b[1;30m: \u001b[0m  - lib/python3.9/site-packages/pygame/__pyinstaller/__init__.py\n",
      "\u001b[1;310mDEBUG\u001b[1;30m: \u001b[0m\u001b[1;36muse.pimp\u001b[1;30m: \u001b[0m  - lib/python3.9/site-packages/pygame/__pyinstaller/__pycache__/__init__.cpython-39.pyc\n",
      "\u001b[1;310mDEBUG\u001b[1;30m: \u001b[0m\u001b[1;36muse.pimp\u001b[1;30m: \u001b[0m  - lib/python3.9/site-packages/pygame/__pyinstaller/__pycache__/hook-pygame.cpython-39.pyc\n",
      "\u001b[1;310mDEBUG\u001b[1;30m: \u001b[0m\u001b[1;36muse.pimp\u001b[1;30m: \u001b[0m  - lib/python3.9/site-packages/pygame/examples/liquid.py\n",
      "\u001b[1;310mDEBUG\u001b[1;30m: \u001b[0m\u001b[1;36muse.pimp\u001b[1;30m: \u001b[0m  - lib/python3.9/site-packages/pygame/examples/scaletest.py\n",
      "\u001b[1;310mDEBUG\u001b[1;30m: \u001b[0m\u001b[1;36muse.pimp\u001b[1;30m: \u001b[0m  - lib/python3.9/site-packages/pygame/examples/mask.py\n",
      "\u001b[1;310mDEBUG\u001b[1;30m: \u001b[0m\u001b[1;36muse.pimp\u001b[1;30m: \u001b[0m  - lib/python3.9/site-packages/pygame/examples/dropevent.py\n",
      "\u001b[1;310mDEBUG\u001b[1;30m: \u001b[0m\u001b[1;36muse.pimp\u001b[1;30m: \u001b[0m  - lib/python3.9/site-packages/pygame/examples/joystick.py\n",
      "\u001b[1;310mDEBUG\u001b[1;30m: \u001b[0m\u001b[1;36muse.pimp\u001b[1;30m: \u001b[0m  - lib/python3.9/site-packages/pygame/examples/setmodescale.py\n",
      "\u001b[1;310mDEBUG\u001b[1;30m: \u001b[0m\u001b[1;36muse.pimp\u001b[1;30m: \u001b[0m  - lib/python3.9/site-packages/pygame/examples/sprite_texture.py\n",
      "\u001b[1;310mDEBUG\u001b[1;30m: \u001b[0m\u001b[1;36muse.pimp\u001b[1;30m: \u001b[0m  - lib/python3.9/site-packages/pygame/examples/blend_fill.py\n",
      "\u001b[1;310mDEBUG\u001b[1;30m: \u001b[0m\u001b[1;36muse.pimp\u001b[1;30m: \u001b[0m  - lib/python3.9/site-packages/pygame/examples/__pycache__\n",
      "\u001b[1;310mDEBUG\u001b[1;30m: \u001b[0m\u001b[1;36muse.pimp\u001b[1;30m: \u001b[0m  - lib/python3.9/site-packages/pygame/examples/cursors.py\n",
      "\u001b[1;310mDEBUG\u001b[1;30m: \u001b[0m\u001b[1;36muse.pimp\u001b[1;30m: \u001b[0m  - lib/python3.9/site-packages/pygame/examples/sound.py\n",
      "\u001b[1;310mDEBUG\u001b[1;30m: \u001b[0m\u001b[1;36muse.pimp\u001b[1;30m: \u001b[0m  - lib/python3.9/site-packages/pygame/examples/font_viewer.py\n",
      "\u001b[1;310mDEBUG\u001b[1;30m: \u001b[0m\u001b[1;36muse.pimp\u001b[1;30m: \u001b[0m  - lib/python3.9/site-packages/pygame/examples/README.rst\n",
      "\u001b[1;310mDEBUG\u001b[1;30m: \u001b[0m\u001b[1;36muse.pimp\u001b[1;30m: \u001b[0m  - lib/python3.9/site-packages/pygame/examples/aliens.py\n",
      "\u001b[1;310mDEBUG\u001b[1;30m: \u001b[0m\u001b[1;36muse.pimp\u001b[1;30m: \u001b[0m  - lib/python3.9/site-packages/pygame/examples/eventlist.py\n",
      "\u001b[1;310mDEBUG\u001b[1;30m: \u001b[0m\u001b[1;36muse.pimp\u001b[1;30m: \u001b[0m  - lib/python3.9/site-packages/pygame/examples/audiocapture.py\n",
      "\u001b[1;310mDEBUG\u001b[1;30m: \u001b[0m\u001b[1;36muse.pimp\u001b[1;30m: \u001b[0m  - lib/python3.9/site-packages/pygame/examples/stars.py\n",
      "\u001b[1;310mDEBUG\u001b[1;30m: \u001b[0m\u001b[1;36muse.pimp\u001b[1;30m: \u001b[0m  - lib/python3.9/site-packages/pygame/examples/sound_array_demos.py\n",
      "\u001b[1;310mDEBUG\u001b[1;30m: \u001b[0m\u001b[1;36muse.pimp\u001b[1;30m: \u001b[0m  - lib/python3.9/site-packages/pygame/examples/scroll.py\n",
      "\u001b[1;310mDEBUG\u001b[1;30m: \u001b[0m\u001b[1;36muse.pimp\u001b[1;30m: \u001b[0m  - lib/python3.9/site-packages/pygame/examples/blit_blends.py\n",
      "\u001b[1;310mDEBUG\u001b[1;30m: \u001b[0m\u001b[1;36muse.pimp\u001b[1;30m: \u001b[0m  - lib/python3.9/site-packages/pygame/examples/moveit.py\n",
      "\u001b[1;310mDEBUG\u001b[1;30m: \u001b[0m\u001b[1;36muse.pimp\u001b[1;30m: \u001b[0m  - lib/python3.9/site-packages/pygame/examples/video.py\n",
      "\u001b[1;310mDEBUG\u001b[1;30m: \u001b[0m\u001b[1;36muse.pimp\u001b[1;30m: \u001b[0m  - lib/python3.9/site-packages/pygame/examples/headless_no_windows_needed.py\n",
      "\u001b[1;310mDEBUG\u001b[1;30m: \u001b[0m\u001b[1;36muse.pimp\u001b[1;30m: \u001b[0m  - lib/python3.9/site-packages/pygame/examples/aacircle.py\n",
      "\u001b[1;310mDEBUG\u001b[1;30m: \u001b[0m\u001b[1;36muse.pimp\u001b[1;30m: \u001b[0m  - lib/python3.9/site-packages/pygame/examples/midi.py\n",
      "\u001b[1;310mDEBUG\u001b[1;30m: \u001b[0m\u001b[1;36muse.pimp\u001b[1;30m: \u001b[0m  - lib/python3.9/site-packages/pygame/examples/chimp.py\n",
      "\u001b[1;310mDEBUG\u001b[1;30m: \u001b[0m\u001b[1;36muse.pimp\u001b[1;30m: \u001b[0m  - lib/python3.9/site-packages/pygame/examples/camera.py\n",
      "\u001b[1;310mDEBUG\u001b[1;30m: \u001b[0m\u001b[1;36muse.pimp\u001b[1;30m: \u001b[0m  - lib/python3.9/site-packages/pygame/examples/fonty.py\n",
      "\u001b[1;310mDEBUG\u001b[1;30m: \u001b[0m\u001b[1;36muse.pimp\u001b[1;30m: \u001b[0m  - lib/python3.9/site-packages/pygame/examples/pixelarray.py\n",
      "\u001b[1;310mDEBUG\u001b[1;30m: \u001b[0m\u001b[1;36muse.pimp\u001b[1;30m: \u001b[0m  - lib/python3.9/site-packages/pygame/examples/vgrade.py\n",
      "\u001b[1;310mDEBUG\u001b[1;30m: \u001b[0m\u001b[1;36muse.pimp\u001b[1;30m: \u001b[0m  - lib/python3.9/site-packages/pygame/examples/testsprite.py\n",
      "\u001b[1;310mDEBUG\u001b[1;30m: \u001b[0m\u001b[1;36muse.pimp\u001b[1;30m: \u001b[0m  - lib/python3.9/site-packages/pygame/examples/glcube.py\n",
      "\u001b[1;310mDEBUG\u001b[1;30m: \u001b[0m\u001b[1;36muse.pimp\u001b[1;30m: \u001b[0m  - lib/python3.9/site-packages/pygame/examples/freetype_misc.py\n",
      "\u001b[1;310mDEBUG\u001b[1;30m: \u001b[0m\u001b[1;36muse.pimp\u001b[1;30m: \u001b[0m  - lib/python3.9/site-packages/pygame/examples/scrap_clipboard.py\n",
      "\u001b[1;310mDEBUG\u001b[1;30m: \u001b[0m\u001b[1;36muse.pimp\u001b[1;30m: \u001b[0m  - lib/python3.9/site-packages/pygame/examples/arraydemo.py\n",
      "\u001b[1;310mDEBUG\u001b[1;30m: \u001b[0m\u001b[1;36muse.pimp\u001b[1;30m: \u001b[0m  - lib/python3.9/site-packages/pygame/examples/data\n",
      "\u001b[1;310mDEBUG\u001b[1;30m: \u001b[0m\u001b[1;36muse.pimp\u001b[1;30m: \u001b[0m  - lib/python3.9/site-packages/pygame/examples/__init__.py\n",
      "\u001b[1;310mDEBUG\u001b[1;30m: \u001b[0m\u001b[1;36muse.pimp\u001b[1;30m: \u001b[0m  - lib/python3.9/site-packages/pygame/examples/music_drop_fade.py\n",
      "\u001b[1;310mDEBUG\u001b[1;30m: \u001b[0m\u001b[1;36muse.pimp\u001b[1;30m: \u001b[0m  - lib/python3.9/site-packages/pygame/examples/resizing_new.py\n",
      "\u001b[1;310mDEBUG\u001b[1;30m: \u001b[0m\u001b[1;36muse.pimp\u001b[1;30m: \u001b[0m  - lib/python3.9/site-packages/pygame/examples/prevent_display_stretching.py\n",
      "\u001b[1;310mDEBUG\u001b[1;30m: \u001b[0m\u001b[1;36muse.pimp\u001b[1;30m: \u001b[0m  - lib/python3.9/site-packages/pygame/examples/textinput.py\n",
      "\u001b[1;310mDEBUG\u001b[1;30m: \u001b[0m\u001b[1;36muse.pimp\u001b[1;30m: \u001b[0m  - lib/python3.9/site-packages/pygame/examples/playmus.py\n",
      "\u001b[1;310mDEBUG\u001b[1;30m: \u001b[0m\u001b[1;36muse.pimp\u001b[1;30m: \u001b[0m  - lib/python3.9/site-packages/pygame/examples/go_over_there.py\n",
      "\u001b[1;310mDEBUG\u001b[1;30m: \u001b[0m\u001b[1;36muse.pimp\u001b[1;30m: \u001b[0m  - lib/python3.9/site-packages/pygame/examples/__pycache__/dropevent.cpython-39.pyc\n",
      "\u001b[1;310mDEBUG\u001b[1;30m: \u001b[0m\u001b[1;36muse.pimp\u001b[1;30m: \u001b[0m  - lib/python3.9/site-packages/pygame/examples/__pycache__/mask.cpython-39.pyc\n",
      "\u001b[1;310mDEBUG\u001b[1;30m: \u001b[0m\u001b[1;36muse.pimp\u001b[1;30m: \u001b[0m  - lib/python3.9/site-packages/pygame/examples/__pycache__/joystick.cpython-39.pyc\n",
      "\u001b[1;310mDEBUG\u001b[1;30m: \u001b[0m\u001b[1;36muse.pimp\u001b[1;30m: \u001b[0m  - lib/python3.9/site-packages/pygame/examples/__pycache__/arraydemo.cpython-39.pyc\n",
      "\u001b[1;310mDEBUG\u001b[1;30m: \u001b[0m\u001b[1;36muse.pimp\u001b[1;30m: \u001b[0m  - lib/python3.9/site-packages/pygame/examples/__pycache__/blend_fill.cpython-39.pyc\n",
      "\u001b[1;310mDEBUG\u001b[1;30m: \u001b[0m\u001b[1;36muse.pimp\u001b[1;30m: \u001b[0m  - lib/python3.9/site-packages/pygame/examples/__pycache__/resizing_new.cpython-39.pyc\n",
      "\u001b[1;310mDEBUG\u001b[1;30m: \u001b[0m\u001b[1;36muse.pimp\u001b[1;30m: \u001b[0m  - lib/python3.9/site-packages/pygame/examples/__pycache__/aliens.cpython-39.pyc\n",
      "\u001b[1;310mDEBUG\u001b[1;30m: \u001b[0m\u001b[1;36muse.pimp\u001b[1;30m: \u001b[0m  - lib/python3.9/site-packages/pygame/examples/__pycache__/go_over_there.cpython-39.pyc\n",
      "\u001b[1;310mDEBUG\u001b[1;30m: \u001b[0m\u001b[1;36muse.pimp\u001b[1;30m: \u001b[0m  - lib/python3.9/site-packages/pygame/examples/__pycache__/sprite_texture.cpython-39.pyc\n",
      "\u001b[1;310mDEBUG\u001b[1;30m: \u001b[0m\u001b[1;36muse.pimp\u001b[1;30m: \u001b[0m  - lib/python3.9/site-packages/pygame/examples/__pycache__/liquid.cpython-39.pyc\n",
      "\u001b[1;310mDEBUG\u001b[1;30m: \u001b[0m\u001b[1;36muse.pimp\u001b[1;30m: \u001b[0m  - lib/python3.9/site-packages/pygame/examples/__pycache__/headless_no_windows_needed.cpython-39.pyc\n",
      "\u001b[1;310mDEBUG\u001b[1;30m: \u001b[0m\u001b[1;36muse.pimp\u001b[1;30m: \u001b[0m  - lib/python3.9/site-packages/pygame/examples/__pycache__/stars.cpython-39.pyc\n",
      "\u001b[1;310mDEBUG\u001b[1;30m: \u001b[0m\u001b[1;36muse.pimp\u001b[1;30m: \u001b[0m  - lib/python3.9/site-packages/pygame/examples/__pycache__/playmus.cpython-39.pyc\n",
      "\u001b[1;310mDEBUG\u001b[1;30m: \u001b[0m\u001b[1;36muse.pimp\u001b[1;30m: \u001b[0m  - lib/python3.9/site-packages/pygame/examples/__pycache__/cursors.cpython-39.pyc\n",
      "\u001b[1;310mDEBUG\u001b[1;30m: \u001b[0m\u001b[1;36muse.pimp\u001b[1;30m: \u001b[0m  - lib/python3.9/site-packages/pygame/examples/__pycache__/freetype_misc.cpython-39.pyc\n",
      "\u001b[1;310mDEBUG\u001b[1;30m: \u001b[0m\u001b[1;36muse.pimp\u001b[1;30m: \u001b[0m  - lib/python3.9/site-packages/pygame/examples/__pycache__/__init__.cpython-39.pyc\n",
      "\u001b[1;310mDEBUG\u001b[1;30m: \u001b[0m\u001b[1;36muse.pimp\u001b[1;30m: \u001b[0m  - lib/python3.9/site-packages/pygame/examples/__pycache__/chimp.cpython-39.pyc\n",
      "\u001b[1;310mDEBUG\u001b[1;30m: \u001b[0m\u001b[1;36muse.pimp\u001b[1;30m: \u001b[0m  - lib/python3.9/site-packages/pygame/examples/__pycache__/sound.cpython-39.pyc\n",
      "\u001b[1;310mDEBUG\u001b[1;30m: \u001b[0m\u001b[1;36muse.pimp\u001b[1;30m: \u001b[0m  - lib/python3.9/site-packages/pygame/examples/__pycache__/setmodescale.cpython-39.pyc\n",
      "\u001b[1;310mDEBUG\u001b[1;30m: \u001b[0m\u001b[1;36muse.pimp\u001b[1;30m: \u001b[0m  - lib/python3.9/site-packages/pygame/examples/__pycache__/audiocapture.cpython-39.pyc\n",
      "\u001b[1;310mDEBUG\u001b[1;30m: \u001b[0m\u001b[1;36muse.pimp\u001b[1;30m: \u001b[0m  - lib/python3.9/site-packages/pygame/examples/__pycache__/camera.cpython-39.pyc\n",
      "\u001b[1;310mDEBUG\u001b[1;30m: \u001b[0m\u001b[1;36muse.pimp\u001b[1;30m: \u001b[0m  - lib/python3.9/site-packages/pygame/examples/__pycache__/vgrade.cpython-39.pyc\n",
      "\u001b[1;310mDEBUG\u001b[1;30m: \u001b[0m\u001b[1;36muse.pimp\u001b[1;30m: \u001b[0m  - lib/python3.9/site-packages/pygame/examples/__pycache__/scroll.cpython-39.pyc\n",
      "\u001b[1;310mDEBUG\u001b[1;30m: \u001b[0m\u001b[1;36muse.pimp\u001b[1;30m: \u001b[0m  - lib/python3.9/site-packages/pygame/examples/__pycache__/video.cpython-39.pyc\n",
      "\u001b[1;310mDEBUG\u001b[1;30m: \u001b[0m\u001b[1;36muse.pimp\u001b[1;30m: \u001b[0m  - lib/python3.9/site-packages/pygame/examples/__pycache__/eventlist.cpython-39.pyc\n",
      "\u001b[1;310mDEBUG\u001b[1;30m: \u001b[0m\u001b[1;36muse.pimp\u001b[1;30m: \u001b[0m  - lib/python3.9/site-packages/pygame/examples/__pycache__/aacircle.cpython-39.pyc\n",
      "\u001b[1;310mDEBUG\u001b[1;30m: \u001b[0m\u001b[1;36muse.pimp\u001b[1;30m: \u001b[0m  - lib/python3.9/site-packages/pygame/examples/__pycache__/moveit.cpython-39.pyc\n",
      "\u001b[1;310mDEBUG\u001b[1;30m: \u001b[0m\u001b[1;36muse.pimp\u001b[1;30m: \u001b[0m  - lib/python3.9/site-packages/pygame/examples/__pycache__/glcube.cpython-39.pyc\n",
      "\u001b[1;310mDEBUG\u001b[1;30m: \u001b[0m\u001b[1;36muse.pimp\u001b[1;30m: \u001b[0m  - lib/python3.9/site-packages/pygame/examples/__pycache__/fonty.cpython-39.pyc\n",
      "\u001b[1;310mDEBUG\u001b[1;30m: \u001b[0m\u001b[1;36muse.pimp\u001b[1;30m: \u001b[0m  - lib/python3.9/site-packages/pygame/examples/__pycache__/sound_array_demos.cpython-39.pyc\n",
      "\u001b[1;310mDEBUG\u001b[1;30m: \u001b[0m\u001b[1;36muse.pimp\u001b[1;30m: \u001b[0m  - lib/python3.9/site-packages/pygame/examples/__pycache__/testsprite.cpython-39.pyc\n",
      "\u001b[1;310mDEBUG\u001b[1;30m: \u001b[0m\u001b[1;36muse.pimp\u001b[1;30m: \u001b[0m  - lib/python3.9/site-packages/pygame/examples/__pycache__/font_viewer.cpython-39.pyc\n",
      "\u001b[1;310mDEBUG\u001b[1;30m: \u001b[0m\u001b[1;36muse.pimp\u001b[1;30m: \u001b[0m  - lib/python3.9/site-packages/pygame/examples/__pycache__/scaletest.cpython-39.pyc\n",
      "\u001b[1;310mDEBUG\u001b[1;30m: \u001b[0m\u001b[1;36muse.pimp\u001b[1;30m: \u001b[0m  - lib/python3.9/site-packages/pygame/examples/__pycache__/textinput.cpython-39.pyc\n",
      "\u001b[1;310mDEBUG\u001b[1;30m: \u001b[0m\u001b[1;36muse.pimp\u001b[1;30m: \u001b[0m  - lib/python3.9/site-packages/pygame/examples/__pycache__/blit_blends.cpython-39.pyc\n",
      "\u001b[1;310mDEBUG\u001b[1;30m: \u001b[0m\u001b[1;36muse.pimp\u001b[1;30m: \u001b[0m  - lib/python3.9/site-packages/pygame/examples/__pycache__/midi.cpython-39.pyc\n",
      "\u001b[1;310mDEBUG\u001b[1;30m: \u001b[0m\u001b[1;36muse.pimp\u001b[1;30m: \u001b[0m  - lib/python3.9/site-packages/pygame/examples/__pycache__/pixelarray.cpython-39.pyc\n",
      "\u001b[1;310mDEBUG\u001b[1;30m: \u001b[0m\u001b[1;36muse.pimp\u001b[1;30m: \u001b[0m  - lib/python3.9/site-packages/pygame/examples/__pycache__/prevent_display_stretching.cpython-39.pyc\n",
      "\u001b[1;310mDEBUG\u001b[1;30m: \u001b[0m\u001b[1;36muse.pimp\u001b[1;30m: \u001b[0m  - lib/python3.9/site-packages/pygame/examples/__pycache__/music_drop_fade.cpython-39.pyc\n",
      "\u001b[1;310mDEBUG\u001b[1;30m: \u001b[0m\u001b[1;36muse.pimp\u001b[1;30m: \u001b[0m  - lib/python3.9/site-packages/pygame/examples/__pycache__/scrap_clipboard.cpython-39.pyc\n",
      "\u001b[1;310mDEBUG\u001b[1;30m: \u001b[0m\u001b[1;36muse.pimp\u001b[1;30m: \u001b[0m  - lib/python3.9/site-packages/pygame/examples/data/crimson.pnm\n",
      "\u001b[1;310mDEBUG\u001b[1;30m: \u001b[0m\u001b[1;36muse.pimp\u001b[1;30m: \u001b[0m  - lib/python3.9/site-packages/pygame/examples/data/alien3.gif\n",
      "\u001b[1;310mDEBUG\u001b[1;30m: \u001b[0m\u001b[1;36muse.pimp\u001b[1;30m: \u001b[0m  - lib/python3.9/site-packages/pygame/examples/data/turquoise.tif\n",
      "\u001b[1;310mDEBUG\u001b[1;30m: \u001b[0m\u001b[1;36muse.pimp\u001b[1;30m: \u001b[0m  - lib/python3.9/site-packages/pygame/examples/data/alien1.png\n",
      "\u001b[1;310mDEBUG\u001b[1;30m: \u001b[0m\u001b[1;36muse.pimp\u001b[1;30m: \u001b[0m  - lib/python3.9/site-packages/pygame/examples/data/secosmic_lo.wav\n",
      "\u001b[1;310mDEBUG\u001b[1;30m: \u001b[0m\u001b[1;36muse.pimp\u001b[1;30m: \u001b[0m  - lib/python3.9/site-packages/pygame/examples/data/black.ppm\n",
      "\u001b[1;310mDEBUG\u001b[1;30m: \u001b[0m\u001b[1;36muse.pimp\u001b[1;30m: \u001b[0m  - lib/python3.9/site-packages/pygame/examples/data/alien1.gif\n",
      "\u001b[1;310mDEBUG\u001b[1;30m: \u001b[0m\u001b[1;36muse.pimp\u001b[1;30m: \u001b[0m  - lib/python3.9/site-packages/pygame/examples/data/boom.wav\n",
      "\u001b[1;310mDEBUG\u001b[1;30m: \u001b[0m\u001b[1;36muse.pimp\u001b[1;30m: \u001b[0m  - lib/python3.9/site-packages/pygame/examples/data/chimp.png\n",
      "\u001b[1;310mDEBUG\u001b[1;30m: \u001b[0m\u001b[1;36muse.pimp\u001b[1;30m: \u001b[0m  - lib/python3.9/site-packages/pygame/examples/data/arraydemo.bmp\n",
      "\u001b[1;310mDEBUG\u001b[1;30m: \u001b[0m\u001b[1;36muse.pimp\u001b[1;30m: \u001b[0m  - lib/python3.9/site-packages/pygame/examples/data/green.pcx\n",
      "\u001b[1;310mDEBUG\u001b[1;30m: \u001b[0m\u001b[1;36muse.pimp\u001b[1;30m: \u001b[0m  - lib/python3.9/site-packages/pygame/examples/data/teal.svg\n",
      "\u001b[1;310mDEBUG\u001b[1;30m: \u001b[0m\u001b[1;36muse.pimp\u001b[1;30m: \u001b[0m  - lib/python3.9/site-packages/pygame/examples/data/punch.wav\n",
      "\u001b[1;310mDEBUG\u001b[1;30m: \u001b[0m\u001b[1;36muse.pimp\u001b[1;30m: \u001b[0m  - lib/python3.9/site-packages/pygame/examples/data/alien1.jpg\n",
      "\u001b[1;310mDEBUG\u001b[1;30m: \u001b[0m\u001b[1;36muse.pimp\u001b[1;30m: \u001b[0m  - lib/python3.9/site-packages/pygame/examples/data/sans.ttf\n",
      "\u001b[1;310mDEBUG\u001b[1;30m: \u001b[0m\u001b[1;36muse.pimp\u001b[1;30m: \u001b[0m  - lib/python3.9/site-packages/pygame/examples/data/grey.pgm\n",
      "\u001b[1;310mDEBUG\u001b[1;30m: \u001b[0m\u001b[1;36muse.pimp\u001b[1;30m: \u001b[0m  - lib/python3.9/site-packages/pygame/examples/data/purple.xpm\n",
      "\u001b[1;310mDEBUG\u001b[1;30m: \u001b[0m\u001b[1;36muse.pimp\u001b[1;30m: \u001b[0m  - lib/python3.9/site-packages/pygame/examples/data/liquid.bmp\n",
      "\u001b[1;310mDEBUG\u001b[1;30m: \u001b[0m\u001b[1;36muse.pimp\u001b[1;30m: \u001b[0m  - lib/python3.9/site-packages/pygame/examples/data/alien3.png\n",
      "\u001b[1;310mDEBUG\u001b[1;30m: \u001b[0m\u001b[1;36muse.pimp\u001b[1;30m: \u001b[0m  - lib/python3.9/site-packages/pygame/examples/data/laplacian.png\n",
      "\u001b[1;310mDEBUG\u001b[1;30m: \u001b[0m\u001b[1;36muse.pimp\u001b[1;30m: \u001b[0m  - lib/python3.9/site-packages/pygame/examples/data/background.gif\n",
      "\u001b[1;310mDEBUG\u001b[1;30m: \u001b[0m\u001b[1;36muse.pimp\u001b[1;30m: \u001b[0m  - lib/python3.9/site-packages/pygame/examples/data/alien2.png\n",
      "\u001b[1;310mDEBUG\u001b[1;30m: \u001b[0m\u001b[1;36muse.pimp\u001b[1;30m: \u001b[0m  - lib/python3.9/site-packages/pygame/examples/data/red.jpg\n",
      "\u001b[1;310mDEBUG\u001b[1;30m: \u001b[0m\u001b[1;36muse.pimp\u001b[1;30m: \u001b[0m  - lib/python3.9/site-packages/pygame/examples/data/house_lo.wav\n",
      "\u001b[1;310mDEBUG\u001b[1;30m: \u001b[0m\u001b[1;36muse.pimp\u001b[1;30m: \u001b[0m  - lib/python3.9/site-packages/pygame/examples/data/static.png\n",
      "\u001b[1;310mDEBUG\u001b[1;30m: \u001b[0m\u001b[1;36muse.pimp\u001b[1;30m: \u001b[0m  - lib/python3.9/site-packages/pygame/examples/data/player1.gif\n",
      "\u001b[1;310mDEBUG\u001b[1;30m: \u001b[0m\u001b[1;36muse.pimp\u001b[1;30m: \u001b[0m  - lib/python3.9/site-packages/pygame/examples/data/BGR.png\n",
      "\u001b[1;310mDEBUG\u001b[1;30m: \u001b[0m\u001b[1;36muse.pimp\u001b[1;30m: \u001b[0m  - lib/python3.9/site-packages/pygame/examples/data/brick.png\n",
      "\u001b[1;310mDEBUG\u001b[1;30m: \u001b[0m\u001b[1;36muse.pimp\u001b[1;30m: \u001b[0m  - lib/python3.9/site-packages/pygame/examples/data/cursor.png\n",
      "\u001b[1;310mDEBUG\u001b[1;30m: \u001b[0m\u001b[1;36muse.pimp\u001b[1;30m: \u001b[0m  - lib/python3.9/site-packages/pygame/examples/data/city.png\n",
      "\u001b[1;310mDEBUG\u001b[1;30m: \u001b[0m\u001b[1;36muse.pimp\u001b[1;30m: \u001b[0m  - lib/python3.9/site-packages/pygame/examples/data/shot.gif\n",
      "\u001b[1;310mDEBUG\u001b[1;30m: \u001b[0m\u001b[1;36muse.pimp\u001b[1;30m: \u001b[0m  - lib/python3.9/site-packages/pygame/examples/data/car_door.wav\n",
      "\u001b[1;310mDEBUG\u001b[1;30m: \u001b[0m\u001b[1;36muse.pimp\u001b[1;30m: \u001b[0m  - lib/python3.9/site-packages/pygame/examples/data/danger.gif\n",
      "\u001b[1;310mDEBUG\u001b[1;30m: \u001b[0m\u001b[1;36muse.pimp\u001b[1;30m: \u001b[0m  - lib/python3.9/site-packages/pygame/examples/data/scarlet.webp\n",
      "\u001b[1;310mDEBUG\u001b[1;30m: \u001b[0m\u001b[1;36muse.pimp\u001b[1;30m: \u001b[0m  - lib/python3.9/site-packages/pygame/examples/data/midikeys.png\n",
      "\u001b[1;310mDEBUG\u001b[1;30m: \u001b[0m\u001b[1;36muse.pimp\u001b[1;30m: \u001b[0m  - lib/python3.9/site-packages/pygame/examples/data/yellow.tga\n",
      "\u001b[1;310mDEBUG\u001b[1;30m: \u001b[0m\u001b[1;36muse.pimp\u001b[1;30m: \u001b[0m  - lib/python3.9/site-packages/pygame/examples/data/asprite.bmp\n",
      "\u001b[1;310mDEBUG\u001b[1;30m: \u001b[0m\u001b[1;36muse.pimp\u001b[1;30m: \u001b[0m  - lib/python3.9/site-packages/pygame/examples/data/fist.png\n",
      "\u001b[1;310mDEBUG\u001b[1;30m: \u001b[0m\u001b[1;36muse.pimp\u001b[1;30m: \u001b[0m  - lib/python3.9/site-packages/pygame/examples/data/blue.mpg\n",
      "\u001b[1;310mDEBUG\u001b[1;30m: \u001b[0m\u001b[1;36muse.pimp\u001b[1;30m: \u001b[0m  - lib/python3.9/site-packages/pygame/examples/data/house_lo.mp3\n",
      "\u001b[1;310mDEBUG\u001b[1;30m: \u001b[0m\u001b[1;36muse.pimp\u001b[1;30m: \u001b[0m  - lib/python3.9/site-packages/pygame/examples/data/alien2.gif\n",
      "\u001b[1;310mDEBUG\u001b[1;30m: \u001b[0m\u001b[1;36muse.pimp\u001b[1;30m: \u001b[0m  - lib/python3.9/site-packages/pygame/examples/data/house_lo.ogg\n",
      "\u001b[1;310mDEBUG\u001b[1;30m: \u001b[0m\u001b[1;36muse.pimp\u001b[1;30m: \u001b[0m  - lib/python3.9/site-packages/pygame/examples/data/whiff.wav\n",
      "\u001b[1;310mDEBUG\u001b[1;30m: \u001b[0m\u001b[1;36muse.pimp\u001b[1;30m: \u001b[0m  - lib/python3.9/site-packages/pygame/examples/data/explosion1.gif\n",
      "\u001b[1;310mDEBUG\u001b[1;30m: \u001b[0m\u001b[1;36muse.pimp\u001b[1;30m: \u001b[0m  - lib/python3.9/site-packages/pygame/examples/data/bomb.gif\n",
      "\u001b[1;310mDEBUG\u001b[1;30m: \u001b[0m\u001b[1;36muse.pimp\u001b[1;30m: \u001b[0m  - lib/python3.9/site-packages/pygame/examples/data/blue.gif\n",
      "\u001b[1;310mDEBUG\u001b[1;30m: \u001b[0m\u001b[1;36muse.pimp\u001b[1;30m: \u001b[0m  - lib/python3.9/site-packages/pygame/_sdl2/audio.pyi\n",
      "\u001b[1;310mDEBUG\u001b[1;30m: \u001b[0m\u001b[1;36muse.pimp\u001b[1;30m: \u001b[0m  - lib/python3.9/site-packages/pygame/_sdl2/video.pyi\n",
      "\u001b[1;310mDEBUG\u001b[1;30m: \u001b[0m\u001b[1;36muse.pimp\u001b[1;30m: \u001b[0m  - lib/python3.9/site-packages/pygame/_sdl2/touch.cpython-39-x86_64-linux-gnu.so\n",
      "\u001b[1;310mDEBUG\u001b[1;30m: \u001b[0m\u001b[1;36muse.pimp\u001b[1;30m: \u001b[0m  - lib/python3.9/site-packages/pygame/_sdl2/__pycache__\n",
      "\u001b[1;310mDEBUG\u001b[1;30m: \u001b[0m\u001b[1;36muse.pimp\u001b[1;30m: \u001b[0m  - lib/python3.9/site-packages/pygame/_sdl2/sdl2.pyi\n",
      "\u001b[1;310mDEBUG\u001b[1;30m: \u001b[0m\u001b[1;36muse.pimp\u001b[1;30m: \u001b[0m  - lib/python3.9/site-packages/pygame/_sdl2/audio.cpython-39-x86_64-linux-gnu.so\n",
      "\u001b[1;310mDEBUG\u001b[1;30m: \u001b[0m\u001b[1;36muse.pimp\u001b[1;30m: \u001b[0m  - lib/python3.9/site-packages/pygame/_sdl2/__init__.pyi\n",
      "\u001b[1;310mDEBUG\u001b[1;30m: \u001b[0m\u001b[1;36muse.pimp\u001b[1;30m: \u001b[0m  - lib/python3.9/site-packages/pygame/_sdl2/mixer.cpython-39-x86_64-linux-gnu.so\n",
      "\u001b[1;310mDEBUG\u001b[1;30m: \u001b[0m\u001b[1;36muse.pimp\u001b[1;30m: \u001b[0m  - lib/python3.9/site-packages/pygame/_sdl2/controller.pyi\n",
      "\u001b[1;310mDEBUG\u001b[1;30m: \u001b[0m\u001b[1;36muse.pimp\u001b[1;30m: \u001b[0m  - lib/python3.9/site-packages/pygame/_sdl2/video.cpython-39-x86_64-linux-gnu.so\n",
      "\u001b[1;310mDEBUG\u001b[1;30m: \u001b[0m\u001b[1;36muse.pimp\u001b[1;30m: \u001b[0m  - lib/python3.9/site-packages/pygame/_sdl2/controller.cpython-39-x86_64-linux-gnu.so\n",
      "\u001b[1;310mDEBUG\u001b[1;30m: \u001b[0m\u001b[1;36muse.pimp\u001b[1;30m: \u001b[0m  - lib/python3.9/site-packages/pygame/_sdl2/__init__.py\n",
      "\u001b[1;310mDEBUG\u001b[1;30m: \u001b[0m\u001b[1;36muse.pimp\u001b[1;30m: \u001b[0m  - lib/python3.9/site-packages/pygame/_sdl2/sdl2.cpython-39-x86_64-linux-gnu.so\n",
      "\u001b[1;310mDEBUG\u001b[1;30m: \u001b[0m\u001b[1;36muse.pimp\u001b[1;30m: \u001b[0m  - lib/python3.9/site-packages/pygame/_sdl2/touch.pyi\n",
      "\u001b[1;310mDEBUG\u001b[1;30m: \u001b[0m\u001b[1;36muse.pimp\u001b[1;30m: \u001b[0m  - lib/python3.9/site-packages/pygame/_sdl2/__pycache__/__init__.cpython-39.pyc\n",
      "\u001b[1;310mDEBUG\u001b[1;30m: \u001b[0m\u001b[1;36muse.pimp\u001b[1;30m: \u001b[0m  - lib/python3.9/site-packages/pygame/docs/__pycache__\n",
      "\u001b[1;310mDEBUG\u001b[1;30m: \u001b[0m\u001b[1;36muse.pimp\u001b[1;30m: \u001b[0m  - lib/python3.9/site-packages/pygame/docs/__main__.py\n",
      "\u001b[1;310mDEBUG\u001b[1;30m: \u001b[0m\u001b[1;36muse.pimp\u001b[1;30m: \u001b[0m  - lib/python3.9/site-packages/pygame/docs/generated\n",
      "\u001b[1;310mDEBUG\u001b[1;30m: \u001b[0m\u001b[1;36muse.pimp\u001b[1;30m: \u001b[0m  - lib/python3.9/site-packages/pygame/docs/__pycache__/__main__.cpython-39.pyc\n",
      "\u001b[1;310mDEBUG\u001b[1;30m: \u001b[0m\u001b[1;36muse.pimp\u001b[1;30m: \u001b[0m  - lib/python3.9/site-packages/pygame/docs/generated/c_api\n",
      "\u001b[1;310mDEBUG\u001b[1;30m: \u001b[0m\u001b[1;36muse.pimp\u001b[1;30m: \u001b[0m  - lib/python3.9/site-packages/pygame/docs/generated/index.html\n",
      "\u001b[1;310mDEBUG\u001b[1;30m: \u001b[0m\u001b[1;36muse.pimp\u001b[1;30m: \u001b[0m  - lib/python3.9/site-packages/pygame/docs/generated/ref\n",
      "\u001b[1;310mDEBUG\u001b[1;30m: \u001b[0m\u001b[1;36muse.pimp\u001b[1;30m: \u001b[0m  - lib/python3.9/site-packages/pygame/docs/generated/tut\n",
      "\u001b[1;310mDEBUG\u001b[1;30m: \u001b[0m\u001b[1;36muse.pimp\u001b[1;30m: \u001b[0m  - lib/python3.9/site-packages/pygame/docs/generated/py-modindex.html\n",
      "\u001b[1;310mDEBUG\u001b[1;30m: \u001b[0m\u001b[1;36muse.pimp\u001b[1;30m: \u001b[0m  - lib/python3.9/site-packages/pygame/docs/generated/genindex.html\n",
      "\u001b[1;310mDEBUG\u001b[1;30m: \u001b[0m\u001b[1;36muse.pimp\u001b[1;30m: \u001b[0m  - lib/python3.9/site-packages/pygame/docs/generated/search.html\n",
      "\u001b[1;310mDEBUG\u001b[1;30m: \u001b[0m\u001b[1;36muse.pimp\u001b[1;30m: \u001b[0m  - lib/python3.9/site-packages/pygame/docs/generated/_sources\n",
      "\u001b[1;310mDEBUG\u001b[1;30m: \u001b[0m\u001b[1;36muse.pimp\u001b[1;30m: \u001b[0m  - lib/python3.9/site-packages/pygame/docs/generated/searchindex.js\n",
      "\u001b[1;310mDEBUG\u001b[1;30m: \u001b[0m\u001b[1;36muse.pimp\u001b[1;30m: \u001b[0m  - lib/python3.9/site-packages/pygame/docs/generated/filepaths.html\n",
      "\u001b[1;310mDEBUG\u001b[1;30m: \u001b[0m\u001b[1;36muse.pimp\u001b[1;30m: \u001b[0m  - lib/python3.9/site-packages/pygame/docs/generated/_static\n",
      "\u001b[1;310mDEBUG\u001b[1;30m: \u001b[0m\u001b[1;36muse.pimp\u001b[1;30m: \u001b[0m  - lib/python3.9/site-packages/pygame/docs/generated/c_api.html\n",
      "\u001b[1;310mDEBUG\u001b[1;30m: \u001b[0m\u001b[1;36muse.pimp\u001b[1;30m: \u001b[0m  - lib/python3.9/site-packages/pygame/docs/generated/_images\n",
      "\u001b[1;310mDEBUG\u001b[1;30m: \u001b[0m\u001b[1;36muse.pimp\u001b[1;30m: \u001b[0m  - lib/python3.9/site-packages/pygame/docs/generated/c_api/bufferproxy.html\n",
      "\u001b[1;310mDEBUG\u001b[1;30m: \u001b[0m\u001b[1;36muse.pimp\u001b[1;30m: \u001b[0m  - lib/python3.9/site-packages/pygame/docs/generated/c_api/slots.html\n",
      "\u001b[1;310mDEBUG\u001b[1;30m: \u001b[0m\u001b[1;36muse.pimp\u001b[1;30m: \u001b[0m  - lib/python3.9/site-packages/pygame/docs/generated/c_api/rwobject.html\n",
      "\u001b[1;310mDEBUG\u001b[1;30m: \u001b[0m\u001b[1;36muse.pimp\u001b[1;30m: \u001b[0m  - lib/python3.9/site-packages/pygame/docs/generated/c_api/display.html\n",
      "\u001b[1;310mDEBUG\u001b[1;30m: \u001b[0m\u001b[1;36muse.pimp\u001b[1;30m: \u001b[0m  - lib/python3.9/site-packages/pygame/docs/generated/c_api/event.html\n",
      "\u001b[1;310mDEBUG\u001b[1;30m: \u001b[0m\u001b[1;36muse.pimp\u001b[1;30m: \u001b[0m  - lib/python3.9/site-packages/pygame/docs/generated/c_api/color.html\n",
      "\u001b[1;310mDEBUG\u001b[1;30m: \u001b[0m\u001b[1;36muse.pimp\u001b[1;30m: \u001b[0m  - lib/python3.9/site-packages/pygame/docs/generated/c_api/freetype.html\n",
      "\u001b[1;310mDEBUG\u001b[1;30m: \u001b[0m\u001b[1;36muse.pimp\u001b[1;30m: \u001b[0m  - lib/python3.9/site-packages/pygame/docs/generated/c_api/base.html\n",
      "\u001b[1;310mDEBUG\u001b[1;30m: \u001b[0m\u001b[1;36muse.pimp\u001b[1;30m: \u001b[0m  - lib/python3.9/site-packages/pygame/docs/generated/c_api/mixer.html\n",
      "\u001b[1;310mDEBUG\u001b[1;30m: \u001b[0m\u001b[1;36muse.pimp\u001b[1;30m: \u001b[0m  - lib/python3.9/site-packages/pygame/docs/generated/c_api/surflock.html\n",
      "\u001b[1;310mDEBUG\u001b[1;30m: \u001b[0m\u001b[1;36muse.pimp\u001b[1;30m: \u001b[0m  - lib/python3.9/site-packages/pygame/docs/generated/c_api/surface.html\n",
      "\u001b[1;310mDEBUG\u001b[1;30m: \u001b[0m\u001b[1;36muse.pimp\u001b[1;30m: \u001b[0m  - lib/python3.9/site-packages/pygame/docs/generated/c_api/rect.html\n",
      "\u001b[1;310mDEBUG\u001b[1;30m: \u001b[0m\u001b[1;36muse.pimp\u001b[1;30m: \u001b[0m  - lib/python3.9/site-packages/pygame/docs/generated/c_api/version.html\n",
      "\u001b[1;310mDEBUG\u001b[1;30m: \u001b[0m\u001b[1;36muse.pimp\u001b[1;30m: \u001b[0m  - lib/python3.9/site-packages/pygame/docs/generated/ref/locals.html\n",
      "\u001b[1;310mDEBUG\u001b[1;30m: \u001b[0m\u001b[1;36muse.pimp\u001b[1;30m: \u001b[0m  - lib/python3.9/site-packages/pygame/docs/generated/ref/music.html\n",
      "\u001b[1;310mDEBUG\u001b[1;30m: \u001b[0m\u001b[1;36muse.pimp\u001b[1;30m: \u001b[0m  - lib/python3.9/site-packages/pygame/docs/generated/ref/bufferproxy.html\n",
      "\u001b[1;310mDEBUG\u001b[1;30m: \u001b[0m\u001b[1;36muse.pimp\u001b[1;30m: \u001b[0m  - lib/python3.9/site-packages/pygame/docs/generated/ref/touch.html\n",
      "\u001b[1;310mDEBUG\u001b[1;30m: \u001b[0m\u001b[1;36muse.pimp\u001b[1;30m: \u001b[0m  - lib/python3.9/site-packages/pygame/docs/generated/ref/cursors.html\n",
      "\u001b[1;310mDEBUG\u001b[1;30m: \u001b[0m\u001b[1;36muse.pimp\u001b[1;30m: \u001b[0m  - lib/python3.9/site-packages/pygame/docs/generated/ref/image.html\n",
      "\u001b[1;310mDEBUG\u001b[1;30m: \u001b[0m\u001b[1;36muse.pimp\u001b[1;30m: \u001b[0m  - lib/python3.9/site-packages/pygame/docs/generated/ref/cdrom.html\n",
      "\u001b[1;310mDEBUG\u001b[1;30m: \u001b[0m\u001b[1;36muse.pimp\u001b[1;30m: \u001b[0m  - lib/python3.9/site-packages/pygame/docs/generated/ref/font.html\n",
      "\u001b[1;310mDEBUG\u001b[1;30m: \u001b[0m\u001b[1;36muse.pimp\u001b[1;30m: \u001b[0m  - lib/python3.9/site-packages/pygame/docs/generated/ref/sndarray.html\n",
      "\u001b[1;310mDEBUG\u001b[1;30m: \u001b[0m\u001b[1;36muse.pimp\u001b[1;30m: \u001b[0m  - lib/python3.9/site-packages/pygame/docs/generated/ref/surfarray.html\n",
      "\u001b[1;310mDEBUG\u001b[1;30m: \u001b[0m\u001b[1;36muse.pimp\u001b[1;30m: \u001b[0m  - lib/python3.9/site-packages/pygame/docs/generated/ref/joystick.html\n",
      "\u001b[1;310mDEBUG\u001b[1;30m: \u001b[0m\u001b[1;36muse.pimp\u001b[1;30m: \u001b[0m  - lib/python3.9/site-packages/pygame/docs/generated/ref/display.html\n",
      "\u001b[1;310mDEBUG\u001b[1;30m: \u001b[0m\u001b[1;36muse.pimp\u001b[1;30m: \u001b[0m  - lib/python3.9/site-packages/pygame/docs/generated/ref/examples.html\n",
      "\u001b[1;310mDEBUG\u001b[1;30m: \u001b[0m\u001b[1;36muse.pimp\u001b[1;30m: \u001b[0m  - lib/python3.9/site-packages/pygame/docs/generated/ref/event.html\n",
      "\u001b[1;310mDEBUG\u001b[1;30m: \u001b[0m\u001b[1;36muse.pimp\u001b[1;30m: \u001b[0m  - lib/python3.9/site-packages/pygame/docs/generated/ref/color.html\n",
      "\u001b[1;310mDEBUG\u001b[1;30m: \u001b[0m\u001b[1;36muse.pimp\u001b[1;30m: \u001b[0m  - lib/python3.9/site-packages/pygame/docs/generated/ref/transform.html\n",
      "\u001b[1;310mDEBUG\u001b[1;30m: \u001b[0m\u001b[1;36muse.pimp\u001b[1;30m: \u001b[0m  - lib/python3.9/site-packages/pygame/docs/generated/ref/freetype.html\n",
      "\u001b[1;310mDEBUG\u001b[1;30m: \u001b[0m\u001b[1;36muse.pimp\u001b[1;30m: \u001b[0m  - lib/python3.9/site-packages/pygame/docs/generated/ref/gfxdraw.html\n",
      "\u001b[1;310mDEBUG\u001b[1;30m: \u001b[0m\u001b[1;36muse.pimp\u001b[1;30m: \u001b[0m  - lib/python3.9/site-packages/pygame/docs/generated/ref/mixer.html\n",
      "\u001b[1;310mDEBUG\u001b[1;30m: \u001b[0m\u001b[1;36muse.pimp\u001b[1;30m: \u001b[0m  - lib/python3.9/site-packages/pygame/docs/generated/ref/overlay.html\n",
      "\u001b[1;310mDEBUG\u001b[1;30m: \u001b[0m\u001b[1;36muse.pimp\u001b[1;30m: \u001b[0m  - lib/python3.9/site-packages/pygame/docs/generated/ref/draw.html\n",
      "\u001b[1;310mDEBUG\u001b[1;30m: \u001b[0m\u001b[1;36muse.pimp\u001b[1;30m: \u001b[0m  - lib/python3.9/site-packages/pygame/docs/generated/ref/mask.html\n",
      "\u001b[1;310mDEBUG\u001b[1;30m: \u001b[0m\u001b[1;36muse.pimp\u001b[1;30m: \u001b[0m  - lib/python3.9/site-packages/pygame/docs/generated/ref/sdl2_video.html\n",
      "\u001b[1;310mDEBUG\u001b[1;30m: \u001b[0m\u001b[1;36muse.pimp\u001b[1;30m: \u001b[0m  - lib/python3.9/site-packages/pygame/docs/generated/ref/pygame.html\n",
      "\u001b[1;310mDEBUG\u001b[1;30m: \u001b[0m\u001b[1;36muse.pimp\u001b[1;30m: \u001b[0m  - lib/python3.9/site-packages/pygame/docs/generated/ref/surface.html\n",
      "\u001b[1;310mDEBUG\u001b[1;30m: \u001b[0m\u001b[1;36muse.pimp\u001b[1;30m: \u001b[0m  - lib/python3.9/site-packages/pygame/docs/generated/ref/sprite.html\n",
      "\u001b[1;310mDEBUG\u001b[1;30m: \u001b[0m\u001b[1;36muse.pimp\u001b[1;30m: \u001b[0m  - lib/python3.9/site-packages/pygame/docs/generated/ref/rect.html\n",
      "\u001b[1;310mDEBUG\u001b[1;30m: \u001b[0m\u001b[1;36muse.pimp\u001b[1;30m: \u001b[0m  - lib/python3.9/site-packages/pygame/docs/generated/ref/midi.html\n",
      "\u001b[1;310mDEBUG\u001b[1;30m: \u001b[0m\u001b[1;36muse.pimp\u001b[1;30m: \u001b[0m  - lib/python3.9/site-packages/pygame/docs/generated/ref/math.html\n",
      "\u001b[1;310mDEBUG\u001b[1;30m: \u001b[0m\u001b[1;36muse.pimp\u001b[1;30m: \u001b[0m  - lib/python3.9/site-packages/pygame/docs/generated/ref/fastevent.html\n",
      "\u001b[1;310mDEBUG\u001b[1;30m: \u001b[0m\u001b[1;36muse.pimp\u001b[1;30m: \u001b[0m  - lib/python3.9/site-packages/pygame/docs/generated/ref/mouse.html\n",
      "\u001b[1;310mDEBUG\u001b[1;30m: \u001b[0m\u001b[1;36muse.pimp\u001b[1;30m: \u001b[0m  - lib/python3.9/site-packages/pygame/docs/generated/ref/sdl2_controller.html\n",
      "\u001b[1;310mDEBUG\u001b[1;30m: \u001b[0m\u001b[1;36muse.pimp\u001b[1;30m: \u001b[0m  - lib/python3.9/site-packages/pygame/docs/generated/ref/scrap.html\n",
      "\u001b[1;310mDEBUG\u001b[1;30m: \u001b[0m\u001b[1;36muse.pimp\u001b[1;30m: \u001b[0m  - lib/python3.9/site-packages/pygame/docs/generated/ref/pixelarray.html\n",
      "\u001b[1;310mDEBUG\u001b[1;30m: \u001b[0m\u001b[1;36muse.pimp\u001b[1;30m: \u001b[0m  - lib/python3.9/site-packages/pygame/docs/generated/ref/time.html\n",
      "\u001b[1;310mDEBUG\u001b[1;30m: \u001b[0m\u001b[1;36muse.pimp\u001b[1;30m: \u001b[0m  - lib/python3.9/site-packages/pygame/docs/generated/ref/tests.html\n",
      "\u001b[1;310mDEBUG\u001b[1;30m: \u001b[0m\u001b[1;36muse.pimp\u001b[1;30m: \u001b[0m  - lib/python3.9/site-packages/pygame/docs/generated/ref/pixelcopy.html\n",
      "\u001b[1;310mDEBUG\u001b[1;30m: \u001b[0m\u001b[1;36muse.pimp\u001b[1;30m: \u001b[0m  - lib/python3.9/site-packages/pygame/docs/generated/ref/camera.html\n",
      "\u001b[1;310mDEBUG\u001b[1;30m: \u001b[0m\u001b[1;36muse.pimp\u001b[1;30m: \u001b[0m  - lib/python3.9/site-packages/pygame/docs/generated/ref/color_list.html\n",
      "\u001b[1;310mDEBUG\u001b[1;30m: \u001b[0m\u001b[1;36muse.pimp\u001b[1;30m: \u001b[0m  - lib/python3.9/site-packages/pygame/docs/generated/ref/key.html\n",
      "\u001b[1;310mDEBUG\u001b[1;30m: \u001b[0m\u001b[1;36muse.pimp\u001b[1;30m: \u001b[0m  - lib/python3.9/site-packages/pygame/docs/generated/tut/PygameIntro.html\n",
      "\u001b[1;310mDEBUG\u001b[1;30m: \u001b[0m\u001b[1;36muse.pimp\u001b[1;30m: \u001b[0m  - lib/python3.9/site-packages/pygame/docs/generated/tut/SurfarrayIntro.html\n",
      "\u001b[1;310mDEBUG\u001b[1;30m: \u001b[0m\u001b[1;36muse.pimp\u001b[1;30m: \u001b[0m  - lib/python3.9/site-packages/pygame/docs/generated/tut/tom_games2.html\n",
      "\u001b[1;310mDEBUG\u001b[1;30m: \u001b[0m\u001b[1;36muse.pimp\u001b[1;30m: \u001b[0m  - lib/python3.9/site-packages/pygame/docs/generated/tut/tom_games3.html\n",
      "\u001b[1;310mDEBUG\u001b[1;30m: \u001b[0m\u001b[1;36muse.pimp\u001b[1;30m: \u001b[0m  - lib/python3.9/site-packages/pygame/docs/generated/tut/ChimpLineByLine.html\n",
      "\u001b[1;310mDEBUG\u001b[1;30m: \u001b[0m\u001b[1;36muse.pimp\u001b[1;30m: \u001b[0m  - lib/python3.9/site-packages/pygame/docs/generated/tut/CameraIntro.html\n",
      "\u001b[1;310mDEBUG\u001b[1;30m: \u001b[0m\u001b[1;36muse.pimp\u001b[1;30m: \u001b[0m  - lib/python3.9/site-packages/pygame/docs/generated/tut/DisplayModes.html\n",
      "\u001b[1;310mDEBUG\u001b[1;30m: \u001b[0m\u001b[1;36muse.pimp\u001b[1;30m: \u001b[0m  - lib/python3.9/site-packages/pygame/docs/generated/tut/SpriteIntro.html\n",
      "\u001b[1;310mDEBUG\u001b[1;30m: \u001b[0m\u001b[1;36muse.pimp\u001b[1;30m: \u001b[0m  - lib/python3.9/site-packages/pygame/docs/generated/tut/newbieguide.html\n",
      "\u001b[1;310mDEBUG\u001b[1;30m: \u001b[0m\u001b[1;36muse.pimp\u001b[1;30m: \u001b[0m  - lib/python3.9/site-packages/pygame/docs/generated/tut/tom_games6.html\n",
      "\u001b[1;310mDEBUG\u001b[1;30m: \u001b[0m\u001b[1;36muse.pimp\u001b[1;30m: \u001b[0m  - lib/python3.9/site-packages/pygame/docs/generated/tut/chimp.py.html\n",
      "\u001b[1;310mDEBUG\u001b[1;30m: \u001b[0m\u001b[1;36muse.pimp\u001b[1;30m: \u001b[0m  - lib/python3.9/site-packages/pygame/docs/generated/tut/MoveIt.html\n",
      "\u001b[1;310mDEBUG\u001b[1;30m: \u001b[0m\u001b[1;36muse.pimp\u001b[1;30m: \u001b[0m  - lib/python3.9/site-packages/pygame/docs/generated/tut/tom_games4.html\n",
      "\u001b[1;310mDEBUG\u001b[1;30m: \u001b[0m\u001b[1;36muse.pimp\u001b[1;30m: \u001b[0m  - lib/python3.9/site-packages/pygame/docs/generated/tut/ImportInit.html\n",
      "\u001b[1;310mDEBUG\u001b[1;30m: \u001b[0m\u001b[1;36muse.pimp\u001b[1;30m: \u001b[0m  - lib/python3.9/site-packages/pygame/docs/generated/tut/tom_games5.html\n",
      "\u001b[1;310mDEBUG\u001b[1;30m: \u001b[0m\u001b[1;36muse.pimp\u001b[1;30m: \u001b[0m  - lib/python3.9/site-packages/pygame/docs/generated/tut/MakeGames.html\n",
      "\u001b[1;310mDEBUG\u001b[1;30m: \u001b[0m\u001b[1;36muse.pimp\u001b[1;30m: \u001b[0m  - lib/python3.9/site-packages/pygame/docs/generated/_sources/index.rst.txt\n",
      "\u001b[1;310mDEBUG\u001b[1;30m: \u001b[0m\u001b[1;36muse.pimp\u001b[1;30m: \u001b[0m  - lib/python3.9/site-packages/pygame/docs/generated/_sources/ref\n",
      "\u001b[1;310mDEBUG\u001b[1;30m: \u001b[0m\u001b[1;36muse.pimp\u001b[1;30m: \u001b[0m  - lib/python3.9/site-packages/pygame/docs/generated/_sources/filepaths.rst.txt\n",
      "\u001b[1;310mDEBUG\u001b[1;30m: \u001b[0m\u001b[1;36muse.pimp\u001b[1;30m: \u001b[0m  - lib/python3.9/site-packages/pygame/docs/generated/_sources/c_api.rst.txt\n",
      "\u001b[1;310mDEBUG\u001b[1;30m: \u001b[0m\u001b[1;36muse.pimp\u001b[1;30m: \u001b[0m  - lib/python3.9/site-packages/pygame/docs/generated/_sources/ref/surface.rst.txt\n",
      "\u001b[1;310mDEBUG\u001b[1;30m: \u001b[0m\u001b[1;36muse.pimp\u001b[1;30m: \u001b[0m  - lib/python3.9/site-packages/pygame/docs/generated/_sources/ref/sdl2_video.rst.txt\n",
      "\u001b[1;310mDEBUG\u001b[1;30m: \u001b[0m\u001b[1;36muse.pimp\u001b[1;30m: \u001b[0m  - lib/python3.9/site-packages/pygame/docs/generated/_sources/ref/scrap.rst.txt\n",
      "\u001b[1;310mDEBUG\u001b[1;30m: \u001b[0m\u001b[1;36muse.pimp\u001b[1;30m: \u001b[0m  - lib/python3.9/site-packages/pygame/docs/generated/_sources/ref/time.rst.txt\n",
      "\u001b[1;310mDEBUG\u001b[1;30m: \u001b[0m\u001b[1;36muse.pimp\u001b[1;30m: \u001b[0m  - lib/python3.9/site-packages/pygame/docs/generated/_sources/ref/transform.rst.txt\n",
      "\u001b[1;310mDEBUG\u001b[1;30m: \u001b[0m\u001b[1;36muse.pimp\u001b[1;30m: \u001b[0m  - lib/python3.9/site-packages/pygame/docs/generated/_sources/ref/surfarray.rst.txt\n",
      "\u001b[1;310mDEBUG\u001b[1;30m: \u001b[0m\u001b[1;36muse.pimp\u001b[1;30m: \u001b[0m  - lib/python3.9/site-packages/pygame/docs/generated/_sources/ref/locals.rst.txt\n",
      "\u001b[1;310mDEBUG\u001b[1;30m: \u001b[0m\u001b[1;36muse.pimp\u001b[1;30m: \u001b[0m  - lib/python3.9/site-packages/pygame/docs/generated/_sources/ref/joystick.rst.txt\n",
      "\u001b[1;310mDEBUG\u001b[1;30m: \u001b[0m\u001b[1;36muse.pimp\u001b[1;30m: \u001b[0m  - lib/python3.9/site-packages/pygame/docs/generated/_sources/ref/music.rst.txt\n",
      "\u001b[1;310mDEBUG\u001b[1;30m: \u001b[0m\u001b[1;36muse.pimp\u001b[1;30m: \u001b[0m  - lib/python3.9/site-packages/pygame/docs/generated/_sources/ref/pixelarray.rst.txt\n",
      "\u001b[1;310mDEBUG\u001b[1;30m: \u001b[0m\u001b[1;36muse.pimp\u001b[1;30m: \u001b[0m  - lib/python3.9/site-packages/pygame/docs/generated/_sources/ref/gfxdraw.rst.txt\n",
      "\u001b[1;310mDEBUG\u001b[1;30m: \u001b[0m\u001b[1;36muse.pimp\u001b[1;30m: \u001b[0m  - lib/python3.9/site-packages/pygame/docs/generated/_sources/ref/display.rst.txt\n",
      "\u001b[1;310mDEBUG\u001b[1;30m: \u001b[0m\u001b[1;36muse.pimp\u001b[1;30m: \u001b[0m  - lib/python3.9/site-packages/pygame/docs/generated/_sources/ref/touch.rst.txt\n",
      "\u001b[1;310mDEBUG\u001b[1;30m: \u001b[0m\u001b[1;36muse.pimp\u001b[1;30m: \u001b[0m  - lib/python3.9/site-packages/pygame/docs/generated/_sources/ref/examples.rst.txt\n",
      "\u001b[1;310mDEBUG\u001b[1;30m: \u001b[0m\u001b[1;36muse.pimp\u001b[1;30m: \u001b[0m  - lib/python3.9/site-packages/pygame/docs/generated/_sources/ref/pixelcopy.rst.txt\n",
      "\u001b[1;310mDEBUG\u001b[1;30m: \u001b[0m\u001b[1;36muse.pimp\u001b[1;30m: \u001b[0m  - lib/python3.9/site-packages/pygame/docs/generated/_sources/ref/mask.rst.txt\n",
      "\u001b[1;310mDEBUG\u001b[1;30m: \u001b[0m\u001b[1;36muse.pimp\u001b[1;30m: \u001b[0m  - lib/python3.9/site-packages/pygame/docs/generated/_sources/ref/freetype.rst.txt\n",
      "\u001b[1;310mDEBUG\u001b[1;30m: \u001b[0m\u001b[1;36muse.pimp\u001b[1;30m: \u001b[0m  - lib/python3.9/site-packages/pygame/docs/generated/_sources/ref/color.rst.txt\n",
      "\u001b[1;310mDEBUG\u001b[1;30m: \u001b[0m\u001b[1;36muse.pimp\u001b[1;30m: \u001b[0m  - lib/python3.9/site-packages/pygame/docs/generated/_sources/ref/key.rst.txt\n",
      "\u001b[1;310mDEBUG\u001b[1;30m: \u001b[0m\u001b[1;36muse.pimp\u001b[1;30m: \u001b[0m  - lib/python3.9/site-packages/pygame/docs/generated/_sources/ref/mixer.rst.txt\n",
      "\u001b[1;310mDEBUG\u001b[1;30m: \u001b[0m\u001b[1;36muse.pimp\u001b[1;30m: \u001b[0m  - lib/python3.9/site-packages/pygame/docs/generated/_sources/ref/tests.rst.txt\n",
      "\u001b[1;310mDEBUG\u001b[1;30m: \u001b[0m\u001b[1;36muse.pimp\u001b[1;30m: \u001b[0m  - lib/python3.9/site-packages/pygame/docs/generated/_sources/ref/cursors.rst.txt\n",
      "\u001b[1;310mDEBUG\u001b[1;30m: \u001b[0m\u001b[1;36muse.pimp\u001b[1;30m: \u001b[0m  - lib/python3.9/site-packages/pygame/docs/generated/_sources/ref/bufferproxy.rst.txt\n",
      "\u001b[1;310mDEBUG\u001b[1;30m: \u001b[0m\u001b[1;36muse.pimp\u001b[1;30m: \u001b[0m  - lib/python3.9/site-packages/pygame/docs/generated/_sources/ref/image.rst.txt\n",
      "\u001b[1;310mDEBUG\u001b[1;30m: \u001b[0m\u001b[1;36muse.pimp\u001b[1;30m: \u001b[0m  - lib/python3.9/site-packages/pygame/docs/generated/_sources/ref/math.rst.txt\n",
      "\u001b[1;310mDEBUG\u001b[1;30m: \u001b[0m\u001b[1;36muse.pimp\u001b[1;30m: \u001b[0m  - lib/python3.9/site-packages/pygame/docs/generated/_sources/ref/font.rst.txt\n",
      "\u001b[1;310mDEBUG\u001b[1;30m: \u001b[0m\u001b[1;36muse.pimp\u001b[1;30m: \u001b[0m  - lib/python3.9/site-packages/pygame/docs/generated/_sources/ref/fastevent.rst.txt\n",
      "\u001b[1;310mDEBUG\u001b[1;30m: \u001b[0m\u001b[1;36muse.pimp\u001b[1;30m: \u001b[0m  - lib/python3.9/site-packages/pygame/docs/generated/_sources/ref/color_list.rst.txt\n",
      "\u001b[1;310mDEBUG\u001b[1;30m: \u001b[0m\u001b[1;36muse.pimp\u001b[1;30m: \u001b[0m  - lib/python3.9/site-packages/pygame/docs/generated/_sources/ref/rect.rst.txt\n",
      "\u001b[1;310mDEBUG\u001b[1;30m: \u001b[0m\u001b[1;36muse.pimp\u001b[1;30m: \u001b[0m  - lib/python3.9/site-packages/pygame/docs/generated/_sources/ref/midi.rst.txt\n",
      "\u001b[1;310mDEBUG\u001b[1;30m: \u001b[0m\u001b[1;36muse.pimp\u001b[1;30m: \u001b[0m  - lib/python3.9/site-packages/pygame/docs/generated/_sources/ref/pygame.rst.txt\n",
      "\u001b[1;310mDEBUG\u001b[1;30m: \u001b[0m\u001b[1;36muse.pimp\u001b[1;30m: \u001b[0m  - lib/python3.9/site-packages/pygame/docs/generated/_sources/ref/sdl2_controller.rst.txt\n",
      "\u001b[1;310mDEBUG\u001b[1;30m: \u001b[0m\u001b[1;36muse.pimp\u001b[1;30m: \u001b[0m  - lib/python3.9/site-packages/pygame/docs/generated/_sources/ref/mouse.rst.txt\n",
      "\u001b[1;310mDEBUG\u001b[1;30m: \u001b[0m\u001b[1;36muse.pimp\u001b[1;30m: \u001b[0m  - lib/python3.9/site-packages/pygame/docs/generated/_sources/ref/draw.rst.txt\n",
      "\u001b[1;310mDEBUG\u001b[1;30m: \u001b[0m\u001b[1;36muse.pimp\u001b[1;30m: \u001b[0m  - lib/python3.9/site-packages/pygame/docs/generated/_sources/ref/camera.rst.txt\n",
      "\u001b[1;310mDEBUG\u001b[1;30m: \u001b[0m\u001b[1;36muse.pimp\u001b[1;30m: \u001b[0m  - lib/python3.9/site-packages/pygame/docs/generated/_sources/ref/overlay.rst.txt\n",
      "\u001b[1;310mDEBUG\u001b[1;30m: \u001b[0m\u001b[1;36muse.pimp\u001b[1;30m: \u001b[0m  - lib/python3.9/site-packages/pygame/docs/generated/_sources/ref/sprite.rst.txt\n",
      "\u001b[1;310mDEBUG\u001b[1;30m: \u001b[0m\u001b[1;36muse.pimp\u001b[1;30m: \u001b[0m  - lib/python3.9/site-packages/pygame/docs/generated/_sources/ref/sndarray.rst.txt\n",
      "\u001b[1;310mDEBUG\u001b[1;30m: \u001b[0m\u001b[1;36muse.pimp\u001b[1;30m: \u001b[0m  - lib/python3.9/site-packages/pygame/docs/generated/_sources/ref/cdrom.rst.txt\n",
      "\u001b[1;310mDEBUG\u001b[1;30m: \u001b[0m\u001b[1;36muse.pimp\u001b[1;30m: \u001b[0m  - lib/python3.9/site-packages/pygame/docs/generated/_sources/ref/event.rst.txt\n",
      "\u001b[1;310mDEBUG\u001b[1;30m: \u001b[0m\u001b[1;36muse.pimp\u001b[1;30m: \u001b[0m  - lib/python3.9/site-packages/pygame/docs/generated/_static/underscore-1.13.1.js\n",
      "\u001b[1;310mDEBUG\u001b[1;30m: \u001b[0m\u001b[1;36muse.pimp\u001b[1;30m: \u001b[0m  - lib/python3.9/site-packages/pygame/docs/generated/_static/jquery-3.5.1.js\n",
      "\u001b[1;310mDEBUG\u001b[1;30m: \u001b[0m\u001b[1;36muse.pimp\u001b[1;30m: \u001b[0m  - lib/python3.9/site-packages/pygame/docs/generated/_static/minus.png\n",
      "\u001b[1;310mDEBUG\u001b[1;30m: \u001b[0m\u001b[1;36muse.pimp\u001b[1;30m: \u001b[0m  - lib/python3.9/site-packages/pygame/docs/generated/_static/pygame_tiny.png\n",
      "\u001b[1;310mDEBUG\u001b[1;30m: \u001b[0m\u001b[1;36muse.pimp\u001b[1;30m: \u001b[0m  - lib/python3.9/site-packages/pygame/docs/generated/_static/underscore.js\n",
      "\u001b[1;310mDEBUG\u001b[1;30m: \u001b[0m\u001b[1;36muse.pimp\u001b[1;30m: \u001b[0m  - lib/python3.9/site-packages/pygame/docs/generated/_static/language_data.js\n",
      "\u001b[1;310mDEBUG\u001b[1;30m: \u001b[0m\u001b[1;36muse.pimp\u001b[1;30m: \u001b[0m  - lib/python3.9/site-packages/pygame/docs/generated/_static/pygame.css\n",
      "\u001b[1;310mDEBUG\u001b[1;30m: \u001b[0m\u001b[1;36muse.pimp\u001b[1;30m: \u001b[0m  - lib/python3.9/site-packages/pygame/docs/generated/_static/searchtools.js\n",
      "\u001b[1;310mDEBUG\u001b[1;30m: \u001b[0m\u001b[1;36muse.pimp\u001b[1;30m: \u001b[0m  - lib/python3.9/site-packages/pygame/docs/generated/_static/reset.css\n",
      "\u001b[1;310mDEBUG\u001b[1;30m: \u001b[0m\u001b[1;36muse.pimp\u001b[1;30m: \u001b[0m  - lib/python3.9/site-packages/pygame/docs/generated/_static/pygame.ico\n",
      "\u001b[1;310mDEBUG\u001b[1;30m: \u001b[0m\u001b[1;36muse.pimp\u001b[1;30m: \u001b[0m  - lib/python3.9/site-packages/pygame/docs/generated/_static/tooltip.css\n",
      "\u001b[1;310mDEBUG\u001b[1;30m: \u001b[0m\u001b[1;36muse.pimp\u001b[1;30m: \u001b[0m  - lib/python3.9/site-packages/pygame/docs/generated/_static/file.png\n",
      "\u001b[1;310mDEBUG\u001b[1;30m: \u001b[0m\u001b[1;36muse.pimp\u001b[1;30m: \u001b[0m  - lib/python3.9/site-packages/pygame/docs/generated/_static/basic.css\n",
      "\u001b[1;310mDEBUG\u001b[1;30m: \u001b[0m\u001b[1;36muse.pimp\u001b[1;30m: \u001b[0m  - lib/python3.9/site-packages/pygame/docs/generated/_static/jquery.js\n",
      "\u001b[1;310mDEBUG\u001b[1;30m: \u001b[0m\u001b[1;36muse.pimp\u001b[1;30m: \u001b[0m  - lib/python3.9/site-packages/pygame/docs/generated/_static/doctools.js\n",
      "\u001b[1;310mDEBUG\u001b[1;30m: \u001b[0m\u001b[1;36muse.pimp\u001b[1;30m: \u001b[0m  - lib/python3.9/site-packages/pygame/docs/generated/_static/documentation_options.js\n",
      "\u001b[1;310mDEBUG\u001b[1;30m: \u001b[0m\u001b[1;36muse.pimp\u001b[1;30m: \u001b[0m  - lib/python3.9/site-packages/pygame/docs/generated/_static/plus.png\n",
      "\u001b[1;310mDEBUG\u001b[1;30m: \u001b[0m\u001b[1;36muse.pimp\u001b[1;30m: \u001b[0m  - lib/python3.9/site-packages/pygame/docs/generated/_static/pygments.css\n",
      "\u001b[1;310mDEBUG\u001b[1;30m: \u001b[0m\u001b[1;36muse.pimp\u001b[1;30m: \u001b[0m  - lib/python3.9/site-packages/pygame/docs/generated/_images/joystick_calls.png\n",
      "\u001b[1;310mDEBUG\u001b[1;30m: \u001b[0m\u001b[1;36muse.pimp\u001b[1;30m: \u001b[0m  - lib/python3.9/site-packages/pygame/docs/generated/_images/AdvancedOutputAlpha31.gif\n",
      "\u001b[1;310mDEBUG\u001b[1;30m: \u001b[0m\u001b[1;36muse.pimp\u001b[1;30m: \u001b[0m  - lib/python3.9/site-packages/pygame/docs/generated/_images/AdvancedInputOutput21.gif\n",
      "\u001b[1;310mDEBUG\u001b[1;30m: \u001b[0m\u001b[1;36muse.pimp\u001b[1;30m: \u001b[0m  - lib/python3.9/site-packages/pygame/docs/generated/_images/surfarray_scaledown.png\n",
      "\u001b[1;310mDEBUG\u001b[1;30m: \u001b[0m\u001b[1;36muse.pimp\u001b[1;30m: \u001b[0m  - lib/python3.9/site-packages/pygame/docs/generated/_images/intro_freedom.jpg\n",
      "\u001b[1;310mDEBUG\u001b[1;30m: \u001b[0m\u001b[1;36muse.pimp\u001b[1;30m: \u001b[0m  - lib/python3.9/site-packages/pygame/docs/generated/_images/surfarray_rgbarray.png\n",
      "\u001b[1;310mDEBUG\u001b[1;30m: \u001b[0m\u001b[1;36muse.pimp\u001b[1;30m: \u001b[0m  - lib/python3.9/site-packages/pygame/docs/generated/_images/AdvancedOutputProcess41.gif\n",
      "\u001b[1;310mDEBUG\u001b[1;30m: \u001b[0m\u001b[1;36muse.pimp\u001b[1;30m: \u001b[0m  - lib/python3.9/site-packages/pygame/docs/generated/_images/tom_radians.png\n",
      "\u001b[1;310mDEBUG\u001b[1;30m: \u001b[0m\u001b[1;36muse.pimp\u001b[1;30m: \u001b[0m  - lib/python3.9/site-packages/pygame/docs/generated/_images/surfarray_redimg.png\n",
      "\u001b[1;310mDEBUG\u001b[1;30m: \u001b[0m\u001b[1;36muse.pimp\u001b[1;30m: \u001b[0m  - lib/python3.9/site-packages/pygame/docs/generated/_images/surfarray_striped.png\n",
      "\u001b[1;310mDEBUG\u001b[1;30m: \u001b[0m\u001b[1;36muse.pimp\u001b[1;30m: \u001b[0m  - lib/python3.9/site-packages/pygame/docs/generated/_images/introduction-TPS1.png\n",
      "\u001b[1;310mDEBUG\u001b[1;30m: \u001b[0m\u001b[1;36muse.pimp\u001b[1;30m: \u001b[0m  - lib/python3.9/site-packages/pygame/docs/generated/_images/AdvancedOutputAlpha1.gif\n",
      "\u001b[1;310mDEBUG\u001b[1;30m: \u001b[0m\u001b[1;36muse.pimp\u001b[1;30m: \u001b[0m  - lib/python3.9/site-packages/pygame/docs/generated/_images/tom_formulae.png\n",
      "\u001b[1;310mDEBUG\u001b[1;30m: \u001b[0m\u001b[1;36muse.pimp\u001b[1;30m: \u001b[0m  - lib/python3.9/site-packages/pygame/docs/generated/_images/AdvancedOutputAlpha2.gif\n",
      "\u001b[1;310mDEBUG\u001b[1;30m: \u001b[0m\u001b[1;36muse.pimp\u001b[1;30m: \u001b[0m  - lib/python3.9/site-packages/pygame/docs/generated/_images/Bagic-INPUT-resultscreen.png\n",
      "\u001b[1;310mDEBUG\u001b[1;30m: \u001b[0m\u001b[1;36muse.pimp\u001b[1;30m: \u001b[0m  - lib/python3.9/site-packages/pygame/docs/generated/_images/introduction-Battleship.png\n",
      "\u001b[1;310mDEBUG\u001b[1;30m: \u001b[0m\u001b[1;36muse.pimp\u001b[1;30m: \u001b[0m  - lib/python3.9/site-packages/pygame/docs/generated/_images/camera_average.jpg\n",
      "\u001b[1;310mDEBUG\u001b[1;30m: \u001b[0m\u001b[1;36muse.pimp\u001b[1;30m: \u001b[0m  - lib/python3.9/site-packages/pygame/docs/generated/_images/AdvancedOutputProcess51.gif\n",
      "\u001b[1;310mDEBUG\u001b[1;30m: \u001b[0m\u001b[1;36muse.pimp\u001b[1;30m: \u001b[0m  - lib/python3.9/site-packages/pygame/docs/generated/_images/Bagic-INPUT-sourcecode1.png\n",
      "\u001b[1;310mDEBUG\u001b[1;30m: \u001b[0m\u001b[1;36muse.pimp\u001b[1;30m: \u001b[0m  - lib/python3.9/site-packages/pygame/docs/generated/_images/camera_thresh.jpg\n",
      "\u001b[1;310mDEBUG\u001b[1;30m: \u001b[0m\u001b[1;36muse.pimp\u001b[1;30m: \u001b[0m  - lib/python3.9/site-packages/pygame/docs/generated/_images/AdvancedInputOutput41.gif\n",
      "\u001b[1;310mDEBUG\u001b[1;30m: \u001b[0m\u001b[1;36muse.pimp\u001b[1;30m: \u001b[0m  - lib/python3.9/site-packages/pygame/docs/generated/_images/surfarray_scaleup.png\n",
      "\u001b[1;310mDEBUG\u001b[1;30m: \u001b[0m\u001b[1;36muse.pimp\u001b[1;30m: \u001b[0m  - lib/python3.9/site-packages/pygame/docs/generated/_images/camera_mask.jpg\n",
      "\u001b[1;310mDEBUG\u001b[1;30m: \u001b[0m\u001b[1;36muse.pimp\u001b[1;30m: \u001b[0m  - lib/python3.9/site-packages/pygame/docs/generated/_images/tom_basic.png\n",
      "\u001b[1;310mDEBUG\u001b[1;30m: \u001b[0m\u001b[1;36muse.pimp\u001b[1;30m: \u001b[0m  - lib/python3.9/site-packages/pygame/docs/generated/_images/introduction-PuyoPuyo.png\n",
      "\u001b[1;310mDEBUG\u001b[1;30m: \u001b[0m\u001b[1;36muse.pimp\u001b[1;30m: \u001b[0m  - lib/python3.9/site-packages/pygame/docs/generated/_images/Bagic-PROCESS-sourcecode.png\n",
      "\u001b[1;310mDEBUG\u001b[1;30m: \u001b[0m\u001b[1;36muse.pimp\u001b[1;30m: \u001b[0m  - lib/python3.9/site-packages/pygame/docs/generated/_images/camera_background.jpg\n",
      "\u001b[1;310mDEBUG\u001b[1;30m: \u001b[0m\u001b[1;36muse.pimp\u001b[1;30m: \u001b[0m  - lib/python3.9/site-packages/pygame/docs/generated/_images/surfarray_allblack.png\n",
      "\u001b[1;310mDEBUG\u001b[1;30m: \u001b[0m\u001b[1;36muse.pimp\u001b[1;30m: \u001b[0m  - lib/python3.9/site-packages/pygame/docs/generated/_images/AdvancedInputOutput1.gif\n",
      "\u001b[1;310mDEBUG\u001b[1;30m: \u001b[0m\u001b[1;36muse.pimp\u001b[1;30m: \u001b[0m  - lib/python3.9/site-packages/pygame/docs/generated/_images/AdvancedOutputAlpha11.gif\n",
      "\u001b[1;310mDEBUG\u001b[1;30m: \u001b[0m\u001b[1;36muse.pimp\u001b[1;30m: \u001b[0m  - lib/python3.9/site-packages/pygame/docs/generated/_images/AdvancedInputOutput2.gif\n",
      "\u001b[1;310mDEBUG\u001b[1;30m: \u001b[0m\u001b[1;36muse.pimp\u001b[1;30m: \u001b[0m  - lib/python3.9/site-packages/pygame/docs/generated/_images/camera_rgb.jpg\n",
      "\u001b[1;310mDEBUG\u001b[1;30m: \u001b[0m\u001b[1;36muse.pimp\u001b[1;30m: \u001b[0m  - lib/python3.9/site-packages/pygame/docs/generated/_images/AdvancedInputOutput5.gif\n",
      "\u001b[1;310mDEBUG\u001b[1;30m: \u001b[0m\u001b[1;36muse.pimp\u001b[1;30m: \u001b[0m  - lib/python3.9/site-packages/pygame/docs/generated/_images/AdvancedInputOutput3.gif\n",
      "\u001b[1;310mDEBUG\u001b[1;30m: \u001b[0m\u001b[1;36muse.pimp\u001b[1;30m: \u001b[0m  - lib/python3.9/site-packages/pygame/docs/generated/_images/surfarray_soften.png\n",
      "\u001b[1;310mDEBUG\u001b[1;30m: \u001b[0m\u001b[1;36muse.pimp\u001b[1;30m: \u001b[0m  - lib/python3.9/site-packages/pygame/docs/generated/_images/camera_green.jpg\n",
      "\u001b[1;310mDEBUG\u001b[1;30m: \u001b[0m\u001b[1;36muse.pimp\u001b[1;30m: \u001b[0m  - lib/python3.9/site-packages/pygame/docs/generated/_images/intro_blade.jpg\n",
      "\u001b[1;310mDEBUG\u001b[1;30m: \u001b[0m\u001b[1;36muse.pimp\u001b[1;30m: \u001b[0m  - lib/python3.9/site-packages/pygame/docs/generated/_images/camera_yuv.jpg\n",
      "\u001b[1;310mDEBUG\u001b[1;30m: \u001b[0m\u001b[1;36muse.pimp\u001b[1;30m: \u001b[0m  - lib/python3.9/site-packages/pygame/docs/generated/_images/tom_event-flowchart.png\n",
      "\u001b[1;310mDEBUG\u001b[1;30m: \u001b[0m\u001b[1;36muse.pimp\u001b[1;30m: \u001b[0m  - lib/python3.9/site-packages/pygame/docs/generated/_images/camera_hsv.jpg\n",
      "\u001b[1;310mDEBUG\u001b[1;30m: \u001b[0m\u001b[1;36muse.pimp\u001b[1;30m: \u001b[0m  - lib/python3.9/site-packages/pygame/docs/generated/_images/AdvancedOutputProcess3.gif\n",
      "\u001b[1;310mDEBUG\u001b[1;30m: \u001b[0m\u001b[1;36muse.pimp\u001b[1;30m: \u001b[0m  - lib/python3.9/site-packages/pygame/docs/generated/_images/surfarray_flipped.png\n",
      "\u001b[1;310mDEBUG\u001b[1;30m: \u001b[0m\u001b[1;36muse.pimp\u001b[1;30m: \u001b[0m  - lib/python3.9/site-packages/pygame/docs/generated/_images/AdvancedOutputProcess61.gif\n",
      "\u001b[1;310mDEBUG\u001b[1;30m: \u001b[0m\u001b[1;36muse.pimp\u001b[1;30m: \u001b[0m  - lib/python3.9/site-packages/pygame/docs/generated/_images/AdvancedOutputAlpha21.gif\n",
      "\u001b[1;310mDEBUG\u001b[1;30m: \u001b[0m\u001b[1;36muse.pimp\u001b[1;30m: \u001b[0m  - lib/python3.9/site-packages/pygame/docs/generated/_images/Bagic-PROCESS-resultscreen.png\n",
      "\u001b[1;310mDEBUG\u001b[1;30m: \u001b[0m\u001b[1;36muse.pimp\u001b[1;30m: \u001b[0m  - lib/python3.9/site-packages/pygame/docs/generated/_images/Bagic-INPUT-sourcecode.png\n",
      "\u001b[1;310mDEBUG\u001b[1;30m: \u001b[0m\u001b[1;36muse.pimp\u001b[1;30m: \u001b[0m  - lib/python3.9/site-packages/pygame/docs/generated/_images/Bagic-INPUT-resultscreen1.png\n",
      "\u001b[1;310mDEBUG\u001b[1;30m: \u001b[0m\u001b[1;36muse.pimp\u001b[1;30m: \u001b[0m  - lib/python3.9/site-packages/pygame/docs/generated/_images/Bagic-ouput-result-screen.png\n",
      "\u001b[1;310mDEBUG\u001b[1;30m: \u001b[0m\u001b[1;36muse.pimp\u001b[1;30m: \u001b[0m  - lib/python3.9/site-packages/pygame/docs/generated/_images/introduction-TPS.png\n",
      "\u001b[1;310mDEBUG\u001b[1;30m: \u001b[0m\u001b[1;36muse.pimp\u001b[1;30m: \u001b[0m  - lib/python3.9/site-packages/pygame/docs/generated/_images/surfarray_xfade.png\n",
      "\u001b[1;310mDEBUG\u001b[1;30m: \u001b[0m\u001b[1;36muse.pimp\u001b[1;30m: \u001b[0m  - lib/python3.9/site-packages/pygame/docs/generated/_images/introduction-Battleship1.png\n",
      "\u001b[1;310mDEBUG\u001b[1;30m: \u001b[0m\u001b[1;36muse.pimp\u001b[1;30m: \u001b[0m  - lib/python3.9/site-packages/pygame/docs/generated/_images/AdvancedInputOutput11.gif\n",
      "\u001b[1;310mDEBUG\u001b[1;30m: \u001b[0m\u001b[1;36muse.pimp\u001b[1;30m: \u001b[0m  - lib/python3.9/site-packages/pygame/docs/generated/_images/introduction-PuyoPuyo1.png\n",
      "\u001b[1;310mDEBUG\u001b[1;30m: \u001b[0m\u001b[1;36muse.pimp\u001b[1;30m: \u001b[0m  - lib/python3.9/site-packages/pygame/docs/generated/_images/intro_ball.gif\n",
      "\u001b[1;310mDEBUG\u001b[1;30m: \u001b[0m\u001b[1;36muse.pimp\u001b[1;30m: \u001b[0m  - lib/python3.9/site-packages/pygame/docs/generated/_images/Bagic-ouput-result-screen1.png\n",
      "\u001b[1;310mDEBUG\u001b[1;30m: \u001b[0m\u001b[1;36muse.pimp\u001b[1;30m: \u001b[0m  - lib/python3.9/site-packages/pygame/docs/generated/_images/AdvancedOutputAlpha3.gif\n",
      "\u001b[1;310mDEBUG\u001b[1;30m: \u001b[0m\u001b[1;36muse.pimp\u001b[1;30m: \u001b[0m  - lib/python3.9/site-packages/pygame/docs/generated/_images/Bagic-PROCESS-sourcecode1.png\n",
      "\u001b[1;310mDEBUG\u001b[1;30m: \u001b[0m\u001b[1;36muse.pimp\u001b[1;30m: \u001b[0m  - lib/python3.9/site-packages/pygame/docs/generated/_images/AdvancedOutputProcess21.gif\n",
      "\u001b[1;310mDEBUG\u001b[1;30m: \u001b[0m\u001b[1;36muse.pimp\u001b[1;30m: \u001b[0m  - lib/python3.9/site-packages/pygame/docs/generated/_images/Basic-ouput-sourcecode.png\n",
      "\u001b[1;310mDEBUG\u001b[1;30m: \u001b[0m\u001b[1;36muse.pimp\u001b[1;30m: \u001b[0m  - lib/python3.9/site-packages/pygame/docs/generated/_images/AdvancedOutputProcess2.gif\n",
      "\u001b[1;310mDEBUG\u001b[1;30m: \u001b[0m\u001b[1;36muse.pimp\u001b[1;30m: \u001b[0m  - lib/python3.9/site-packages/pygame/docs/generated/_images/AdvancedOutputProcess31.gif\n",
      "\u001b[1;310mDEBUG\u001b[1;30m: \u001b[0m\u001b[1;36muse.pimp\u001b[1;30m: \u001b[0m  - lib/python3.9/site-packages/pygame/docs/generated/_images/AdvancedInputOutput51.gif\n",
      "\u001b[1;310mDEBUG\u001b[1;30m: \u001b[0m\u001b[1;36muse.pimp\u001b[1;30m: \u001b[0m  - lib/python3.9/site-packages/pygame/docs/generated/_images/AdvancedOutputProcess6.gif\n",
      "\u001b[1;310mDEBUG\u001b[1;30m: \u001b[0m\u001b[1;36muse.pimp\u001b[1;30m: \u001b[0m  - lib/python3.9/site-packages/pygame/docs/generated/_images/camera_thresholded.jpg\n",
      "\u001b[1;310mDEBUG\u001b[1;30m: \u001b[0m\u001b[1;36muse.pimp\u001b[1;30m: \u001b[0m  - lib/python3.9/site-packages/pygame/docs/generated/_images/AdvancedInputOutput4.gif\n",
      "\u001b[1;310mDEBUG\u001b[1;30m: \u001b[0m\u001b[1;36muse.pimp\u001b[1;30m: \u001b[0m  - lib/python3.9/site-packages/pygame/docs/generated/_images/chimpshot.gif\n",
      "\u001b[1;310mDEBUG\u001b[1;30m: \u001b[0m\u001b[1;36muse.pimp\u001b[1;30m: \u001b[0m  - lib/python3.9/site-packages/pygame/docs/generated/_images/Basic-ouput-sourcecode1.png\n",
      "\u001b[1;310mDEBUG\u001b[1;30m: \u001b[0m\u001b[1;36muse.pimp\u001b[1;30m: \u001b[0m  - lib/python3.9/site-packages/pygame/docs/generated/_images/Bagic-PROCESS-resultscreen1.png\n",
      "\u001b[1;310mDEBUG\u001b[1;30m: \u001b[0m\u001b[1;36muse.pimp\u001b[1;30m: \u001b[0m  - lib/python3.9/site-packages/pygame/docs/generated/_images/AdvancedInputOutput31.gif\n",
      "\u001b[1;310mDEBUG\u001b[1;30m: \u001b[0m\u001b[1;36muse.pimp\u001b[1;30m: \u001b[0m  - lib/python3.9/site-packages/pygame/docs/generated/_images/AdvancedOutputProcess11.gif\n",
      "\u001b[1;310mDEBUG\u001b[1;30m: \u001b[0m\u001b[1;36muse.pimp\u001b[1;30m: \u001b[0m  - lib/python3.9/site-packages/pygame/docs/generated/_images/AdvancedOutputProcess4.gif\n",
      "\u001b[1;310mDEBUG\u001b[1;30m: \u001b[0m\u001b[1;36muse.pimp\u001b[1;30m: \u001b[0m  - lib/python3.9/site-packages/pygame/docs/generated/_images/AdvancedOutputProcess5.gif\n",
      "\u001b[1;310mDEBUG\u001b[1;30m: \u001b[0m\u001b[1;36muse.pimp\u001b[1;30m: \u001b[0m  - lib/python3.9/site-packages/pygame/docs/generated/_images/draw_module_example.png\n",
      "\u001b[1;310mDEBUG\u001b[1;30m: \u001b[0m\u001b[1;36muse.pimp\u001b[1;30m: \u001b[0m  - lib/python3.9/site-packages/pygame/docs/generated/_images/AdvancedOutputProcess1.gif\n",
      "\u001b[1;310mDEBUG\u001b[1;30m: \u001b[0m\u001b[1;36muse.pimp\u001b[1;30m: \u001b[0m  - lib/python3.9/site-packages/pygame/tests/imageext_tags.py\n",
      "\u001b[1;310mDEBUG\u001b[1;30m: \u001b[0m\u001b[1;36muse.pimp\u001b[1;30m: \u001b[0m  - lib/python3.9/site-packages/pygame/tests/blit_test.py\n",
      "\u001b[1;310mDEBUG\u001b[1;30m: \u001b[0m\u001b[1;36muse.pimp\u001b[1;30m: \u001b[0m  - lib/python3.9/site-packages/pygame/tests/sprite_test.py\n",
      "\u001b[1;310mDEBUG\u001b[1;30m: \u001b[0m\u001b[1;36muse.pimp\u001b[1;30m: \u001b[0m  - lib/python3.9/site-packages/pygame/tests/sndarray_tags.py\n",
      "\u001b[1;310mDEBUG\u001b[1;30m: \u001b[0m\u001b[1;36muse.pimp\u001b[1;30m: \u001b[0m  - lib/python3.9/site-packages/pygame/tests/mixer_music_test.py\n",
      "\u001b[1;310mDEBUG\u001b[1;30m: \u001b[0m\u001b[1;36muse.pimp\u001b[1;30m: \u001b[0m  - lib/python3.9/site-packages/pygame/tests/event_test.py\n",
      "\u001b[1;310mDEBUG\u001b[1;30m: \u001b[0m\u001b[1;36muse.pimp\u001b[1;30m: \u001b[0m  - lib/python3.9/site-packages/pygame/tests/locals_test.py\n",
      "\u001b[1;310mDEBUG\u001b[1;30m: \u001b[0m\u001b[1;36muse.pimp\u001b[1;30m: \u001b[0m  - lib/python3.9/site-packages/pygame/tests/test_utils\n",
      "\u001b[1;310mDEBUG\u001b[1;30m: \u001b[0m\u001b[1;36muse.pimp\u001b[1;30m: \u001b[0m  - lib/python3.9/site-packages/pygame/tests/__pycache__\n",
      "\u001b[1;310mDEBUG\u001b[1;30m: \u001b[0m\u001b[1;36muse.pimp\u001b[1;30m: \u001b[0m  - lib/python3.9/site-packages/pygame/tests/video_test.py\n",
      "\u001b[1;310mDEBUG\u001b[1;30m: \u001b[0m\u001b[1;36muse.pimp\u001b[1;30m: \u001b[0m  - lib/python3.9/site-packages/pygame/tests/rwobject_test.py\n",
      "\u001b[1;310mDEBUG\u001b[1;30m: \u001b[0m\u001b[1;36muse.pimp\u001b[1;30m: \u001b[0m  - lib/python3.9/site-packages/pygame/tests/camera_test.py\n",
      "\u001b[1;310mDEBUG\u001b[1;30m: \u001b[0m\u001b[1;36muse.pimp\u001b[1;30m: \u001b[0m  - lib/python3.9/site-packages/pygame/tests/mouse_test.py\n",
      "\u001b[1;310mDEBUG\u001b[1;30m: \u001b[0m\u001b[1;36muse.pimp\u001b[1;30m: \u001b[0m  - lib/python3.9/site-packages/pygame/tests/image_test.py\n",
      "\u001b[1;310mDEBUG\u001b[1;30m: \u001b[0m\u001b[1;36muse.pimp\u001b[1;30m: \u001b[0m  - lib/python3.9/site-packages/pygame/tests/__main__.py\n",
      "\u001b[1;310mDEBUG\u001b[1;30m: \u001b[0m\u001b[1;36muse.pimp\u001b[1;30m: \u001b[0m  - lib/python3.9/site-packages/pygame/tests/color_test.py\n",
      "\u001b[1;310mDEBUG\u001b[1;30m: \u001b[0m\u001b[1;36muse.pimp\u001b[1;30m: \u001b[0m  - lib/python3.9/site-packages/pygame/tests/constants_test.py\n",
      "\u001b[1;310mDEBUG\u001b[1;30m: \u001b[0m\u001b[1;36muse.pimp\u001b[1;30m: \u001b[0m  - lib/python3.9/site-packages/pygame/tests/run_tests__tests\n",
      "\u001b[1;310mDEBUG\u001b[1;30m: \u001b[0m\u001b[1;36muse.pimp\u001b[1;30m: \u001b[0m  - lib/python3.9/site-packages/pygame/tests/image__save_gl_surface_test.py\n",
      "\u001b[1;310mDEBUG\u001b[1;30m: \u001b[0m\u001b[1;36muse.pimp\u001b[1;30m: \u001b[0m  - lib/python3.9/site-packages/pygame/tests/draw_test.py\n",
      "\u001b[1;310mDEBUG\u001b[1;30m: \u001b[0m\u001b[1;36muse.pimp\u001b[1;30m: \u001b[0m  - lib/python3.9/site-packages/pygame/tests/ftfont_tags.py\n",
      "\u001b[1;310mDEBUG\u001b[1;30m: \u001b[0m\u001b[1;36muse.pimp\u001b[1;30m: \u001b[0m  - lib/python3.9/site-packages/pygame/tests/scrap_test.py\n",
      "\u001b[1;310mDEBUG\u001b[1;30m: \u001b[0m\u001b[1;36muse.pimp\u001b[1;30m: \u001b[0m  - lib/python3.9/site-packages/pygame/tests/base_test.py\n",
      "\u001b[1;310mDEBUG\u001b[1;30m: \u001b[0m\u001b[1;36muse.pimp\u001b[1;30m: \u001b[0m  - lib/python3.9/site-packages/pygame/tests/surface_test.py\n",
      "\u001b[1;310mDEBUG\u001b[1;30m: \u001b[0m\u001b[1;36muse.pimp\u001b[1;30m: \u001b[0m  - lib/python3.9/site-packages/pygame/tests/key_test.py\n",
      "\u001b[1;310mDEBUG\u001b[1;30m: \u001b[0m\u001b[1;36muse.pimp\u001b[1;30m: \u001b[0m  - lib/python3.9/site-packages/pygame/tests/freetype_test.py\n",
      "\u001b[1;310mDEBUG\u001b[1;30m: \u001b[0m\u001b[1;36muse.pimp\u001b[1;30m: \u001b[0m  - lib/python3.9/site-packages/pygame/tests/surflock_test.py\n",
      "\u001b[1;310mDEBUG\u001b[1;30m: \u001b[0m\u001b[1;36muse.pimp\u001b[1;30m: \u001b[0m  - lib/python3.9/site-packages/pygame/tests/sysfont_test.py\n",
      "\u001b[1;310mDEBUG\u001b[1;30m: \u001b[0m\u001b[1;36muse.pimp\u001b[1;30m: \u001b[0m  - lib/python3.9/site-packages/pygame/tests/bufferproxy_test.py\n",
      "\u001b[1;310mDEBUG\u001b[1;30m: \u001b[0m\u001b[1;36muse.pimp\u001b[1;30m: \u001b[0m  - lib/python3.9/site-packages/pygame/tests/freetype_tags.py\n",
      "\u001b[1;310mDEBUG\u001b[1;30m: \u001b[0m\u001b[1;36muse.pimp\u001b[1;30m: \u001b[0m  - lib/python3.9/site-packages/pygame/tests/sndarray_test.py\n",
      "\u001b[1;310mDEBUG\u001b[1;30m: \u001b[0m\u001b[1;36muse.pimp\u001b[1;30m: \u001b[0m  - lib/python3.9/site-packages/pygame/tests/mixer_music_tags.py\n",
      "\u001b[1;310mDEBUG\u001b[1;30m: \u001b[0m\u001b[1;36muse.pimp\u001b[1;30m: \u001b[0m  - lib/python3.9/site-packages/pygame/tests/controller_test.py\n",
      "\u001b[1;310mDEBUG\u001b[1;30m: \u001b[0m\u001b[1;36muse.pimp\u001b[1;30m: \u001b[0m  - lib/python3.9/site-packages/pygame/tests/midi_test.py\n",
      "\u001b[1;310mDEBUG\u001b[1;30m: \u001b[0m\u001b[1;36muse.pimp\u001b[1;30m: \u001b[0m  - lib/python3.9/site-packages/pygame/tests/mixer_test.py\n",
      "\u001b[1;310mDEBUG\u001b[1;30m: \u001b[0m\u001b[1;36muse.pimp\u001b[1;30m: \u001b[0m  - lib/python3.9/site-packages/pygame/tests/version_test.py\n",
      "\u001b[1;310mDEBUG\u001b[1;30m: \u001b[0m\u001b[1;36muse.pimp\u001b[1;30m: \u001b[0m  - lib/python3.9/site-packages/pygame/tests/math_test.py\n",
      "\u001b[1;310mDEBUG\u001b[1;30m: \u001b[0m\u001b[1;36muse.pimp\u001b[1;30m: \u001b[0m  - lib/python3.9/site-packages/pygame/tests/joystick_test.py\n",
      "\u001b[1;310mDEBUG\u001b[1;30m: \u001b[0m\u001b[1;36muse.pimp\u001b[1;30m: \u001b[0m  - lib/python3.9/site-packages/pygame/tests/docs_test.py\n",
      "\u001b[1;310mDEBUG\u001b[1;30m: \u001b[0m\u001b[1;36muse.pimp\u001b[1;30m: \u001b[0m  - lib/python3.9/site-packages/pygame/tests/surfarray_test.py\n",
      "\u001b[1;310mDEBUG\u001b[1;30m: \u001b[0m\u001b[1;36muse.pimp\u001b[1;30m: \u001b[0m  - lib/python3.9/site-packages/pygame/tests/image_tags.py\n",
      "\u001b[1;310mDEBUG\u001b[1;30m: \u001b[0m\u001b[1;36muse.pimp\u001b[1;30m: \u001b[0m  - lib/python3.9/site-packages/pygame/tests/mask_test.py\n",
      "\u001b[1;310mDEBUG\u001b[1;30m: \u001b[0m\u001b[1;36muse.pimp\u001b[1;30m: \u001b[0m  - lib/python3.9/site-packages/pygame/tests/transform_test.py\n",
      "\u001b[1;310mDEBUG\u001b[1;30m: \u001b[0m\u001b[1;36muse.pimp\u001b[1;30m: \u001b[0m  - lib/python3.9/site-packages/pygame/tests/font_test.py\n",
      "\u001b[1;310mDEBUG\u001b[1;30m: \u001b[0m\u001b[1;36muse.pimp\u001b[1;30m: \u001b[0m  - lib/python3.9/site-packages/pygame/tests/touch_test.py\n",
      "\u001b[1;310mDEBUG\u001b[1;30m: \u001b[0m\u001b[1;36muse.pimp\u001b[1;30m: \u001b[0m  - lib/python3.9/site-packages/pygame/tests/pixelcopy_test.py\n",
      "\u001b[1;310mDEBUG\u001b[1;30m: \u001b[0m\u001b[1;36muse.pimp\u001b[1;30m: \u001b[0m  - lib/python3.9/site-packages/pygame/tests/rect_test.py\n",
      "\u001b[1;310mDEBUG\u001b[1;30m: \u001b[0m\u001b[1;36muse.pimp\u001b[1;30m: \u001b[0m  - lib/python3.9/site-packages/pygame/tests/mixer_tags.py\n",
      "\u001b[1;310mDEBUG\u001b[1;30m: \u001b[0m\u001b[1;36muse.pimp\u001b[1;30m: \u001b[0m  - lib/python3.9/site-packages/pygame/tests/pixelarray_test.py\n",
      "\u001b[1;310mDEBUG\u001b[1;30m: \u001b[0m\u001b[1;36muse.pimp\u001b[1;30m: \u001b[0m  - lib/python3.9/site-packages/pygame/tests/gfxdraw_test.py\n",
      "\u001b[1;310mDEBUG\u001b[1;30m: \u001b[0m\u001b[1;36muse.pimp\u001b[1;30m: \u001b[0m  - lib/python3.9/site-packages/pygame/tests/fixtures\n",
      "\u001b[1;310mDEBUG\u001b[1;30m: \u001b[0m\u001b[1;36muse.pimp\u001b[1;30m: \u001b[0m  - lib/python3.9/site-packages/pygame/tests/display_test.py\n",
      "\u001b[1;310mDEBUG\u001b[1;30m: \u001b[0m\u001b[1;36muse.pimp\u001b[1;30m: \u001b[0m  - lib/python3.9/site-packages/pygame/tests/imageext_test.py\n",
      "\u001b[1;310mDEBUG\u001b[1;30m: \u001b[0m\u001b[1;36muse.pimp\u001b[1;30m: \u001b[0m  - lib/python3.9/site-packages/pygame/tests/surfarray_tags.py\n",
      "\u001b[1;310mDEBUG\u001b[1;30m: \u001b[0m\u001b[1;36muse.pimp\u001b[1;30m: \u001b[0m  - lib/python3.9/site-packages/pygame/tests/ftfont_test.py\n",
      "\u001b[1;310mDEBUG\u001b[1;30m: \u001b[0m\u001b[1;36muse.pimp\u001b[1;30m: \u001b[0m  - lib/python3.9/site-packages/pygame/tests/__init__.py\n",
      "\u001b[1;310mDEBUG\u001b[1;30m: \u001b[0m\u001b[1;36muse.pimp\u001b[1;30m: \u001b[0m  - lib/python3.9/site-packages/pygame/tests/time_test.py\n",
      "\u001b[1;310mDEBUG\u001b[1;30m: \u001b[0m\u001b[1;36muse.pimp\u001b[1;30m: \u001b[0m  - lib/python3.9/site-packages/pygame/tests/cursors_test.py\n",
      "\u001b[1;310mDEBUG\u001b[1;30m: \u001b[0m\u001b[1;36muse.pimp\u001b[1;30m: \u001b[0m  - lib/python3.9/site-packages/pygame/tests/test_test_.py\n",
      "\u001b[1;310mDEBUG\u001b[1;30m: \u001b[0m\u001b[1;36muse.pimp\u001b[1;30m: \u001b[0m  - lib/python3.9/site-packages/pygame/tests/threads_test.py\n",
      "\u001b[1;310mDEBUG\u001b[1;30m: \u001b[0m\u001b[1;36muse.pimp\u001b[1;30m: \u001b[0m  - lib/python3.9/site-packages/pygame/tests/scrap_tags.py\n",
      "\u001b[1;310mDEBUG\u001b[1;30m: \u001b[0m\u001b[1;36muse.pimp\u001b[1;30m: \u001b[0m  - lib/python3.9/site-packages/pygame/tests/test_utils/png.py\n",
      "\u001b[1;310mDEBUG\u001b[1;30m: \u001b[0m\u001b[1;36muse.pimp\u001b[1;30m: \u001b[0m  - lib/python3.9/site-packages/pygame/tests/test_utils/endian.py\n",
      "\u001b[1;310mDEBUG\u001b[1;30m: \u001b[0m\u001b[1;36muse.pimp\u001b[1;30m: \u001b[0m  - lib/python3.9/site-packages/pygame/tests/test_utils/__pycache__\n",
      "\u001b[1;310mDEBUG\u001b[1;30m: \u001b[0m\u001b[1;36muse.pimp\u001b[1;30m: \u001b[0m  - lib/python3.9/site-packages/pygame/tests/test_utils/run_tests.py\n",
      "\u001b[1;310mDEBUG\u001b[1;30m: \u001b[0m\u001b[1;36muse.pimp\u001b[1;30m: \u001b[0m  - lib/python3.9/site-packages/pygame/tests/test_utils/test_machinery.py\n",
      "\u001b[1;310mDEBUG\u001b[1;30m: \u001b[0m\u001b[1;36muse.pimp\u001b[1;30m: \u001b[0m  - lib/python3.9/site-packages/pygame/tests/test_utils/async_sub.py\n",
      "\u001b[1;310mDEBUG\u001b[1;30m: \u001b[0m\u001b[1;36muse.pimp\u001b[1;30m: \u001b[0m  - lib/python3.9/site-packages/pygame/tests/test_utils/arrinter.py\n",
      "\u001b[1;310mDEBUG\u001b[1;30m: \u001b[0m\u001b[1;36muse.pimp\u001b[1;30m: \u001b[0m  - lib/python3.9/site-packages/pygame/tests/test_utils/buftools.py\n",
      "\u001b[1;310mDEBUG\u001b[1;30m: \u001b[0m\u001b[1;36muse.pimp\u001b[1;30m: \u001b[0m  - lib/python3.9/site-packages/pygame/tests/test_utils/__init__.py\n",
      "\u001b[1;310mDEBUG\u001b[1;30m: \u001b[0m\u001b[1;36muse.pimp\u001b[1;30m: \u001b[0m  - lib/python3.9/site-packages/pygame/tests/test_utils/test_runner.py\n",
      "\u001b[1;310mDEBUG\u001b[1;30m: \u001b[0m\u001b[1;36muse.pimp\u001b[1;30m: \u001b[0m  - lib/python3.9/site-packages/pygame/tests/test_utils/__pycache__/run_tests.cpython-39.pyc\n",
      "\u001b[1;310mDEBUG\u001b[1;30m: \u001b[0m\u001b[1;36muse.pimp\u001b[1;30m: \u001b[0m  - lib/python3.9/site-packages/pygame/tests/test_utils/__pycache__/test_runner.cpython-39.pyc\n",
      "\u001b[1;310mDEBUG\u001b[1;30m: \u001b[0m\u001b[1;36muse.pimp\u001b[1;30m: \u001b[0m  - lib/python3.9/site-packages/pygame/tests/test_utils/__pycache__/png.cpython-39.pyc\n",
      "\u001b[1;310mDEBUG\u001b[1;30m: \u001b[0m\u001b[1;36muse.pimp\u001b[1;30m: \u001b[0m  - lib/python3.9/site-packages/pygame/tests/test_utils/__pycache__/__init__.cpython-39.pyc\n",
      "\u001b[1;310mDEBUG\u001b[1;30m: \u001b[0m\u001b[1;36muse.pimp\u001b[1;30m: \u001b[0m  - lib/python3.9/site-packages/pygame/tests/test_utils/__pycache__/endian.cpython-39.pyc\n",
      "\u001b[1;310mDEBUG\u001b[1;30m: \u001b[0m\u001b[1;36muse.pimp\u001b[1;30m: \u001b[0m  - lib/python3.9/site-packages/pygame/tests/test_utils/__pycache__/async_sub.cpython-39.pyc\n",
      "\u001b[1;310mDEBUG\u001b[1;30m: \u001b[0m\u001b[1;36muse.pimp\u001b[1;30m: \u001b[0m  - lib/python3.9/site-packages/pygame/tests/test_utils/__pycache__/buftools.cpython-39.pyc\n",
      "\u001b[1;310mDEBUG\u001b[1;30m: \u001b[0m\u001b[1;36muse.pimp\u001b[1;30m: \u001b[0m  - lib/python3.9/site-packages/pygame/tests/test_utils/__pycache__/arrinter.cpython-39.pyc\n",
      "\u001b[1;310mDEBUG\u001b[1;30m: \u001b[0m\u001b[1;36muse.pimp\u001b[1;30m: \u001b[0m  - lib/python3.9/site-packages/pygame/tests/test_utils/__pycache__/test_machinery.cpython-39.pyc\n",
      "\u001b[1;310mDEBUG\u001b[1;30m: \u001b[0m\u001b[1;36muse.pimp\u001b[1;30m: \u001b[0m  - lib/python3.9/site-packages/pygame/tests/__pycache__/image_test.cpython-39.pyc\n",
      "\u001b[1;310mDEBUG\u001b[1;30m: \u001b[0m\u001b[1;36muse.pimp\u001b[1;30m: \u001b[0m  - lib/python3.9/site-packages/pygame/tests/__pycache__/controller_test.cpython-39.pyc\n",
      "\u001b[1;310mDEBUG\u001b[1;30m: \u001b[0m\u001b[1;36muse.pimp\u001b[1;30m: \u001b[0m  - lib/python3.9/site-packages/pygame/tests/__pycache__/cursors_test.cpython-39.pyc\n",
      "\u001b[1;310mDEBUG\u001b[1;30m: \u001b[0m\u001b[1;36muse.pimp\u001b[1;30m: \u001b[0m  - lib/python3.9/site-packages/pygame/tests/__pycache__/mouse_test.cpython-39.pyc\n",
      "\u001b[1;310mDEBUG\u001b[1;30m: \u001b[0m\u001b[1;36muse.pimp\u001b[1;30m: \u001b[0m  - lib/python3.9/site-packages/pygame/tests/__pycache__/imageext_tags.cpython-39.pyc\n",
      "\u001b[1;310mDEBUG\u001b[1;30m: \u001b[0m\u001b[1;36muse.pimp\u001b[1;30m: \u001b[0m  - lib/python3.9/site-packages/pygame/tests/__pycache__/sndarray_tags.cpython-39.pyc\n",
      "\u001b[1;310mDEBUG\u001b[1;30m: \u001b[0m\u001b[1;36muse.pimp\u001b[1;30m: \u001b[0m  - lib/python3.9/site-packages/pygame/tests/__pycache__/locals_test.cpython-39.pyc\n",
      "\u001b[1;310mDEBUG\u001b[1;30m: \u001b[0m\u001b[1;36muse.pimp\u001b[1;30m: \u001b[0m  - lib/python3.9/site-packages/pygame/tests/__pycache__/display_test.cpython-39.pyc\n",
      "\u001b[1;310mDEBUG\u001b[1;30m: \u001b[0m\u001b[1;36muse.pimp\u001b[1;30m: \u001b[0m  - lib/python3.9/site-packages/pygame/tests/__pycache__/key_test.cpython-39.pyc\n",
      "\u001b[1;310mDEBUG\u001b[1;30m: \u001b[0m\u001b[1;36muse.pimp\u001b[1;30m: \u001b[0m  - lib/python3.9/site-packages/pygame/tests/__pycache__/color_test.cpython-39.pyc\n",
      "\u001b[1;310mDEBUG\u001b[1;30m: \u001b[0m\u001b[1;36muse.pimp\u001b[1;30m: \u001b[0m  - lib/python3.9/site-packages/pygame/tests/__pycache__/scrap_test.cpython-39.pyc\n",
      "\u001b[1;310mDEBUG\u001b[1;30m: \u001b[0m\u001b[1;36muse.pimp\u001b[1;30m: \u001b[0m  - lib/python3.9/site-packages/pygame/tests/__pycache__/ftfont_tags.cpython-39.pyc\n",
      "\u001b[1;310mDEBUG\u001b[1;30m: \u001b[0m\u001b[1;36muse.pimp\u001b[1;30m: \u001b[0m  - lib/python3.9/site-packages/pygame/tests/__pycache__/imageext_test.cpython-39.pyc\n",
      "\u001b[1;310mDEBUG\u001b[1;30m: \u001b[0m\u001b[1;36muse.pimp\u001b[1;30m: \u001b[0m  - lib/python3.9/site-packages/pygame/tests/__pycache__/__main__.cpython-39.pyc\n",
      "\u001b[1;310mDEBUG\u001b[1;30m: \u001b[0m\u001b[1;36muse.pimp\u001b[1;30m: \u001b[0m  - lib/python3.9/site-packages/pygame/tests/__pycache__/base_test.cpython-39.pyc\n",
      "\u001b[1;310mDEBUG\u001b[1;30m: \u001b[0m\u001b[1;36muse.pimp\u001b[1;30m: \u001b[0m  - lib/python3.9/site-packages/pygame/tests/__pycache__/mixer_music_test.cpython-39.pyc\n",
      "\u001b[1;310mDEBUG\u001b[1;30m: \u001b[0m\u001b[1;36muse.pimp\u001b[1;30m: \u001b[0m  - lib/python3.9/site-packages/pygame/tests/__pycache__/font_test.cpython-39.pyc\n",
      "\u001b[1;310mDEBUG\u001b[1;30m: \u001b[0m\u001b[1;36muse.pimp\u001b[1;30m: \u001b[0m  - lib/python3.9/site-packages/pygame/tests/__pycache__/event_test.cpython-39.pyc\n",
      "\u001b[1;310mDEBUG\u001b[1;30m: \u001b[0m\u001b[1;36muse.pimp\u001b[1;30m: \u001b[0m  - lib/python3.9/site-packages/pygame/tests/__pycache__/image_tags.cpython-39.pyc\n",
      "\u001b[1;310mDEBUG\u001b[1;30m: \u001b[0m\u001b[1;36muse.pimp\u001b[1;30m: \u001b[0m  - lib/python3.9/site-packages/pygame/tests/__pycache__/rwobject_test.cpython-39.pyc\n",
      "\u001b[1;310mDEBUG\u001b[1;30m: \u001b[0m\u001b[1;36muse.pimp\u001b[1;30m: \u001b[0m  - lib/python3.9/site-packages/pygame/tests/__pycache__/surflock_test.cpython-39.pyc\n",
      "\u001b[1;310mDEBUG\u001b[1;30m: \u001b[0m\u001b[1;36muse.pimp\u001b[1;30m: \u001b[0m  - lib/python3.9/site-packages/pygame/tests/__pycache__/joystick_test.cpython-39.pyc\n",
      "\u001b[1;310mDEBUG\u001b[1;30m: \u001b[0m\u001b[1;36muse.pimp\u001b[1;30m: \u001b[0m  - lib/python3.9/site-packages/pygame/tests/__pycache__/camera_test.cpython-39.pyc\n",
      "\u001b[1;310mDEBUG\u001b[1;30m: \u001b[0m\u001b[1;36muse.pimp\u001b[1;30m: \u001b[0m  - lib/python3.9/site-packages/pygame/tests/__pycache__/freetype_tags.cpython-39.pyc\n",
      "\u001b[1;310mDEBUG\u001b[1;30m: \u001b[0m\u001b[1;36muse.pimp\u001b[1;30m: \u001b[0m  - lib/python3.9/site-packages/pygame/tests/__pycache__/__init__.cpython-39.pyc\n",
      "\u001b[1;310mDEBUG\u001b[1;30m: \u001b[0m\u001b[1;36muse.pimp\u001b[1;30m: \u001b[0m  - lib/python3.9/site-packages/pygame/tests/__pycache__/sprite_test.cpython-39.pyc\n",
      "\u001b[1;310mDEBUG\u001b[1;30m: \u001b[0m\u001b[1;36muse.pimp\u001b[1;30m: \u001b[0m  - lib/python3.9/site-packages/pygame/tests/__pycache__/bufferproxy_test.cpython-39.pyc\n",
      "\u001b[1;310mDEBUG\u001b[1;30m: \u001b[0m\u001b[1;36muse.pimp\u001b[1;30m: \u001b[0m  - lib/python3.9/site-packages/pygame/tests/__pycache__/blit_test.cpython-39.pyc\n",
      "\u001b[1;310mDEBUG\u001b[1;30m: \u001b[0m\u001b[1;36muse.pimp\u001b[1;30m: \u001b[0m  - lib/python3.9/site-packages/pygame/tests/__pycache__/midi_test.cpython-39.pyc\n",
      "\u001b[1;310mDEBUG\u001b[1;30m: \u001b[0m\u001b[1;36muse.pimp\u001b[1;30m: \u001b[0m  - lib/python3.9/site-packages/pygame/tests/__pycache__/sysfont_test.cpython-39.pyc\n",
      "\u001b[1;310mDEBUG\u001b[1;30m: \u001b[0m\u001b[1;36muse.pimp\u001b[1;30m: \u001b[0m  - lib/python3.9/site-packages/pygame/tests/__pycache__/time_test.cpython-39.pyc\n",
      "\u001b[1;310mDEBUG\u001b[1;30m: \u001b[0m\u001b[1;36muse.pimp\u001b[1;30m: \u001b[0m  - lib/python3.9/site-packages/pygame/tests/__pycache__/image__save_gl_surface_test.cpython-39.pyc\n",
      "\u001b[1;310mDEBUG\u001b[1;30m: \u001b[0m\u001b[1;36muse.pimp\u001b[1;30m: \u001b[0m  - lib/python3.9/site-packages/pygame/tests/__pycache__/pixelarray_test.cpython-39.pyc\n",
      "\u001b[1;310mDEBUG\u001b[1;30m: \u001b[0m\u001b[1;36muse.pimp\u001b[1;30m: \u001b[0m  - lib/python3.9/site-packages/pygame/tests/__pycache__/pixelcopy_test.cpython-39.pyc\n",
      "\u001b[1;310mDEBUG\u001b[1;30m: \u001b[0m\u001b[1;36muse.pimp\u001b[1;30m: \u001b[0m  - lib/python3.9/site-packages/pygame/tests/__pycache__/docs_test.cpython-39.pyc\n",
      "\u001b[1;310mDEBUG\u001b[1;30m: \u001b[0m\u001b[1;36muse.pimp\u001b[1;30m: \u001b[0m  - lib/python3.9/site-packages/pygame/tests/__pycache__/scrap_tags.cpython-39.pyc\n",
      "\u001b[1;310mDEBUG\u001b[1;30m: \u001b[0m\u001b[1;36muse.pimp\u001b[1;30m: \u001b[0m  - lib/python3.9/site-packages/pygame/tests/__pycache__/video_test.cpython-39.pyc\n",
      "\u001b[1;310mDEBUG\u001b[1;30m: \u001b[0m\u001b[1;36muse.pimp\u001b[1;30m: \u001b[0m  - lib/python3.9/site-packages/pygame/tests/__pycache__/mask_test.cpython-39.pyc\n",
      "\u001b[1;310mDEBUG\u001b[1;30m: \u001b[0m\u001b[1;36muse.pimp\u001b[1;30m: \u001b[0m  - lib/python3.9/site-packages/pygame/tests/__pycache__/mixer_music_tags.cpython-39.pyc\n",
      "\u001b[1;310mDEBUG\u001b[1;30m: \u001b[0m\u001b[1;36muse.pimp\u001b[1;30m: \u001b[0m  - lib/python3.9/site-packages/pygame/tests/__pycache__/freetype_test.cpython-39.pyc\n",
      "\u001b[1;310mDEBUG\u001b[1;30m: \u001b[0m\u001b[1;36muse.pimp\u001b[1;30m: \u001b[0m  - lib/python3.9/site-packages/pygame/tests/__pycache__/version_test.cpython-39.pyc\n",
      "\u001b[1;310mDEBUG\u001b[1;30m: \u001b[0m\u001b[1;36muse.pimp\u001b[1;30m: \u001b[0m  - lib/python3.9/site-packages/pygame/tests/__pycache__/mixer_test.cpython-39.pyc\n",
      "\u001b[1;310mDEBUG\u001b[1;30m: \u001b[0m\u001b[1;36muse.pimp\u001b[1;30m: \u001b[0m  - lib/python3.9/site-packages/pygame/tests/__pycache__/ftfont_test.cpython-39.pyc\n",
      "\u001b[1;310mDEBUG\u001b[1;30m: \u001b[0m\u001b[1;36muse.pimp\u001b[1;30m: \u001b[0m  - lib/python3.9/site-packages/pygame/tests/__pycache__/surfarray_test.cpython-39.pyc\n",
      "\u001b[1;310mDEBUG\u001b[1;30m: \u001b[0m\u001b[1;36muse.pimp\u001b[1;30m: \u001b[0m  - lib/python3.9/site-packages/pygame/tests/__pycache__/touch_test.cpython-39.pyc\n",
      "\u001b[1;310mDEBUG\u001b[1;30m: \u001b[0m\u001b[1;36muse.pimp\u001b[1;30m: \u001b[0m  - lib/python3.9/site-packages/pygame/tests/__pycache__/math_test.cpython-39.pyc\n",
      "\u001b[1;310mDEBUG\u001b[1;30m: \u001b[0m\u001b[1;36muse.pimp\u001b[1;30m: \u001b[0m  - lib/python3.9/site-packages/pygame/tests/__pycache__/draw_test.cpython-39.pyc\n",
      "\u001b[1;310mDEBUG\u001b[1;30m: \u001b[0m\u001b[1;36muse.pimp\u001b[1;30m: \u001b[0m  - lib/python3.9/site-packages/pygame/tests/__pycache__/sndarray_test.cpython-39.pyc\n",
      "\u001b[1;310mDEBUG\u001b[1;30m: \u001b[0m\u001b[1;36muse.pimp\u001b[1;30m: \u001b[0m  - lib/python3.9/site-packages/pygame/tests/__pycache__/transform_test.cpython-39.pyc\n",
      "\u001b[1;310mDEBUG\u001b[1;30m: \u001b[0m\u001b[1;36muse.pimp\u001b[1;30m: \u001b[0m  - lib/python3.9/site-packages/pygame/tests/__pycache__/mixer_tags.cpython-39.pyc\n",
      "\u001b[1;310mDEBUG\u001b[1;30m: \u001b[0m\u001b[1;36muse.pimp\u001b[1;30m: \u001b[0m  - lib/python3.9/site-packages/pygame/tests/__pycache__/gfxdraw_test.cpython-39.pyc\n",
      "\u001b[1;310mDEBUG\u001b[1;30m: \u001b[0m\u001b[1;36muse.pimp\u001b[1;30m: \u001b[0m  - lib/python3.9/site-packages/pygame/tests/__pycache__/test_test_.cpython-39.pyc\n",
      "\u001b[1;310mDEBUG\u001b[1;30m: \u001b[0m\u001b[1;36muse.pimp\u001b[1;30m: \u001b[0m  - lib/python3.9/site-packages/pygame/tests/__pycache__/threads_test.cpython-39.pyc\n",
      "\u001b[1;310mDEBUG\u001b[1;30m: \u001b[0m\u001b[1;36muse.pimp\u001b[1;30m: \u001b[0m  - lib/python3.9/site-packages/pygame/tests/__pycache__/constants_test.cpython-39.pyc\n",
      "\u001b[1;310mDEBUG\u001b[1;30m: \u001b[0m\u001b[1;36muse.pimp\u001b[1;30m: \u001b[0m  - lib/python3.9/site-packages/pygame/tests/__pycache__/rect_test.cpython-39.pyc\n",
      "\u001b[1;310mDEBUG\u001b[1;30m: \u001b[0m\u001b[1;36muse.pimp\u001b[1;30m: \u001b[0m  - lib/python3.9/site-packages/pygame/tests/__pycache__/surfarray_tags.cpython-39.pyc\n",
      "\u001b[1;310mDEBUG\u001b[1;30m: \u001b[0m\u001b[1;36muse.pimp\u001b[1;30m: \u001b[0m  - lib/python3.9/site-packages/pygame/tests/__pycache__/surface_test.cpython-39.pyc\n",
      "\u001b[1;310mDEBUG\u001b[1;30m: \u001b[0m\u001b[1;36muse.pimp\u001b[1;30m: \u001b[0m  - lib/python3.9/site-packages/pygame/tests/run_tests__tests/exclude\n",
      "\u001b[1;310mDEBUG\u001b[1;30m: \u001b[0m\u001b[1;36muse.pimp\u001b[1;30m: \u001b[0m  - lib/python3.9/site-packages/pygame/tests/run_tests__tests/__pycache__\n",
      "\u001b[1;310mDEBUG\u001b[1;30m: \u001b[0m\u001b[1;36muse.pimp\u001b[1;30m: \u001b[0m  - lib/python3.9/site-packages/pygame/tests/run_tests__tests/all_ok\n",
      "\u001b[1;310mDEBUG\u001b[1;30m: \u001b[0m\u001b[1;36muse.pimp\u001b[1;30m: \u001b[0m  - lib/python3.9/site-packages/pygame/tests/run_tests__tests/failures1\n",
      "\u001b[1;310mDEBUG\u001b[1;30m: \u001b[0m\u001b[1;36muse.pimp\u001b[1;30m: \u001b[0m  - lib/python3.9/site-packages/pygame/tests/run_tests__tests/print_stderr\n",
      "\u001b[1;310mDEBUG\u001b[1;30m: \u001b[0m\u001b[1;36muse.pimp\u001b[1;30m: \u001b[0m  - lib/python3.9/site-packages/pygame/tests/run_tests__tests/everything\n",
      "\u001b[1;310mDEBUG\u001b[1;30m: \u001b[0m\u001b[1;36muse.pimp\u001b[1;30m: \u001b[0m  - lib/python3.9/site-packages/pygame/tests/run_tests__tests/infinite_loop\n",
      "\u001b[1;310mDEBUG\u001b[1;30m: \u001b[0m\u001b[1;36muse.pimp\u001b[1;30m: \u001b[0m  - lib/python3.9/site-packages/pygame/tests/run_tests__tests/timeout\n",
      "\u001b[1;310mDEBUG\u001b[1;30m: \u001b[0m\u001b[1;36muse.pimp\u001b[1;30m: \u001b[0m  - lib/python3.9/site-packages/pygame/tests/run_tests__tests/incomplete_todo\n",
      "\u001b[1;310mDEBUG\u001b[1;30m: \u001b[0m\u001b[1;36muse.pimp\u001b[1;30m: \u001b[0m  - lib/python3.9/site-packages/pygame/tests/run_tests__tests/print_stdout\n",
      "\u001b[1;310mDEBUG\u001b[1;30m: \u001b[0m\u001b[1;36muse.pimp\u001b[1;30m: \u001b[0m  - lib/python3.9/site-packages/pygame/tests/run_tests__tests/run_tests__test.py\n",
      "\u001b[1;310mDEBUG\u001b[1;30m: \u001b[0m\u001b[1;36muse.pimp\u001b[1;30m: \u001b[0m  - lib/python3.9/site-packages/pygame/tests/run_tests__tests/incomplete\n",
      "\u001b[1;310mDEBUG\u001b[1;30m: \u001b[0m\u001b[1;36muse.pimp\u001b[1;30m: \u001b[0m  - lib/python3.9/site-packages/pygame/tests/run_tests__tests/__init__.py\n",
      "\u001b[1;310mDEBUG\u001b[1;30m: \u001b[0m\u001b[1;36muse.pimp\u001b[1;30m: \u001b[0m  - lib/python3.9/site-packages/pygame/tests/run_tests__tests/exclude/__pycache__\n",
      "\u001b[1;310mDEBUG\u001b[1;30m: \u001b[0m\u001b[1;36muse.pimp\u001b[1;30m: \u001b[0m  - lib/python3.9/site-packages/pygame/tests/run_tests__tests/exclude/fake_2_test.py\n",
      "\u001b[1;310mDEBUG\u001b[1;30m: \u001b[0m\u001b[1;36muse.pimp\u001b[1;30m: \u001b[0m  - lib/python3.9/site-packages/pygame/tests/run_tests__tests/exclude/magic_tag_test.py\n",
      "\u001b[1;310mDEBUG\u001b[1;30m: \u001b[0m\u001b[1;36muse.pimp\u001b[1;30m: \u001b[0m  - lib/python3.9/site-packages/pygame/tests/run_tests__tests/exclude/invisible_tag_test.py\n",
      "\u001b[1;310mDEBUG\u001b[1;30m: \u001b[0m\u001b[1;36muse.pimp\u001b[1;30m: \u001b[0m  - lib/python3.9/site-packages/pygame/tests/run_tests__tests/exclude/__init__.py\n",
      "\u001b[1;310mDEBUG\u001b[1;30m: \u001b[0m\u001b[1;36muse.pimp\u001b[1;30m: \u001b[0m  - lib/python3.9/site-packages/pygame/tests/run_tests__tests/exclude/__pycache__/magic_tag_test.cpython-39.pyc\n",
      "\u001b[1;310mDEBUG\u001b[1;30m: \u001b[0m\u001b[1;36muse.pimp\u001b[1;30m: \u001b[0m  - lib/python3.9/site-packages/pygame/tests/run_tests__tests/exclude/__pycache__/fake_2_test.cpython-39.pyc\n",
      "\u001b[1;310mDEBUG\u001b[1;30m: \u001b[0m\u001b[1;36muse.pimp\u001b[1;30m: \u001b[0m  - lib/python3.9/site-packages/pygame/tests/run_tests__tests/exclude/__pycache__/__init__.cpython-39.pyc\n",
      "\u001b[1;310mDEBUG\u001b[1;30m: \u001b[0m\u001b[1;36muse.pimp\u001b[1;30m: \u001b[0m  - lib/python3.9/site-packages/pygame/tests/run_tests__tests/exclude/__pycache__/invisible_tag_test.cpython-39.pyc\n",
      "\u001b[1;310mDEBUG\u001b[1;30m: \u001b[0m\u001b[1;36muse.pimp\u001b[1;30m: \u001b[0m  - lib/python3.9/site-packages/pygame/tests/run_tests__tests/__pycache__/__init__.cpython-39.pyc\n",
      "\u001b[1;310mDEBUG\u001b[1;30m: \u001b[0m\u001b[1;36muse.pimp\u001b[1;30m: \u001b[0m  - lib/python3.9/site-packages/pygame/tests/run_tests__tests/__pycache__/run_tests__test.cpython-39.pyc\n",
      "\u001b[1;310mDEBUG\u001b[1;30m: \u001b[0m\u001b[1;36muse.pimp\u001b[1;30m: \u001b[0m  - lib/python3.9/site-packages/pygame/tests/run_tests__tests/all_ok/fake_5_test.py\n",
      "\u001b[1;310mDEBUG\u001b[1;30m: \u001b[0m\u001b[1;36muse.pimp\u001b[1;30m: \u001b[0m  - lib/python3.9/site-packages/pygame/tests/run_tests__tests/all_ok/__pycache__\n",
      "\u001b[1;310mDEBUG\u001b[1;30m: \u001b[0m\u001b[1;36muse.pimp\u001b[1;30m: \u001b[0m  - lib/python3.9/site-packages/pygame/tests/run_tests__tests/all_ok/fake_3_test.py\n",
      "\u001b[1;310mDEBUG\u001b[1;30m: \u001b[0m\u001b[1;36muse.pimp\u001b[1;30m: \u001b[0m  - lib/python3.9/site-packages/pygame/tests/run_tests__tests/all_ok/no_assertions__ret_code_of_1__test.py\n",
      "\u001b[1;310mDEBUG\u001b[1;30m: \u001b[0m\u001b[1;36muse.pimp\u001b[1;30m: \u001b[0m  - lib/python3.9/site-packages/pygame/tests/run_tests__tests/all_ok/fake_2_test.py\n",
      "\u001b[1;310mDEBUG\u001b[1;30m: \u001b[0m\u001b[1;36muse.pimp\u001b[1;30m: \u001b[0m  - lib/python3.9/site-packages/pygame/tests/run_tests__tests/all_ok/fake_6_test.py\n",
      "\u001b[1;310mDEBUG\u001b[1;30m: \u001b[0m\u001b[1;36muse.pimp\u001b[1;30m: \u001b[0m  - lib/python3.9/site-packages/pygame/tests/run_tests__tests/all_ok/zero_tests_test.py\n",
      "\u001b[1;310mDEBUG\u001b[1;30m: \u001b[0m\u001b[1;36muse.pimp\u001b[1;30m: \u001b[0m  - lib/python3.9/site-packages/pygame/tests/run_tests__tests/all_ok/__init__.py\n",
      "\u001b[1;310mDEBUG\u001b[1;30m: \u001b[0m\u001b[1;36muse.pimp\u001b[1;30m: \u001b[0m  - lib/python3.9/site-packages/pygame/tests/run_tests__tests/all_ok/fake_4_test.py\n",
      "\u001b[1;310mDEBUG\u001b[1;30m: \u001b[0m\u001b[1;36muse.pimp\u001b[1;30m: \u001b[0m  - lib/python3.9/site-packages/pygame/tests/run_tests__tests/all_ok/__pycache__/fake_2_test.cpython-39.pyc\n",
      "\u001b[1;310mDEBUG\u001b[1;30m: \u001b[0m\u001b[1;36muse.pimp\u001b[1;30m: \u001b[0m  - lib/python3.9/site-packages/pygame/tests/run_tests__tests/all_ok/__pycache__/fake_5_test.cpython-39.pyc\n",
      "\u001b[1;310mDEBUG\u001b[1;30m: \u001b[0m\u001b[1;36muse.pimp\u001b[1;30m: \u001b[0m  - lib/python3.9/site-packages/pygame/tests/run_tests__tests/all_ok/__pycache__/fake_3_test.cpython-39.pyc\n",
      "\u001b[1;310mDEBUG\u001b[1;30m: \u001b[0m\u001b[1;36muse.pimp\u001b[1;30m: \u001b[0m  - lib/python3.9/site-packages/pygame/tests/run_tests__tests/all_ok/__pycache__/__init__.cpython-39.pyc\n",
      "\u001b[1;310mDEBUG\u001b[1;30m: \u001b[0m\u001b[1;36muse.pimp\u001b[1;30m: \u001b[0m  - lib/python3.9/site-packages/pygame/tests/run_tests__tests/all_ok/__pycache__/zero_tests_test.cpython-39.pyc\n",
      "\u001b[1;310mDEBUG\u001b[1;30m: \u001b[0m\u001b[1;36muse.pimp\u001b[1;30m: \u001b[0m  - lib/python3.9/site-packages/pygame/tests/run_tests__tests/all_ok/__pycache__/no_assertions__ret_code_of_1__test.cpython-39.pyc\n",
      "\u001b[1;310mDEBUG\u001b[1;30m: \u001b[0m\u001b[1;36muse.pimp\u001b[1;30m: \u001b[0m  - lib/python3.9/site-packages/pygame/tests/run_tests__tests/all_ok/__pycache__/fake_6_test.cpython-39.pyc\n",
      "\u001b[1;310mDEBUG\u001b[1;30m: \u001b[0m\u001b[1;36muse.pimp\u001b[1;30m: \u001b[0m  - lib/python3.9/site-packages/pygame/tests/run_tests__tests/all_ok/__pycache__/fake_4_test.cpython-39.pyc\n",
      "\u001b[1;310mDEBUG\u001b[1;30m: \u001b[0m\u001b[1;36muse.pimp\u001b[1;30m: \u001b[0m  - lib/python3.9/site-packages/pygame/tests/run_tests__tests/failures1/__pycache__\n",
      "\u001b[1;310mDEBUG\u001b[1;30m: \u001b[0m\u001b[1;36muse.pimp\u001b[1;30m: \u001b[0m  - lib/python3.9/site-packages/pygame/tests/run_tests__tests/failures1/fake_3_test.py\n",
      "\u001b[1;310mDEBUG\u001b[1;30m: \u001b[0m\u001b[1;36muse.pimp\u001b[1;30m: \u001b[0m  - lib/python3.9/site-packages/pygame/tests/run_tests__tests/failures1/fake_2_test.py\n",
      "\u001b[1;310mDEBUG\u001b[1;30m: \u001b[0m\u001b[1;36muse.pimp\u001b[1;30m: \u001b[0m  - lib/python3.9/site-packages/pygame/tests/run_tests__tests/failures1/__init__.py\n",
      "\u001b[1;310mDEBUG\u001b[1;30m: \u001b[0m\u001b[1;36muse.pimp\u001b[1;30m: \u001b[0m  - lib/python3.9/site-packages/pygame/tests/run_tests__tests/failures1/fake_4_test.py\n",
      "\u001b[1;310mDEBUG\u001b[1;30m: \u001b[0m\u001b[1;36muse.pimp\u001b[1;30m: \u001b[0m  - lib/python3.9/site-packages/pygame/tests/run_tests__tests/failures1/__pycache__/fake_2_test.cpython-39.pyc\n",
      "\u001b[1;310mDEBUG\u001b[1;30m: \u001b[0m\u001b[1;36muse.pimp\u001b[1;30m: \u001b[0m  - lib/python3.9/site-packages/pygame/tests/run_tests__tests/failures1/__pycache__/fake_3_test.cpython-39.pyc\n",
      "\u001b[1;310mDEBUG\u001b[1;30m: \u001b[0m\u001b[1;36muse.pimp\u001b[1;30m: \u001b[0m  - lib/python3.9/site-packages/pygame/tests/run_tests__tests/failures1/__pycache__/__init__.cpython-39.pyc\n",
      "\u001b[1;310mDEBUG\u001b[1;30m: \u001b[0m\u001b[1;36muse.pimp\u001b[1;30m: \u001b[0m  - lib/python3.9/site-packages/pygame/tests/run_tests__tests/failures1/__pycache__/fake_4_test.cpython-39.pyc\n",
      "\u001b[1;310mDEBUG\u001b[1;30m: \u001b[0m\u001b[1;36muse.pimp\u001b[1;30m: \u001b[0m  - lib/python3.9/site-packages/pygame/tests/run_tests__tests/print_stderr/__pycache__\n",
      "\u001b[1;310mDEBUG\u001b[1;30m: \u001b[0m\u001b[1;36muse.pimp\u001b[1;30m: \u001b[0m  - lib/python3.9/site-packages/pygame/tests/run_tests__tests/print_stderr/fake_3_test.py\n",
      "\u001b[1;310mDEBUG\u001b[1;30m: \u001b[0m\u001b[1;36muse.pimp\u001b[1;30m: \u001b[0m  - lib/python3.9/site-packages/pygame/tests/run_tests__tests/print_stderr/fake_2_test.py\n",
      "\u001b[1;310mDEBUG\u001b[1;30m: \u001b[0m\u001b[1;36muse.pimp\u001b[1;30m: \u001b[0m  - lib/python3.9/site-packages/pygame/tests/run_tests__tests/print_stderr/__init__.py\n",
      "\u001b[1;310mDEBUG\u001b[1;30m: \u001b[0m\u001b[1;36muse.pimp\u001b[1;30m: \u001b[0m  - lib/python3.9/site-packages/pygame/tests/run_tests__tests/print_stderr/fake_4_test.py\n",
      "\u001b[1;310mDEBUG\u001b[1;30m: \u001b[0m\u001b[1;36muse.pimp\u001b[1;30m: \u001b[0m  - lib/python3.9/site-packages/pygame/tests/run_tests__tests/print_stderr/__pycache__/fake_2_test.cpython-39.pyc\n",
      "\u001b[1;310mDEBUG\u001b[1;30m: \u001b[0m\u001b[1;36muse.pimp\u001b[1;30m: \u001b[0m  - lib/python3.9/site-packages/pygame/tests/run_tests__tests/print_stderr/__pycache__/fake_3_test.cpython-39.pyc\n",
      "\u001b[1;310mDEBUG\u001b[1;30m: \u001b[0m\u001b[1;36muse.pimp\u001b[1;30m: \u001b[0m  - lib/python3.9/site-packages/pygame/tests/run_tests__tests/print_stderr/__pycache__/__init__.cpython-39.pyc\n",
      "\u001b[1;310mDEBUG\u001b[1;30m: \u001b[0m\u001b[1;36muse.pimp\u001b[1;30m: \u001b[0m  - lib/python3.9/site-packages/pygame/tests/run_tests__tests/print_stderr/__pycache__/fake_4_test.cpython-39.pyc\n",
      "\u001b[1;310mDEBUG\u001b[1;30m: \u001b[0m\u001b[1;36muse.pimp\u001b[1;30m: \u001b[0m  - lib/python3.9/site-packages/pygame/tests/run_tests__tests/everything/sleep_test.py\n",
      "\u001b[1;310mDEBUG\u001b[1;30m: \u001b[0m\u001b[1;36muse.pimp\u001b[1;30m: \u001b[0m  - lib/python3.9/site-packages/pygame/tests/run_tests__tests/everything/__pycache__\n",
      "\u001b[1;310mDEBUG\u001b[1;30m: \u001b[0m\u001b[1;36muse.pimp\u001b[1;30m: \u001b[0m  - lib/python3.9/site-packages/pygame/tests/run_tests__tests/everything/incomplete_todo_test.py\n",
      "\u001b[1;310mDEBUG\u001b[1;30m: \u001b[0m\u001b[1;36muse.pimp\u001b[1;30m: \u001b[0m  - lib/python3.9/site-packages/pygame/tests/run_tests__tests/everything/fake_2_test.py\n",
      "\u001b[1;310mDEBUG\u001b[1;30m: \u001b[0m\u001b[1;36muse.pimp\u001b[1;30m: \u001b[0m  - lib/python3.9/site-packages/pygame/tests/run_tests__tests/everything/magic_tag_test.py\n",
      "\u001b[1;310mDEBUG\u001b[1;30m: \u001b[0m\u001b[1;36muse.pimp\u001b[1;30m: \u001b[0m  - lib/python3.9/site-packages/pygame/tests/run_tests__tests/everything/__init__.py\n",
      "\u001b[1;310mDEBUG\u001b[1;30m: \u001b[0m\u001b[1;36muse.pimp\u001b[1;30m: \u001b[0m  - lib/python3.9/site-packages/pygame/tests/run_tests__tests/everything/__pycache__/magic_tag_test.cpython-39.pyc\n",
      "\u001b[1;310mDEBUG\u001b[1;30m: \u001b[0m\u001b[1;36muse.pimp\u001b[1;30m: \u001b[0m  - lib/python3.9/site-packages/pygame/tests/run_tests__tests/everything/__pycache__/sleep_test.cpython-39.pyc\n",
      "\u001b[1;310mDEBUG\u001b[1;30m: \u001b[0m\u001b[1;36muse.pimp\u001b[1;30m: \u001b[0m  - lib/python3.9/site-packages/pygame/tests/run_tests__tests/everything/__pycache__/fake_2_test.cpython-39.pyc\n",
      "\u001b[1;310mDEBUG\u001b[1;30m: \u001b[0m\u001b[1;36muse.pimp\u001b[1;30m: \u001b[0m  - lib/python3.9/site-packages/pygame/tests/run_tests__tests/everything/__pycache__/__init__.cpython-39.pyc\n",
      "\u001b[1;310mDEBUG\u001b[1;30m: \u001b[0m\u001b[1;36muse.pimp\u001b[1;30m: \u001b[0m  - lib/python3.9/site-packages/pygame/tests/run_tests__tests/everything/__pycache__/incomplete_todo_test.cpython-39.pyc\n",
      "\u001b[1;310mDEBUG\u001b[1;30m: \u001b[0m\u001b[1;36muse.pimp\u001b[1;30m: \u001b[0m  - lib/python3.9/site-packages/pygame/tests/run_tests__tests/infinite_loop/__pycache__\n",
      "\u001b[1;310mDEBUG\u001b[1;30m: \u001b[0m\u001b[1;36muse.pimp\u001b[1;30m: \u001b[0m  - lib/python3.9/site-packages/pygame/tests/run_tests__tests/infinite_loop/fake_1_test.py\n",
      "\u001b[1;310mDEBUG\u001b[1;30m: \u001b[0m\u001b[1;36muse.pimp\u001b[1;30m: \u001b[0m  - lib/python3.9/site-packages/pygame/tests/run_tests__tests/infinite_loop/fake_2_test.py\n",
      "\u001b[1;310mDEBUG\u001b[1;30m: \u001b[0m\u001b[1;36muse.pimp\u001b[1;30m: \u001b[0m  - lib/python3.9/site-packages/pygame/tests/run_tests__tests/infinite_loop/__init__.py\n",
      "\u001b[1;310mDEBUG\u001b[1;30m: \u001b[0m\u001b[1;36muse.pimp\u001b[1;30m: \u001b[0m  - lib/python3.9/site-packages/pygame/tests/run_tests__tests/infinite_loop/__pycache__/fake_2_test.cpython-39.pyc\n",
      "\u001b[1;310mDEBUG\u001b[1;30m: \u001b[0m\u001b[1;36muse.pimp\u001b[1;30m: \u001b[0m  - lib/python3.9/site-packages/pygame/tests/run_tests__tests/infinite_loop/__pycache__/fake_1_test.cpython-39.pyc\n",
      "\u001b[1;310mDEBUG\u001b[1;30m: \u001b[0m\u001b[1;36muse.pimp\u001b[1;30m: \u001b[0m  - lib/python3.9/site-packages/pygame/tests/run_tests__tests/infinite_loop/__pycache__/__init__.cpython-39.pyc\n",
      "\u001b[1;310mDEBUG\u001b[1;30m: \u001b[0m\u001b[1;36muse.pimp\u001b[1;30m: \u001b[0m  - lib/python3.9/site-packages/pygame/tests/run_tests__tests/timeout/sleep_test.py\n",
      "\u001b[1;310mDEBUG\u001b[1;30m: \u001b[0m\u001b[1;36muse.pimp\u001b[1;30m: \u001b[0m  - lib/python3.9/site-packages/pygame/tests/run_tests__tests/timeout/__pycache__\n",
      "\u001b[1;310mDEBUG\u001b[1;30m: \u001b[0m\u001b[1;36muse.pimp\u001b[1;30m: \u001b[0m  - lib/python3.9/site-packages/pygame/tests/run_tests__tests/timeout/fake_2_test.py\n",
      "\u001b[1;310mDEBUG\u001b[1;30m: \u001b[0m\u001b[1;36muse.pimp\u001b[1;30m: \u001b[0m  - lib/python3.9/site-packages/pygame/tests/run_tests__tests/timeout/__init__.py\n",
      "\u001b[1;310mDEBUG\u001b[1;30m: \u001b[0m\u001b[1;36muse.pimp\u001b[1;30m: \u001b[0m  - lib/python3.9/site-packages/pygame/tests/run_tests__tests/timeout/__pycache__/sleep_test.cpython-39.pyc\n",
      "\u001b[1;310mDEBUG\u001b[1;30m: \u001b[0m\u001b[1;36muse.pimp\u001b[1;30m: \u001b[0m  - lib/python3.9/site-packages/pygame/tests/run_tests__tests/timeout/__pycache__/fake_2_test.cpython-39.pyc\n",
      "\u001b[1;310mDEBUG\u001b[1;30m: \u001b[0m\u001b[1;36muse.pimp\u001b[1;30m: \u001b[0m  - lib/python3.9/site-packages/pygame/tests/run_tests__tests/timeout/__pycache__/__init__.cpython-39.pyc\n",
      "\u001b[1;310mDEBUG\u001b[1;30m: \u001b[0m\u001b[1;36muse.pimp\u001b[1;30m: \u001b[0m  - lib/python3.9/site-packages/pygame/tests/run_tests__tests/incomplete_todo/__pycache__\n",
      "\u001b[1;310mDEBUG\u001b[1;30m: \u001b[0m\u001b[1;36muse.pimp\u001b[1;30m: \u001b[0m  - lib/python3.9/site-packages/pygame/tests/run_tests__tests/incomplete_todo/fake_3_test.py\n",
      "\u001b[1;310mDEBUG\u001b[1;30m: \u001b[0m\u001b[1;36muse.pimp\u001b[1;30m: \u001b[0m  - lib/python3.9/site-packages/pygame/tests/run_tests__tests/incomplete_todo/fake_2_test.py\n",
      "\u001b[1;310mDEBUG\u001b[1;30m: \u001b[0m\u001b[1;36muse.pimp\u001b[1;30m: \u001b[0m  - lib/python3.9/site-packages/pygame/tests/run_tests__tests/incomplete_todo/__init__.py\n",
      "\u001b[1;310mDEBUG\u001b[1;30m: \u001b[0m\u001b[1;36muse.pimp\u001b[1;30m: \u001b[0m  - lib/python3.9/site-packages/pygame/tests/run_tests__tests/incomplete_todo/__pycache__/fake_2_test.cpython-39.pyc\n",
      "\u001b[1;310mDEBUG\u001b[1;30m: \u001b[0m\u001b[1;36muse.pimp\u001b[1;30m: \u001b[0m  - lib/python3.9/site-packages/pygame/tests/run_tests__tests/incomplete_todo/__pycache__/fake_3_test.cpython-39.pyc\n",
      "\u001b[1;310mDEBUG\u001b[1;30m: \u001b[0m\u001b[1;36muse.pimp\u001b[1;30m: \u001b[0m  - lib/python3.9/site-packages/pygame/tests/run_tests__tests/incomplete_todo/__pycache__/__init__.cpython-39.pyc\n",
      "\u001b[1;310mDEBUG\u001b[1;30m: \u001b[0m\u001b[1;36muse.pimp\u001b[1;30m: \u001b[0m  - lib/python3.9/site-packages/pygame/tests/run_tests__tests/print_stdout/__pycache__\n",
      "\u001b[1;310mDEBUG\u001b[1;30m: \u001b[0m\u001b[1;36muse.pimp\u001b[1;30m: \u001b[0m  - lib/python3.9/site-packages/pygame/tests/run_tests__tests/print_stdout/fake_3_test.py\n",
      "\u001b[1;310mDEBUG\u001b[1;30m: \u001b[0m\u001b[1;36muse.pimp\u001b[1;30m: \u001b[0m  - lib/python3.9/site-packages/pygame/tests/run_tests__tests/print_stdout/fake_2_test.py\n",
      "\u001b[1;310mDEBUG\u001b[1;30m: \u001b[0m\u001b[1;36muse.pimp\u001b[1;30m: \u001b[0m  - lib/python3.9/site-packages/pygame/tests/run_tests__tests/print_stdout/__init__.py\n",
      "\u001b[1;310mDEBUG\u001b[1;30m: \u001b[0m\u001b[1;36muse.pimp\u001b[1;30m: \u001b[0m  - lib/python3.9/site-packages/pygame/tests/run_tests__tests/print_stdout/fake_4_test.py\n",
      "\u001b[1;310mDEBUG\u001b[1;30m: \u001b[0m\u001b[1;36muse.pimp\u001b[1;30m: \u001b[0m  - lib/python3.9/site-packages/pygame/tests/run_tests__tests/print_stdout/__pycache__/fake_2_test.cpython-39.pyc\n",
      "\u001b[1;310mDEBUG\u001b[1;30m: \u001b[0m\u001b[1;36muse.pimp\u001b[1;30m: \u001b[0m  - lib/python3.9/site-packages/pygame/tests/run_tests__tests/print_stdout/__pycache__/fake_3_test.cpython-39.pyc\n",
      "\u001b[1;310mDEBUG\u001b[1;30m: \u001b[0m\u001b[1;36muse.pimp\u001b[1;30m: \u001b[0m  - lib/python3.9/site-packages/pygame/tests/run_tests__tests/print_stdout/__pycache__/__init__.cpython-39.pyc\n",
      "\u001b[1;310mDEBUG\u001b[1;30m: \u001b[0m\u001b[1;36muse.pimp\u001b[1;30m: \u001b[0m  - lib/python3.9/site-packages/pygame/tests/run_tests__tests/print_stdout/__pycache__/fake_4_test.cpython-39.pyc\n",
      "\u001b[1;310mDEBUG\u001b[1;30m: \u001b[0m\u001b[1;36muse.pimp\u001b[1;30m: \u001b[0m  - lib/python3.9/site-packages/pygame/tests/run_tests__tests/incomplete/__pycache__\n",
      "\u001b[1;310mDEBUG\u001b[1;30m: \u001b[0m\u001b[1;36muse.pimp\u001b[1;30m: \u001b[0m  - lib/python3.9/site-packages/pygame/tests/run_tests__tests/incomplete/fake_3_test.py\n",
      "\u001b[1;310mDEBUG\u001b[1;30m: \u001b[0m\u001b[1;36muse.pimp\u001b[1;30m: \u001b[0m  - lib/python3.9/site-packages/pygame/tests/run_tests__tests/incomplete/fake_2_test.py\n",
      "\u001b[1;310mDEBUG\u001b[1;30m: \u001b[0m\u001b[1;36muse.pimp\u001b[1;30m: \u001b[0m  - lib/python3.9/site-packages/pygame/tests/run_tests__tests/incomplete/__init__.py\n",
      "\u001b[1;310mDEBUG\u001b[1;30m: \u001b[0m\u001b[1;36muse.pimp\u001b[1;30m: \u001b[0m  - lib/python3.9/site-packages/pygame/tests/run_tests__tests/incomplete/__pycache__/fake_2_test.cpython-39.pyc\n",
      "\u001b[1;310mDEBUG\u001b[1;30m: \u001b[0m\u001b[1;36muse.pimp\u001b[1;30m: \u001b[0m  - lib/python3.9/site-packages/pygame/tests/run_tests__tests/incomplete/__pycache__/fake_3_test.cpython-39.pyc\n",
      "\u001b[1;310mDEBUG\u001b[1;30m: \u001b[0m\u001b[1;36muse.pimp\u001b[1;30m: \u001b[0m  - lib/python3.9/site-packages/pygame/tests/run_tests__tests/incomplete/__pycache__/__init__.cpython-39.pyc\n",
      "\u001b[1;310mDEBUG\u001b[1;30m: \u001b[0m\u001b[1;36muse.pimp\u001b[1;30m: \u001b[0m  - lib/python3.9/site-packages/pygame/tests/fixtures/xbm_cursors\n",
      "\u001b[1;310mDEBUG\u001b[1;30m: \u001b[0m\u001b[1;36muse.pimp\u001b[1;30m: \u001b[0m  - lib/python3.9/site-packages/pygame/tests/fixtures/fonts\n",
      "\u001b[1;310mDEBUG\u001b[1;30m: \u001b[0m\u001b[1;36muse.pimp\u001b[1;30m: \u001b[0m  - lib/python3.9/site-packages/pygame/tests/fixtures/xbm_cursors/white_sizing.xbm\n",
      "\u001b[1;310mDEBUG\u001b[1;30m: \u001b[0m\u001b[1;36muse.pimp\u001b[1;30m: \u001b[0m  - lib/python3.9/site-packages/pygame/tests/fixtures/xbm_cursors/white_sizing_mask.xbm\n",
      "\u001b[1;310mDEBUG\u001b[1;30m: \u001b[0m\u001b[1;36muse.pimp\u001b[1;30m: \u001b[0m  - lib/python3.9/site-packages/pygame/tests/fixtures/fonts/PyGameMono.otf\n",
      "\u001b[1;310mDEBUG\u001b[1;30m: \u001b[0m\u001b[1;36muse.pimp\u001b[1;30m: \u001b[0m  - lib/python3.9/site-packages/pygame/tests/fixtures/fonts/PyGameMono-18-75dpi.bdf\n",
      "\u001b[1;310mDEBUG\u001b[1;30m: \u001b[0m\u001b[1;36muse.pimp\u001b[1;30m: \u001b[0m  - lib/python3.9/site-packages/pygame/tests/fixtures/fonts/test_fixed.otf\n",
      "\u001b[1;310mDEBUG\u001b[1;30m: \u001b[0m\u001b[1;36muse.pimp\u001b[1;30m: \u001b[0m  - lib/python3.9/site-packages/pygame/tests/fixtures/fonts/test_sans.ttf\n",
      "\u001b[1;310mDEBUG\u001b[1;30m: \u001b[0m\u001b[1;36muse.pimp\u001b[1;30m: \u001b[0m  - lib/python3.9/site-packages/pygame/tests/fixtures/fonts/u13079_PyGameMono-8.png\n",
      "\u001b[1;310mDEBUG\u001b[1;30m: \u001b[0m\u001b[1;36muse.pimp\u001b[1;30m: \u001b[0m  - lib/python3.9/site-packages/pygame/tests/fixtures/fonts/PyGameMono-8.bdf\n",
      "\u001b[1;310mDEBUG\u001b[1;30m: \u001b[0m\u001b[1;36muse.pimp\u001b[1;30m: \u001b[0m  - lib/python3.9/site-packages/pygame/tests/fixtures/fonts/A_PyGameMono-8.png\n",
      "\u001b[1;310mDEBUG\u001b[1;30m: \u001b[0m\u001b[1;36muse.pimp\u001b[1;30m: \u001b[0m  - lib/python3.9/site-packages/pygame/tests/fixtures/fonts/PyGameMono-18-100dpi.bdf\n",
      "\u001b[1;310mDEBUG\u001b[1;30m: \u001b[0m\u001b[1;36muse.pimp\u001b[1;30m: \u001b[0m  - lib/python3.9/site-packages/pygame.libs/libvorbisfile-7643c70d.so.3.3.8\n",
      "\u001b[1;310mDEBUG\u001b[1;30m: \u001b[0m\u001b[1;36muse.pimp\u001b[1;30m: \u001b[0m  - lib/python3.9/site-packages/pygame.libs/libSDL2_image-2-2d4f5eee.0.so.0.2.3\n",
      "\u001b[1;310mDEBUG\u001b[1;30m: \u001b[0m\u001b[1;36muse.pimp\u001b[1;30m: \u001b[0m  - lib/python3.9/site-packages/pygame.libs/libpulsecommon-14-b553e908.0.so\n",
      "\u001b[1;310mDEBUG\u001b[1;30m: \u001b[0m\u001b[1;36muse.pimp\u001b[1;30m: \u001b[0m  - lib/python3.9/site-packages/pygame.libs/libpng16-b21b04ad.so.16.37.0\n",
      "\u001b[1;310mDEBUG\u001b[1;30m: \u001b[0m\u001b[1;36muse.pimp\u001b[1;30m: \u001b[0m  - lib/python3.9/site-packages/pygame.libs/libSDL2_mixer-2-348dbbd6.0.so.0.2.2\n",
      "\u001b[1;310mDEBUG\u001b[1;30m: \u001b[0m\u001b[1;36muse.pimp\u001b[1;30m: \u001b[0m  - lib/python3.9/site-packages/pygame.libs/libFLAC-4389fcde.so.8.3.0\n",
      "\u001b[1;310mDEBUG\u001b[1;30m: \u001b[0m\u001b[1;36muse.pimp\u001b[1;30m: \u001b[0m  - lib/python3.9/site-packages/pygame.libs/libdbus-1-ed627280.so.3.4.0\n",
      "\u001b[1;310mDEBUG\u001b[1;30m: \u001b[0m\u001b[1;36muse.pimp\u001b[1;30m: \u001b[0m  - lib/python3.9/site-packages/pygame.libs/libcap-01eb4ba0.so.2.16\n",
      "\u001b[1;310mDEBUG\u001b[1;30m: \u001b[0m\u001b[1;36muse.pimp\u001b[1;30m: \u001b[0m  - lib/python3.9/site-packages/pygame.libs/libpulse-5480152e.so.0.23.0\n",
      "\u001b[1;310mDEBUG\u001b[1;30m: \u001b[0m\u001b[1;36muse.pimp\u001b[1;30m: \u001b[0m  - lib/python3.9/site-packages/pygame.libs/libtiff-6263041b.so.5.7.0\n",
      "\u001b[1;310mDEBUG\u001b[1;30m: \u001b[0m\u001b[1;36muse.pimp\u001b[1;30m: \u001b[0m  - lib/python3.9/site-packages/pygame.libs/libSDL2-2-52a902ef.0.so.0.18.2\n",
      "\u001b[1;310mDEBUG\u001b[1;30m: \u001b[0m\u001b[1;36muse.pimp\u001b[1;30m: \u001b[0m  - lib/python3.9/site-packages/pygame.libs/libfluidsynth-5409ddce.so.3.0.3\n",
      "\u001b[1;310mDEBUG\u001b[1;30m: \u001b[0m\u001b[1;36muse.pimp\u001b[1;30m: \u001b[0m  - lib/python3.9/site-packages/pygame.libs/libvorbis-540c0571.so.0.4.9\n",
      "\u001b[1;310mDEBUG\u001b[1;30m: \u001b[0m\u001b[1;36muse.pimp\u001b[1;30m: \u001b[0m  - lib/python3.9/site-packages/pygame.libs/libSDL2_ttf-2-e624099a.0.so.0.14.1\n",
      "\u001b[1;310mDEBUG\u001b[1;30m: \u001b[0m\u001b[1;36muse.pimp\u001b[1;30m: \u001b[0m  - lib/python3.9/site-packages/pygame.libs/libmpg123-bf62e068.so.0.46.3\n",
      "\u001b[1;310mDEBUG\u001b[1;30m: \u001b[0m\u001b[1;36muse.pimp\u001b[1;30m: \u001b[0m  - lib/python3.9/site-packages/pygame.libs/libjpeg-a9d73b8e.so.62.3.0\n",
      "\u001b[1;310mDEBUG\u001b[1;30m: \u001b[0m\u001b[1;36muse.pimp\u001b[1;30m: \u001b[0m  - lib/python3.9/site-packages/pygame.libs/libogg-0499bd3f.so.0.8.5\n",
      "\u001b[1;310mDEBUG\u001b[1;30m: \u001b[0m\u001b[1;36muse.pimp\u001b[1;30m: \u001b[0m  - lib/python3.9/site-packages/pygame.libs/libvorbisenc-68606e82.so.2.0.12\n",
      "\u001b[1;310mDEBUG\u001b[1;30m: \u001b[0m\u001b[1;36muse.pimp\u001b[1;30m: \u001b[0m  - lib/python3.9/site-packages/pygame.libs/libpulse-simple-fe7f9d96.so.0.1.1\n",
      "\u001b[1;310mDEBUG\u001b[1;30m: \u001b[0m\u001b[1;36muse.pimp\u001b[1;30m: \u001b[0m  - lib/python3.9/site-packages/pygame.libs/libfreetype-dcbc3dec.so.6.18.0\n",
      "\u001b[1;310mDEBUG\u001b[1;30m: \u001b[0m\u001b[1;36muse.pimp\u001b[1;30m: \u001b[0m  - lib/python3.9/site-packages/pygame.libs/libattr-46fe1d86.so.1.1.0\n",
      "\u001b[1;310mDEBUG\u001b[1;30m: \u001b[0m\u001b[1;36muse.pimp\u001b[1;30m: \u001b[0m  - lib/python3.9/site-packages/pygame.libs/libsndfile-9219a5f5.so.1.0.31\n",
      "\u001b[1;310mDEBUG\u001b[1;30m: \u001b[0m\u001b[1;36muse.pimp\u001b[1;30m: \u001b[0m  - lib/python3.9/site-packages/pygame.libs/libasound-2f515fd2.so.2.0.0\n",
      "\u001b[1;310mDEBUG\u001b[1;30m: \u001b[0m\u001b[1;36muse.pimp\u001b[1;30m: \u001b[0m  - lib/python3.9/site-packages/pygame.libs/libopus-25615c0c.so.0.8.0\n",
      "\u001b[1;310mDEBUG\u001b[1;30m: \u001b[0m\u001b[1;36muse.pimp\u001b[1;30m: \u001b[0m  - lib/python3.9/site-packages/pygame.libs/libwebp-6b73467f.so.7.1.2\n",
      "\u001b[1;310mDEBUG\u001b[1;30m: \u001b[0m\u001b[1;36muse.pimp\u001b[1;30m: \u001b[0m  - lib/python3.9/site-packages/pygame.libs/libgomp-f7e03b3e.so.1.0.0\n",
      "\u001b[1;310mDEBUG\u001b[1;30m: \u001b[0m\u001b[1;36muse.pimp\u001b[1;30m: \u001b[0m  - lib/python3.9/site-packages/pygame.libs/libmikmod-48922765.so.3.0.0\n",
      "\u001b[1;310mDEBUG\u001b[1;30m: \u001b[0m\u001b[1;36muse.pimp\u001b[1;30m: \u001b[0m  - lib/python3.9/site-packages/pygame.libs/libportmidi-ca072cc9.so\n",
      "\u001b[1;310mDEBUG\u001b[1;30m: \u001b[0m\u001b[1;36muse.pimp\u001b[1;30m: \u001b[0m  - lib/python3.9/site-packages/pygame.libs/libmodplug-836449a1.so.1.0.0\n",
      "\u001b[1;310mDEBUG\u001b[1;30m: \u001b[0m\u001b[1;36muse.pimp\u001b[1;30m: \u001b[0m  - lib/python3.9/site-packages/pygame-2.1.3.dev4.dist-info/top_level.txt\n",
      "\u001b[1;310mDEBUG\u001b[1;30m: \u001b[0m\u001b[1;36muse.pimp\u001b[1;30m: \u001b[0m  - lib/python3.9/site-packages/pygame-2.1.3.dev4.dist-info/entry_points.txt\n",
      "\u001b[1;310mDEBUG\u001b[1;30m: \u001b[0m\u001b[1;36muse.pimp\u001b[1;30m: \u001b[0m  - lib/python3.9/site-packages/pygame-2.1.3.dev4.dist-info/INSTALLER\n",
      "\u001b[1;310mDEBUG\u001b[1;30m: \u001b[0m\u001b[1;36muse.pimp\u001b[1;30m: \u001b[0m  - lib/python3.9/site-packages/pygame-2.1.3.dev4.dist-info/REQUESTED\n",
      "\u001b[1;310mDEBUG\u001b[1;30m: \u001b[0m\u001b[1;36muse.pimp\u001b[1;30m: \u001b[0m  - lib/python3.9/site-packages/pygame-2.1.3.dev4.dist-info/WHEEL\n",
      "\u001b[1;310mDEBUG\u001b[1;30m: \u001b[0m\u001b[1;36muse.pimp\u001b[1;30m: \u001b[0m  - lib/python3.9/site-packages/pygame-2.1.3.dev4.dist-info/RECORD\n",
      "\u001b[1;310mDEBUG\u001b[1;30m: \u001b[0m\u001b[1;36muse.pimp\u001b[1;30m: \u001b[0m  - lib/python3.9/site-packages/pygame-2.1.3.dev4.dist-info/direct_url.json\n",
      "\u001b[1;310mDEBUG\u001b[1;30m: \u001b[0m\u001b[1;36muse.pimp\u001b[1;30m: \u001b[0m  - lib/python3.9/site-packages/pygame-2.1.3.dev4.dist-info/METADATA\n",
      "\u001b[1;310mDEBUG\u001b[1;30m: \u001b[0m\u001b[1;36muse.pimp\u001b[1;30m: \u001b[0m  - include/python3.9\n",
      "\u001b[1;310mDEBUG\u001b[1;30m: \u001b[0m\u001b[1;36muse.pimp\u001b[1;30m: \u001b[0m  - include/python3.9/pygame\n",
      "\u001b[1;310mDEBUG\u001b[1;30m: \u001b[0m\u001b[1;36muse.pimp\u001b[1;30m: \u001b[0m  - include/python3.9/pygame/pgbufferproxy.h\n",
      "\u001b[1;310mDEBUG\u001b[1;30m: \u001b[0m\u001b[1;36muse.pimp\u001b[1;30m: \u001b[0m  - include/python3.9/pygame/mixer.h\n",
      "\u001b[1;310mDEBUG\u001b[1;30m: \u001b[0m\u001b[1;36muse.pimp\u001b[1;30m: \u001b[0m  - include/python3.9/pygame/camera.h\n",
      "\u001b[1;310mDEBUG\u001b[1;30m: \u001b[0m\u001b[1;36muse.pimp\u001b[1;30m: \u001b[0m  - include/python3.9/pygame/pygame.h\n",
      "\u001b[1;310mDEBUG\u001b[1;30m: \u001b[0m\u001b[1;36muse.pimp\u001b[1;30m: \u001b[0m  - include/python3.9/pygame/pgopengl.h\n",
      "\u001b[1;310mDEBUG\u001b[1;30m: \u001b[0m\u001b[1;36muse.pimp\u001b[1;30m: \u001b[0m  - include/python3.9/pygame/font.h\n",
      "\u001b[1;310mDEBUG\u001b[1;30m: \u001b[0m\u001b[1;36muse.pimp\u001b[1;30m: \u001b[0m  - include/python3.9/pygame/_pygame.h\n",
      "\u001b[1;310mDEBUG\u001b[1;30m: \u001b[0m\u001b[1;36muse.pimp\u001b[1;30m: \u001b[0m  - include/python3.9/pygame/_camera.h\n",
      "\u001b[1;310mDEBUG\u001b[1;30m: \u001b[0m\u001b[1;36muse.pimp\u001b[1;30m: \u001b[0m  - include/python3.9/pygame/include\n",
      "\u001b[1;310mDEBUG\u001b[1;30m: \u001b[0m\u001b[1;36muse.pimp\u001b[1;30m: \u001b[0m  - include/python3.9/pygame/pgarrinter.h\n",
      "\u001b[1;310mDEBUG\u001b[1;30m: \u001b[0m\u001b[1;36muse.pimp\u001b[1;30m: \u001b[0m  - include/python3.9/pygame/pgcompat.h\n",
      "\u001b[1;310mDEBUG\u001b[1;30m: \u001b[0m\u001b[1;36muse.pimp\u001b[1;30m: \u001b[0m  - include/python3.9/pygame/surface.h\n",
      "\u001b[1;310mDEBUG\u001b[1;30m: \u001b[0m\u001b[1;36muse.pimp\u001b[1;30m: \u001b[0m  - include/python3.9/pygame/freetype.h\n",
      "\u001b[1;310mDEBUG\u001b[1;30m: \u001b[0m\u001b[1;36muse.pimp\u001b[1;30m: \u001b[0m  - include/python3.9/pygame/palette.h\n",
      "\u001b[1;310mDEBUG\u001b[1;30m: \u001b[0m\u001b[1;36muse.pimp\u001b[1;30m: \u001b[0m  - include/python3.9/pygame/mask.h\n",
      "\u001b[1;310mDEBUG\u001b[1;30m: \u001b[0m\u001b[1;36muse.pimp\u001b[1;30m: \u001b[0m  - include/python3.9/pygame/_surface.h\n",
      "\u001b[1;310mDEBUG\u001b[1;30m: \u001b[0m\u001b[1;36muse.pimp\u001b[1;30m: \u001b[0m  - include/python3.9/pygame/scrap.h\n",
      "\u001b[1;310mDEBUG\u001b[1;30m: \u001b[0m\u001b[1;36muse.pimp\u001b[1;30m: \u001b[0m  - include/python3.9/pygame/pgplatform.h\n",
      "\u001b[1;310mDEBUG\u001b[1;30m: \u001b[0m\u001b[1;36muse.pimp\u001b[1;30m: \u001b[0m  - include/python3.9/pygame/include/pgimport.h\n",
      "\u001b[1;310mDEBUG\u001b[1;30m: \u001b[0m\u001b[1;36muse.pimp\u001b[1;30m: \u001b[0m  - include/python3.9/pygame/include/pygame_font.h\n",
      "\u001b[1;310mDEBUG\u001b[1;30m: \u001b[0m\u001b[1;36muse.pimp\u001b[1;30m: \u001b[0m  - include/python3.9/pygame/include/pygame.h\n",
      "\u001b[1;310mDEBUG\u001b[1;30m: \u001b[0m\u001b[1;36muse.pimp\u001b[1;30m: \u001b[0m  - include/python3.9/pygame/include/pygame_bufferproxy.h\n",
      "\u001b[1;310mDEBUG\u001b[1;30m: \u001b[0m\u001b[1;36muse.pimp\u001b[1;30m: \u001b[0m  - include/python3.9/pygame/include/sse2neon.h\n",
      "\u001b[1;310mDEBUG\u001b[1;30m: \u001b[0m\u001b[1;36muse.pimp\u001b[1;30m: \u001b[0m  - include/python3.9/pygame/include/_pygame.h\n",
      "\u001b[1;310mDEBUG\u001b[1;30m: \u001b[0m\u001b[1;36muse.pimp\u001b[1;30m: \u001b[0m  - include/python3.9/pygame/include/pygame_freetype.h\n",
      "\u001b[1;310mDEBUG\u001b[1;30m: \u001b[0m\u001b[1;36muse.pimp\u001b[1;30m: \u001b[0m  - include/python3.9/pygame/include/pygame_mixer.h\n",
      "\u001b[1;310mDEBUG\u001b[1;30m: \u001b[0m\u001b[1;36muse.pimp\u001b[1;30m: \u001b[0m  - include/python3.9/pygame/include/pygame_mask.h\n",
      "\u001b[1;310mDEBUG\u001b[1;30m: \u001b[0m\u001b[1;36muse.pimp\u001b[1;30m: \u001b[0m  - include/python3.9/pygame/include/pgcompat.h\n",
      "\u001b[1;310mDEBUG\u001b[1;30m: \u001b[0m\u001b[1;36muse.pimp\u001b[1;30m: \u001b[0m  - include/python3.9/pygame/include/bitmask.h\n",
      "\u001b[1;310mDEBUG\u001b[1;30m: \u001b[0m\u001b[1;36muse.pimp\u001b[1;30m: \u001b[0m  - include/python3.9/pygame/include/pgplatform.h\n",
      "\u001b[1;320mINFO\u001b[1;30m: \u001b[0m\u001b[1;36muse.pimp\u001b[1;30m: \u001b[0mdist=<importlib.metadata.PathDistribution object at 0x7fd36ca8cf10>\n",
      "\u001b[1;310mDEBUG\u001b[1;30m: \u001b[0m\u001b[1;36muse.pimp\u001b[1;30m: \u001b[0mdist.files=[PackagePath('../../../include/python3.9/pygame/_camera.h'), PackagePath('../../../include/python3.9/pygame/_pygame.h'), PackagePath('../../../include/python3.9/pygame/_surface.h'), PackagePath('../../../include/python3.9/pygame/camera.h'), PackagePath('../../../include/python3.9/pygame/font.h'), PackagePath('../../../include/python3.9/pygame/freetype.h'), PackagePath('../../../include/python3.9/pygame/include/_pygame.h'), PackagePath('../../../include/python3.9/pygame/include/bitmask.h'), PackagePath('../../../include/python3.9/pygame/include/pgcompat.h'), PackagePath('../../../include/python3.9/pygame/include/pgimport.h'), PackagePath('../../../include/python3.9/pygame/include/pgplatform.h'), PackagePath('../../../include/python3.9/pygame/include/pygame.h'), PackagePath('../../../include/python3.9/pygame/include/pygame_bufferproxy.h'), PackagePath('../../../include/python3.9/pygame/include/pygame_font.h'), PackagePath('../../../include/python3.9/pygame/include/pygame_freetype.h'), PackagePath('../../../include/python3.9/pygame/include/pygame_mask.h'), PackagePath('../../../include/python3.9/pygame/include/pygame_mixer.h'), PackagePath('../../../include/python3.9/pygame/include/sse2neon.h'), PackagePath('../../../include/python3.9/pygame/mask.h'), PackagePath('../../../include/python3.9/pygame/mixer.h'), PackagePath('../../../include/python3.9/pygame/palette.h'), PackagePath('../../../include/python3.9/pygame/pgarrinter.h'), PackagePath('../../../include/python3.9/pygame/pgbufferproxy.h'), PackagePath('../../../include/python3.9/pygame/pgcompat.h'), PackagePath('../../../include/python3.9/pygame/pgopengl.h'), PackagePath('../../../include/python3.9/pygame/pgplatform.h'), PackagePath('../../../include/python3.9/pygame/pygame.h'), PackagePath('../../../include/python3.9/pygame/scrap.h'), PackagePath('../../../include/python3.9/pygame/surface.h'), PackagePath('pygame-2.1.3.dev4.dist-info/INSTALLER'), PackagePath('pygame-2.1.3.dev4.dist-info/METADATA'), PackagePath('pygame-2.1.3.dev4.dist-info/RECORD'), PackagePath('pygame-2.1.3.dev4.dist-info/REQUESTED'), PackagePath('pygame-2.1.3.dev4.dist-info/WHEEL'), PackagePath('pygame-2.1.3.dev4.dist-info/direct_url.json'), PackagePath('pygame-2.1.3.dev4.dist-info/entry_points.txt'), PackagePath('pygame-2.1.3.dev4.dist-info/top_level.txt'), PackagePath('pygame.libs/libFLAC-4389fcde.so.8.3.0'), PackagePath('pygame.libs/libSDL2-2-52a902ef.0.so.0.18.2'), PackagePath('pygame.libs/libSDL2_image-2-2d4f5eee.0.so.0.2.3'), PackagePath('pygame.libs/libSDL2_mixer-2-348dbbd6.0.so.0.2.2'), PackagePath('pygame.libs/libSDL2_ttf-2-e624099a.0.so.0.14.1'), PackagePath('pygame.libs/libasound-2f515fd2.so.2.0.0'), PackagePath('pygame.libs/libattr-46fe1d86.so.1.1.0'), PackagePath('pygame.libs/libcap-01eb4ba0.so.2.16'), PackagePath('pygame.libs/libdbus-1-ed627280.so.3.4.0'), PackagePath('pygame.libs/libfluidsynth-5409ddce.so.3.0.3'), PackagePath('pygame.libs/libfreetype-dcbc3dec.so.6.18.0'), PackagePath('pygame.libs/libgomp-f7e03b3e.so.1.0.0'), PackagePath('pygame.libs/libjpeg-a9d73b8e.so.62.3.0'), PackagePath('pygame.libs/libmikmod-48922765.so.3.0.0'), PackagePath('pygame.libs/libmodplug-836449a1.so.1.0.0'), PackagePath('pygame.libs/libmpg123-bf62e068.so.0.46.3'), PackagePath('pygame.libs/libogg-0499bd3f.so.0.8.5'), PackagePath('pygame.libs/libopus-25615c0c.so.0.8.0'), PackagePath('pygame.libs/libpng16-b21b04ad.so.16.37.0'), PackagePath('pygame.libs/libportmidi-ca072cc9.so'), PackagePath('pygame.libs/libpulse-5480152e.so.0.23.0'), PackagePath('pygame.libs/libpulse-simple-fe7f9d96.so.0.1.1'), PackagePath('pygame.libs/libpulsecommon-14-b553e908.0.so'), PackagePath('pygame.libs/libsndfile-9219a5f5.so.1.0.31'), PackagePath('pygame.libs/libtiff-6263041b.so.5.7.0'), PackagePath('pygame.libs/libvorbis-540c0571.so.0.4.9'), PackagePath('pygame.libs/libvorbisenc-68606e82.so.2.0.12'), PackagePath('pygame.libs/libvorbisfile-7643c70d.so.3.3.8'), PackagePath('pygame.libs/libwebp-6b73467f.so.7.1.2'), PackagePath('pygame/__init__.py'), PackagePath('pygame/__init__.pyi'), PackagePath('pygame/__pycache__/__init__.cpython-39.pyc'), PackagePath('pygame/__pycache__/_camera_opencv.cpython-39.pyc'), PackagePath('pygame/__pycache__/_camera_vidcapture.cpython-39.pyc'), PackagePath('pygame/__pycache__/camera.cpython-39.pyc'), PackagePath('pygame/__pycache__/colordict.cpython-39.pyc'), PackagePath('pygame/__pycache__/cursors.cpython-39.pyc'), PackagePath('pygame/__pycache__/draw_py.cpython-39.pyc'), PackagePath('pygame/__pycache__/fastevent.cpython-39.pyc'), PackagePath('pygame/__pycache__/freetype.cpython-39.pyc'), PackagePath('pygame/__pycache__/ftfont.cpython-39.pyc'), PackagePath('pygame/__pycache__/locals.cpython-39.pyc'), PackagePath('pygame/__pycache__/macosx.cpython-39.pyc'), PackagePath('pygame/__pycache__/midi.cpython-39.pyc'), PackagePath('pygame/__pycache__/pkgdata.cpython-39.pyc'), PackagePath('pygame/__pycache__/sndarray.cpython-39.pyc'), PackagePath('pygame/__pycache__/sprite.cpython-39.pyc'), PackagePath('pygame/__pycache__/surfarray.cpython-39.pyc'), PackagePath('pygame/__pycache__/sysfont.cpython-39.pyc'), PackagePath('pygame/__pycache__/version.cpython-39.pyc'), PackagePath('pygame/__pyinstaller/__init__.py'), PackagePath('pygame/__pyinstaller/__pycache__/__init__.cpython-39.pyc'), PackagePath('pygame/__pyinstaller/__pycache__/hook-pygame.cpython-39.pyc'), PackagePath('pygame/__pyinstaller/hook-pygame.py'), PackagePath('pygame/_camera.cpython-39-x86_64-linux-gnu.so'), PackagePath('pygame/_camera_opencv.py'), PackagePath('pygame/_camera_vidcapture.py'), PackagePath('pygame/_common.pyi'), PackagePath('pygame/_freetype.cpython-39-x86_64-linux-gnu.so'), PackagePath('pygame/_sdl2/__init__.py'), PackagePath('pygame/_sdl2/__init__.pyi'), PackagePath('pygame/_sdl2/__pycache__/__init__.cpython-39.pyc'), PackagePath('pygame/_sdl2/audio.cpython-39-x86_64-linux-gnu.so'), PackagePath('pygame/_sdl2/audio.pyi'), PackagePath('pygame/_sdl2/controller.cpython-39-x86_64-linux-gnu.so'), PackagePath('pygame/_sdl2/controller.pyi'), PackagePath('pygame/_sdl2/mixer.cpython-39-x86_64-linux-gnu.so'), PackagePath('pygame/_sdl2/sdl2.cpython-39-x86_64-linux-gnu.so'), PackagePath('pygame/_sdl2/sdl2.pyi'), PackagePath('pygame/_sdl2/touch.cpython-39-x86_64-linux-gnu.so'), PackagePath('pygame/_sdl2/touch.pyi'), PackagePath('pygame/_sdl2/video.cpython-39-x86_64-linux-gnu.so'), PackagePath('pygame/_sdl2/video.pyi'), PackagePath('pygame/_sprite.cpython-39-x86_64-linux-gnu.so'), PackagePath('pygame/base.cpython-39-x86_64-linux-gnu.so'), PackagePath('pygame/base.pyi'), PackagePath('pygame/bufferproxy.cpython-39-x86_64-linux-gnu.so'), PackagePath('pygame/bufferproxy.pyi'), PackagePath('pygame/camera.py'), PackagePath('pygame/camera.pyi'), PackagePath('pygame/color.cpython-39-x86_64-linux-gnu.so'), PackagePath('pygame/color.pyi'), PackagePath('pygame/colordict.py'), PackagePath('pygame/constants.cpython-39-x86_64-linux-gnu.so'), PackagePath('pygame/constants.pyi'), PackagePath('pygame/cursors.py'), PackagePath('pygame/cursors.pyi'), PackagePath('pygame/display.cpython-39-x86_64-linux-gnu.so'), PackagePath('pygame/display.pyi'), PackagePath('pygame/docs/__main__.py'), PackagePath('pygame/docs/__pycache__/__main__.cpython-39.pyc'), PackagePath('pygame/docs/generated/_images/AdvancedInputOutput1.gif'), PackagePath('pygame/docs/generated/_images/AdvancedInputOutput11.gif'), PackagePath('pygame/docs/generated/_images/AdvancedInputOutput2.gif'), PackagePath('pygame/docs/generated/_images/AdvancedInputOutput21.gif'), PackagePath('pygame/docs/generated/_images/AdvancedInputOutput3.gif'), PackagePath('pygame/docs/generated/_images/AdvancedInputOutput31.gif'), PackagePath('pygame/docs/generated/_images/AdvancedInputOutput4.gif'), PackagePath('pygame/docs/generated/_images/AdvancedInputOutput41.gif'), PackagePath('pygame/docs/generated/_images/AdvancedInputOutput5.gif'), PackagePath('pygame/docs/generated/_images/AdvancedInputOutput51.gif'), PackagePath('pygame/docs/generated/_images/AdvancedOutputAlpha1.gif'), PackagePath('pygame/docs/generated/_images/AdvancedOutputAlpha11.gif'), PackagePath('pygame/docs/generated/_images/AdvancedOutputAlpha2.gif'), PackagePath('pygame/docs/generated/_images/AdvancedOutputAlpha21.gif'), PackagePath('pygame/docs/generated/_images/AdvancedOutputAlpha3.gif'), PackagePath('pygame/docs/generated/_images/AdvancedOutputAlpha31.gif'), PackagePath('pygame/docs/generated/_images/AdvancedOutputProcess1.gif'), PackagePath('pygame/docs/generated/_images/AdvancedOutputProcess11.gif'), PackagePath('pygame/docs/generated/_images/AdvancedOutputProcess2.gif'), PackagePath('pygame/docs/generated/_images/AdvancedOutputProcess21.gif'), PackagePath('pygame/docs/generated/_images/AdvancedOutputProcess3.gif'), PackagePath('pygame/docs/generated/_images/AdvancedOutputProcess31.gif'), PackagePath('pygame/docs/generated/_images/AdvancedOutputProcess4.gif'), PackagePath('pygame/docs/generated/_images/AdvancedOutputProcess41.gif'), PackagePath('pygame/docs/generated/_images/AdvancedOutputProcess5.gif'), PackagePath('pygame/docs/generated/_images/AdvancedOutputProcess51.gif'), PackagePath('pygame/docs/generated/_images/AdvancedOutputProcess6.gif'), PackagePath('pygame/docs/generated/_images/AdvancedOutputProcess61.gif'), PackagePath('pygame/docs/generated/_images/Bagic-INPUT-resultscreen.png'), PackagePath('pygame/docs/generated/_images/Bagic-INPUT-resultscreen1.png'), PackagePath('pygame/docs/generated/_images/Bagic-INPUT-sourcecode.png'), PackagePath('pygame/docs/generated/_images/Bagic-INPUT-sourcecode1.png'), PackagePath('pygame/docs/generated/_images/Bagic-PROCESS-resultscreen.png'), PackagePath('pygame/docs/generated/_images/Bagic-PROCESS-resultscreen1.png'), PackagePath('pygame/docs/generated/_images/Bagic-PROCESS-sourcecode.png'), PackagePath('pygame/docs/generated/_images/Bagic-PROCESS-sourcecode1.png'), PackagePath('pygame/docs/generated/_images/Bagic-ouput-result-screen.png'), PackagePath('pygame/docs/generated/_images/Bagic-ouput-result-screen1.png'), PackagePath('pygame/docs/generated/_images/Basic-ouput-sourcecode.png'), PackagePath('pygame/docs/generated/_images/Basic-ouput-sourcecode1.png'), PackagePath('pygame/docs/generated/_images/camera_average.jpg'), PackagePath('pygame/docs/generated/_images/camera_background.jpg'), PackagePath('pygame/docs/generated/_images/camera_green.jpg'), PackagePath('pygame/docs/generated/_images/camera_hsv.jpg'), PackagePath('pygame/docs/generated/_images/camera_mask.jpg'), PackagePath('pygame/docs/generated/_images/camera_rgb.jpg'), PackagePath('pygame/docs/generated/_images/camera_thresh.jpg'), PackagePath('pygame/docs/generated/_images/camera_thresholded.jpg'), PackagePath('pygame/docs/generated/_images/camera_yuv.jpg'), PackagePath('pygame/docs/generated/_images/chimpshot.gif'), PackagePath('pygame/docs/generated/_images/draw_module_example.png'), PackagePath('pygame/docs/generated/_images/intro_ball.gif'), PackagePath('pygame/docs/generated/_images/intro_blade.jpg'), PackagePath('pygame/docs/generated/_images/intro_freedom.jpg'), PackagePath('pygame/docs/generated/_images/introduction-Battleship.png'), PackagePath('pygame/docs/generated/_images/introduction-Battleship1.png'), PackagePath('pygame/docs/generated/_images/introduction-PuyoPuyo.png'), PackagePath('pygame/docs/generated/_images/introduction-PuyoPuyo1.png'), PackagePath('pygame/docs/generated/_images/introduction-TPS.png'), PackagePath('pygame/docs/generated/_images/introduction-TPS1.png'), PackagePath('pygame/docs/generated/_images/joystick_calls.png'), PackagePath('pygame/docs/generated/_images/surfarray_allblack.png'), PackagePath('pygame/docs/generated/_images/surfarray_flipped.png'), PackagePath('pygame/docs/generated/_images/surfarray_redimg.png'), PackagePath('pygame/docs/generated/_images/surfarray_rgbarray.png'), PackagePath('pygame/docs/generated/_images/surfarray_scaledown.png'), PackagePath('pygame/docs/generated/_images/surfarray_scaleup.png'), PackagePath('pygame/docs/generated/_images/surfarray_soften.png'), PackagePath('pygame/docs/generated/_images/surfarray_striped.png'), PackagePath('pygame/docs/generated/_images/surfarray_xfade.png'), PackagePath('pygame/docs/generated/_images/tom_basic.png'), PackagePath('pygame/docs/generated/_images/tom_event-flowchart.png'), PackagePath('pygame/docs/generated/_images/tom_formulae.png'), PackagePath('pygame/docs/generated/_images/tom_radians.png'), PackagePath('pygame/docs/generated/_sources/c_api.rst.txt'), PackagePath('pygame/docs/generated/_sources/filepaths.rst.txt'), PackagePath('pygame/docs/generated/_sources/index.rst.txt'), PackagePath('pygame/docs/generated/_sources/ref/bufferproxy.rst.txt'), PackagePath('pygame/docs/generated/_sources/ref/camera.rst.txt'), PackagePath('pygame/docs/generated/_sources/ref/cdrom.rst.txt'), PackagePath('pygame/docs/generated/_sources/ref/color.rst.txt'), PackagePath('pygame/docs/generated/_sources/ref/color_list.rst.txt'), PackagePath('pygame/docs/generated/_sources/ref/cursors.rst.txt'), PackagePath('pygame/docs/generated/_sources/ref/display.rst.txt'), PackagePath('pygame/docs/generated/_sources/ref/draw.rst.txt'), PackagePath('pygame/docs/generated/_sources/ref/event.rst.txt'), PackagePath('pygame/docs/generated/_sources/ref/examples.rst.txt'), PackagePath('pygame/docs/generated/_sources/ref/fastevent.rst.txt'), PackagePath('pygame/docs/generated/_sources/ref/font.rst.txt'), PackagePath('pygame/docs/generated/_sources/ref/freetype.rst.txt'), PackagePath('pygame/docs/generated/_sources/ref/gfxdraw.rst.txt'), PackagePath('pygame/docs/generated/_sources/ref/image.rst.txt'), PackagePath('pygame/docs/generated/_sources/ref/joystick.rst.txt'), PackagePath('pygame/docs/generated/_sources/ref/key.rst.txt'), PackagePath('pygame/docs/generated/_sources/ref/locals.rst.txt'), PackagePath('pygame/docs/generated/_sources/ref/mask.rst.txt'), PackagePath('pygame/docs/generated/_sources/ref/math.rst.txt'), PackagePath('pygame/docs/generated/_sources/ref/midi.rst.txt'), PackagePath('pygame/docs/generated/_sources/ref/mixer.rst.txt'), PackagePath('pygame/docs/generated/_sources/ref/mouse.rst.txt'), PackagePath('pygame/docs/generated/_sources/ref/music.rst.txt'), PackagePath('pygame/docs/generated/_sources/ref/overlay.rst.txt'), PackagePath('pygame/docs/generated/_sources/ref/pixelarray.rst.txt'), PackagePath('pygame/docs/generated/_sources/ref/pixelcopy.rst.txt'), PackagePath('pygame/docs/generated/_sources/ref/pygame.rst.txt'), PackagePath('pygame/docs/generated/_sources/ref/rect.rst.txt'), PackagePath('pygame/docs/generated/_sources/ref/scrap.rst.txt'), PackagePath('pygame/docs/generated/_sources/ref/sdl2_controller.rst.txt'), PackagePath('pygame/docs/generated/_sources/ref/sdl2_video.rst.txt'), PackagePath('pygame/docs/generated/_sources/ref/sndarray.rst.txt'), PackagePath('pygame/docs/generated/_sources/ref/sprite.rst.txt'), PackagePath('pygame/docs/generated/_sources/ref/surface.rst.txt'), PackagePath('pygame/docs/generated/_sources/ref/surfarray.rst.txt'), PackagePath('pygame/docs/generated/_sources/ref/tests.rst.txt'), PackagePath('pygame/docs/generated/_sources/ref/time.rst.txt'), PackagePath('pygame/docs/generated/_sources/ref/touch.rst.txt'), PackagePath('pygame/docs/generated/_sources/ref/transform.rst.txt'), PackagePath('pygame/docs/generated/_static/basic.css'), PackagePath('pygame/docs/generated/_static/doctools.js'), PackagePath('pygame/docs/generated/_static/documentation_options.js'), PackagePath('pygame/docs/generated/_static/file.png'), PackagePath('pygame/docs/generated/_static/jquery-3.5.1.js'), PackagePath('pygame/docs/generated/_static/jquery.js'), PackagePath('pygame/docs/generated/_static/language_data.js'), PackagePath('pygame/docs/generated/_static/minus.png'), PackagePath('pygame/docs/generated/_static/plus.png'), PackagePath('pygame/docs/generated/_static/pygame.css'), PackagePath('pygame/docs/generated/_static/pygame.ico'), PackagePath('pygame/docs/generated/_static/pygame_tiny.png'), PackagePath('pygame/docs/generated/_static/pygments.css'), PackagePath('pygame/docs/generated/_static/reset.css'), PackagePath('pygame/docs/generated/_static/searchtools.js'), PackagePath('pygame/docs/generated/_static/tooltip.css'), PackagePath('pygame/docs/generated/_static/underscore-1.13.1.js'), PackagePath('pygame/docs/generated/_static/underscore.js'), PackagePath('pygame/docs/generated/c_api.html'), PackagePath('pygame/docs/generated/c_api/base.html'), PackagePath('pygame/docs/generated/c_api/bufferproxy.html'), PackagePath('pygame/docs/generated/c_api/color.html'), PackagePath('pygame/docs/generated/c_api/display.html'), PackagePath('pygame/docs/generated/c_api/event.html'), PackagePath('pygame/docs/generated/c_api/freetype.html'), PackagePath('pygame/docs/generated/c_api/mixer.html'), PackagePath('pygame/docs/generated/c_api/rect.html'), PackagePath('pygame/docs/generated/c_api/rwobject.html'), PackagePath('pygame/docs/generated/c_api/slots.html'), PackagePath('pygame/docs/generated/c_api/surface.html'), PackagePath('pygame/docs/generated/c_api/surflock.html'), PackagePath('pygame/docs/generated/c_api/version.html'), PackagePath('pygame/docs/generated/filepaths.html'), PackagePath('pygame/docs/generated/genindex.html'), PackagePath('pygame/docs/generated/index.html'), PackagePath('pygame/docs/generated/py-modindex.html'), PackagePath('pygame/docs/generated/ref/bufferproxy.html'), PackagePath('pygame/docs/generated/ref/camera.html'), PackagePath('pygame/docs/generated/ref/cdrom.html'), PackagePath('pygame/docs/generated/ref/color.html'), PackagePath('pygame/docs/generated/ref/color_list.html'), PackagePath('pygame/docs/generated/ref/cursors.html'), PackagePath('pygame/docs/generated/ref/display.html'), PackagePath('pygame/docs/generated/ref/draw.html'), PackagePath('pygame/docs/generated/ref/event.html'), PackagePath('pygame/docs/generated/ref/examples.html'), PackagePath('pygame/docs/generated/ref/fastevent.html'), PackagePath('pygame/docs/generated/ref/font.html'), PackagePath('pygame/docs/generated/ref/freetype.html'), PackagePath('pygame/docs/generated/ref/gfxdraw.html'), PackagePath('pygame/docs/generated/ref/image.html'), PackagePath('pygame/docs/generated/ref/joystick.html'), PackagePath('pygame/docs/generated/ref/key.html'), PackagePath('pygame/docs/generated/ref/locals.html'), PackagePath('pygame/docs/generated/ref/mask.html'), PackagePath('pygame/docs/generated/ref/math.html'), PackagePath('pygame/docs/generated/ref/midi.html'), PackagePath('pygame/docs/generated/ref/mixer.html'), PackagePath('pygame/docs/generated/ref/mouse.html'), PackagePath('pygame/docs/generated/ref/music.html'), PackagePath('pygame/docs/generated/ref/overlay.html'), PackagePath('pygame/docs/generated/ref/pixelarray.html'), PackagePath('pygame/docs/generated/ref/pixelcopy.html'), PackagePath('pygame/docs/generated/ref/pygame.html'), PackagePath('pygame/docs/generated/ref/rect.html'), PackagePath('pygame/docs/generated/ref/scrap.html'), PackagePath('pygame/docs/generated/ref/sdl2_controller.html'), PackagePath('pygame/docs/generated/ref/sdl2_video.html'), PackagePath('pygame/docs/generated/ref/sndarray.html'), PackagePath('pygame/docs/generated/ref/sprite.html'), PackagePath('pygame/docs/generated/ref/surface.html'), PackagePath('pygame/docs/generated/ref/surfarray.html'), PackagePath('pygame/docs/generated/ref/tests.html'), PackagePath('pygame/docs/generated/ref/time.html'), PackagePath('pygame/docs/generated/ref/touch.html'), PackagePath('pygame/docs/generated/ref/transform.html'), PackagePath('pygame/docs/generated/search.html'), PackagePath('pygame/docs/generated/searchindex.js'), PackagePath('pygame/docs/generated/tut/CameraIntro.html'), PackagePath('pygame/docs/generated/tut/ChimpLineByLine.html'), PackagePath('pygame/docs/generated/tut/DisplayModes.html'), PackagePath('pygame/docs/generated/tut/ImportInit.html'), PackagePath('pygame/docs/generated/tut/MakeGames.html'), PackagePath('pygame/docs/generated/tut/MoveIt.html'), PackagePath('pygame/docs/generated/tut/PygameIntro.html'), PackagePath('pygame/docs/generated/tut/SpriteIntro.html'), PackagePath('pygame/docs/generated/tut/SurfarrayIntro.html'), PackagePath('pygame/docs/generated/tut/chimp.py.html'), PackagePath('pygame/docs/generated/tut/newbieguide.html'), PackagePath('pygame/docs/generated/tut/tom_games2.html'), PackagePath('pygame/docs/generated/tut/tom_games3.html'), PackagePath('pygame/docs/generated/tut/tom_games4.html'), PackagePath('pygame/docs/generated/tut/tom_games5.html'), PackagePath('pygame/docs/generated/tut/tom_games6.html'), PackagePath('pygame/draw.cpython-39-x86_64-linux-gnu.so'), PackagePath('pygame/draw.pyi'), PackagePath('pygame/draw_py.py'), PackagePath('pygame/event.cpython-39-x86_64-linux-gnu.so'), PackagePath('pygame/event.pyi'), PackagePath('pygame/examples/README.rst'), PackagePath('pygame/examples/__init__.py'), PackagePath('pygame/examples/__pycache__/__init__.cpython-39.pyc'), PackagePath('pygame/examples/__pycache__/aacircle.cpython-39.pyc'), PackagePath('pygame/examples/__pycache__/aliens.cpython-39.pyc'), PackagePath('pygame/examples/__pycache__/arraydemo.cpython-39.pyc'), PackagePath('pygame/examples/__pycache__/audiocapture.cpython-39.pyc'), PackagePath('pygame/examples/__pycache__/blend_fill.cpython-39.pyc'), PackagePath('pygame/examples/__pycache__/blit_blends.cpython-39.pyc'), PackagePath('pygame/examples/__pycache__/camera.cpython-39.pyc'), PackagePath('pygame/examples/__pycache__/chimp.cpython-39.pyc'), PackagePath('pygame/examples/__pycache__/cursors.cpython-39.pyc'), PackagePath('pygame/examples/__pycache__/dropevent.cpython-39.pyc'), PackagePath('pygame/examples/__pycache__/eventlist.cpython-39.pyc'), PackagePath('pygame/examples/__pycache__/font_viewer.cpython-39.pyc'), PackagePath('pygame/examples/__pycache__/fonty.cpython-39.pyc'), PackagePath('pygame/examples/__pycache__/freetype_misc.cpython-39.pyc'), PackagePath('pygame/examples/__pycache__/glcube.cpython-39.pyc'), PackagePath('pygame/examples/__pycache__/go_over_there.cpython-39.pyc'), PackagePath('pygame/examples/__pycache__/headless_no_windows_needed.cpython-39.pyc'), PackagePath('pygame/examples/__pycache__/joystick.cpython-39.pyc'), PackagePath('pygame/examples/__pycache__/liquid.cpython-39.pyc'), PackagePath('pygame/examples/__pycache__/mask.cpython-39.pyc'), PackagePath('pygame/examples/__pycache__/midi.cpython-39.pyc'), PackagePath('pygame/examples/__pycache__/moveit.cpython-39.pyc'), PackagePath('pygame/examples/__pycache__/music_drop_fade.cpython-39.pyc'), PackagePath('pygame/examples/__pycache__/pixelarray.cpython-39.pyc'), PackagePath('pygame/examples/__pycache__/playmus.cpython-39.pyc'), PackagePath('pygame/examples/__pycache__/prevent_display_stretching.cpython-39.pyc'), PackagePath('pygame/examples/__pycache__/resizing_new.cpython-39.pyc'), PackagePath('pygame/examples/__pycache__/scaletest.cpython-39.pyc'), PackagePath('pygame/examples/__pycache__/scrap_clipboard.cpython-39.pyc'), PackagePath('pygame/examples/__pycache__/scroll.cpython-39.pyc'), PackagePath('pygame/examples/__pycache__/setmodescale.cpython-39.pyc'), PackagePath('pygame/examples/__pycache__/sound.cpython-39.pyc'), PackagePath('pygame/examples/__pycache__/sound_array_demos.cpython-39.pyc'), PackagePath('pygame/examples/__pycache__/sprite_texture.cpython-39.pyc'), PackagePath('pygame/examples/__pycache__/stars.cpython-39.pyc'), PackagePath('pygame/examples/__pycache__/testsprite.cpython-39.pyc'), PackagePath('pygame/examples/__pycache__/textinput.cpython-39.pyc'), PackagePath('pygame/examples/__pycache__/vgrade.cpython-39.pyc'), PackagePath('pygame/examples/__pycache__/video.cpython-39.pyc'), PackagePath('pygame/examples/aacircle.py'), PackagePath('pygame/examples/aliens.py'), PackagePath('pygame/examples/arraydemo.py'), PackagePath('pygame/examples/audiocapture.py'), PackagePath('pygame/examples/blend_fill.py'), PackagePath('pygame/examples/blit_blends.py'), PackagePath('pygame/examples/camera.py'), PackagePath('pygame/examples/chimp.py'), PackagePath('pygame/examples/cursors.py'), PackagePath('pygame/examples/data/BGR.png'), PackagePath('pygame/examples/data/alien1.gif'), PackagePath('pygame/examples/data/alien1.jpg'), PackagePath('pygame/examples/data/alien1.png'), PackagePath('pygame/examples/data/alien2.gif'), PackagePath('pygame/examples/data/alien2.png'), PackagePath('pygame/examples/data/alien3.gif'), PackagePath('pygame/examples/data/alien3.png'), PackagePath('pygame/examples/data/arraydemo.bmp'), PackagePath('pygame/examples/data/asprite.bmp'), PackagePath('pygame/examples/data/background.gif'), PackagePath('pygame/examples/data/black.ppm'), PackagePath('pygame/examples/data/blue.gif'), PackagePath('pygame/examples/data/blue.mpg'), PackagePath('pygame/examples/data/bomb.gif'), PackagePath('pygame/examples/data/boom.wav'), PackagePath('pygame/examples/data/brick.png'), PackagePath('pygame/examples/data/car_door.wav'), PackagePath('pygame/examples/data/chimp.png'), PackagePath('pygame/examples/data/city.png'), PackagePath('pygame/examples/data/crimson.pnm'), PackagePath('pygame/examples/data/cursor.png'), PackagePath('pygame/examples/data/danger.gif'), PackagePath('pygame/examples/data/explosion1.gif'), PackagePath('pygame/examples/data/fist.png'), PackagePath('pygame/examples/data/green.pcx'), PackagePath('pygame/examples/data/grey.pgm'), PackagePath('pygame/examples/data/house_lo.mp3'), PackagePath('pygame/examples/data/house_lo.ogg'), PackagePath('pygame/examples/data/house_lo.wav'), PackagePath('pygame/examples/data/laplacian.png'), PackagePath('pygame/examples/data/liquid.bmp'), PackagePath('pygame/examples/data/midikeys.png'), PackagePath('pygame/examples/data/player1.gif'), PackagePath('pygame/examples/data/punch.wav'), PackagePath('pygame/examples/data/purple.xpm'), PackagePath('pygame/examples/data/red.jpg'), PackagePath('pygame/examples/data/sans.ttf'), PackagePath('pygame/examples/data/scarlet.webp'), PackagePath('pygame/examples/data/secosmic_lo.wav'), PackagePath('pygame/examples/data/shot.gif'), PackagePath('pygame/examples/data/static.png'), PackagePath('pygame/examples/data/teal.svg'), PackagePath('pygame/examples/data/turquoise.tif'), PackagePath('pygame/examples/data/whiff.wav'), PackagePath('pygame/examples/data/yellow.tga'), PackagePath('pygame/examples/dropevent.py'), PackagePath('pygame/examples/eventlist.py'), PackagePath('pygame/examples/font_viewer.py'), PackagePath('pygame/examples/fonty.py'), PackagePath('pygame/examples/freetype_misc.py'), PackagePath('pygame/examples/glcube.py'), PackagePath('pygame/examples/go_over_there.py'), PackagePath('pygame/examples/headless_no_windows_needed.py'), PackagePath('pygame/examples/joystick.py'), PackagePath('pygame/examples/liquid.py'), PackagePath('pygame/examples/mask.py'), PackagePath('pygame/examples/midi.py'), PackagePath('pygame/examples/moveit.py'), PackagePath('pygame/examples/music_drop_fade.py'), PackagePath('pygame/examples/pixelarray.py'), PackagePath('pygame/examples/playmus.py'), PackagePath('pygame/examples/prevent_display_stretching.py'), PackagePath('pygame/examples/resizing_new.py'), PackagePath('pygame/examples/scaletest.py'), PackagePath('pygame/examples/scrap_clipboard.py'), PackagePath('pygame/examples/scroll.py'), PackagePath('pygame/examples/setmodescale.py'), PackagePath('pygame/examples/sound.py'), PackagePath('pygame/examples/sound_array_demos.py'), PackagePath('pygame/examples/sprite_texture.py'), PackagePath('pygame/examples/stars.py'), PackagePath('pygame/examples/testsprite.py'), PackagePath('pygame/examples/textinput.py'), PackagePath('pygame/examples/vgrade.py'), PackagePath('pygame/examples/video.py'), PackagePath('pygame/fastevent.py'), PackagePath('pygame/fastevent.pyi'), PackagePath('pygame/font.cpython-39-x86_64-linux-gnu.so'), PackagePath('pygame/font.pyi'), PackagePath('pygame/freesansbold.ttf'), PackagePath('pygame/freetype.py'), PackagePath('pygame/freetype.pyi'), PackagePath('pygame/ftfont.py'), PackagePath('pygame/gfxdraw.cpython-39-x86_64-linux-gnu.so'), PackagePath('pygame/gfxdraw.pyi'), PackagePath('pygame/image.cpython-39-x86_64-linux-gnu.so'), PackagePath('pygame/image.pyi'), PackagePath('pygame/imageext.cpython-39-x86_64-linux-gnu.so'), PackagePath('pygame/joystick.cpython-39-x86_64-linux-gnu.so'), PackagePath('pygame/joystick.pyi'), PackagePath('pygame/key.cpython-39-x86_64-linux-gnu.so'), PackagePath('pygame/key.pyi'), PackagePath('pygame/locals.py'), PackagePath('pygame/macosx.py'), PackagePath('pygame/mask.cpython-39-x86_64-linux-gnu.so'), PackagePath('pygame/mask.pyi'), PackagePath('pygame/math.cpython-39-x86_64-linux-gnu.so'), PackagePath('pygame/math.pyi'), PackagePath('pygame/midi.py'), PackagePath('pygame/midi.pyi'), PackagePath('pygame/mixer.cpython-39-x86_64-linux-gnu.so'), PackagePath('pygame/mixer.pyi'), PackagePath('pygame/mixer_music.cpython-39-x86_64-linux-gnu.so'), PackagePath('pygame/mixer_music.pyi'), PackagePath('pygame/mouse.cpython-39-x86_64-linux-gnu.so'), PackagePath('pygame/mouse.pyi'), PackagePath('pygame/newbuffer.cpython-39-x86_64-linux-gnu.so'), PackagePath('pygame/pixelarray.cpython-39-x86_64-linux-gnu.so'), PackagePath('pygame/pixelarray.pyi'), PackagePath('pygame/pixelcopy.cpython-39-x86_64-linux-gnu.so'), PackagePath('pygame/pixelcopy.pyi'), PackagePath('pygame/pkgdata.py'), PackagePath('pygame/py.typed'), PackagePath('pygame/pygame.ico'), PackagePath('pygame/pygame_icon.bmp'), PackagePath('pygame/pygame_icon.icns'), PackagePath('pygame/pygame_icon_mac.bmp'), PackagePath('pygame/pypm.cpython-39-x86_64-linux-gnu.so'), PackagePath('pygame/rect.cpython-39-x86_64-linux-gnu.so'), PackagePath('pygame/rect.pyi'), PackagePath('pygame/rwobject.cpython-39-x86_64-linux-gnu.so'), PackagePath('pygame/rwobject.pyi'), PackagePath('pygame/scrap.cpython-39-x86_64-linux-gnu.so'), PackagePath('pygame/scrap.pyi'), PackagePath('pygame/sndarray.py'), PackagePath('pygame/sndarray.pyi'), PackagePath('pygame/sprite.py'), PackagePath('pygame/sprite.pyi'), PackagePath('pygame/surface.cpython-39-x86_64-linux-gnu.so'), PackagePath('pygame/surface.pyi'), PackagePath('pygame/surfarray.py'), PackagePath('pygame/surfarray.pyi'), PackagePath('pygame/surflock.cpython-39-x86_64-linux-gnu.so'), PackagePath('pygame/surflock.pyi'), PackagePath('pygame/sysfont.py'), PackagePath('pygame/tests/__init__.py'), PackagePath('pygame/tests/__main__.py'), PackagePath('pygame/tests/__pycache__/__init__.cpython-39.pyc'), PackagePath('pygame/tests/__pycache__/__main__.cpython-39.pyc'), PackagePath('pygame/tests/__pycache__/base_test.cpython-39.pyc'), PackagePath('pygame/tests/__pycache__/blit_test.cpython-39.pyc'), PackagePath('pygame/tests/__pycache__/bufferproxy_test.cpython-39.pyc'), PackagePath('pygame/tests/__pycache__/camera_test.cpython-39.pyc'), PackagePath('pygame/tests/__pycache__/color_test.cpython-39.pyc'), PackagePath('pygame/tests/__pycache__/constants_test.cpython-39.pyc'), PackagePath('pygame/tests/__pycache__/controller_test.cpython-39.pyc'), PackagePath('pygame/tests/__pycache__/cursors_test.cpython-39.pyc'), PackagePath('pygame/tests/__pycache__/display_test.cpython-39.pyc'), PackagePath('pygame/tests/__pycache__/docs_test.cpython-39.pyc'), PackagePath('pygame/tests/__pycache__/draw_test.cpython-39.pyc'), PackagePath('pygame/tests/__pycache__/event_test.cpython-39.pyc'), PackagePath('pygame/tests/__pycache__/font_test.cpython-39.pyc'), PackagePath('pygame/tests/__pycache__/freetype_tags.cpython-39.pyc'), PackagePath('pygame/tests/__pycache__/freetype_test.cpython-39.pyc'), PackagePath('pygame/tests/__pycache__/ftfont_tags.cpython-39.pyc'), PackagePath('pygame/tests/__pycache__/ftfont_test.cpython-39.pyc'), PackagePath('pygame/tests/__pycache__/gfxdraw_test.cpython-39.pyc'), PackagePath('pygame/tests/__pycache__/image__save_gl_surface_test.cpython-39.pyc'), PackagePath('pygame/tests/__pycache__/image_tags.cpython-39.pyc'), PackagePath('pygame/tests/__pycache__/image_test.cpython-39.pyc'), PackagePath('pygame/tests/__pycache__/imageext_tags.cpython-39.pyc'), PackagePath('pygame/tests/__pycache__/imageext_test.cpython-39.pyc'), PackagePath('pygame/tests/__pycache__/joystick_test.cpython-39.pyc'), PackagePath('pygame/tests/__pycache__/key_test.cpython-39.pyc'), PackagePath('pygame/tests/__pycache__/locals_test.cpython-39.pyc'), PackagePath('pygame/tests/__pycache__/mask_test.cpython-39.pyc'), PackagePath('pygame/tests/__pycache__/math_test.cpython-39.pyc'), PackagePath('pygame/tests/__pycache__/midi_test.cpython-39.pyc'), PackagePath('pygame/tests/__pycache__/mixer_music_tags.cpython-39.pyc'), PackagePath('pygame/tests/__pycache__/mixer_music_test.cpython-39.pyc'), PackagePath('pygame/tests/__pycache__/mixer_tags.cpython-39.pyc'), PackagePath('pygame/tests/__pycache__/mixer_test.cpython-39.pyc'), PackagePath('pygame/tests/__pycache__/mouse_test.cpython-39.pyc'), PackagePath('pygame/tests/__pycache__/pixelarray_test.cpython-39.pyc'), PackagePath('pygame/tests/__pycache__/pixelcopy_test.cpython-39.pyc'), PackagePath('pygame/tests/__pycache__/rect_test.cpython-39.pyc'), PackagePath('pygame/tests/__pycache__/rwobject_test.cpython-39.pyc'), PackagePath('pygame/tests/__pycache__/scrap_tags.cpython-39.pyc'), PackagePath('pygame/tests/__pycache__/scrap_test.cpython-39.pyc'), PackagePath('pygame/tests/__pycache__/sndarray_tags.cpython-39.pyc'), PackagePath('pygame/tests/__pycache__/sndarray_test.cpython-39.pyc'), PackagePath('pygame/tests/__pycache__/sprite_test.cpython-39.pyc'), PackagePath('pygame/tests/__pycache__/surface_test.cpython-39.pyc'), PackagePath('pygame/tests/__pycache__/surfarray_tags.cpython-39.pyc'), PackagePath('pygame/tests/__pycache__/surfarray_test.cpython-39.pyc'), PackagePath('pygame/tests/__pycache__/surflock_test.cpython-39.pyc'), PackagePath('pygame/tests/__pycache__/sysfont_test.cpython-39.pyc'), PackagePath('pygame/tests/__pycache__/test_test_.cpython-39.pyc'), PackagePath('pygame/tests/__pycache__/threads_test.cpython-39.pyc'), PackagePath('pygame/tests/__pycache__/time_test.cpython-39.pyc'), PackagePath('pygame/tests/__pycache__/touch_test.cpython-39.pyc'), PackagePath('pygame/tests/__pycache__/transform_test.cpython-39.pyc'), PackagePath('pygame/tests/__pycache__/version_test.cpython-39.pyc'), PackagePath('pygame/tests/__pycache__/video_test.cpython-39.pyc'), PackagePath('pygame/tests/base_test.py'), PackagePath('pygame/tests/blit_test.py'), PackagePath('pygame/tests/bufferproxy_test.py'), PackagePath('pygame/tests/camera_test.py'), PackagePath('pygame/tests/color_test.py'), PackagePath('pygame/tests/constants_test.py'), PackagePath('pygame/tests/controller_test.py'), PackagePath('pygame/tests/cursors_test.py'), PackagePath('pygame/tests/display_test.py'), PackagePath('pygame/tests/docs_test.py'), PackagePath('pygame/tests/draw_test.py'), PackagePath('pygame/tests/event_test.py'), PackagePath('pygame/tests/fixtures/fonts/A_PyGameMono-8.png'), PackagePath('pygame/tests/fixtures/fonts/PyGameMono-18-100dpi.bdf'), PackagePath('pygame/tests/fixtures/fonts/PyGameMono-18-75dpi.bdf'), PackagePath('pygame/tests/fixtures/fonts/PyGameMono-8.bdf'), PackagePath('pygame/tests/fixtures/fonts/PyGameMono.otf'), PackagePath('pygame/tests/fixtures/fonts/test_fixed.otf'), PackagePath('pygame/tests/fixtures/fonts/test_sans.ttf'), PackagePath('pygame/tests/fixtures/fonts/u13079_PyGameMono-8.png'), PackagePath('pygame/tests/fixtures/xbm_cursors/white_sizing.xbm'), PackagePath('pygame/tests/fixtures/xbm_cursors/white_sizing_mask.xbm'), PackagePath('pygame/tests/font_test.py'), PackagePath('pygame/tests/freetype_tags.py'), PackagePath('pygame/tests/freetype_test.py'), PackagePath('pygame/tests/ftfont_tags.py'), PackagePath('pygame/tests/ftfont_test.py'), PackagePath('pygame/tests/gfxdraw_test.py'), PackagePath('pygame/tests/image__save_gl_surface_test.py'), PackagePath('pygame/tests/image_tags.py'), PackagePath('pygame/tests/image_test.py'), PackagePath('pygame/tests/imageext_tags.py'), PackagePath('pygame/tests/imageext_test.py'), PackagePath('pygame/tests/joystick_test.py'), PackagePath('pygame/tests/key_test.py'), PackagePath('pygame/tests/locals_test.py'), PackagePath('pygame/tests/mask_test.py'), PackagePath('pygame/tests/math_test.py'), PackagePath('pygame/tests/midi_test.py'), PackagePath('pygame/tests/mixer_music_tags.py'), PackagePath('pygame/tests/mixer_music_test.py'), PackagePath('pygame/tests/mixer_tags.py'), PackagePath('pygame/tests/mixer_test.py'), PackagePath('pygame/tests/mouse_test.py'), PackagePath('pygame/tests/pixelarray_test.py'), PackagePath('pygame/tests/pixelcopy_test.py'), PackagePath('pygame/tests/rect_test.py'), PackagePath('pygame/tests/run_tests__tests/__init__.py'), PackagePath('pygame/tests/run_tests__tests/__pycache__/__init__.cpython-39.pyc'), PackagePath('pygame/tests/run_tests__tests/__pycache__/run_tests__test.cpython-39.pyc'), PackagePath('pygame/tests/run_tests__tests/all_ok/__init__.py'), PackagePath('pygame/tests/run_tests__tests/all_ok/__pycache__/__init__.cpython-39.pyc'), PackagePath('pygame/tests/run_tests__tests/all_ok/__pycache__/fake_2_test.cpython-39.pyc'), PackagePath('pygame/tests/run_tests__tests/all_ok/__pycache__/fake_3_test.cpython-39.pyc'), PackagePath('pygame/tests/run_tests__tests/all_ok/__pycache__/fake_4_test.cpython-39.pyc'), PackagePath('pygame/tests/run_tests__tests/all_ok/__pycache__/fake_5_test.cpython-39.pyc'), PackagePath('pygame/tests/run_tests__tests/all_ok/__pycache__/fake_6_test.cpython-39.pyc'), PackagePath('pygame/tests/run_tests__tests/all_ok/__pycache__/no_assertions__ret_code_of_1__test.cpython-39.pyc'), PackagePath('pygame/tests/run_tests__tests/all_ok/__pycache__/zero_tests_test.cpython-39.pyc'), PackagePath('pygame/tests/run_tests__tests/all_ok/fake_2_test.py'), PackagePath('pygame/tests/run_tests__tests/all_ok/fake_3_test.py'), PackagePath('pygame/tests/run_tests__tests/all_ok/fake_4_test.py'), PackagePath('pygame/tests/run_tests__tests/all_ok/fake_5_test.py'), PackagePath('pygame/tests/run_tests__tests/all_ok/fake_6_test.py'), PackagePath('pygame/tests/run_tests__tests/all_ok/no_assertions__ret_code_of_1__test.py'), PackagePath('pygame/tests/run_tests__tests/all_ok/zero_tests_test.py'), PackagePath('pygame/tests/run_tests__tests/everything/__init__.py'), PackagePath('pygame/tests/run_tests__tests/everything/__pycache__/__init__.cpython-39.pyc'), PackagePath('pygame/tests/run_tests__tests/everything/__pycache__/fake_2_test.cpython-39.pyc'), PackagePath('pygame/tests/run_tests__tests/everything/__pycache__/incomplete_todo_test.cpython-39.pyc'), PackagePath('pygame/tests/run_tests__tests/everything/__pycache__/magic_tag_test.cpython-39.pyc'), PackagePath('pygame/tests/run_tests__tests/everything/__pycache__/sleep_test.cpython-39.pyc'), PackagePath('pygame/tests/run_tests__tests/everything/fake_2_test.py'), PackagePath('pygame/tests/run_tests__tests/everything/incomplete_todo_test.py'), PackagePath('pygame/tests/run_tests__tests/everything/magic_tag_test.py'), PackagePath('pygame/tests/run_tests__tests/everything/sleep_test.py'), PackagePath('pygame/tests/run_tests__tests/exclude/__init__.py'), PackagePath('pygame/tests/run_tests__tests/exclude/__pycache__/__init__.cpython-39.pyc'), PackagePath('pygame/tests/run_tests__tests/exclude/__pycache__/fake_2_test.cpython-39.pyc'), PackagePath('pygame/tests/run_tests__tests/exclude/__pycache__/invisible_tag_test.cpython-39.pyc'), PackagePath('pygame/tests/run_tests__tests/exclude/__pycache__/magic_tag_test.cpython-39.pyc'), PackagePath('pygame/tests/run_tests__tests/exclude/fake_2_test.py'), PackagePath('pygame/tests/run_tests__tests/exclude/invisible_tag_test.py'), PackagePath('pygame/tests/run_tests__tests/exclude/magic_tag_test.py'), PackagePath('pygame/tests/run_tests__tests/failures1/__init__.py'), PackagePath('pygame/tests/run_tests__tests/failures1/__pycache__/__init__.cpython-39.pyc'), PackagePath('pygame/tests/run_tests__tests/failures1/__pycache__/fake_2_test.cpython-39.pyc'), PackagePath('pygame/tests/run_tests__tests/failures1/__pycache__/fake_3_test.cpython-39.pyc'), PackagePath('pygame/tests/run_tests__tests/failures1/__pycache__/fake_4_test.cpython-39.pyc'), PackagePath('pygame/tests/run_tests__tests/failures1/fake_2_test.py'), PackagePath('pygame/tests/run_tests__tests/failures1/fake_3_test.py'), PackagePath('pygame/tests/run_tests__tests/failures1/fake_4_test.py'), PackagePath('pygame/tests/run_tests__tests/incomplete/__init__.py'), PackagePath('pygame/tests/run_tests__tests/incomplete/__pycache__/__init__.cpython-39.pyc'), PackagePath('pygame/tests/run_tests__tests/incomplete/__pycache__/fake_2_test.cpython-39.pyc'), PackagePath('pygame/tests/run_tests__tests/incomplete/__pycache__/fake_3_test.cpython-39.pyc'), PackagePath('pygame/tests/run_tests__tests/incomplete/fake_2_test.py'), PackagePath('pygame/tests/run_tests__tests/incomplete/fake_3_test.py'), PackagePath('pygame/tests/run_tests__tests/incomplete_todo/__init__.py'), PackagePath('pygame/tests/run_tests__tests/incomplete_todo/__pycache__/__init__.cpython-39.pyc'), PackagePath('pygame/tests/run_tests__tests/incomplete_todo/__pycache__/fake_2_test.cpython-39.pyc'), PackagePath('pygame/tests/run_tests__tests/incomplete_todo/__pycache__/fake_3_test.cpython-39.pyc'), PackagePath('pygame/tests/run_tests__tests/incomplete_todo/fake_2_test.py'), PackagePath('pygame/tests/run_tests__tests/incomplete_todo/fake_3_test.py'), PackagePath('pygame/tests/run_tests__tests/infinite_loop/__init__.py'), PackagePath('pygame/tests/run_tests__tests/infinite_loop/__pycache__/__init__.cpython-39.pyc'), PackagePath('pygame/tests/run_tests__tests/infinite_loop/__pycache__/fake_1_test.cpython-39.pyc'), PackagePath('pygame/tests/run_tests__tests/infinite_loop/__pycache__/fake_2_test.cpython-39.pyc'), PackagePath('pygame/tests/run_tests__tests/infinite_loop/fake_1_test.py'), PackagePath('pygame/tests/run_tests__tests/infinite_loop/fake_2_test.py'), PackagePath('pygame/tests/run_tests__tests/print_stderr/__init__.py'), PackagePath('pygame/tests/run_tests__tests/print_stderr/__pycache__/__init__.cpython-39.pyc'), PackagePath('pygame/tests/run_tests__tests/print_stderr/__pycache__/fake_2_test.cpython-39.pyc'), PackagePath('pygame/tests/run_tests__tests/print_stderr/__pycache__/fake_3_test.cpython-39.pyc'), PackagePath('pygame/tests/run_tests__tests/print_stderr/__pycache__/fake_4_test.cpython-39.pyc'), PackagePath('pygame/tests/run_tests__tests/print_stderr/fake_2_test.py'), PackagePath('pygame/tests/run_tests__tests/print_stderr/fake_3_test.py'), PackagePath('pygame/tests/run_tests__tests/print_stderr/fake_4_test.py'), PackagePath('pygame/tests/run_tests__tests/print_stdout/__init__.py'), PackagePath('pygame/tests/run_tests__tests/print_stdout/__pycache__/__init__.cpython-39.pyc'), PackagePath('pygame/tests/run_tests__tests/print_stdout/__pycache__/fake_2_test.cpython-39.pyc'), PackagePath('pygame/tests/run_tests__tests/print_stdout/__pycache__/fake_3_test.cpython-39.pyc'), PackagePath('pygame/tests/run_tests__tests/print_stdout/__pycache__/fake_4_test.cpython-39.pyc'), PackagePath('pygame/tests/run_tests__tests/print_stdout/fake_2_test.py'), PackagePath('pygame/tests/run_tests__tests/print_stdout/fake_3_test.py'), PackagePath('pygame/tests/run_tests__tests/print_stdout/fake_4_test.py'), PackagePath('pygame/tests/run_tests__tests/run_tests__test.py'), PackagePath('pygame/tests/run_tests__tests/timeout/__init__.py'), PackagePath('pygame/tests/run_tests__tests/timeout/__pycache__/__init__.cpython-39.pyc'), PackagePath('pygame/tests/run_tests__tests/timeout/__pycache__/fake_2_test.cpython-39.pyc'), PackagePath('pygame/tests/run_tests__tests/timeout/__pycache__/sleep_test.cpython-39.pyc'), PackagePath('pygame/tests/run_tests__tests/timeout/fake_2_test.py'), PackagePath('pygame/tests/run_tests__tests/timeout/sleep_test.py'), PackagePath('pygame/tests/rwobject_test.py'), PackagePath('pygame/tests/scrap_tags.py'), PackagePath('pygame/tests/scrap_test.py'), PackagePath('pygame/tests/sndarray_tags.py'), PackagePath('pygame/tests/sndarray_test.py'), PackagePath('pygame/tests/sprite_test.py'), PackagePath('pygame/tests/surface_test.py'), PackagePath('pygame/tests/surfarray_tags.py'), PackagePath('pygame/tests/surfarray_test.py'), PackagePath('pygame/tests/surflock_test.py'), PackagePath('pygame/tests/sysfont_test.py'), PackagePath('pygame/tests/test_test_.py'), PackagePath('pygame/tests/test_utils/__init__.py'), PackagePath('pygame/tests/test_utils/__pycache__/__init__.cpython-39.pyc'), PackagePath('pygame/tests/test_utils/__pycache__/arrinter.cpython-39.pyc'), PackagePath('pygame/tests/test_utils/__pycache__/async_sub.cpython-39.pyc'), PackagePath('pygame/tests/test_utils/__pycache__/buftools.cpython-39.pyc'), PackagePath('pygame/tests/test_utils/__pycache__/endian.cpython-39.pyc'), PackagePath('pygame/tests/test_utils/__pycache__/png.cpython-39.pyc'), PackagePath('pygame/tests/test_utils/__pycache__/run_tests.cpython-39.pyc'), PackagePath('pygame/tests/test_utils/__pycache__/test_machinery.cpython-39.pyc'), PackagePath('pygame/tests/test_utils/__pycache__/test_runner.cpython-39.pyc'), PackagePath('pygame/tests/test_utils/arrinter.py'), PackagePath('pygame/tests/test_utils/async_sub.py'), PackagePath('pygame/tests/test_utils/buftools.py'), PackagePath('pygame/tests/test_utils/endian.py'), PackagePath('pygame/tests/test_utils/png.py'), PackagePath('pygame/tests/test_utils/run_tests.py'), PackagePath('pygame/tests/test_utils/test_machinery.py'), PackagePath('pygame/tests/test_utils/test_runner.py'), PackagePath('pygame/tests/threads_test.py'), PackagePath('pygame/tests/time_test.py'), PackagePath('pygame/tests/touch_test.py'), PackagePath('pygame/tests/transform_test.py'), PackagePath('pygame/tests/version_test.py'), PackagePath('pygame/tests/video_test.py'), PackagePath('pygame/threads/__init__.py'), PackagePath('pygame/threads/__pycache__/__init__.cpython-39.pyc'), PackagePath('pygame/time.cpython-39-x86_64-linux-gnu.so'), PackagePath('pygame/time.pyi'), PackagePath('pygame/transform.cpython-39-x86_64-linux-gnu.so'), PackagePath('pygame/transform.pyi'), PackagePath('pygame/version.py'), PackagePath('pygame/version.pyi')]\n",
      "\u001b[1;310mDEBUG\u001b[1;30m: \u001b[0m\u001b[1;36muse.pimp\u001b[1;30m: \u001b[0mpath_set=[PackagePath('../../../include/python3.9/pygame/_camera.h'), PackagePath('../../../include/python3.9/pygame/_pygame.h'), PackagePath('../../../include/python3.9/pygame/_surface.h'), PackagePath('../../../include/python3.9/pygame/camera.h'), PackagePath('../../../include/python3.9/pygame/font.h'), PackagePath('../../../include/python3.9/pygame/freetype.h'), PackagePath('../../../include/python3.9/pygame/include/_pygame.h'), PackagePath('../../../include/python3.9/pygame/include/bitmask.h'), PackagePath('../../../include/python3.9/pygame/include/pgcompat.h'), PackagePath('../../../include/python3.9/pygame/include/pgimport.h'), PackagePath('../../../include/python3.9/pygame/include/pgplatform.h'), PackagePath('../../../include/python3.9/pygame/include/pygame.h'), PackagePath('../../../include/python3.9/pygame/include/pygame_bufferproxy.h'), PackagePath('../../../include/python3.9/pygame/include/pygame_font.h'), PackagePath('../../../include/python3.9/pygame/include/pygame_freetype.h'), PackagePath('../../../include/python3.9/pygame/include/pygame_mask.h'), PackagePath('../../../include/python3.9/pygame/include/pygame_mixer.h'), PackagePath('../../../include/python3.9/pygame/include/sse2neon.h'), PackagePath('../../../include/python3.9/pygame/mask.h'), PackagePath('../../../include/python3.9/pygame/mixer.h'), PackagePath('../../../include/python3.9/pygame/palette.h'), PackagePath('../../../include/python3.9/pygame/pgarrinter.h'), PackagePath('../../../include/python3.9/pygame/pgbufferproxy.h'), PackagePath('../../../include/python3.9/pygame/pgcompat.h'), PackagePath('../../../include/python3.9/pygame/pgopengl.h'), PackagePath('../../../include/python3.9/pygame/pgplatform.h'), PackagePath('../../../include/python3.9/pygame/pygame.h'), PackagePath('../../../include/python3.9/pygame/scrap.h'), PackagePath('../../../include/python3.9/pygame/surface.h'), PackagePath('pygame-2.1.3.dev4.dist-info/INSTALLER'), PackagePath('pygame-2.1.3.dev4.dist-info/METADATA'), PackagePath('pygame-2.1.3.dev4.dist-info/RECORD'), PackagePath('pygame-2.1.3.dev4.dist-info/REQUESTED'), PackagePath('pygame-2.1.3.dev4.dist-info/WHEEL'), PackagePath('pygame-2.1.3.dev4.dist-info/direct_url.json'), PackagePath('pygame-2.1.3.dev4.dist-info/entry_points.txt'), PackagePath('pygame-2.1.3.dev4.dist-info/top_level.txt'), PackagePath('pygame.libs/libFLAC-4389fcde.so.8.3.0'), PackagePath('pygame.libs/libSDL2-2-52a902ef.0.so.0.18.2'), PackagePath('pygame.libs/libSDL2_image-2-2d4f5eee.0.so.0.2.3'), PackagePath('pygame.libs/libSDL2_mixer-2-348dbbd6.0.so.0.2.2'), PackagePath('pygame.libs/libSDL2_ttf-2-e624099a.0.so.0.14.1'), PackagePath('pygame.libs/libasound-2f515fd2.so.2.0.0'), PackagePath('pygame.libs/libattr-46fe1d86.so.1.1.0'), PackagePath('pygame.libs/libcap-01eb4ba0.so.2.16'), PackagePath('pygame.libs/libdbus-1-ed627280.so.3.4.0'), PackagePath('pygame.libs/libfluidsynth-5409ddce.so.3.0.3'), PackagePath('pygame.libs/libfreetype-dcbc3dec.so.6.18.0'), PackagePath('pygame.libs/libgomp-f7e03b3e.so.1.0.0'), PackagePath('pygame.libs/libjpeg-a9d73b8e.so.62.3.0'), PackagePath('pygame.libs/libmikmod-48922765.so.3.0.0'), PackagePath('pygame.libs/libmodplug-836449a1.so.1.0.0'), PackagePath('pygame.libs/libmpg123-bf62e068.so.0.46.3'), PackagePath('pygame.libs/libogg-0499bd3f.so.0.8.5'), PackagePath('pygame.libs/libopus-25615c0c.so.0.8.0'), PackagePath('pygame.libs/libpng16-b21b04ad.so.16.37.0'), PackagePath('pygame.libs/libportmidi-ca072cc9.so'), PackagePath('pygame.libs/libpulse-5480152e.so.0.23.0'), PackagePath('pygame.libs/libpulse-simple-fe7f9d96.so.0.1.1'), PackagePath('pygame.libs/libpulsecommon-14-b553e908.0.so'), PackagePath('pygame.libs/libsndfile-9219a5f5.so.1.0.31'), PackagePath('pygame.libs/libtiff-6263041b.so.5.7.0'), PackagePath('pygame.libs/libvorbis-540c0571.so.0.4.9'), PackagePath('pygame.libs/libvorbisenc-68606e82.so.2.0.12'), PackagePath('pygame.libs/libvorbisfile-7643c70d.so.3.3.8'), PackagePath('pygame.libs/libwebp-6b73467f.so.7.1.2'), PackagePath('pygame/__init__.py'), PackagePath('pygame/__init__.pyi'), PackagePath('pygame/__pycache__/__init__.cpython-39.pyc'), PackagePath('pygame/__pycache__/_camera_opencv.cpython-39.pyc'), PackagePath('pygame/__pycache__/_camera_vidcapture.cpython-39.pyc'), PackagePath('pygame/__pycache__/camera.cpython-39.pyc'), PackagePath('pygame/__pycache__/colordict.cpython-39.pyc'), PackagePath('pygame/__pycache__/cursors.cpython-39.pyc'), PackagePath('pygame/__pycache__/draw_py.cpython-39.pyc'), PackagePath('pygame/__pycache__/fastevent.cpython-39.pyc'), PackagePath('pygame/__pycache__/freetype.cpython-39.pyc'), PackagePath('pygame/__pycache__/ftfont.cpython-39.pyc'), PackagePath('pygame/__pycache__/locals.cpython-39.pyc'), PackagePath('pygame/__pycache__/macosx.cpython-39.pyc'), PackagePath('pygame/__pycache__/midi.cpython-39.pyc'), PackagePath('pygame/__pycache__/pkgdata.cpython-39.pyc'), PackagePath('pygame/__pycache__/sndarray.cpython-39.pyc'), PackagePath('pygame/__pycache__/sprite.cpython-39.pyc'), PackagePath('pygame/__pycache__/surfarray.cpython-39.pyc'), PackagePath('pygame/__pycache__/sysfont.cpython-39.pyc'), PackagePath('pygame/__pycache__/version.cpython-39.pyc'), PackagePath('pygame/__pyinstaller/__init__.py'), PackagePath('pygame/__pyinstaller/__pycache__/__init__.cpython-39.pyc'), PackagePath('pygame/__pyinstaller/__pycache__/hook-pygame.cpython-39.pyc'), PackagePath('pygame/__pyinstaller/hook-pygame.py'), PackagePath('pygame/_camera.cpython-39-x86_64-linux-gnu.so'), PackagePath('pygame/_camera_opencv.py'), PackagePath('pygame/_camera_vidcapture.py'), PackagePath('pygame/_common.pyi'), PackagePath('pygame/_freetype.cpython-39-x86_64-linux-gnu.so'), PackagePath('pygame/_sdl2/__init__.py'), PackagePath('pygame/_sdl2/__init__.pyi'), PackagePath('pygame/_sdl2/__pycache__/__init__.cpython-39.pyc'), PackagePath('pygame/_sdl2/audio.cpython-39-x86_64-linux-gnu.so'), PackagePath('pygame/_sdl2/audio.pyi'), PackagePath('pygame/_sdl2/controller.cpython-39-x86_64-linux-gnu.so'), PackagePath('pygame/_sdl2/controller.pyi'), PackagePath('pygame/_sdl2/mixer.cpython-39-x86_64-linux-gnu.so'), PackagePath('pygame/_sdl2/sdl2.cpython-39-x86_64-linux-gnu.so'), PackagePath('pygame/_sdl2/sdl2.pyi'), PackagePath('pygame/_sdl2/touch.cpython-39-x86_64-linux-gnu.so'), PackagePath('pygame/_sdl2/touch.pyi'), PackagePath('pygame/_sdl2/video.cpython-39-x86_64-linux-gnu.so'), PackagePath('pygame/_sdl2/video.pyi'), PackagePath('pygame/_sprite.cpython-39-x86_64-linux-gnu.so'), PackagePath('pygame/base.cpython-39-x86_64-linux-gnu.so'), PackagePath('pygame/base.pyi'), PackagePath('pygame/bufferproxy.cpython-39-x86_64-linux-gnu.so'), PackagePath('pygame/bufferproxy.pyi'), PackagePath('pygame/camera.py'), PackagePath('pygame/camera.pyi'), PackagePath('pygame/color.cpython-39-x86_64-linux-gnu.so'), PackagePath('pygame/color.pyi'), PackagePath('pygame/colordict.py'), PackagePath('pygame/constants.cpython-39-x86_64-linux-gnu.so'), PackagePath('pygame/constants.pyi'), PackagePath('pygame/cursors.py'), PackagePath('pygame/cursors.pyi'), PackagePath('pygame/display.cpython-39-x86_64-linux-gnu.so'), PackagePath('pygame/display.pyi'), PackagePath('pygame/docs/__main__.py'), PackagePath('pygame/docs/__pycache__/__main__.cpython-39.pyc'), PackagePath('pygame/docs/generated/_images/AdvancedInputOutput1.gif'), PackagePath('pygame/docs/generated/_images/AdvancedInputOutput11.gif'), PackagePath('pygame/docs/generated/_images/AdvancedInputOutput2.gif'), PackagePath('pygame/docs/generated/_images/AdvancedInputOutput21.gif'), PackagePath('pygame/docs/generated/_images/AdvancedInputOutput3.gif'), PackagePath('pygame/docs/generated/_images/AdvancedInputOutput31.gif'), PackagePath('pygame/docs/generated/_images/AdvancedInputOutput4.gif'), PackagePath('pygame/docs/generated/_images/AdvancedInputOutput41.gif'), PackagePath('pygame/docs/generated/_images/AdvancedInputOutput5.gif'), PackagePath('pygame/docs/generated/_images/AdvancedInputOutput51.gif'), PackagePath('pygame/docs/generated/_images/AdvancedOutputAlpha1.gif'), PackagePath('pygame/docs/generated/_images/AdvancedOutputAlpha11.gif'), PackagePath('pygame/docs/generated/_images/AdvancedOutputAlpha2.gif'), PackagePath('pygame/docs/generated/_images/AdvancedOutputAlpha21.gif'), PackagePath('pygame/docs/generated/_images/AdvancedOutputAlpha3.gif'), PackagePath('pygame/docs/generated/_images/AdvancedOutputAlpha31.gif'), PackagePath('pygame/docs/generated/_images/AdvancedOutputProcess1.gif'), PackagePath('pygame/docs/generated/_images/AdvancedOutputProcess11.gif'), PackagePath('pygame/docs/generated/_images/AdvancedOutputProcess2.gif'), PackagePath('pygame/docs/generated/_images/AdvancedOutputProcess21.gif'), PackagePath('pygame/docs/generated/_images/AdvancedOutputProcess3.gif'), PackagePath('pygame/docs/generated/_images/AdvancedOutputProcess31.gif'), PackagePath('pygame/docs/generated/_images/AdvancedOutputProcess4.gif'), PackagePath('pygame/docs/generated/_images/AdvancedOutputProcess41.gif'), PackagePath('pygame/docs/generated/_images/AdvancedOutputProcess5.gif'), PackagePath('pygame/docs/generated/_images/AdvancedOutputProcess51.gif'), PackagePath('pygame/docs/generated/_images/AdvancedOutputProcess6.gif'), PackagePath('pygame/docs/generated/_images/AdvancedOutputProcess61.gif'), PackagePath('pygame/docs/generated/_images/Bagic-INPUT-resultscreen.png'), PackagePath('pygame/docs/generated/_images/Bagic-INPUT-resultscreen1.png'), PackagePath('pygame/docs/generated/_images/Bagic-INPUT-sourcecode.png'), PackagePath('pygame/docs/generated/_images/Bagic-INPUT-sourcecode1.png'), PackagePath('pygame/docs/generated/_images/Bagic-PROCESS-resultscreen.png'), PackagePath('pygame/docs/generated/_images/Bagic-PROCESS-resultscreen1.png'), PackagePath('pygame/docs/generated/_images/Bagic-PROCESS-sourcecode.png'), PackagePath('pygame/docs/generated/_images/Bagic-PROCESS-sourcecode1.png'), PackagePath('pygame/docs/generated/_images/Bagic-ouput-result-screen.png'), PackagePath('pygame/docs/generated/_images/Bagic-ouput-result-screen1.png'), PackagePath('pygame/docs/generated/_images/Basic-ouput-sourcecode.png'), PackagePath('pygame/docs/generated/_images/Basic-ouput-sourcecode1.png'), PackagePath('pygame/docs/generated/_images/camera_average.jpg'), PackagePath('pygame/docs/generated/_images/camera_background.jpg'), PackagePath('pygame/docs/generated/_images/camera_green.jpg'), PackagePath('pygame/docs/generated/_images/camera_hsv.jpg'), PackagePath('pygame/docs/generated/_images/camera_mask.jpg'), PackagePath('pygame/docs/generated/_images/camera_rgb.jpg'), PackagePath('pygame/docs/generated/_images/camera_thresh.jpg'), PackagePath('pygame/docs/generated/_images/camera_thresholded.jpg'), PackagePath('pygame/docs/generated/_images/camera_yuv.jpg'), PackagePath('pygame/docs/generated/_images/chimpshot.gif'), PackagePath('pygame/docs/generated/_images/draw_module_example.png'), PackagePath('pygame/docs/generated/_images/intro_ball.gif'), PackagePath('pygame/docs/generated/_images/intro_blade.jpg'), PackagePath('pygame/docs/generated/_images/intro_freedom.jpg'), PackagePath('pygame/docs/generated/_images/introduction-Battleship.png'), PackagePath('pygame/docs/generated/_images/introduction-Battleship1.png'), PackagePath('pygame/docs/generated/_images/introduction-PuyoPuyo.png'), PackagePath('pygame/docs/generated/_images/introduction-PuyoPuyo1.png'), PackagePath('pygame/docs/generated/_images/introduction-TPS.png'), PackagePath('pygame/docs/generated/_images/introduction-TPS1.png'), PackagePath('pygame/docs/generated/_images/joystick_calls.png'), PackagePath('pygame/docs/generated/_images/surfarray_allblack.png'), PackagePath('pygame/docs/generated/_images/surfarray_flipped.png'), PackagePath('pygame/docs/generated/_images/surfarray_redimg.png'), PackagePath('pygame/docs/generated/_images/surfarray_rgbarray.png'), PackagePath('pygame/docs/generated/_images/surfarray_scaledown.png'), PackagePath('pygame/docs/generated/_images/surfarray_scaleup.png'), PackagePath('pygame/docs/generated/_images/surfarray_soften.png'), PackagePath('pygame/docs/generated/_images/surfarray_striped.png'), PackagePath('pygame/docs/generated/_images/surfarray_xfade.png'), PackagePath('pygame/docs/generated/_images/tom_basic.png'), PackagePath('pygame/docs/generated/_images/tom_event-flowchart.png'), PackagePath('pygame/docs/generated/_images/tom_formulae.png'), PackagePath('pygame/docs/generated/_images/tom_radians.png'), PackagePath('pygame/docs/generated/_sources/c_api.rst.txt'), PackagePath('pygame/docs/generated/_sources/filepaths.rst.txt'), PackagePath('pygame/docs/generated/_sources/index.rst.txt'), PackagePath('pygame/docs/generated/_sources/ref/bufferproxy.rst.txt'), PackagePath('pygame/docs/generated/_sources/ref/camera.rst.txt'), PackagePath('pygame/docs/generated/_sources/ref/cdrom.rst.txt'), PackagePath('pygame/docs/generated/_sources/ref/color.rst.txt'), PackagePath('pygame/docs/generated/_sources/ref/color_list.rst.txt'), PackagePath('pygame/docs/generated/_sources/ref/cursors.rst.txt'), PackagePath('pygame/docs/generated/_sources/ref/display.rst.txt'), PackagePath('pygame/docs/generated/_sources/ref/draw.rst.txt'), PackagePath('pygame/docs/generated/_sources/ref/event.rst.txt'), PackagePath('pygame/docs/generated/_sources/ref/examples.rst.txt'), PackagePath('pygame/docs/generated/_sources/ref/fastevent.rst.txt'), PackagePath('pygame/docs/generated/_sources/ref/font.rst.txt'), PackagePath('pygame/docs/generated/_sources/ref/freetype.rst.txt'), PackagePath('pygame/docs/generated/_sources/ref/gfxdraw.rst.txt'), PackagePath('pygame/docs/generated/_sources/ref/image.rst.txt'), PackagePath('pygame/docs/generated/_sources/ref/joystick.rst.txt'), PackagePath('pygame/docs/generated/_sources/ref/key.rst.txt'), PackagePath('pygame/docs/generated/_sources/ref/locals.rst.txt'), PackagePath('pygame/docs/generated/_sources/ref/mask.rst.txt'), PackagePath('pygame/docs/generated/_sources/ref/math.rst.txt'), PackagePath('pygame/docs/generated/_sources/ref/midi.rst.txt'), PackagePath('pygame/docs/generated/_sources/ref/mixer.rst.txt'), PackagePath('pygame/docs/generated/_sources/ref/mouse.rst.txt'), PackagePath('pygame/docs/generated/_sources/ref/music.rst.txt'), PackagePath('pygame/docs/generated/_sources/ref/overlay.rst.txt'), PackagePath('pygame/docs/generated/_sources/ref/pixelarray.rst.txt'), PackagePath('pygame/docs/generated/_sources/ref/pixelcopy.rst.txt'), PackagePath('pygame/docs/generated/_sources/ref/pygame.rst.txt'), PackagePath('pygame/docs/generated/_sources/ref/rect.rst.txt'), PackagePath('pygame/docs/generated/_sources/ref/scrap.rst.txt'), PackagePath('pygame/docs/generated/_sources/ref/sdl2_controller.rst.txt'), PackagePath('pygame/docs/generated/_sources/ref/sdl2_video.rst.txt'), PackagePath('pygame/docs/generated/_sources/ref/sndarray.rst.txt'), PackagePath('pygame/docs/generated/_sources/ref/sprite.rst.txt'), PackagePath('pygame/docs/generated/_sources/ref/surface.rst.txt'), PackagePath('pygame/docs/generated/_sources/ref/surfarray.rst.txt'), PackagePath('pygame/docs/generated/_sources/ref/tests.rst.txt'), PackagePath('pygame/docs/generated/_sources/ref/time.rst.txt'), PackagePath('pygame/docs/generated/_sources/ref/touch.rst.txt'), PackagePath('pygame/docs/generated/_sources/ref/transform.rst.txt'), PackagePath('pygame/docs/generated/_static/basic.css'), PackagePath('pygame/docs/generated/_static/doctools.js'), PackagePath('pygame/docs/generated/_static/documentation_options.js'), PackagePath('pygame/docs/generated/_static/file.png'), PackagePath('pygame/docs/generated/_static/jquery-3.5.1.js'), PackagePath('pygame/docs/generated/_static/jquery.js'), PackagePath('pygame/docs/generated/_static/language_data.js'), PackagePath('pygame/docs/generated/_static/minus.png'), PackagePath('pygame/docs/generated/_static/plus.png'), PackagePath('pygame/docs/generated/_static/pygame.css'), PackagePath('pygame/docs/generated/_static/pygame.ico'), PackagePath('pygame/docs/generated/_static/pygame_tiny.png'), PackagePath('pygame/docs/generated/_static/pygments.css'), PackagePath('pygame/docs/generated/_static/reset.css'), PackagePath('pygame/docs/generated/_static/searchtools.js'), PackagePath('pygame/docs/generated/_static/tooltip.css'), PackagePath('pygame/docs/generated/_static/underscore-1.13.1.js'), PackagePath('pygame/docs/generated/_static/underscore.js'), PackagePath('pygame/docs/generated/c_api.html'), PackagePath('pygame/docs/generated/c_api/base.html'), PackagePath('pygame/docs/generated/c_api/bufferproxy.html'), PackagePath('pygame/docs/generated/c_api/color.html'), PackagePath('pygame/docs/generated/c_api/display.html'), PackagePath('pygame/docs/generated/c_api/event.html'), PackagePath('pygame/docs/generated/c_api/freetype.html'), PackagePath('pygame/docs/generated/c_api/mixer.html'), PackagePath('pygame/docs/generated/c_api/rect.html'), PackagePath('pygame/docs/generated/c_api/rwobject.html'), PackagePath('pygame/docs/generated/c_api/slots.html'), PackagePath('pygame/docs/generated/c_api/surface.html'), PackagePath('pygame/docs/generated/c_api/surflock.html'), PackagePath('pygame/docs/generated/c_api/version.html'), PackagePath('pygame/docs/generated/filepaths.html'), PackagePath('pygame/docs/generated/genindex.html'), PackagePath('pygame/docs/generated/index.html'), PackagePath('pygame/docs/generated/py-modindex.html'), PackagePath('pygame/docs/generated/ref/bufferproxy.html'), PackagePath('pygame/docs/generated/ref/camera.html'), PackagePath('pygame/docs/generated/ref/cdrom.html'), PackagePath('pygame/docs/generated/ref/color.html'), PackagePath('pygame/docs/generated/ref/color_list.html'), PackagePath('pygame/docs/generated/ref/cursors.html'), PackagePath('pygame/docs/generated/ref/display.html'), PackagePath('pygame/docs/generated/ref/draw.html'), PackagePath('pygame/docs/generated/ref/event.html'), PackagePath('pygame/docs/generated/ref/examples.html'), PackagePath('pygame/docs/generated/ref/fastevent.html'), PackagePath('pygame/docs/generated/ref/font.html'), PackagePath('pygame/docs/generated/ref/freetype.html'), PackagePath('pygame/docs/generated/ref/gfxdraw.html'), PackagePath('pygame/docs/generated/ref/image.html'), PackagePath('pygame/docs/generated/ref/joystick.html'), PackagePath('pygame/docs/generated/ref/key.html'), PackagePath('pygame/docs/generated/ref/locals.html'), PackagePath('pygame/docs/generated/ref/mask.html'), PackagePath('pygame/docs/generated/ref/math.html'), PackagePath('pygame/docs/generated/ref/midi.html'), PackagePath('pygame/docs/generated/ref/mixer.html'), PackagePath('pygame/docs/generated/ref/mouse.html'), PackagePath('pygame/docs/generated/ref/music.html'), PackagePath('pygame/docs/generated/ref/overlay.html'), PackagePath('pygame/docs/generated/ref/pixelarray.html'), PackagePath('pygame/docs/generated/ref/pixelcopy.html'), PackagePath('pygame/docs/generated/ref/pygame.html'), PackagePath('pygame/docs/generated/ref/rect.html'), PackagePath('pygame/docs/generated/ref/scrap.html'), PackagePath('pygame/docs/generated/ref/sdl2_controller.html'), PackagePath('pygame/docs/generated/ref/sdl2_video.html'), PackagePath('pygame/docs/generated/ref/sndarray.html'), PackagePath('pygame/docs/generated/ref/sprite.html'), PackagePath('pygame/docs/generated/ref/surface.html'), PackagePath('pygame/docs/generated/ref/surfarray.html'), PackagePath('pygame/docs/generated/ref/tests.html'), PackagePath('pygame/docs/generated/ref/time.html'), PackagePath('pygame/docs/generated/ref/touch.html'), PackagePath('pygame/docs/generated/ref/transform.html'), PackagePath('pygame/docs/generated/search.html'), PackagePath('pygame/docs/generated/searchindex.js'), PackagePath('pygame/docs/generated/tut/CameraIntro.html'), PackagePath('pygame/docs/generated/tut/ChimpLineByLine.html'), PackagePath('pygame/docs/generated/tut/DisplayModes.html'), PackagePath('pygame/docs/generated/tut/ImportInit.html'), PackagePath('pygame/docs/generated/tut/MakeGames.html'), PackagePath('pygame/docs/generated/tut/MoveIt.html'), PackagePath('pygame/docs/generated/tut/PygameIntro.html'), PackagePath('pygame/docs/generated/tut/SpriteIntro.html'), PackagePath('pygame/docs/generated/tut/SurfarrayIntro.html'), PackagePath('pygame/docs/generated/tut/chimp.py.html'), PackagePath('pygame/docs/generated/tut/newbieguide.html'), PackagePath('pygame/docs/generated/tut/tom_games2.html'), PackagePath('pygame/docs/generated/tut/tom_games3.html'), PackagePath('pygame/docs/generated/tut/tom_games4.html'), PackagePath('pygame/docs/generated/tut/tom_games5.html'), PackagePath('pygame/docs/generated/tut/tom_games6.html'), PackagePath('pygame/draw.cpython-39-x86_64-linux-gnu.so'), PackagePath('pygame/draw.pyi'), PackagePath('pygame/draw_py.py'), PackagePath('pygame/event.cpython-39-x86_64-linux-gnu.so'), PackagePath('pygame/event.pyi'), PackagePath('pygame/examples/README.rst'), PackagePath('pygame/examples/__init__.py'), PackagePath('pygame/examples/__pycache__/__init__.cpython-39.pyc'), PackagePath('pygame/examples/__pycache__/aacircle.cpython-39.pyc'), PackagePath('pygame/examples/__pycache__/aliens.cpython-39.pyc'), PackagePath('pygame/examples/__pycache__/arraydemo.cpython-39.pyc'), PackagePath('pygame/examples/__pycache__/audiocapture.cpython-39.pyc'), PackagePath('pygame/examples/__pycache__/blend_fill.cpython-39.pyc'), PackagePath('pygame/examples/__pycache__/blit_blends.cpython-39.pyc'), PackagePath('pygame/examples/__pycache__/camera.cpython-39.pyc'), PackagePath('pygame/examples/__pycache__/chimp.cpython-39.pyc'), PackagePath('pygame/examples/__pycache__/cursors.cpython-39.pyc'), PackagePath('pygame/examples/__pycache__/dropevent.cpython-39.pyc'), PackagePath('pygame/examples/__pycache__/eventlist.cpython-39.pyc'), PackagePath('pygame/examples/__pycache__/font_viewer.cpython-39.pyc'), PackagePath('pygame/examples/__pycache__/fonty.cpython-39.pyc'), PackagePath('pygame/examples/__pycache__/freetype_misc.cpython-39.pyc'), PackagePath('pygame/examples/__pycache__/glcube.cpython-39.pyc'), PackagePath('pygame/examples/__pycache__/go_over_there.cpython-39.pyc'), PackagePath('pygame/examples/__pycache__/headless_no_windows_needed.cpython-39.pyc'), PackagePath('pygame/examples/__pycache__/joystick.cpython-39.pyc'), PackagePath('pygame/examples/__pycache__/liquid.cpython-39.pyc'), PackagePath('pygame/examples/__pycache__/mask.cpython-39.pyc'), PackagePath('pygame/examples/__pycache__/midi.cpython-39.pyc'), PackagePath('pygame/examples/__pycache__/moveit.cpython-39.pyc'), PackagePath('pygame/examples/__pycache__/music_drop_fade.cpython-39.pyc'), PackagePath('pygame/examples/__pycache__/pixelarray.cpython-39.pyc'), PackagePath('pygame/examples/__pycache__/playmus.cpython-39.pyc'), PackagePath('pygame/examples/__pycache__/prevent_display_stretching.cpython-39.pyc'), PackagePath('pygame/examples/__pycache__/resizing_new.cpython-39.pyc'), PackagePath('pygame/examples/__pycache__/scaletest.cpython-39.pyc'), PackagePath('pygame/examples/__pycache__/scrap_clipboard.cpython-39.pyc'), PackagePath('pygame/examples/__pycache__/scroll.cpython-39.pyc'), PackagePath('pygame/examples/__pycache__/setmodescale.cpython-39.pyc'), PackagePath('pygame/examples/__pycache__/sound.cpython-39.pyc'), PackagePath('pygame/examples/__pycache__/sound_array_demos.cpython-39.pyc'), PackagePath('pygame/examples/__pycache__/sprite_texture.cpython-39.pyc'), PackagePath('pygame/examples/__pycache__/stars.cpython-39.pyc'), PackagePath('pygame/examples/__pycache__/testsprite.cpython-39.pyc'), PackagePath('pygame/examples/__pycache__/textinput.cpython-39.pyc'), PackagePath('pygame/examples/__pycache__/vgrade.cpython-39.pyc'), PackagePath('pygame/examples/__pycache__/video.cpython-39.pyc'), PackagePath('pygame/examples/aacircle.py'), PackagePath('pygame/examples/aliens.py'), PackagePath('pygame/examples/arraydemo.py'), PackagePath('pygame/examples/audiocapture.py'), PackagePath('pygame/examples/blend_fill.py'), PackagePath('pygame/examples/blit_blends.py'), PackagePath('pygame/examples/camera.py'), PackagePath('pygame/examples/chimp.py'), PackagePath('pygame/examples/cursors.py'), PackagePath('pygame/examples/data/BGR.png'), PackagePath('pygame/examples/data/alien1.gif'), PackagePath('pygame/examples/data/alien1.jpg'), PackagePath('pygame/examples/data/alien1.png'), PackagePath('pygame/examples/data/alien2.gif'), PackagePath('pygame/examples/data/alien2.png'), PackagePath('pygame/examples/data/alien3.gif'), PackagePath('pygame/examples/data/alien3.png'), PackagePath('pygame/examples/data/arraydemo.bmp'), PackagePath('pygame/examples/data/asprite.bmp'), PackagePath('pygame/examples/data/background.gif'), PackagePath('pygame/examples/data/black.ppm'), PackagePath('pygame/examples/data/blue.gif'), PackagePath('pygame/examples/data/blue.mpg'), PackagePath('pygame/examples/data/bomb.gif'), PackagePath('pygame/examples/data/boom.wav'), PackagePath('pygame/examples/data/brick.png'), PackagePath('pygame/examples/data/car_door.wav'), PackagePath('pygame/examples/data/chimp.png'), PackagePath('pygame/examples/data/city.png'), PackagePath('pygame/examples/data/crimson.pnm'), PackagePath('pygame/examples/data/cursor.png'), PackagePath('pygame/examples/data/danger.gif'), PackagePath('pygame/examples/data/explosion1.gif'), PackagePath('pygame/examples/data/fist.png'), PackagePath('pygame/examples/data/green.pcx'), PackagePath('pygame/examples/data/grey.pgm'), PackagePath('pygame/examples/data/house_lo.mp3'), PackagePath('pygame/examples/data/house_lo.ogg'), PackagePath('pygame/examples/data/house_lo.wav'), PackagePath('pygame/examples/data/laplacian.png'), PackagePath('pygame/examples/data/liquid.bmp'), PackagePath('pygame/examples/data/midikeys.png'), PackagePath('pygame/examples/data/player1.gif'), PackagePath('pygame/examples/data/punch.wav'), PackagePath('pygame/examples/data/purple.xpm'), PackagePath('pygame/examples/data/red.jpg'), PackagePath('pygame/examples/data/sans.ttf'), PackagePath('pygame/examples/data/scarlet.webp'), PackagePath('pygame/examples/data/secosmic_lo.wav'), PackagePath('pygame/examples/data/shot.gif'), PackagePath('pygame/examples/data/static.png'), PackagePath('pygame/examples/data/teal.svg'), PackagePath('pygame/examples/data/turquoise.tif'), PackagePath('pygame/examples/data/whiff.wav'), PackagePath('pygame/examples/data/yellow.tga'), PackagePath('pygame/examples/dropevent.py'), PackagePath('pygame/examples/eventlist.py'), PackagePath('pygame/examples/font_viewer.py'), PackagePath('pygame/examples/fonty.py'), PackagePath('pygame/examples/freetype_misc.py'), PackagePath('pygame/examples/glcube.py'), PackagePath('pygame/examples/go_over_there.py'), PackagePath('pygame/examples/headless_no_windows_needed.py'), PackagePath('pygame/examples/joystick.py'), PackagePath('pygame/examples/liquid.py'), PackagePath('pygame/examples/mask.py'), PackagePath('pygame/examples/midi.py'), PackagePath('pygame/examples/moveit.py'), PackagePath('pygame/examples/music_drop_fade.py'), PackagePath('pygame/examples/pixelarray.py'), PackagePath('pygame/examples/playmus.py'), PackagePath('pygame/examples/prevent_display_stretching.py'), PackagePath('pygame/examples/resizing_new.py'), PackagePath('pygame/examples/scaletest.py'), PackagePath('pygame/examples/scrap_clipboard.py'), PackagePath('pygame/examples/scroll.py'), PackagePath('pygame/examples/setmodescale.py'), PackagePath('pygame/examples/sound.py'), PackagePath('pygame/examples/sound_array_demos.py'), PackagePath('pygame/examples/sprite_texture.py'), PackagePath('pygame/examples/stars.py'), PackagePath('pygame/examples/testsprite.py'), PackagePath('pygame/examples/textinput.py'), PackagePath('pygame/examples/vgrade.py'), PackagePath('pygame/examples/video.py'), PackagePath('pygame/fastevent.py'), PackagePath('pygame/fastevent.pyi'), PackagePath('pygame/font.cpython-39-x86_64-linux-gnu.so'), PackagePath('pygame/font.pyi'), PackagePath('pygame/freesansbold.ttf'), PackagePath('pygame/freetype.py'), PackagePath('pygame/freetype.pyi'), PackagePath('pygame/ftfont.py'), PackagePath('pygame/gfxdraw.cpython-39-x86_64-linux-gnu.so'), PackagePath('pygame/gfxdraw.pyi'), PackagePath('pygame/image.cpython-39-x86_64-linux-gnu.so'), PackagePath('pygame/image.pyi'), PackagePath('pygame/imageext.cpython-39-x86_64-linux-gnu.so'), PackagePath('pygame/joystick.cpython-39-x86_64-linux-gnu.so'), PackagePath('pygame/joystick.pyi'), PackagePath('pygame/key.cpython-39-x86_64-linux-gnu.so'), PackagePath('pygame/key.pyi'), PackagePath('pygame/locals.py'), PackagePath('pygame/macosx.py'), PackagePath('pygame/mask.cpython-39-x86_64-linux-gnu.so'), PackagePath('pygame/mask.pyi'), PackagePath('pygame/math.cpython-39-x86_64-linux-gnu.so'), PackagePath('pygame/math.pyi'), PackagePath('pygame/midi.py'), PackagePath('pygame/midi.pyi'), PackagePath('pygame/mixer.cpython-39-x86_64-linux-gnu.so'), PackagePath('pygame/mixer.pyi'), PackagePath('pygame/mixer_music.cpython-39-x86_64-linux-gnu.so'), PackagePath('pygame/mixer_music.pyi'), PackagePath('pygame/mouse.cpython-39-x86_64-linux-gnu.so'), PackagePath('pygame/mouse.pyi'), PackagePath('pygame/newbuffer.cpython-39-x86_64-linux-gnu.so'), PackagePath('pygame/pixelarray.cpython-39-x86_64-linux-gnu.so'), PackagePath('pygame/pixelarray.pyi'), PackagePath('pygame/pixelcopy.cpython-39-x86_64-linux-gnu.so'), PackagePath('pygame/pixelcopy.pyi'), PackagePath('pygame/pkgdata.py'), PackagePath('pygame/py.typed'), PackagePath('pygame/pygame.ico'), PackagePath('pygame/pygame_icon.bmp'), PackagePath('pygame/pygame_icon.icns'), PackagePath('pygame/pygame_icon_mac.bmp'), PackagePath('pygame/pypm.cpython-39-x86_64-linux-gnu.so'), PackagePath('pygame/rect.cpython-39-x86_64-linux-gnu.so'), PackagePath('pygame/rect.pyi'), PackagePath('pygame/rwobject.cpython-39-x86_64-linux-gnu.so'), PackagePath('pygame/rwobject.pyi'), PackagePath('pygame/scrap.cpython-39-x86_64-linux-gnu.so'), PackagePath('pygame/scrap.pyi'), PackagePath('pygame/sndarray.py'), PackagePath('pygame/sndarray.pyi'), PackagePath('pygame/sprite.py'), PackagePath('pygame/sprite.pyi'), PackagePath('pygame/surface.cpython-39-x86_64-linux-gnu.so'), PackagePath('pygame/surface.pyi'), PackagePath('pygame/surfarray.py'), PackagePath('pygame/surfarray.pyi'), PackagePath('pygame/surflock.cpython-39-x86_64-linux-gnu.so'), PackagePath('pygame/surflock.pyi'), PackagePath('pygame/sysfont.py'), PackagePath('pygame/tests/__init__.py'), PackagePath('pygame/tests/__main__.py'), PackagePath('pygame/tests/__pycache__/__init__.cpython-39.pyc'), PackagePath('pygame/tests/__pycache__/__main__.cpython-39.pyc'), PackagePath('pygame/tests/__pycache__/base_test.cpython-39.pyc'), PackagePath('pygame/tests/__pycache__/blit_test.cpython-39.pyc'), PackagePath('pygame/tests/__pycache__/bufferproxy_test.cpython-39.pyc'), PackagePath('pygame/tests/__pycache__/camera_test.cpython-39.pyc'), PackagePath('pygame/tests/__pycache__/color_test.cpython-39.pyc'), PackagePath('pygame/tests/__pycache__/constants_test.cpython-39.pyc'), PackagePath('pygame/tests/__pycache__/controller_test.cpython-39.pyc'), PackagePath('pygame/tests/__pycache__/cursors_test.cpython-39.pyc'), PackagePath('pygame/tests/__pycache__/display_test.cpython-39.pyc'), PackagePath('pygame/tests/__pycache__/docs_test.cpython-39.pyc'), PackagePath('pygame/tests/__pycache__/draw_test.cpython-39.pyc'), PackagePath('pygame/tests/__pycache__/event_test.cpython-39.pyc'), PackagePath('pygame/tests/__pycache__/font_test.cpython-39.pyc'), PackagePath('pygame/tests/__pycache__/freetype_tags.cpython-39.pyc'), PackagePath('pygame/tests/__pycache__/freetype_test.cpython-39.pyc'), PackagePath('pygame/tests/__pycache__/ftfont_tags.cpython-39.pyc'), PackagePath('pygame/tests/__pycache__/ftfont_test.cpython-39.pyc'), PackagePath('pygame/tests/__pycache__/gfxdraw_test.cpython-39.pyc'), PackagePath('pygame/tests/__pycache__/image__save_gl_surface_test.cpython-39.pyc'), PackagePath('pygame/tests/__pycache__/image_tags.cpython-39.pyc'), PackagePath('pygame/tests/__pycache__/image_test.cpython-39.pyc'), PackagePath('pygame/tests/__pycache__/imageext_tags.cpython-39.pyc'), PackagePath('pygame/tests/__pycache__/imageext_test.cpython-39.pyc'), PackagePath('pygame/tests/__pycache__/joystick_test.cpython-39.pyc'), PackagePath('pygame/tests/__pycache__/key_test.cpython-39.pyc'), PackagePath('pygame/tests/__pycache__/locals_test.cpython-39.pyc'), PackagePath('pygame/tests/__pycache__/mask_test.cpython-39.pyc'), PackagePath('pygame/tests/__pycache__/math_test.cpython-39.pyc'), PackagePath('pygame/tests/__pycache__/midi_test.cpython-39.pyc'), PackagePath('pygame/tests/__pycache__/mixer_music_tags.cpython-39.pyc'), PackagePath('pygame/tests/__pycache__/mixer_music_test.cpython-39.pyc'), PackagePath('pygame/tests/__pycache__/mixer_tags.cpython-39.pyc'), PackagePath('pygame/tests/__pycache__/mixer_test.cpython-39.pyc'), PackagePath('pygame/tests/__pycache__/mouse_test.cpython-39.pyc'), PackagePath('pygame/tests/__pycache__/pixelarray_test.cpython-39.pyc'), PackagePath('pygame/tests/__pycache__/pixelcopy_test.cpython-39.pyc'), PackagePath('pygame/tests/__pycache__/rect_test.cpython-39.pyc'), PackagePath('pygame/tests/__pycache__/rwobject_test.cpython-39.pyc'), PackagePath('pygame/tests/__pycache__/scrap_tags.cpython-39.pyc'), PackagePath('pygame/tests/__pycache__/scrap_test.cpython-39.pyc'), PackagePath('pygame/tests/__pycache__/sndarray_tags.cpython-39.pyc'), PackagePath('pygame/tests/__pycache__/sndarray_test.cpython-39.pyc'), PackagePath('pygame/tests/__pycache__/sprite_test.cpython-39.pyc'), PackagePath('pygame/tests/__pycache__/surface_test.cpython-39.pyc'), PackagePath('pygame/tests/__pycache__/surfarray_tags.cpython-39.pyc'), PackagePath('pygame/tests/__pycache__/surfarray_test.cpython-39.pyc'), PackagePath('pygame/tests/__pycache__/surflock_test.cpython-39.pyc'), PackagePath('pygame/tests/__pycache__/sysfont_test.cpython-39.pyc'), PackagePath('pygame/tests/__pycache__/test_test_.cpython-39.pyc'), PackagePath('pygame/tests/__pycache__/threads_test.cpython-39.pyc'), PackagePath('pygame/tests/__pycache__/time_test.cpython-39.pyc'), PackagePath('pygame/tests/__pycache__/touch_test.cpython-39.pyc'), PackagePath('pygame/tests/__pycache__/transform_test.cpython-39.pyc'), PackagePath('pygame/tests/__pycache__/version_test.cpython-39.pyc'), PackagePath('pygame/tests/__pycache__/video_test.cpython-39.pyc'), PackagePath('pygame/tests/base_test.py'), PackagePath('pygame/tests/blit_test.py'), PackagePath('pygame/tests/bufferproxy_test.py'), PackagePath('pygame/tests/camera_test.py'), PackagePath('pygame/tests/color_test.py'), PackagePath('pygame/tests/constants_test.py'), PackagePath('pygame/tests/controller_test.py'), PackagePath('pygame/tests/cursors_test.py'), PackagePath('pygame/tests/display_test.py'), PackagePath('pygame/tests/docs_test.py'), PackagePath('pygame/tests/draw_test.py'), PackagePath('pygame/tests/event_test.py'), PackagePath('pygame/tests/fixtures/fonts/A_PyGameMono-8.png'), PackagePath('pygame/tests/fixtures/fonts/PyGameMono-18-100dpi.bdf'), PackagePath('pygame/tests/fixtures/fonts/PyGameMono-18-75dpi.bdf'), PackagePath('pygame/tests/fixtures/fonts/PyGameMono-8.bdf'), PackagePath('pygame/tests/fixtures/fonts/PyGameMono.otf'), PackagePath('pygame/tests/fixtures/fonts/test_fixed.otf'), PackagePath('pygame/tests/fixtures/fonts/test_sans.ttf'), PackagePath('pygame/tests/fixtures/fonts/u13079_PyGameMono-8.png'), PackagePath('pygame/tests/fixtures/xbm_cursors/white_sizing.xbm'), PackagePath('pygame/tests/fixtures/xbm_cursors/white_sizing_mask.xbm'), PackagePath('pygame/tests/font_test.py'), PackagePath('pygame/tests/freetype_tags.py'), PackagePath('pygame/tests/freetype_test.py'), PackagePath('pygame/tests/ftfont_tags.py'), PackagePath('pygame/tests/ftfont_test.py'), PackagePath('pygame/tests/gfxdraw_test.py'), PackagePath('pygame/tests/image__save_gl_surface_test.py'), PackagePath('pygame/tests/image_tags.py'), PackagePath('pygame/tests/image_test.py'), PackagePath('pygame/tests/imageext_tags.py'), PackagePath('pygame/tests/imageext_test.py'), PackagePath('pygame/tests/joystick_test.py'), PackagePath('pygame/tests/key_test.py'), PackagePath('pygame/tests/locals_test.py'), PackagePath('pygame/tests/mask_test.py'), PackagePath('pygame/tests/math_test.py'), PackagePath('pygame/tests/midi_test.py'), PackagePath('pygame/tests/mixer_music_tags.py'), PackagePath('pygame/tests/mixer_music_test.py'), PackagePath('pygame/tests/mixer_tags.py'), PackagePath('pygame/tests/mixer_test.py'), PackagePath('pygame/tests/mouse_test.py'), PackagePath('pygame/tests/pixelarray_test.py'), PackagePath('pygame/tests/pixelcopy_test.py'), PackagePath('pygame/tests/rect_test.py'), PackagePath('pygame/tests/run_tests__tests/__init__.py'), PackagePath('pygame/tests/run_tests__tests/__pycache__/__init__.cpython-39.pyc'), PackagePath('pygame/tests/run_tests__tests/__pycache__/run_tests__test.cpython-39.pyc'), PackagePath('pygame/tests/run_tests__tests/all_ok/__init__.py'), PackagePath('pygame/tests/run_tests__tests/all_ok/__pycache__/__init__.cpython-39.pyc'), PackagePath('pygame/tests/run_tests__tests/all_ok/__pycache__/fake_2_test.cpython-39.pyc'), PackagePath('pygame/tests/run_tests__tests/all_ok/__pycache__/fake_3_test.cpython-39.pyc'), PackagePath('pygame/tests/run_tests__tests/all_ok/__pycache__/fake_4_test.cpython-39.pyc'), PackagePath('pygame/tests/run_tests__tests/all_ok/__pycache__/fake_5_test.cpython-39.pyc'), PackagePath('pygame/tests/run_tests__tests/all_ok/__pycache__/fake_6_test.cpython-39.pyc'), PackagePath('pygame/tests/run_tests__tests/all_ok/__pycache__/no_assertions__ret_code_of_1__test.cpython-39.pyc'), PackagePath('pygame/tests/run_tests__tests/all_ok/__pycache__/zero_tests_test.cpython-39.pyc'), PackagePath('pygame/tests/run_tests__tests/all_ok/fake_2_test.py'), PackagePath('pygame/tests/run_tests__tests/all_ok/fake_3_test.py'), PackagePath('pygame/tests/run_tests__tests/all_ok/fake_4_test.py'), PackagePath('pygame/tests/run_tests__tests/all_ok/fake_5_test.py'), PackagePath('pygame/tests/run_tests__tests/all_ok/fake_6_test.py'), PackagePath('pygame/tests/run_tests__tests/all_ok/no_assertions__ret_code_of_1__test.py'), PackagePath('pygame/tests/run_tests__tests/all_ok/zero_tests_test.py'), PackagePath('pygame/tests/run_tests__tests/everything/__init__.py'), PackagePath('pygame/tests/run_tests__tests/everything/__pycache__/__init__.cpython-39.pyc'), PackagePath('pygame/tests/run_tests__tests/everything/__pycache__/fake_2_test.cpython-39.pyc'), PackagePath('pygame/tests/run_tests__tests/everything/__pycache__/incomplete_todo_test.cpython-39.pyc'), PackagePath('pygame/tests/run_tests__tests/everything/__pycache__/magic_tag_test.cpython-39.pyc'), PackagePath('pygame/tests/run_tests__tests/everything/__pycache__/sleep_test.cpython-39.pyc'), PackagePath('pygame/tests/run_tests__tests/everything/fake_2_test.py'), PackagePath('pygame/tests/run_tests__tests/everything/incomplete_todo_test.py'), PackagePath('pygame/tests/run_tests__tests/everything/magic_tag_test.py'), PackagePath('pygame/tests/run_tests__tests/everything/sleep_test.py'), PackagePath('pygame/tests/run_tests__tests/exclude/__init__.py'), PackagePath('pygame/tests/run_tests__tests/exclude/__pycache__/__init__.cpython-39.pyc'), PackagePath('pygame/tests/run_tests__tests/exclude/__pycache__/fake_2_test.cpython-39.pyc'), PackagePath('pygame/tests/run_tests__tests/exclude/__pycache__/invisible_tag_test.cpython-39.pyc'), PackagePath('pygame/tests/run_tests__tests/exclude/__pycache__/magic_tag_test.cpython-39.pyc'), PackagePath('pygame/tests/run_tests__tests/exclude/fake_2_test.py'), PackagePath('pygame/tests/run_tests__tests/exclude/invisible_tag_test.py'), PackagePath('pygame/tests/run_tests__tests/exclude/magic_tag_test.py'), PackagePath('pygame/tests/run_tests__tests/failures1/__init__.py'), PackagePath('pygame/tests/run_tests__tests/failures1/__pycache__/__init__.cpython-39.pyc'), PackagePath('pygame/tests/run_tests__tests/failures1/__pycache__/fake_2_test.cpython-39.pyc'), PackagePath('pygame/tests/run_tests__tests/failures1/__pycache__/fake_3_test.cpython-39.pyc'), PackagePath('pygame/tests/run_tests__tests/failures1/__pycache__/fake_4_test.cpython-39.pyc'), PackagePath('pygame/tests/run_tests__tests/failures1/fake_2_test.py'), PackagePath('pygame/tests/run_tests__tests/failures1/fake_3_test.py'), PackagePath('pygame/tests/run_tests__tests/failures1/fake_4_test.py'), PackagePath('pygame/tests/run_tests__tests/incomplete/__init__.py'), PackagePath('pygame/tests/run_tests__tests/incomplete/__pycache__/__init__.cpython-39.pyc'), PackagePath('pygame/tests/run_tests__tests/incomplete/__pycache__/fake_2_test.cpython-39.pyc'), PackagePath('pygame/tests/run_tests__tests/incomplete/__pycache__/fake_3_test.cpython-39.pyc'), PackagePath('pygame/tests/run_tests__tests/incomplete/fake_2_test.py'), PackagePath('pygame/tests/run_tests__tests/incomplete/fake_3_test.py'), PackagePath('pygame/tests/run_tests__tests/incomplete_todo/__init__.py'), PackagePath('pygame/tests/run_tests__tests/incomplete_todo/__pycache__/__init__.cpython-39.pyc'), PackagePath('pygame/tests/run_tests__tests/incomplete_todo/__pycache__/fake_2_test.cpython-39.pyc'), PackagePath('pygame/tests/run_tests__tests/incomplete_todo/__pycache__/fake_3_test.cpython-39.pyc'), PackagePath('pygame/tests/run_tests__tests/incomplete_todo/fake_2_test.py'), PackagePath('pygame/tests/run_tests__tests/incomplete_todo/fake_3_test.py'), PackagePath('pygame/tests/run_tests__tests/infinite_loop/__init__.py'), PackagePath('pygame/tests/run_tests__tests/infinite_loop/__pycache__/__init__.cpython-39.pyc'), PackagePath('pygame/tests/run_tests__tests/infinite_loop/__pycache__/fake_1_test.cpython-39.pyc'), PackagePath('pygame/tests/run_tests__tests/infinite_loop/__pycache__/fake_2_test.cpython-39.pyc'), PackagePath('pygame/tests/run_tests__tests/infinite_loop/fake_1_test.py'), PackagePath('pygame/tests/run_tests__tests/infinite_loop/fake_2_test.py'), PackagePath('pygame/tests/run_tests__tests/print_stderr/__init__.py'), PackagePath('pygame/tests/run_tests__tests/print_stderr/__pycache__/__init__.cpython-39.pyc'), PackagePath('pygame/tests/run_tests__tests/print_stderr/__pycache__/fake_2_test.cpython-39.pyc'), PackagePath('pygame/tests/run_tests__tests/print_stderr/__pycache__/fake_3_test.cpython-39.pyc'), PackagePath('pygame/tests/run_tests__tests/print_stderr/__pycache__/fake_4_test.cpython-39.pyc'), PackagePath('pygame/tests/run_tests__tests/print_stderr/fake_2_test.py'), PackagePath('pygame/tests/run_tests__tests/print_stderr/fake_3_test.py'), PackagePath('pygame/tests/run_tests__tests/print_stderr/fake_4_test.py'), PackagePath('pygame/tests/run_tests__tests/print_stdout/__init__.py'), PackagePath('pygame/tests/run_tests__tests/print_stdout/__pycache__/__init__.cpython-39.pyc'), PackagePath('pygame/tests/run_tests__tests/print_stdout/__pycache__/fake_2_test.cpython-39.pyc'), PackagePath('pygame/tests/run_tests__tests/print_stdout/__pycache__/fake_3_test.cpython-39.pyc'), PackagePath('pygame/tests/run_tests__tests/print_stdout/__pycache__/fake_4_test.cpython-39.pyc'), PackagePath('pygame/tests/run_tests__tests/print_stdout/fake_2_test.py'), PackagePath('pygame/tests/run_tests__tests/print_stdout/fake_3_test.py'), PackagePath('pygame/tests/run_tests__tests/print_stdout/fake_4_test.py'), PackagePath('pygame/tests/run_tests__tests/run_tests__test.py'), PackagePath('pygame/tests/run_tests__tests/timeout/__init__.py'), PackagePath('pygame/tests/run_tests__tests/timeout/__pycache__/__init__.cpython-39.pyc'), PackagePath('pygame/tests/run_tests__tests/timeout/__pycache__/fake_2_test.cpython-39.pyc'), PackagePath('pygame/tests/run_tests__tests/timeout/__pycache__/sleep_test.cpython-39.pyc'), PackagePath('pygame/tests/run_tests__tests/timeout/fake_2_test.py'), PackagePath('pygame/tests/run_tests__tests/timeout/sleep_test.py'), PackagePath('pygame/tests/rwobject_test.py'), PackagePath('pygame/tests/scrap_tags.py'), PackagePath('pygame/tests/scrap_test.py'), PackagePath('pygame/tests/sndarray_tags.py'), PackagePath('pygame/tests/sndarray_test.py'), PackagePath('pygame/tests/sprite_test.py'), PackagePath('pygame/tests/surface_test.py'), PackagePath('pygame/tests/surfarray_tags.py'), PackagePath('pygame/tests/surfarray_test.py'), PackagePath('pygame/tests/surflock_test.py'), PackagePath('pygame/tests/sysfont_test.py'), PackagePath('pygame/tests/test_test_.py'), PackagePath('pygame/tests/test_utils/__init__.py'), PackagePath('pygame/tests/test_utils/__pycache__/__init__.cpython-39.pyc'), PackagePath('pygame/tests/test_utils/__pycache__/arrinter.cpython-39.pyc'), PackagePath('pygame/tests/test_utils/__pycache__/async_sub.cpython-39.pyc'), PackagePath('pygame/tests/test_utils/__pycache__/buftools.cpython-39.pyc'), PackagePath('pygame/tests/test_utils/__pycache__/endian.cpython-39.pyc'), PackagePath('pygame/tests/test_utils/__pycache__/png.cpython-39.pyc'), PackagePath('pygame/tests/test_utils/__pycache__/run_tests.cpython-39.pyc'), PackagePath('pygame/tests/test_utils/__pycache__/test_machinery.cpython-39.pyc'), PackagePath('pygame/tests/test_utils/__pycache__/test_runner.cpython-39.pyc'), PackagePath('pygame/tests/test_utils/arrinter.py'), PackagePath('pygame/tests/test_utils/async_sub.py'), PackagePath('pygame/tests/test_utils/buftools.py'), PackagePath('pygame/tests/test_utils/endian.py'), PackagePath('pygame/tests/test_utils/png.py'), PackagePath('pygame/tests/test_utils/run_tests.py'), PackagePath('pygame/tests/test_utils/test_machinery.py'), PackagePath('pygame/tests/test_utils/test_runner.py'), PackagePath('pygame/tests/threads_test.py'), PackagePath('pygame/tests/time_test.py'), PackagePath('pygame/tests/touch_test.py'), PackagePath('pygame/tests/transform_test.py'), PackagePath('pygame/tests/version_test.py'), PackagePath('pygame/tests/video_test.py'), PackagePath('pygame/threads/__init__.py'), PackagePath('pygame/threads/__pycache__/__init__.cpython-39.pyc'), PackagePath('pygame/time.cpython-39-x86_64-linux-gnu.so'), PackagePath('pygame/time.pyi'), PackagePath('pygame/transform.cpython-39-x86_64-linux-gnu.so'), PackagePath('pygame/transform.pyi'), PackagePath('pygame/version.py'), PackagePath('pygame/version.pyi')]\n",
      "\u001b[1;310mDEBUG\u001b[1;30m: \u001b[0m\u001b[1;36muse.pimp\u001b[1;30m: \u001b[0mpath=../../../include/python3.9/pygame/_camera.h\n",
      "\u001b[1;310mDEBUG\u001b[1;30m: \u001b[0m\u001b[1;36muse.pimp\u001b[1;30m: \u001b[0mfile=/home/thorsten/.justuse-python/venv/pygame/2.1.2/lib/python3.9/site-packages/../../../include/python3.9/pygame/_camera.h\n",
      "\u001b[1;310mDEBUG\u001b[1;30m: \u001b[0m\u001b[1;36muse.pimp\u001b[1;30m: \u001b[0mreal_file=/home/thorsten/.justuse-python/venv/pygame/2.1.2/lib/python3.9/site-packages\n",
      "\u001b[1;320mINFO\u001b[1;30m: \u001b[0m\u001b[1;36muse.pimp\u001b[1;30m: \u001b[0mAttempting to import...\n",
      "\u001b[1;320mINFO\u001b[1;30m: \u001b[0m\u001b[1;36muse.pimp\u001b[1;30m: \u001b[0mSuccessfully imported.\n"
     ]
    },
    {
     "name": "stdout",
     "output_type": "stream",
     "text": [
      "pygame 2.1.3.dev4 (SDL 2.0.20, Python 3.9.5)\n",
      "Hello from the pygame community. https://www.pygame.org/contribute.html\n"
     ]
    },
    {
     "name": "stderr",
     "output_type": "stream",
     "text": [
      "\u001b[1;320mINFO\u001b[1;30m: \u001b[0m\u001b[1;36muse.buffet_old\u001b[1;30m: \u001b[0mresult = <module 'pygame' from '/home/thorsten/.justuse-python/venv/pygame/2.1.2/lib/python3.9/site-packages/pygame/__init__.py'>\n"
     ]
    }
   ],
   "source": [
    "pg = use(\"pygame\", version=\"2.1.2\", hashes='T榮燰帛瓁䙶薮鼙䛔棙卮榙㿪茬䟐苙狋蹊', modes=use.auto_install)"
   ]
  },
  {
   "cell_type": "markdown",
   "metadata": {
    "execution": {
     "iopub.execute_input": "2021-11-22T18:09:18.480558Z",
     "iopub.status.busy": "2021-11-22T18:09:18.479870Z",
     "iopub.status.idle": "2021-11-22T18:09:18.495532Z",
     "shell.execute_reply": "2021-11-22T18:09:18.492594Z",
     "shell.execute_reply.started": "2021-11-22T18:09:18.480515Z"
    }
   },
   "source": [
    "Wow, did we just download, install and load the pygame package without leaving our own sweet code?? Yes, we did!"
   ]
  },
  {
   "cell_type": "markdown",
   "metadata": {
    "execution": {
     "iopub.execute_input": "2021-11-22T18:13:38.832767Z",
     "iopub.status.busy": "2021-11-22T18:13:38.832002Z",
     "iopub.status.idle": "2021-11-22T18:13:38.847351Z",
     "shell.execute_reply": "2021-11-22T18:13:38.844955Z",
     "shell.execute_reply.started": "2021-11-22T18:13:38.832713Z"
    }
   },
   "source": [
    "Furthermore, the package we installed is version and hash-pinned so we really only get what we asked for and nothing else."
   ]
  },
  {
   "cell_type": "markdown",
   "metadata": {},
   "source": [
    "There's a small problem though. Those hashes refer to very specific files and some of those packages may be written in C or even Fortran (like numpy) that are compiled for specific platforms.\n",
    "If you happily develop code on Linux that uses something platform-specific (like numpy!) it will all work without problems - until you try to run your code on another platform. In this case, you need to specify all hashes for all platforms you want to run your code on."
   ]
  },
  {
   "cell_type": "markdown",
   "metadata": {},
   "source": [
    "Version- and hash-pinning is the most secure way to install a package. It will ensure that your code will always run as you expect it, but there's a drawback: there is no immediate and automatic way to update code without involving the user (yet). On one side, you won't ever accidentally break your stuff by updating something else, but you also won't benefit from automatic security patches. To fix this shortcoming, it might be feasible to build IDE-plugins that check and update these pins in the code or check some database for security patches every time an auto-installed package is imported - please contact us if you have ideas or better yet, code ;-)"
   ]
  },
  {
   "cell_type": "markdown",
   "metadata": {},
   "source": [
    "## Use() modules from anywhere!\n",
    "If you `import` some package or module, you're limited to the stuff you have in your current directory or below (but only if there is a `__init__.py` or if it's an implicit namespace package) and the things in your sys.path, which can be manipulated freely, making it very complicated to handle. Let's suppose we're in our test directory."
   ]
  },
  {
   "cell_type": "code",
   "execution_count": 17,
   "metadata": {
    "tags": []
   },
   "outputs": [
    {
     "name": "stdout",
     "output_type": "stream",
     "text": [
      "[Errno 2] No such file or directory: '/home/thorsten/Desktop/sf_Dropbox/code/justuse/tests'\n",
      "/media/sf_Dropbox_(Privat)/code/justuse/docs\n"
     ]
    }
   ],
   "source": [
    "%cd ~/Desktop/sf_Dropbox/code/justuse/tests"
   ]
  },
  {
   "cell_type": "markdown",
   "metadata": {},
   "source": [
    "the code we want to run is in justuse/docs and there is no `__init__.py` in between, so to get to run the code, we could put the src directory in sys.path - or we could use() a module directly!"
   ]
  },
  {
   "cell_type": "code",
   "execution_count": 18,
   "metadata": {
    "tags": []
   },
   "outputs": [
    {
     "name": "stderr",
     "output_type": "stream",
     "text": [
      "\u001b[1;320mINFO\u001b[1;30m: \u001b[0m\u001b[1;36muse.pimp\u001b[1;30m: \u001b[0mPath.cwd()=PosixPath('/media/sf_Dropbox_(Privat)/code/justuse/docs') package_name='' module_name='demo' module_path=PosixPath('/media/sf_Dropbox_(Privat)/code/justuse/docs/demo.py')\n"
     ]
    }
   ],
   "source": [
    "mod = use(use.Path(\"../docs/demo.py\"))"
   ]
  },
  {
   "cell_type": "code",
   "execution_count": 19,
   "metadata": {
    "tags": []
   },
   "outputs": [
    {
     "name": "stdout",
     "output_type": "stream",
     "text": [
      "Hello justuse-user!\n"
     ]
    }
   ],
   "source": [
    "mod.foo()"
   ]
  },
  {
   "cell_type": "markdown",
   "metadata": {},
   "source": [
    "Loading single modules doesn't sound like much, but especially while experimenting on jupyter, this can be used very effectively in conjunction with the reloading mode:"
   ]
  },
  {
   "cell_type": "code",
   "execution_count": 20,
   "metadata": {
    "tags": []
   },
   "outputs": [
    {
     "name": "stderr",
     "output_type": "stream",
     "text": [
      "\u001b[1;320mINFO\u001b[1;30m: \u001b[0m\u001b[1;36muse.pimp\u001b[1;30m: \u001b[0mPath.cwd()=PosixPath('/media/sf_Dropbox_(Privat)/code/justuse/docs') package_name='' module_name='demo' module_path=PosixPath('/media/sf_Dropbox_(Privat)/code/justuse/docs/demo.py')\n"
     ]
    }
   ],
   "source": [
    "mod = use(use.Path(\"../docs/demo.py\"), modes=use.reloading)"
   ]
  },
  {
   "cell_type": "markdown",
   "metadata": {},
   "source": [
    "Now this module is loaded fresh whenever you modify and save the file, replacing the implementation behind the scene. This will work without any problems as long as you put functions in that module and if you access those functions via attribute-access (`mod.func()` **not** `func = mod.func; func()`)."
   ]
  },
  {
   "cell_type": "markdown",
   "metadata": {
    "execution": {
     "iopub.execute_input": "2021-11-23T00:11:22.768463Z",
     "iopub.status.busy": "2021-11-23T00:11:22.767536Z",
     "iopub.status.idle": "2021-11-23T00:11:22.781007Z",
     "shell.execute_reply": "2021-11-23T00:11:22.779348Z",
     "shell.execute_reply.started": "2021-11-23T00:11:22.768380Z"
    }
   },
   "source": [
    "If you can load modules from disk, why couldn't you load them from the web? Let's say you found an interesting github repo like https://github.com/amogorkon/justuse. Chances are, there's also a package on pypi you can pip-install, but maybe there's not. Maybe you're only interested in a single module from that repo/package, so you don't even want to install anything. Then you could download it from github, move the file manually into your folder and import it - sounds like a lot of trouble for a single module!\n",
    "There has to be a better way! And there is - you can just use() web resources:"
   ]
  },
  {
   "cell_type": "code",
   "execution_count": 21,
   "metadata": {
    "tags": []
   },
   "outputs": [
    {
     "name": "stderr",
     "output_type": "stream",
     "text": [
      "\u001b[1;310mDEBUG\u001b[1;30m: \u001b[0m\u001b[1;36muse.main\u001b[1;30m: \u001b[0muse-url: https://raw.githubusercontent.com/amogorkon/justuse/unstable/docs/demo.py\n",
      "\u001b[1;310mDEBUG\u001b[1;30m: \u001b[0m\u001b[1;36murllib3.connectionpool\u001b[1;30m: \u001b[0mStarting new HTTPS connection (1): raw.githubusercontent.com:443\n",
      "\u001b[1;310mDEBUG\u001b[1;30m: \u001b[0m\u001b[1;36murllib3.connectionpool\u001b[1;30m: \u001b[0mhttps://raw.githubusercontent.com:443 \"GET /amogorkon/justuse/unstable/docs/demo.py HTTP/1.1\" 200 60\n",
      "/home/thorsten/.local/lib/python3.9/site-packages/use/main.py:399: NoValidationWarning: Attempting to import from the interwebs with no validation whatsoever!\n",
      "To safely reproduce:\n",
      "use(use.URL('https://raw.githubusercontent.com/amogorkon/justuse/unstable/docs/demo.py'), hash_algo=use.Hash.sha256, hash_value='59eff31bb220ce933ccc083b9306020ec25d19d43de30e5ad4341b355d4b48bf')\n",
      "  warn(UserMessage.no_validation(url, hash_algo, this_hash), NoValidationWarning)\n",
      "\u001b[1;320mINFO\u001b[1;30m: \u001b[0m\u001b[1;36muse.pimp\u001b[1;30m: \u001b[0mPath.cwd()=PosixPath('/media/sf_Dropbox_(Privat)/code/justuse/docs') package_name='' module_name='demo.py' module_path=PosixPath('/media/sf_Dropbox_(Privat)/code/justuse/docs/amogorkon/justuse/unstable/docs/demo.py')\n"
     ]
    }
   ],
   "source": [
    "mod = use(use.URL(\"https://raw.githubusercontent.com/amogorkon/justuse/unstable/docs/demo.py\"))"
   ]
  },
  {
   "cell_type": "markdown",
   "metadata": {
    "execution": {
     "iopub.execute_input": "2021-11-23T00:17:40.146456Z",
     "iopub.status.busy": "2021-11-23T00:17:40.145947Z",
     "iopub.status.idle": "2021-11-23T00:17:40.155091Z",
     "shell.execute_reply": "2021-11-23T00:17:40.153301Z",
     "shell.execute_reply.started": "2021-11-23T00:17:40.146414Z"
    }
   },
   "source": [
    "copy&paste that line from the exception to get that sweet hash.."
   ]
  },
  {
   "cell_type": "code",
   "execution_count": 23,
   "metadata": {
    "tags": []
   },
   "outputs": [
    {
     "name": "stderr",
     "output_type": "stream",
     "text": [
      "\u001b[1;310mDEBUG\u001b[1;30m: \u001b[0m\u001b[1;36muse.main\u001b[1;30m: \u001b[0muse-url: https://raw.githubusercontent.com/amogorkon/justuse/unstable/docs/demo.py\n",
      "\u001b[1;310mDEBUG\u001b[1;30m: \u001b[0m\u001b[1;36murllib3.connectionpool\u001b[1;30m: \u001b[0mStarting new HTTPS connection (1): raw.githubusercontent.com:443\n",
      "\u001b[1;310mDEBUG\u001b[1;30m: \u001b[0m\u001b[1;36murllib3.connectionpool\u001b[1;30m: \u001b[0mhttps://raw.githubusercontent.com:443 \"GET /amogorkon/justuse/unstable/docs/demo.py HTTP/1.1\" 200 60\n",
      "\u001b[1;320mINFO\u001b[1;30m: \u001b[0m\u001b[1;36muse.pimp\u001b[1;30m: \u001b[0mPath.cwd()=PosixPath('/media/sf_Dropbox_(Privat)/code/justuse/docs') package_name='' module_name='demo.py' module_path=PosixPath('/media/sf_Dropbox_(Privat)/code/justuse/docs/amogorkon/justuse/unstable/docs/demo.py')\n"
     ]
    }
   ],
   "source": [
    "mod = use(use.URL('https://raw.githubusercontent.com/amogorkon/justuse/unstable/docs/demo.py'), hash_algo=use.Hash.sha256, hash_value='59eff31bb220ce933ccc083b9306020ec25d19d43de30e5ad4341b355d4b48bf')"
   ]
  },
  {
   "cell_type": "code",
   "execution_count": 24,
   "metadata": {
    "tags": []
   },
   "outputs": [
    {
     "name": "stdout",
     "output_type": "stream",
     "text": [
      "Hello justuse-user!\n"
     ]
    }
   ],
   "source": [
    "mod.foo()"
   ]
  },
  {
   "cell_type": "markdown",
   "metadata": {},
   "source": [
    "Since the content of this file is now hash-pinned, it doesn't matter whether or not someone hacks github and changes the code - justuse will instantly notice before executing any code. You can even execute code directly from pastebin or any other untrusted, public platform - as long as you have the proper hash, you're safe."
   ]
  },
  {
   "cell_type": "markdown",
   "metadata": {},
   "source": [
    "## A word on circular imports\n",
    "Everyone stumbles over a circular import once they try to build slightly more complex projects and it can get very ugly and overly frustrating to deal with those.\n",
    "\n",
    "Let's suppose we have two modules A and B:"
   ]
  },
  {
   "cell_type": "code",
   "execution_count": 25,
   "metadata": {
    "tags": []
   },
   "outputs": [
    {
     "name": "stdout",
     "output_type": "stream",
     "text": [
      "/media/sf_Dropbox_(Privat)/code/justuse/docs\n",
      "total 63\n",
      "-rwxrwx--- 1 root   2356 Mär 24 11:29  \u001b[0m\u001b[01;32mcodeflow.md\u001b[0m*\n",
      "-rwxrwx--- 1 root   1326 Mär 24 11:29 \u001b[01;32m'database schema.md'\u001b[0m*\n",
      "-rwxrwx--- 1 root     43 Feb 16 11:35  \u001b[01;32mdemo.py\u001b[0m*\n",
      "-rwxrwx--- 1 root     97 Feb 16 11:35  \u001b[01;32mmodule_a.py\u001b[0m*\n",
      "-rwxrwx--- 1 root     47 Feb 16 11:35  \u001b[01;32mmodule_b.py\u001b[0m*\n",
      "-rwxrwx--- 1 root     62 Feb 16 11:35  \u001b[01;32mmodule_circular_a.py\u001b[0m*\n",
      "-rwxrwx--- 1 root     68 Feb 16 11:35  \u001b[01;32mmodule_circular_b.py\u001b[0m*\n",
      "-rwxrwx--- 1 root 172380 Mär 29 18:04  \u001b[01;32mShowcase.ipynb\u001b[0m*\n"
     ]
    }
   ],
   "source": [
    "%cd ../docs\n",
    "%ll"
   ]
  },
  {
   "cell_type": "code",
   "execution_count": 26,
   "metadata": {
    "tags": []
   },
   "outputs": [
    {
     "data": {
      "text/plain": [
       "\u001b[0mprint\u001b[0m\u001b[0;34m(\u001b[0m\u001b[0;34m\"Hello from A!\"\u001b[0m\u001b[0;34m)\u001b[0m\u001b[0;34m\u001b[0m\n",
       "\u001b[0;34m\u001b[0m\u001b[0;34m\u001b[0m\n",
       "\u001b[0;34m\u001b[0m\u001b[0;32mimport\u001b[0m \u001b[0mmodule_circular_b\u001b[0m\u001b[0;34m\u001b[0m\n",
       "\u001b[0;34m\u001b[0m\u001b[0;34m\u001b[0m\n",
       "\u001b[0;34m\u001b[0m\u001b[0mfoo\u001b[0m \u001b[0;34m=\u001b[0m \u001b[0;36m23\u001b[0m\u001b[0;34m\u001b[0m\u001b[0;34m\u001b[0m\u001b[0m\n"
      ]
     },
     "metadata": {},
     "output_type": "display_data"
    }
   ],
   "source": [
    "%less module_circular_a.py"
   ]
  },
  {
   "cell_type": "code",
   "execution_count": 27,
   "metadata": {
    "tags": []
   },
   "outputs": [
    {
     "data": {
      "text/plain": [
       "\u001b[0;34m\u001b[0m\n",
       "\u001b[0;34m\u001b[0m\u001b[0;32mfrom\u001b[0m \u001b[0mmodule_circular_a\u001b[0m \u001b[0;32mimport\u001b[0m \u001b[0mfoo\u001b[0m\u001b[0;34m\u001b[0m\n",
       "\u001b[0;34m\u001b[0m\u001b[0;34m\u001b[0m\n",
       "\u001b[0;34m\u001b[0m\u001b[0mprint\u001b[0m\u001b[0;34m(\u001b[0m\u001b[0;34m\"Hello from B!\"\u001b[0m\u001b[0;34m,\u001b[0m \u001b[0mfoo\u001b[0m\u001b[0;34m)\u001b[0m\u001b[0;34m\u001b[0m\u001b[0;34m\u001b[0m\u001b[0m\n"
      ]
     },
     "metadata": {},
     "output_type": "display_data"
    }
   ],
   "source": [
    "%less module_circular_b.py"
   ]
  },
  {
   "cell_type": "code",
   "execution_count": 28,
   "metadata": {
    "tags": []
   },
   "outputs": [
    {
     "name": "stdout",
     "output_type": "stream",
     "text": [
      "Hello from A!\n"
     ]
    },
    {
     "ename": "ImportError",
     "evalue": "cannot import name 'foo' from partially initialized module 'module_circular_a' (most likely due to a circular import) (/media/sf_Dropbox_(Privat)/code/justuse/docs/module_circular_a.py)",
     "output_type": "error",
     "traceback": [
      "\u001b[0;31m---------------------------------------------------------------------------\u001b[0m",
      "\u001b[0;31mImportError\u001b[0m                               Traceback (most recent call last)",
      "\u001b[0;32m<ipython-input-28-420778313a26>\u001b[0m in \u001b[0;36m<module>\u001b[0;34m\u001b[0m\n\u001b[0;32m----> 1\u001b[0;31m \u001b[0;32mimport\u001b[0m \u001b[0mmodule_circular_a\u001b[0m\u001b[0;34m\u001b[0m\u001b[0;34m\u001b[0m\u001b[0m\n\u001b[0m",
      "\u001b[0;32m/media/sf_Dropbox_(Privat)/code/justuse/docs/module_circular_a.py\u001b[0m in \u001b[0;36m<module>\u001b[0;34m\u001b[0m\n\u001b[1;32m      1\u001b[0m \u001b[0mprint\u001b[0m\u001b[0;34m(\u001b[0m\u001b[0;34m\"Hello from A!\"\u001b[0m\u001b[0;34m)\u001b[0m\u001b[0;34m\u001b[0m\u001b[0;34m\u001b[0m\u001b[0m\n\u001b[1;32m      2\u001b[0m \u001b[0;34m\u001b[0m\u001b[0m\n\u001b[0;32m----> 3\u001b[0;31m \u001b[0;32mimport\u001b[0m \u001b[0mmodule_circular_b\u001b[0m\u001b[0;34m\u001b[0m\u001b[0;34m\u001b[0m\u001b[0m\n\u001b[0m\u001b[1;32m      4\u001b[0m \u001b[0;34m\u001b[0m\u001b[0m\n\u001b[1;32m      5\u001b[0m \u001b[0mfoo\u001b[0m \u001b[0;34m=\u001b[0m \u001b[0;36m23\u001b[0m\u001b[0;34m\u001b[0m\u001b[0;34m\u001b[0m\u001b[0m\n",
      "\u001b[0;32m/media/sf_Dropbox_(Privat)/code/justuse/docs/module_circular_b.py\u001b[0m in \u001b[0;36m<module>\u001b[0;34m\u001b[0m\n\u001b[1;32m      1\u001b[0m \u001b[0;34m\u001b[0m\u001b[0m\n\u001b[0;32m----> 2\u001b[0;31m \u001b[0;32mfrom\u001b[0m \u001b[0mmodule_circular_a\u001b[0m \u001b[0;32mimport\u001b[0m \u001b[0mfoo\u001b[0m\u001b[0;34m\u001b[0m\u001b[0;34m\u001b[0m\u001b[0m\n\u001b[0m\u001b[1;32m      3\u001b[0m \u001b[0;34m\u001b[0m\u001b[0m\n\u001b[1;32m      4\u001b[0m \u001b[0mprint\u001b[0m\u001b[0;34m(\u001b[0m\u001b[0;34m\"Hello from B!\"\u001b[0m\u001b[0;34m,\u001b[0m \u001b[0mfoo\u001b[0m\u001b[0;34m)\u001b[0m\u001b[0;34m\u001b[0m\u001b[0;34m\u001b[0m\u001b[0m\n",
      "\u001b[0;31mImportError\u001b[0m: cannot import name 'foo' from partially initialized module 'module_circular_a' (most likely due to a circular import) (/media/sf_Dropbox_(Privat)/code/justuse/docs/module_circular_a.py)"
     ]
    }
   ],
   "source": [
    "import module_circular_a"
   ]
  },
  {
   "cell_type": "code",
   "execution_count": 29,
   "metadata": {
    "tags": []
   },
   "outputs": [
    {
     "data": {
      "text/plain": [
       "\u001b[0;32mimport\u001b[0m \u001b[0muse\u001b[0m\u001b[0;34m\u001b[0m\n",
       "\u001b[0;34m\u001b[0m\u001b[0;34m\u001b[0m\n",
       "\u001b[0;34m\u001b[0m\u001b[0mprint\u001b[0m\u001b[0;34m(\u001b[0m\u001b[0;34m\"Hello from A!\"\u001b[0m\u001b[0;34m)\u001b[0m\u001b[0;34m\u001b[0m\n",
       "\u001b[0;34m\u001b[0m\u001b[0;34m\u001b[0m\n",
       "\u001b[0;34m\u001b[0m\u001b[0muse\u001b[0m\u001b[0;34m(\u001b[0m\u001b[0muse\u001b[0m\u001b[0;34m.\u001b[0m\u001b[0mPath\u001b[0m\u001b[0;34m(\u001b[0m\u001b[0;34m\"module_b.py\"\u001b[0m\u001b[0;34m)\u001b[0m\u001b[0;34m,\u001b[0m \u001b[0minitial_globals\u001b[0m\u001b[0;34m=\u001b[0m\u001b[0;34m{\u001b[0m\u001b[0;34m\"foo\"\u001b[0m\u001b[0;34m:\u001b[0m \u001b[0;36m23\u001b[0m\u001b[0;34m}\u001b[0m\u001b[0;34m)\u001b[0m\u001b[0;34m\u001b[0m\u001b[0;34m\u001b[0m\u001b[0m\n"
      ]
     },
     "metadata": {},
     "output_type": "display_data"
    }
   ],
   "source": [
    "%less module_a.py"
   ]
  },
  {
   "cell_type": "code",
   "execution_count": 30,
   "metadata": {
    "tags": []
   },
   "outputs": [
    {
     "data": {
      "text/plain": [
       "\u001b[0mfoo\u001b[0m\u001b[0;34m:\u001b[0m \u001b[0mint\u001b[0m\u001b[0;34m\u001b[0m\n",
       "\u001b[0;34m\u001b[0m\u001b[0;34m\u001b[0m\n",
       "\u001b[0;34m\u001b[0m\u001b[0mprint\u001b[0m\u001b[0;34m(\u001b[0m\u001b[0;34mf\"Hello from B! foo={foo}\"\u001b[0m\u001b[0;34m)\u001b[0m\u001b[0;34m\u001b[0m\u001b[0;34m\u001b[0m\u001b[0m\n"
      ]
     },
     "metadata": {},
     "output_type": "display_data"
    }
   ],
   "source": [
    "%less module_b.py"
   ]
  },
  {
   "cell_type": "code",
   "execution_count": 31,
   "metadata": {
    "tags": []
   },
   "outputs": [
    {
     "name": "stderr",
     "output_type": "stream",
     "text": [
      "\u001b[1;320mINFO\u001b[1;30m: \u001b[0m\u001b[1;36muse.pimp\u001b[1;30m: \u001b[0mPath.cwd()=PosixPath('/media/sf_Dropbox_(Privat)/code/justuse/docs') package_name='' module_name='module_a' module_path=PosixPath('/media/sf_Dropbox_(Privat)/code/justuse/docs/module_a.py')\n",
      "\u001b[1;320mINFO\u001b[1;30m: \u001b[0m\u001b[1;36muse.pimp\u001b[1;30m: \u001b[0mPath.cwd()=PosixPath('/media/sf_Dropbox_(Privat)/code/justuse/docs') package_name='' module_name='module_b' module_path=PosixPath('/media/sf_Dropbox_(Privat)/code/justuse/docs/module_b.py')\n"
     ]
    },
    {
     "name": "stdout",
     "output_type": "stream",
     "text": [
      "Hello from A!\n",
      "Hello from B! foo=23\n"
     ]
    }
   ],
   "source": [
    "modA = use(use.Path(\"module_a.py\"))"
   ]
  },
  {
   "cell_type": "markdown",
   "metadata": {},
   "source": [
    "## Aspects and decorators\n",
    "If you have code like\n",
    "\n",
    "```\n",
    "def foo(x):\n",
    "    return x ** 2\n",
    "```\n",
    "There are two ways to modify the behaviour of the code. Let's say you want to know which arguments were passed in and you want to print those arguments, so you can either add the print statement inside like\n",
    "```\n",
    "def foo(x):\n",
    "    print(x)\n",
    "    return x ** 2\n",
    "```\n",
    "or you can wrap the function with another function which gets called instead like\n",
    "\n",
    "```\n",
    "def decorator(x):\n",
    "    print(x)\n",
    "    return foo(x)\n",
    "```\n",
    "which you can also write as a function that takes a function as argument - a \"higher order function\" if you will - like\n",
    "```\n",
    "def decorator(func):\n",
    "   def wrapper(*args, **kwargs):\n",
    "       print(*args, **kwargs)\n",
    "       return func(*args, **kwargs)\n",
    "   return wrapper\n",
    "foo = wrap(foo)\n",
    "foo(x)\n",
    "```\n",
    "which looks a bit convoluted, so there is some syntactic sugar in python to make it look nicer:\n",
    "```\n",
    "@decorator\n",
    "def foo(x):\n",
    "    return x ** 2\n",
    "```"
   ]
  },
  {
   "cell_type": "markdown",
   "metadata": {},
   "source": [
    "There is nothing wrong with this approach, it's a plain and simple decorator, obvious reading the code. The only big problem is that single decorator is nice and simple but adding more quickly gets messy and complicated, not just because it gets hard to read and reason about but also because writing correct decorators is not as plain and simple as it may look like. For example, the *decorator* function above is bad because it will shadow the signature and docstring of the function it is wrapping. The second big problem is that it is quite messy to add decorators manually to code with lots of functions or methods. It can be not only a lot to write but also add visual noise, making it harder to read code (the opposite of what it was supposed to do!) while making it harder to keep [DRY](https://en.wikipedia.org/wiki/Don%27t_repeat_yourself). The third big problem, no wait, amongst the chief problems of manually adding decorators is that it can be quite painful or impossible to deal with callables (functions, methods but also classes can be callable!) that originate in code you can't control, for example code that isn't even written in python but in C (like numpy)."
   ]
  },
  {
   "cell_type": "markdown",
   "metadata": {},
   "source": [
    "Our solution: use() adds functionality to the modules you request and gives you an easy way to decorate *everything* in a single line:"
   ]
  },
  {
   "cell_type": "code",
   "execution_count": 32,
   "metadata": {
    "tags": []
   },
   "outputs": [
    {
     "name": "stderr",
     "output_type": "stream",
     "text": [
      "\u001b[1;320mINFO\u001b[1;30m: \u001b[0m\u001b[1;36muse.main\u001b[1;30m: \u001b[0mcase = (False, False, True, False)\n",
      "\u001b[1;320mINFO\u001b[1;30m: \u001b[0m\u001b[1;36muse.buffet_old\u001b[1;30m: \u001b[0mresult = <module 'numpy' from '/home/thorsten/.local/lib/python3.9/site-packages/numpy/__init__.py'>\n"
     ]
    }
   ],
   "source": [
    "from functools import wraps\n",
    "\n",
    "def decorator(func):\n",
    "    @wraps(func)\n",
    "    def wrapper(*args, **kwargs):\n",
    "        print(func, args, kwargs)\n",
    "        return func(*args, **kwargs)\n",
    "    return wrapper\n",
    "\n",
    "np = use(\"numpy\")"
   ]
  },
  {
   "cell_type": "code",
   "execution_count": 34,
   "metadata": {
    "tags": []
   },
   "outputs": [
    {
     "name": "stdout",
     "output_type": "stream",
     "text": [
      "Please check your browser to select options and filters for aspects.\n"
     ]
    },
    {
     "data": {
      "text/plain": [
       "<module 'numpy' from '/home/thorsten/.local/lib/python3.9/site-packages/numpy/__init__.py'>"
      ]
     },
     "execution_count": 34,
     "metadata": {},
     "output_type": "execute_result"
    }
   ],
   "source": [
    "np @  decorator"
   ]
  },
  {
   "cell_type": "markdown",
   "metadata": {
    "execution": {
     "iopub.execute_input": "2021-11-26T15:28:48.065021Z",
     "iopub.status.busy": "2021-11-26T15:28:48.064485Z",
     "iopub.status.idle": "2021-11-26T15:28:48.074691Z",
     "shell.execute_reply": "2021-11-26T15:28:48.072916Z",
     "shell.execute_reply.started": "2021-11-26T15:28:48.064974Z"
    }
   },
   "source": [
    "After waiting until the page is fully loaded (which can take a while..) we now can see all the thousands of callables inside numpy that we could apply our decorator with. This also allows us to play with different filters to make sure we only hit what we want. Now let's see what happens when we actually apply this decorator to all those callables."
   ]
  },
  {
   "cell_type": "code",
   "execution_count": 39,
   "metadata": {
    "collapsed": true,
    "jupyter": {
     "outputs_hidden": true
    },
    "tags": []
   },
   "outputs": [
    {
     "name": "stdout",
     "output_type": "stream",
     "text": [
      "<function __dir__ at 0x7fd364328ca0> () {}\n",
      "<function __dir__ at 0x7fd364209820> () {}\n",
      "<function __dir__ at 0x7fd3643e09d0> () {}\n",
      "<function __dir__ at 0x7fd394d03940> () {}\n",
      "<function __getattr__ at 0x7fd3642a4790> ('_ipython_canary_method_should_not_exist_',) {}\n",
      "<function __getattr__ at 0x7fd364328c10> ('_ipython_canary_method_should_not_exist_',) {}\n",
      "<function __getattr__ at 0x7fd364209790> ('_ipython_canary_method_should_not_exist_',) {}\n",
      "<function __getattr__ at 0x7fd3643e0a60> ('_ipython_canary_method_should_not_exist_',) {}\n",
      "<function __getattr__ at 0x7fd380d5adc0> ('_ipython_canary_method_should_not_exist_',) {}\n",
      "<function __getattr__ at 0x7fd3642a4790> ('_ipython_display_',) {}\n",
      "<function __getattr__ at 0x7fd364328c10> ('_ipython_display_',) {}\n",
      "<function __getattr__ at 0x7fd364209790> ('_ipython_display_',) {}\n",
      "<function __getattr__ at 0x7fd3643e0a60> ('_ipython_display_',) {}\n",
      "<function __getattr__ at 0x7fd380d5adc0> ('_ipython_display_',) {}\n",
      "<function __getattr__ at 0x7fd3642a4790> ('_ipython_canary_method_should_not_exist_',) {}\n",
      "<function __getattr__ at 0x7fd364328c10> ('_ipython_canary_method_should_not_exist_',) {}\n",
      "<function __getattr__ at 0x7fd364209790> ('_ipython_canary_method_should_not_exist_',) {}\n",
      "<function __getattr__ at 0x7fd3643e0a60> ('_ipython_canary_method_should_not_exist_',) {}\n",
      "<function __getattr__ at 0x7fd380d5adc0> ('_ipython_canary_method_should_not_exist_',) {}\n",
      "<function __getattr__ at 0x7fd3642a4790> ('_repr_mimebundle_',) {}\n",
      "<function __getattr__ at 0x7fd364328c10> ('_repr_mimebundle_',) {}\n",
      "<function __getattr__ at 0x7fd364209790> ('_repr_mimebundle_',) {}\n",
      "<function __getattr__ at 0x7fd3643e0a60> ('_repr_mimebundle_',) {}\n",
      "<function __getattr__ at 0x7fd380d5adc0> ('_repr_mimebundle_',) {}\n",
      "<function __getattr__ at 0x7fd3642a4790> ('_ipython_canary_method_should_not_exist_',) {}\n",
      "<function __getattr__ at 0x7fd364328c10> ('_ipython_canary_method_should_not_exist_',) {}\n",
      "<function __getattr__ at 0x7fd364209790> ('_ipython_canary_method_should_not_exist_',) {}\n",
      "<function __getattr__ at 0x7fd3643e0a60> ('_ipython_canary_method_should_not_exist_',) {}\n",
      "<function __getattr__ at 0x7fd380d5adc0> ('_ipython_canary_method_should_not_exist_',) {}\n",
      "<function __getattr__ at 0x7fd3642a4790> ('_repr_html_',) {}\n",
      "<function __getattr__ at 0x7fd364328c10> ('_repr_html_',) {}\n",
      "<function __getattr__ at 0x7fd364209790> ('_repr_html_',) {}\n",
      "<function __getattr__ at 0x7fd3643e0a60> ('_repr_html_',) {}\n",
      "<function __getattr__ at 0x7fd380d5adc0> ('_repr_html_',) {}\n",
      "<function __getattr__ at 0x7fd3642a4790> ('_ipython_canary_method_should_not_exist_',) {}\n",
      "<function __getattr__ at 0x7fd364328c10> ('_ipython_canary_method_should_not_exist_',) {}\n",
      "<function __getattr__ at 0x7fd364209790> ('_ipython_canary_method_should_not_exist_',) {}\n",
      "<function __getattr__ at 0x7fd3643e0a60> ('_ipython_canary_method_should_not_exist_',) {}\n",
      "<function __getattr__ at 0x7fd380d5adc0> ('_ipython_canary_method_should_not_exist_',) {}\n",
      "<function __getattr__ at 0x7fd3642a4790> ('_repr_markdown_',) {}\n",
      "<function __getattr__ at 0x7fd364328c10> ('_repr_markdown_',) {}\n",
      "<function __getattr__ at 0x7fd364209790> ('_repr_markdown_',) {}\n",
      "<function __getattr__ at 0x7fd3643e0a60> ('_repr_markdown_',) {}\n",
      "<function __getattr__ at 0x7fd380d5adc0> ('_repr_markdown_',) {}\n",
      "<function __getattr__ at 0x7fd3642a4790> ('_ipython_canary_method_should_not_exist_',) {}\n",
      "<function __getattr__ at 0x7fd364328c10> ('_ipython_canary_method_should_not_exist_',) {}\n",
      "<function __getattr__ at 0x7fd364209790> ('_ipython_canary_method_should_not_exist_',) {}\n",
      "<function __getattr__ at 0x7fd3643e0a60> ('_ipython_canary_method_should_not_exist_',) {}\n",
      "<function __getattr__ at 0x7fd380d5adc0> ('_ipython_canary_method_should_not_exist_',) {}\n",
      "<function __getattr__ at 0x7fd3642a4790> ('_repr_svg_',) {}\n",
      "<function __getattr__ at 0x7fd364328c10> ('_repr_svg_',) {}\n",
      "<function __getattr__ at 0x7fd364209790> ('_repr_svg_',) {}\n",
      "<function __getattr__ at 0x7fd3643e0a60> ('_repr_svg_',) {}\n",
      "<function __getattr__ at 0x7fd380d5adc0> ('_repr_svg_',) {}\n",
      "<function __getattr__ at 0x7fd3642a4790> ('_ipython_canary_method_should_not_exist_',) {}\n",
      "<function __getattr__ at 0x7fd364328c10> ('_ipython_canary_method_should_not_exist_',) {}\n",
      "<function __getattr__ at 0x7fd364209790> ('_ipython_canary_method_should_not_exist_',) {}\n",
      "<function __getattr__ at 0x7fd3643e0a60> ('_ipython_canary_method_should_not_exist_',) {}\n",
      "<function __getattr__ at 0x7fd380d5adc0> ('_ipython_canary_method_should_not_exist_',) {}\n",
      "<function __getattr__ at 0x7fd3642a4790> ('_repr_png_',) {}\n",
      "<function __getattr__ at 0x7fd364328c10> ('_repr_png_',) {}\n",
      "<function __getattr__ at 0x7fd364209790> ('_repr_png_',) {}\n",
      "<function __getattr__ at 0x7fd3643e0a60> ('_repr_png_',) {}\n",
      "<function __getattr__ at 0x7fd380d5adc0> ('_repr_png_',) {}\n",
      "<function __getattr__ at 0x7fd3642a4790> ('_ipython_canary_method_should_not_exist_',) {}\n",
      "<function __getattr__ at 0x7fd364328c10> ('_ipython_canary_method_should_not_exist_',) {}\n",
      "<function __getattr__ at 0x7fd364209790> ('_ipython_canary_method_should_not_exist_',) {}\n",
      "<function __getattr__ at 0x7fd3643e0a60> ('_ipython_canary_method_should_not_exist_',) {}\n",
      "<function __getattr__ at 0x7fd380d5adc0> ('_ipython_canary_method_should_not_exist_',) {}\n",
      "<function __getattr__ at 0x7fd3642a4790> ('_repr_pdf_',) {}\n",
      "<function __getattr__ at 0x7fd364328c10> ('_repr_pdf_',) {}\n",
      "<function __getattr__ at 0x7fd364209790> ('_repr_pdf_',) {}\n",
      "<function __getattr__ at 0x7fd3643e0a60> ('_repr_pdf_',) {}\n",
      "<function __getattr__ at 0x7fd380d5adc0> ('_repr_pdf_',) {}\n",
      "<function __getattr__ at 0x7fd3642a4790> ('_ipython_canary_method_should_not_exist_',) {}\n",
      "<function __getattr__ at 0x7fd364328c10> ('_ipython_canary_method_should_not_exist_',) {}\n",
      "<function __getattr__ at 0x7fd364209790> ('_ipython_canary_method_should_not_exist_',) {}\n",
      "<function __getattr__ at 0x7fd3643e0a60> ('_ipython_canary_method_should_not_exist_',) {}\n",
      "<function __getattr__ at 0x7fd380d5adc0> ('_ipython_canary_method_should_not_exist_',) {}\n",
      "<function __getattr__ at 0x7fd3642a4790> ('_repr_jpeg_',) {}\n",
      "<function __getattr__ at 0x7fd364328c10> ('_repr_jpeg_',) {}\n",
      "<function __getattr__ at 0x7fd364209790> ('_repr_jpeg_',) {}\n",
      "<function __getattr__ at 0x7fd3643e0a60> ('_repr_jpeg_',) {}\n",
      "<function __getattr__ at 0x7fd380d5adc0> ('_repr_jpeg_',) {}\n",
      "<function __getattr__ at 0x7fd3642a4790> ('_ipython_canary_method_should_not_exist_',) {}\n",
      "<function __getattr__ at 0x7fd364328c10> ('_ipython_canary_method_should_not_exist_',) {}\n",
      "<function __getattr__ at 0x7fd364209790> ('_ipython_canary_method_should_not_exist_',) {}\n",
      "<function __getattr__ at 0x7fd3643e0a60> ('_ipython_canary_method_should_not_exist_',) {}\n",
      "<function __getattr__ at 0x7fd380d5adc0> ('_ipython_canary_method_should_not_exist_',) {}\n",
      "<function __getattr__ at 0x7fd3642a4790> ('_repr_latex_',) {}\n",
      "<function __getattr__ at 0x7fd364328c10> ('_repr_latex_',) {}\n",
      "<function __getattr__ at 0x7fd364209790> ('_repr_latex_',) {}\n",
      "<function __getattr__ at 0x7fd3643e0a60> ('_repr_latex_',) {}\n",
      "<function __getattr__ at 0x7fd380d5adc0> ('_repr_latex_',) {}\n",
      "<function __getattr__ at 0x7fd3642a4790> ('_ipython_canary_method_should_not_exist_',) {}\n",
      "<function __getattr__ at 0x7fd364328c10> ('_ipython_canary_method_should_not_exist_',) {}\n",
      "<function __getattr__ at 0x7fd364209790> ('_ipython_canary_method_should_not_exist_',) {}\n",
      "<function __getattr__ at 0x7fd3643e0a60> ('_ipython_canary_method_should_not_exist_',) {}\n",
      "<function __getattr__ at 0x7fd380d5adc0> ('_ipython_canary_method_should_not_exist_',) {}\n",
      "<function __getattr__ at 0x7fd3642a4790> ('_repr_json_',) {}\n",
      "<function __getattr__ at 0x7fd364328c10> ('_repr_json_',) {}\n",
      "<function __getattr__ at 0x7fd364209790> ('_repr_json_',) {}\n",
      "<function __getattr__ at 0x7fd3643e0a60> ('_repr_json_',) {}\n",
      "<function __getattr__ at 0x7fd380d5adc0> ('_repr_json_',) {}\n",
      "<function __getattr__ at 0x7fd3642a4790> ('_ipython_canary_method_should_not_exist_',) {}\n",
      "<function __getattr__ at 0x7fd364328c10> ('_ipython_canary_method_should_not_exist_',) {}\n",
      "<function __getattr__ at 0x7fd364209790> ('_ipython_canary_method_should_not_exist_',) {}\n",
      "<function __getattr__ at 0x7fd3643e0a60> ('_ipython_canary_method_should_not_exist_',) {}\n",
      "<function __getattr__ at 0x7fd380d5adc0> ('_ipython_canary_method_should_not_exist_',) {}\n",
      "<function __getattr__ at 0x7fd3642a4790> ('_repr_javascript_',) {}\n",
      "<function __getattr__ at 0x7fd364328c10> ('_repr_javascript_',) {}\n",
      "<function __getattr__ at 0x7fd364209790> ('_repr_javascript_',) {}\n",
      "<function __getattr__ at 0x7fd3643e0a60> ('_repr_javascript_',) {}\n",
      "<function __getattr__ at 0x7fd380d5adc0> ('_repr_javascript_',) {}\n"
     ]
    },
    {
     "data": {
      "text/plain": [
       "<module 'numpy' from '/home/thorsten/.local/lib/python3.9/site-packages/numpy/__init__.py'>"
      ]
     },
     "execution_count": 39,
     "metadata": {},
     "output_type": "execute_result"
    }
   ],
   "source": [
    "use.apply_aspect(np, decorator)"
   ]
  },
  {
   "cell_type": "markdown",
   "metadata": {},
   "source": [
    "We wrapped *all* functions in the numpy package with a decorator that lets us directly observe what happens when we call something without the need for an external debugger!"
   ]
  },
  {
   "cell_type": "code",
   "execution_count": 40,
   "metadata": {
    "tags": []
   },
   "outputs": [
    {
     "name": "stdout",
     "output_type": "stream",
     "text": [
      "<function array at 0x7fd3642a3550> ([1, 2, 3],) {}\n",
      "<function array at 0x7fd364326940> ([1, 2, 3],) {}\n",
      "<function array at 0x7fd364423d30> ([1, 2, 3],) {}\n",
      "<function array at 0x7fd364403d30> ([1, 2, 3],) {}\n",
      "<built-in function array> ([1, 2, 3],) {}\n",
      "<function dtype at 0x7fd36429d670> <function dtype at 0x7fd36429d670> (<class 'int'>,) {}\n",
      "<function dtype at 0x7fd36432e8b0> (<class 'int'>,) {}\n",
      "<function dtype at 0x7fd3642f9820> (<class 'int'>,) {}\n",
      "<function dtype at 0x7fd3643d1c10> (<class 'int'>,) {}\n",
      "<class 'numpy.dtype'> (<class 'int'>,) {}\n"
     ]
    },
    {
     "ename": "TypeError",
     "evalue": "issubclass() arg 2 must be a class or tuple of classes",
     "output_type": "error",
     "traceback": [
      "\u001b[0;31m---------------------------------------------------------------------------\u001b[0m",
      "\u001b[0;31mTypeError\u001b[0m                                 Traceback (most recent call last)",
      "\u001b[0;32m~/.local/lib/python3.9/site-packages/IPython/core/formatters.py\u001b[0m in \u001b[0;36m__call__\u001b[0;34m(self, obj)\u001b[0m\n\u001b[1;32m    700\u001b[0m                 \u001b[0mtype_pprinters\u001b[0m\u001b[0;34m=\u001b[0m\u001b[0mself\u001b[0m\u001b[0;34m.\u001b[0m\u001b[0mtype_printers\u001b[0m\u001b[0;34m,\u001b[0m\u001b[0;34m\u001b[0m\u001b[0;34m\u001b[0m\u001b[0m\n\u001b[1;32m    701\u001b[0m                 deferred_pprinters=self.deferred_printers)\n\u001b[0;32m--> 702\u001b[0;31m             \u001b[0mprinter\u001b[0m\u001b[0;34m.\u001b[0m\u001b[0mpretty\u001b[0m\u001b[0;34m(\u001b[0m\u001b[0mobj\u001b[0m\u001b[0;34m)\u001b[0m\u001b[0;34m\u001b[0m\u001b[0;34m\u001b[0m\u001b[0m\n\u001b[0m\u001b[1;32m    703\u001b[0m             \u001b[0mprinter\u001b[0m\u001b[0;34m.\u001b[0m\u001b[0mflush\u001b[0m\u001b[0;34m(\u001b[0m\u001b[0;34m)\u001b[0m\u001b[0;34m\u001b[0m\u001b[0;34m\u001b[0m\u001b[0m\n\u001b[1;32m    704\u001b[0m             \u001b[0;32mreturn\u001b[0m \u001b[0mstream\u001b[0m\u001b[0;34m.\u001b[0m\u001b[0mgetvalue\u001b[0m\u001b[0;34m(\u001b[0m\u001b[0;34m)\u001b[0m\u001b[0;34m\u001b[0m\u001b[0;34m\u001b[0m\u001b[0m\n",
      "\u001b[0;32m~/.local/lib/python3.9/site-packages/IPython/lib/pretty.py\u001b[0m in \u001b[0;36mpretty\u001b[0;34m(self, obj)\u001b[0m\n\u001b[1;32m    392\u001b[0m                         \u001b[0;32mif\u001b[0m \u001b[0mcls\u001b[0m \u001b[0;32mis\u001b[0m \u001b[0;32mnot\u001b[0m \u001b[0mobject\u001b[0m\u001b[0;31m \u001b[0m\u001b[0;31m\\\u001b[0m\u001b[0;34m\u001b[0m\u001b[0;34m\u001b[0m\u001b[0m\n\u001b[1;32m    393\u001b[0m                                 \u001b[0;32mand\u001b[0m \u001b[0mcallable\u001b[0m\u001b[0;34m(\u001b[0m\u001b[0mcls\u001b[0m\u001b[0;34m.\u001b[0m\u001b[0m__dict__\u001b[0m\u001b[0;34m.\u001b[0m\u001b[0mget\u001b[0m\u001b[0;34m(\u001b[0m\u001b[0;34m'__repr__'\u001b[0m\u001b[0;34m)\u001b[0m\u001b[0;34m)\u001b[0m\u001b[0;34m:\u001b[0m\u001b[0;34m\u001b[0m\u001b[0;34m\u001b[0m\u001b[0m\n\u001b[0;32m--> 394\u001b[0;31m                             \u001b[0;32mreturn\u001b[0m \u001b[0m_repr_pprint\u001b[0m\u001b[0;34m(\u001b[0m\u001b[0mobj\u001b[0m\u001b[0;34m,\u001b[0m \u001b[0mself\u001b[0m\u001b[0;34m,\u001b[0m \u001b[0mcycle\u001b[0m\u001b[0;34m)\u001b[0m\u001b[0;34m\u001b[0m\u001b[0;34m\u001b[0m\u001b[0m\n\u001b[0m\u001b[1;32m    395\u001b[0m \u001b[0;34m\u001b[0m\u001b[0m\n\u001b[1;32m    396\u001b[0m             \u001b[0;32mreturn\u001b[0m \u001b[0m_default_pprint\u001b[0m\u001b[0;34m(\u001b[0m\u001b[0mobj\u001b[0m\u001b[0;34m,\u001b[0m \u001b[0mself\u001b[0m\u001b[0;34m,\u001b[0m \u001b[0mcycle\u001b[0m\u001b[0;34m)\u001b[0m\u001b[0;34m\u001b[0m\u001b[0;34m\u001b[0m\u001b[0m\n",
      "\u001b[0;32m~/.local/lib/python3.9/site-packages/IPython/lib/pretty.py\u001b[0m in \u001b[0;36m_repr_pprint\u001b[0;34m(obj, p, cycle)\u001b[0m\n\u001b[1;32m    698\u001b[0m     \u001b[0;34m\"\"\"A pprint that just redirects to the normal repr function.\"\"\"\u001b[0m\u001b[0;34m\u001b[0m\u001b[0;34m\u001b[0m\u001b[0m\n\u001b[1;32m    699\u001b[0m     \u001b[0;31m# Find newlines and replace them with p.break_()\u001b[0m\u001b[0;34m\u001b[0m\u001b[0;34m\u001b[0m\u001b[0;34m\u001b[0m\u001b[0m\n\u001b[0;32m--> 700\u001b[0;31m     \u001b[0moutput\u001b[0m \u001b[0;34m=\u001b[0m \u001b[0mrepr\u001b[0m\u001b[0;34m(\u001b[0m\u001b[0mobj\u001b[0m\u001b[0;34m)\u001b[0m\u001b[0;34m\u001b[0m\u001b[0;34m\u001b[0m\u001b[0m\n\u001b[0m\u001b[1;32m    701\u001b[0m     \u001b[0mlines\u001b[0m \u001b[0;34m=\u001b[0m \u001b[0moutput\u001b[0m\u001b[0;34m.\u001b[0m\u001b[0msplitlines\u001b[0m\u001b[0;34m(\u001b[0m\u001b[0;34m)\u001b[0m\u001b[0;34m\u001b[0m\u001b[0;34m\u001b[0m\u001b[0m\n\u001b[1;32m    702\u001b[0m     \u001b[0;32mwith\u001b[0m \u001b[0mp\u001b[0m\u001b[0;34m.\u001b[0m\u001b[0mgroup\u001b[0m\u001b[0;34m(\u001b[0m\u001b[0;34m)\u001b[0m\u001b[0;34m:\u001b[0m\u001b[0;34m\u001b[0m\u001b[0;34m\u001b[0m\u001b[0m\n",
      "\u001b[0;32m~/.local/lib/python3.9/site-packages/numpy/core/arrayprint.py\u001b[0m in \u001b[0;36m_array_repr_implementation\u001b[0;34m(arr, max_line_width, precision, suppress_small, array2string)\u001b[0m\n\u001b[1;32m   1402\u001b[0m         \u001b[0mclass_name\u001b[0m \u001b[0;34m=\u001b[0m \u001b[0;34m\"array\"\u001b[0m\u001b[0;34m\u001b[0m\u001b[0;34m\u001b[0m\u001b[0m\n\u001b[1;32m   1403\u001b[0m \u001b[0;34m\u001b[0m\u001b[0m\n\u001b[0;32m-> 1404\u001b[0;31m     \u001b[0mskipdtype\u001b[0m \u001b[0;34m=\u001b[0m \u001b[0mdtype_is_implied\u001b[0m\u001b[0;34m(\u001b[0m\u001b[0marr\u001b[0m\u001b[0;34m.\u001b[0m\u001b[0mdtype\u001b[0m\u001b[0;34m)\u001b[0m \u001b[0;32mand\u001b[0m \u001b[0marr\u001b[0m\u001b[0;34m.\u001b[0m\u001b[0msize\u001b[0m \u001b[0;34m>\u001b[0m \u001b[0;36m0\u001b[0m\u001b[0;34m\u001b[0m\u001b[0;34m\u001b[0m\u001b[0m\n\u001b[0m\u001b[1;32m   1405\u001b[0m \u001b[0;34m\u001b[0m\u001b[0m\n\u001b[1;32m   1406\u001b[0m     \u001b[0mprefix\u001b[0m \u001b[0;34m=\u001b[0m \u001b[0mclass_name\u001b[0m \u001b[0;34m+\u001b[0m \u001b[0;34m\"(\"\u001b[0m\u001b[0;34m\u001b[0m\u001b[0;34m\u001b[0m\u001b[0m\n",
      "\u001b[0;32m~/.local/lib/python3.9/site-packages/numpy/core/arrayprint.py\u001b[0m in \u001b[0;36mdtype_is_implied\u001b[0;34m(dtype)\u001b[0m\n\u001b[1;32m   1354\u001b[0m     \u001b[0marray\u001b[0m\u001b[0;34m(\u001b[0m\u001b[0;34m[\u001b[0m\u001b[0;36m1\u001b[0m\u001b[0;34m,\u001b[0m \u001b[0;36m2\u001b[0m\u001b[0;34m,\u001b[0m \u001b[0;36m3\u001b[0m\u001b[0;34m]\u001b[0m\u001b[0;34m,\u001b[0m \u001b[0mdtype\u001b[0m\u001b[0;34m=\u001b[0m\u001b[0mint8\u001b[0m\u001b[0;34m)\u001b[0m\u001b[0;34m\u001b[0m\u001b[0;34m\u001b[0m\u001b[0m\n\u001b[1;32m   1355\u001b[0m     \"\"\"\n\u001b[0;32m-> 1356\u001b[0;31m     \u001b[0mdtype\u001b[0m \u001b[0;34m=\u001b[0m \u001b[0mnp\u001b[0m\u001b[0;34m.\u001b[0m\u001b[0mdtype\u001b[0m\u001b[0;34m(\u001b[0m\u001b[0mdtype\u001b[0m\u001b[0;34m)\u001b[0m\u001b[0;34m\u001b[0m\u001b[0;34m\u001b[0m\u001b[0m\n\u001b[0m\u001b[1;32m   1357\u001b[0m     \u001b[0;32mif\u001b[0m \u001b[0m_format_options\u001b[0m\u001b[0;34m[\u001b[0m\u001b[0;34m'legacy'\u001b[0m\u001b[0;34m]\u001b[0m \u001b[0;34m==\u001b[0m \u001b[0;34m'1.13'\u001b[0m \u001b[0;32mand\u001b[0m \u001b[0mdtype\u001b[0m\u001b[0;34m.\u001b[0m\u001b[0mtype\u001b[0m \u001b[0;34m==\u001b[0m \u001b[0mbool_\u001b[0m\u001b[0;34m:\u001b[0m\u001b[0;34m\u001b[0m\u001b[0;34m\u001b[0m\u001b[0m\n\u001b[1;32m   1358\u001b[0m         \u001b[0;32mreturn\u001b[0m \u001b[0;32mFalse\u001b[0m\u001b[0;34m\u001b[0m\u001b[0;34m\u001b[0m\u001b[0m\n",
      "\u001b[0;32m<ipython-input-32-787288a858ff>\u001b[0m in \u001b[0;36mwrapper\u001b[0;34m(*args, **kwargs)\u001b[0m\n\u001b[1;32m      4\u001b[0m     \u001b[0;34m@\u001b[0m\u001b[0mwraps\u001b[0m\u001b[0;34m(\u001b[0m\u001b[0mfunc\u001b[0m\u001b[0;34m)\u001b[0m\u001b[0;34m\u001b[0m\u001b[0;34m\u001b[0m\u001b[0m\n\u001b[1;32m      5\u001b[0m     \u001b[0;32mdef\u001b[0m \u001b[0mwrapper\u001b[0m\u001b[0;34m(\u001b[0m\u001b[0;34m*\u001b[0m\u001b[0margs\u001b[0m\u001b[0;34m,\u001b[0m \u001b[0;34m**\u001b[0m\u001b[0mkwargs\u001b[0m\u001b[0;34m)\u001b[0m\u001b[0;34m:\u001b[0m\u001b[0;34m\u001b[0m\u001b[0;34m\u001b[0m\u001b[0m\n\u001b[0;32m----> 6\u001b[0;31m         \u001b[0mprint\u001b[0m\u001b[0;34m(\u001b[0m\u001b[0mfunc\u001b[0m\u001b[0;34m,\u001b[0m \u001b[0margs\u001b[0m\u001b[0;34m,\u001b[0m \u001b[0mkwargs\u001b[0m\u001b[0;34m)\u001b[0m\u001b[0;34m\u001b[0m\u001b[0;34m\u001b[0m\u001b[0m\n\u001b[0m\u001b[1;32m      7\u001b[0m         \u001b[0;32mreturn\u001b[0m \u001b[0mfunc\u001b[0m\u001b[0;34m(\u001b[0m\u001b[0;34m*\u001b[0m\u001b[0margs\u001b[0m\u001b[0;34m,\u001b[0m \u001b[0;34m**\u001b[0m\u001b[0mkwargs\u001b[0m\u001b[0;34m)\u001b[0m\u001b[0;34m\u001b[0m\u001b[0;34m\u001b[0m\u001b[0m\n\u001b[1;32m      8\u001b[0m     \u001b[0;32mreturn\u001b[0m \u001b[0mwrapper\u001b[0m\u001b[0;34m\u001b[0m\u001b[0;34m\u001b[0m\u001b[0m\n",
      "\u001b[0;32m~/.local/lib/python3.9/site-packages/numpy/core/_dtype.py\u001b[0m in \u001b[0;36m__repr__\u001b[0;34m(dtype)\u001b[0m\n\u001b[1;32m     44\u001b[0m \u001b[0;34m\u001b[0m\u001b[0m\n\u001b[1;32m     45\u001b[0m \u001b[0;32mdef\u001b[0m \u001b[0m__repr__\u001b[0m\u001b[0;34m(\u001b[0m\u001b[0mdtype\u001b[0m\u001b[0;34m)\u001b[0m\u001b[0;34m:\u001b[0m\u001b[0;34m\u001b[0m\u001b[0;34m\u001b[0m\u001b[0m\n\u001b[0;32m---> 46\u001b[0;31m     \u001b[0marg_str\u001b[0m \u001b[0;34m=\u001b[0m \u001b[0m_construction_repr\u001b[0m\u001b[0;34m(\u001b[0m\u001b[0mdtype\u001b[0m\u001b[0;34m,\u001b[0m \u001b[0minclude_align\u001b[0m\u001b[0;34m=\u001b[0m\u001b[0;32mFalse\u001b[0m\u001b[0;34m)\u001b[0m\u001b[0;34m\u001b[0m\u001b[0;34m\u001b[0m\u001b[0m\n\u001b[0m\u001b[1;32m     47\u001b[0m     \u001b[0;32mif\u001b[0m \u001b[0mdtype\u001b[0m\u001b[0;34m.\u001b[0m\u001b[0misalignedstruct\u001b[0m\u001b[0;34m:\u001b[0m\u001b[0;34m\u001b[0m\u001b[0;34m\u001b[0m\u001b[0m\n\u001b[1;32m     48\u001b[0m         \u001b[0marg_str\u001b[0m \u001b[0;34m=\u001b[0m \u001b[0marg_str\u001b[0m \u001b[0;34m+\u001b[0m \u001b[0;34m\", align=True\"\u001b[0m\u001b[0;34m\u001b[0m\u001b[0;34m\u001b[0m\u001b[0m\n",
      "\u001b[0;32m~/.local/lib/python3.9/site-packages/numpy/core/_dtype.py\u001b[0m in \u001b[0;36m_construction_repr\u001b[0;34m(dtype, include_align, short)\u001b[0m\n\u001b[1;32m     98\u001b[0m         \u001b[0;32mreturn\u001b[0m \u001b[0m_subarray_str\u001b[0m\u001b[0;34m(\u001b[0m\u001b[0mdtype\u001b[0m\u001b[0;34m)\u001b[0m\u001b[0;34m\u001b[0m\u001b[0;34m\u001b[0m\u001b[0m\n\u001b[1;32m     99\u001b[0m     \u001b[0;32melse\u001b[0m\u001b[0;34m:\u001b[0m\u001b[0;34m\u001b[0m\u001b[0;34m\u001b[0m\u001b[0m\n\u001b[0;32m--> 100\u001b[0;31m         \u001b[0;32mreturn\u001b[0m \u001b[0m_scalar_str\u001b[0m\u001b[0;34m(\u001b[0m\u001b[0mdtype\u001b[0m\u001b[0;34m,\u001b[0m \u001b[0mshort\u001b[0m\u001b[0;34m=\u001b[0m\u001b[0mshort\u001b[0m\u001b[0;34m)\u001b[0m\u001b[0;34m\u001b[0m\u001b[0;34m\u001b[0m\u001b[0m\n\u001b[0m\u001b[1;32m    101\u001b[0m \u001b[0;34m\u001b[0m\u001b[0m\n\u001b[1;32m    102\u001b[0m \u001b[0;34m\u001b[0m\u001b[0m\n",
      "\u001b[0;32m~/.local/lib/python3.9/site-packages/numpy/core/_dtype.py\u001b[0m in \u001b[0;36m_scalar_str\u001b[0;34m(dtype, short)\u001b[0m\n\u001b[1;32m    129\u001b[0m     \u001b[0;31m# unlike the other types, subclasses of void are preserved - but\u001b[0m\u001b[0;34m\u001b[0m\u001b[0;34m\u001b[0m\u001b[0;34m\u001b[0m\u001b[0m\n\u001b[1;32m    130\u001b[0m     \u001b[0;31m# historically the repr does not actually reveal the subclass\u001b[0m\u001b[0;34m\u001b[0m\u001b[0;34m\u001b[0m\u001b[0;34m\u001b[0m\u001b[0m\n\u001b[0;32m--> 131\u001b[0;31m     \u001b[0;32melif\u001b[0m \u001b[0missubclass\u001b[0m\u001b[0;34m(\u001b[0m\u001b[0mdtype\u001b[0m\u001b[0;34m.\u001b[0m\u001b[0mtype\u001b[0m\u001b[0;34m,\u001b[0m \u001b[0mnp\u001b[0m\u001b[0;34m.\u001b[0m\u001b[0mvoid\u001b[0m\u001b[0;34m)\u001b[0m\u001b[0;34m:\u001b[0m\u001b[0;34m\u001b[0m\u001b[0;34m\u001b[0m\u001b[0m\n\u001b[0m\u001b[1;32m    132\u001b[0m         \u001b[0;32mif\u001b[0m \u001b[0m_isunsized\u001b[0m\u001b[0;34m(\u001b[0m\u001b[0mdtype\u001b[0m\u001b[0;34m)\u001b[0m\u001b[0;34m:\u001b[0m\u001b[0;34m\u001b[0m\u001b[0;34m\u001b[0m\u001b[0m\n\u001b[1;32m    133\u001b[0m             \u001b[0;32mreturn\u001b[0m \u001b[0;34m\"'V'\"\u001b[0m\u001b[0;34m\u001b[0m\u001b[0;34m\u001b[0m\u001b[0m\n",
      "\u001b[0;31mTypeError\u001b[0m: issubclass() arg 2 must be a class or tuple of classes"
     ]
    }
   ],
   "source": [
    "np.array([1,2,3])"
   ]
  },
  {
   "cell_type": "markdown",
   "metadata": {},
   "source": [
    "If you aren't in a situation where you need to debug, log or control access (the classical applications of AOP) you might still want to use it in python - for type-checking/testing!\n",
    "For example you can apply our favorite dynamic type checker library beartype quite easily like so:"
   ]
  },
  {
   "cell_type": "code",
   "execution_count": null,
   "metadata": {
    "execution": {
     "iopub.status.busy": "2022-03-24T12:20:39.932228Z",
     "iopub.status.idle": "2022-03-24T12:20:39.933361Z",
     "shell.execute_reply": "2022-03-24T12:20:39.932609Z",
     "shell.execute_reply.started": "2022-03-24T12:20:39.932579Z"
    }
   },
   "outputs": [],
   "source": [
    "from beartype import beartype\n",
    "\n",
    "np @ (use.isfunction, \"\", beartype)"
   ]
  },
  {
   "cell_type": "markdown",
   "metadata": {
    "execution": {
     "iopub.execute_input": "2021-11-26T15:35:16.483099Z",
     "iopub.status.busy": "2021-11-26T15:35:16.482573Z",
     "iopub.status.idle": "2021-11-26T15:35:16.507905Z",
     "shell.execute_reply": "2021-11-26T15:35:16.505878Z",
     "shell.execute_reply.started": "2021-11-26T15:35:16.483062Z"
    }
   },
   "source": [
    "Now all functions in numpy are beartype-checked! You can do the same with your own code, as long as you use() your modules."
   ]
  },
  {
   "cell_type": "markdown",
   "metadata": {
    "execution": {
     "iopub.execute_input": "2021-11-26T15:32:34.252907Z",
     "iopub.status.busy": "2021-11-26T15:32:34.252454Z",
     "iopub.status.idle": "2021-11-26T15:32:34.270157Z",
     "shell.execute_reply": "2021-11-26T15:32:34.266549Z",
     "shell.execute_reply.started": "2021-11-26T15:32:34.252870Z"
    }
   },
   "source": [
    "If you want to learn more about aspect-oriented programming, check out https://en.wikipedia.org/wiki/Aspect-oriented_programming "
   ]
  },
  {
   "cell_type": "markdown",
   "metadata": {},
   "source": [
    "Even though applying decorators this way usually is super simple and nice, one word of caution: in python it sometimes is not clear at all *what* something is. If you do `foo(x)` foo could be a pure function, an object with a `__call__` method or you might be calling the `__init__` method of a class. While it is nice for the user to be oblivious about those details in general, in this case it can be quite confusing and frustrating because each case needs to be handled differently and using a check like isfunction might be catching the wrong things. So, be aware of these potential pitfalls before applying decorators blindly without checking what actually got hit."
   ]
  }
 ],
 "metadata": {
  "kernelspec": {
   "display_name": "Python 3",
   "language": "python",
   "name": "python3"
  },
  "language_info": {
   "codemirror_mode": {
    "name": "ipython",
    "version": 3
   },
   "file_extension": ".py",
   "mimetype": "text/x-python",
   "name": "python",
   "nbconvert_exporter": "python",
   "pygments_lexer": "ipython3",
   "version": "3.9.5"
  }
 },
 "nbformat": 4,
 "nbformat_minor": 4
}
