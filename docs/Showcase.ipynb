{
 "cells": [
  {
   "cell_type": "markdown",
   "metadata": {},
   "source": [
    "# Welcome to Justuse!"
   ]
  },
  {
   "cell_type": "markdown",
   "metadata": {},
   "source": [
    "## Installation\n",
    "Before we start, let's get the latest version"
   ]
  },
  {
   "cell_type": "code",
   "execution_count": 1,
   "metadata": {
    "execution": {
     "iopub.execute_input": "2021-11-25T17:36:40.035810Z",
     "iopub.status.busy": "2021-11-25T17:36:40.035254Z",
     "iopub.status.idle": "2021-11-25T17:36:44.763714Z",
     "shell.execute_reply": "2021-11-25T17:36:44.762549Z",
     "shell.execute_reply.started": "2021-11-25T17:36:40.035708Z"
    }
   },
   "outputs": [
    {
     "name": "stdout",
     "output_type": "stream",
     "text": [
      "Collecting justuse\n",
      "  Using cached justuse-0.6.2.post1-py3-none-any.whl (113 kB)\n",
      "  Using cached justuse-0.6.2-py3-none-any.whl (113 kB)\n",
      "Requirement already satisfied: pip in /home/thorsten/anaconda3/lib/python3.8/site-packages (from justuse) (21.3.1)\n",
      "Requirement already satisfied: typeguard>=2.12.1 in /home/thorsten/anaconda3/lib/python3.8/site-packages (from justuse) (2.13.0)\n",
      "Requirement already satisfied: icontract>=2.5.4 in /home/thorsten/anaconda3/lib/python3.8/site-packages (from justuse) (2.5.5)\n",
      "Requirement already satisfied: hypothesis>=6.23.1 in /home/thorsten/anaconda3/lib/python3.8/site-packages (from justuse) (6.24.2)\n",
      "Requirement already satisfied: requests>=2.24.0 in /home/thorsten/anaconda3/lib/python3.8/site-packages (from justuse) (2.24.0)\n",
      "Requirement already satisfied: wheel>=0.36.2 in /home/thorsten/anaconda3/lib/python3.8/site-packages (from justuse) (0.37.0)\n",
      "Requirement already satisfied: pydantic>=1.8.2 in /home/thorsten/anaconda3/lib/python3.8/site-packages (from justuse) (1.8.2)\n",
      "Requirement already satisfied: packaging==21.0 in /home/thorsten/anaconda3/lib/python3.8/site-packages (from justuse) (21.0)\n",
      "Requirement already satisfied: furl>=2.1.2 in /home/thorsten/anaconda3/lib/python3.8/site-packages (from justuse) (2.1.2)\n",
      "Requirement already satisfied: pyparsing>=2.0.2 in /home/thorsten/anaconda3/lib/python3.8/site-packages (from packaging==21.0->justuse) (2.4.7)\n",
      "Requirement already satisfied: orderedmultidict>=1.0.1 in /home/thorsten/anaconda3/lib/python3.8/site-packages (from furl>=2.1.2->justuse) (1.0.1)\n",
      "Requirement already satisfied: six>=1.8.0 in /home/thorsten/anaconda3/lib/python3.8/site-packages (from furl>=2.1.2->justuse) (1.15.0)\n",
      "Requirement already satisfied: sortedcontainers<3.0.0,>=2.1.0 in /home/thorsten/anaconda3/lib/python3.8/site-packages (from hypothesis>=6.23.1->justuse) (2.2.2)\n",
      "Requirement already satisfied: attrs>=19.2.0 in /home/thorsten/anaconda3/lib/python3.8/site-packages (from hypothesis>=6.23.1->justuse) (20.3.0)\n",
      "Requirement already satisfied: typing-extensions in /home/thorsten/anaconda3/lib/python3.8/site-packages (from icontract>=2.5.4->justuse) (3.7.4.3)\n",
      "Requirement already satisfied: asttokens<3,>=2 in /home/thorsten/anaconda3/lib/python3.8/site-packages (from icontract>=2.5.4->justuse) (2.0.5)\n",
      "Requirement already satisfied: idna<3,>=2.5 in /home/thorsten/anaconda3/lib/python3.8/site-packages (from requests>=2.24.0->justuse) (2.10)\n",
      "Requirement already satisfied: chardet<4,>=3.0.2 in /home/thorsten/anaconda3/lib/python3.8/site-packages (from requests>=2.24.0->justuse) (3.0.4)\n",
      "Requirement already satisfied: certifi>=2017.4.17 in /home/thorsten/anaconda3/lib/python3.8/site-packages (from requests>=2.24.0->justuse) (2020.6.20)\n",
      "Requirement already satisfied: urllib3!=1.25.0,!=1.25.1,<1.26,>=1.21.1 in /home/thorsten/anaconda3/lib/python3.8/site-packages (from requests>=2.24.0->justuse) (1.25.11)\n",
      "Installing collected packages: justuse\n",
      "Successfully installed justuse-0.6.2\n"
     ]
    },
    {
     "name": "stderr",
     "output_type": "stream",
     "text": [
      "WARNING: Discarding https://files.pythonhosted.org/packages/6b/51/c88e3144a31400086c90fa40fb3cce6b0eac2bf4fc80a46187c463b29a9c/justuse-0.6.2.post1-py3-none-any.whl#sha256=c85306533ca76312d0b993d62817a907415511e60bf962ee5bc841c07db9bb54 (from https://pypi.org/simple/justuse/) (requires-python:>=3.8). Requested justuse from https://files.pythonhosted.org/packages/6b/51/c88e3144a31400086c90fa40fb3cce6b0eac2bf4fc80a46187c463b29a9c/justuse-0.6.2.post1-py3-none-any.whl#sha256=c85306533ca76312d0b993d62817a907415511e60bf962ee5bc841c07db9bb54 has inconsistent version: filename has '0.6.2.post1', but metadata has '0.6.2'\n"
     ]
    }
   ],
   "source": [
    "%%bash\n",
    "python -m pip install justuse"
   ]
  },
  {
   "cell_type": "code",
   "execution_count": 1,
   "metadata": {
    "execution": {
     "iopub.execute_input": "2021-11-26T00:49:28.080167Z",
     "iopub.status.busy": "2021-11-26T00:49:28.079619Z",
     "iopub.status.idle": "2021-11-26T00:49:28.091654Z",
     "shell.execute_reply": "2021-11-26T00:49:28.090188Z",
     "shell.execute_reply.started": "2021-11-26T00:49:28.080067Z"
    }
   },
   "outputs": [
    {
     "name": "stdout",
     "output_type": "stream",
     "text": [
      "/media/sf_Dropbox/code/justuse/src\n"
     ]
    }
   ],
   "source": [
    "%cd ~/Desktop/sf_Dropbox/code/justuse/src/"
   ]
  },
  {
   "cell_type": "code",
   "execution_count": 2,
   "metadata": {
    "execution": {
     "iopub.execute_input": "2021-11-26T00:49:28.255093Z",
     "iopub.status.busy": "2021-11-26T00:49:28.254619Z",
     "iopub.status.idle": "2021-11-26T00:49:29.099631Z",
     "shell.execute_reply": "2021-11-26T00:49:29.098824Z",
     "shell.execute_reply.started": "2021-11-26T00:49:28.255058Z"
    }
   },
   "outputs": [],
   "source": [
    "import use"
   ]
  },
  {
   "cell_type": "code",
   "execution_count": 3,
   "metadata": {
    "execution": {
     "iopub.execute_input": "2021-11-25T23:40:56.372103Z",
     "iopub.status.busy": "2021-11-25T23:40:56.371655Z",
     "iopub.status.idle": "2021-11-25T23:40:56.396352Z",
     "shell.execute_reply": "2021-11-25T23:40:56.394831Z",
     "shell.execute_reply.started": "2021-11-25T23:40:56.372067Z"
    }
   },
   "outputs": [
    {
     "data": {
      "text/plain": [
       "'0.6.2.post2'"
      ]
     },
     "execution_count": 3,
     "metadata": {},
     "output_type": "execute_result"
    }
   ],
   "source": [
    "use.__version__"
   ]
  },
  {
   "cell_type": "markdown",
   "metadata": {
    "execution": {
     "iopub.execute_input": "2021-11-22T22:33:53.303316Z",
     "iopub.status.busy": "2021-11-22T22:33:53.302686Z",
     "iopub.status.idle": "2021-11-22T22:33:53.308157Z",
     "shell.execute_reply": "2021-11-22T22:33:53.306483Z",
     "shell.execute_reply.started": "2021-11-22T22:33:53.303275Z"
    }
   },
   "source": [
    "## Basic Usage"
   ]
  },
  {
   "cell_type": "markdown",
   "metadata": {},
   "source": [
    "Let's start with a simple case"
   ]
  },
  {
   "cell_type": "code",
   "execution_count": 4,
   "metadata": {
    "execution": {
     "iopub.execute_input": "2021-11-25T23:40:59.059789Z",
     "iopub.status.busy": "2021-11-25T23:40:59.059109Z",
     "iopub.status.idle": "2021-11-25T23:40:59.271449Z",
     "shell.execute_reply": "2021-11-25T23:40:59.270481Z",
     "shell.execute_reply.started": "2021-11-25T23:40:59.059630Z"
    }
   },
   "outputs": [
    {
     "data": {
      "text/plain": [
       "-0.5328330203333975"
      ]
     },
     "execution_count": 4,
     "metadata": {},
     "output_type": "execute_result"
    }
   ],
   "source": [
    "use(\"math\").cos(23)"
   ]
  },
  {
   "cell_type": "markdown",
   "metadata": {
    "execution": {
     "iopub.execute_input": "2021-11-22T19:32:29.373810Z",
     "iopub.status.busy": "2021-11-22T19:32:29.373320Z",
     "iopub.status.idle": "2021-11-22T19:32:29.383680Z",
     "shell.execute_reply": "2021-11-22T19:32:29.382305Z",
     "shell.execute_reply.started": "2021-11-22T19:32:29.373772Z"
    }
   },
   "source": [
    "Installing something could be inconvenient or unnecessary if something else is available - or we want to include some minimal functionality in our program and only fetch additional dependencies only under certain conditions."
   ]
  },
  {
   "cell_type": "markdown",
   "metadata": {},
   "source": [
    "The common approach would be something like"
   ]
  },
  {
   "cell_type": "code",
   "execution_count": 5,
   "metadata": {
    "execution": {
     "iopub.execute_input": "2021-11-25T23:40:59.575157Z",
     "iopub.status.busy": "2021-11-25T23:40:59.574730Z",
     "iopub.status.idle": "2021-11-25T23:41:01.186090Z",
     "shell.execute_reply": "2021-11-25T23:41:01.182633Z",
     "shell.execute_reply.started": "2021-11-25T23:40:59.575121Z"
    }
   },
   "outputs": [],
   "source": [
    "try:\n",
    "    import some_big_package\n",
    "except ImportError:\n",
    "    some_big_package = None\n",
    "if some_big_package:\n",
    "    ..."
   ]
  },
  {
   "cell_type": "markdown",
   "metadata": {
    "execution": {
     "iopub.execute_input": "2021-11-22T19:57:09.320535Z",
     "iopub.status.busy": "2021-11-22T19:57:09.319761Z",
     "iopub.status.idle": "2021-11-22T19:57:09.328957Z",
     "shell.execute_reply": "2021-11-22T19:57:09.327576Z",
     "shell.execute_reply.started": "2021-11-22T19:57:09.320488Z"
    }
   },
   "source": [
    "which is unnecessarily cumbersome - couldn't we simply have a default like in so many other functions that is returned instead of raising an exception? Of course we can!"
   ]
  },
  {
   "cell_type": "markdown",
   "metadata": {},
   "source": [
    "Here's a metaphor from *The Matrix*:\n",
    "[![Matrix - Skill Upload](https://img.youtube.com/vi/w_8NsPQBdV0/0.jpg)](https://www.youtube.com/watch?v=w_8NsPQBdV0)\n",
    "\n",
    "Imagine you want to streamline the user experience by distributing a very minimal, \"free\" but fully functional software to your end users which installs within seconds. Now, whenever the user wants to use a premium feature (or simply a feature that isn't generally required by the majority of users, therefor not included in the basic installation) the program could use() the packages and modules needed to realise the feature to download and install in the background while the user can still use other stuff, then trigger a callback when use() is done loading. The experience would be similar to playing an open world game which seamlessly downloads and loads new areas in the background on demand, without hiccup or loading screens. Or like Neo and Trinity - just get the skills to pilot a helicopter when you need them, right there on the spot. "
   ]
  },
  {
   "cell_type": "code",
   "execution_count": 6,
   "metadata": {
    "execution": {
     "iopub.execute_input": "2021-11-25T23:41:01.189438Z",
     "iopub.status.busy": "2021-11-25T23:41:01.188879Z",
     "iopub.status.idle": "2021-11-25T23:41:01.319741Z",
     "shell.execute_reply": "2021-11-25T23:41:01.317654Z",
     "shell.execute_reply.started": "2021-11-25T23:41:01.189392Z"
    }
   },
   "outputs": [
    {
     "name": "stdout",
     "output_type": "stream",
     "text": [
      "I'm going to learn Ju-Jutsu?\n"
     ]
    }
   ],
   "source": [
    "pkg = use(\"some_big_package\", default=None)\n",
    "if not pkg:\n",
    "    print(\"I'm going to learn Ju-Jutsu?\")"
   ]
  },
  {
   "cell_type": "markdown",
   "metadata": {
    "execution": {
     "iopub.execute_input": "2021-11-22T19:58:53.761253Z",
     "iopub.status.busy": "2021-11-22T19:58:53.760790Z",
     "iopub.status.idle": "2021-11-22T19:58:53.768580Z",
     "shell.execute_reply": "2021-11-22T19:58:53.767072Z",
     "shell.execute_reply.started": "2021-11-22T19:58:53.761215Z"
    }
   },
   "source": [
    "Even more concise (python >3.9):"
   ]
  },
  {
   "cell_type": "code",
   "execution_count": 7,
   "metadata": {
    "execution": {
     "iopub.execute_input": "2021-11-25T23:41:02.271205Z",
     "iopub.status.busy": "2021-11-25T23:41:02.270730Z",
     "iopub.status.idle": "2021-11-25T23:41:03.303703Z",
     "shell.execute_reply": "2021-11-25T23:41:03.302908Z",
     "shell.execute_reply.started": "2021-11-25T23:41:02.271168Z"
    }
   },
   "outputs": [
    {
     "name": "stdout",
     "output_type": "stream",
     "text": [
      "I know Kung Fu!\n"
     ]
    }
   ],
   "source": [
    "if (pkg := use(\"pytest\", default=None)):\n",
    "    print(\"I know Kung Fu!\")"
   ]
  },
  {
   "cell_type": "markdown",
   "metadata": {},
   "source": [
    "One of the most practical use()s is making sure we imported the expected version of a certain package. This is especially important in research papers, notebooks and other publications because those often don't come with a `requirements.txt` and there is no way to make sure you are actually running the published code with the same versions as the author.\n",
    "Also, if you pip-install something, it can happen that it upgrades a dependency, accidentally breaking code that requires the old version - with pip you *can't have more than one version installed*. With justuse any number of versions can be installed in parallel, without interfering with anything that was installed globally via pip, conda etc."
   ]
  },
  {
   "cell_type": "code",
   "execution_count": 8,
   "metadata": {
    "execution": {
     "iopub.execute_input": "2021-11-25T23:41:03.306129Z",
     "iopub.status.busy": "2021-11-25T23:41:03.305684Z",
     "iopub.status.idle": "2021-11-25T23:41:03.741437Z",
     "shell.execute_reply": "2021-11-25T23:41:03.740373Z",
     "shell.execute_reply.started": "2021-11-25T23:41:03.306090Z"
    }
   },
   "outputs": [
    {
     "name": "stderr",
     "output_type": "stream",
     "text": [
      "/media/sf_Dropbox/code/justuse/src/use/pimp.py:81: VersionWarning: numpy expected to be version 2022, but got 1.19.5 instead\n",
      "  warn(Message.version_warning(name, version, result_version), category=VersionWarning)\n"
     ]
    }
   ],
   "source": [
    "np = use(\"numpy\", version=\"2022\")"
   ]
  },
  {
   "cell_type": "code",
   "execution_count": 9,
   "metadata": {
    "execution": {
     "iopub.execute_input": "2021-11-25T23:41:06.217382Z",
     "iopub.status.busy": "2021-11-25T23:41:06.216761Z",
     "iopub.status.idle": "2021-11-25T23:41:06.231262Z",
     "shell.execute_reply": "2021-11-25T23:41:06.225817Z",
     "shell.execute_reply.started": "2021-11-25T23:41:06.217344Z"
    }
   },
   "outputs": [
    {
     "data": {
      "text/plain": [
       "'1.19.5'"
      ]
     },
     "execution_count": 9,
     "metadata": {},
     "output_type": "execute_result"
    }
   ],
   "source": [
    "np.__version__"
   ]
  },
  {
   "cell_type": "markdown",
   "metadata": {},
   "source": [
    "Here you see that even though we got a warning about the wrong version, we still get the requested package, just giving you a heads up about a possibly problematic situation without standing in the way."
   ]
  },
  {
   "cell_type": "markdown",
   "metadata": {},
   "source": [
    "Let's try another one!"
   ]
  },
  {
   "cell_type": "code",
   "execution_count": 12,
   "metadata": {
    "execution": {
     "iopub.execute_input": "2021-11-25T23:41:14.256097Z",
     "iopub.status.busy": "2021-11-25T23:41:14.255382Z",
     "iopub.status.idle": "2021-11-25T23:41:14.289912Z",
     "shell.execute_reply": "2021-11-25T23:41:14.287234Z",
     "shell.execute_reply.started": "2021-11-25T23:41:14.256042Z"
    }
   },
   "outputs": [
    {
     "ename": "ImportError",
     "evalue": "No pkg installed named pygame and auto-installation not requested. Aborting.",
     "output_type": "error",
     "traceback": [
      "\u001b[0;31m---------------------------------------------------------------------------\u001b[0m",
      "\u001b[0;31mImportError\u001b[0m                               Traceback (most recent call last)",
      "\u001b[0;32m<ipython-input-12-916309d36fa0>\u001b[0m in \u001b[0;36m<module>\u001b[0;34m\u001b[0m\n\u001b[0;32m----> 1\u001b[0;31m \u001b[0mspam\u001b[0m \u001b[0;34m=\u001b[0m \u001b[0muse\u001b[0m\u001b[0;34m(\u001b[0m\u001b[0;34m\"pygame\"\u001b[0m\u001b[0;34m)\u001b[0m\u001b[0;34m\u001b[0m\u001b[0;34m\u001b[0m\u001b[0m\n\u001b[0m",
      "\u001b[0;32m/media/sf_Dropbox/code/justuse/src/use/main.py\u001b[0m in \u001b[0;36m__call__\u001b[0;34m(self, *args, **kwargs)\u001b[0m\n\u001b[1;32m    101\u001b[0m     \u001b[0;32mdef\u001b[0m \u001b[0m__call__\u001b[0m\u001b[0;34m(\u001b[0m\u001b[0mself\u001b[0m\u001b[0;34m,\u001b[0m \u001b[0;34m*\u001b[0m\u001b[0margs\u001b[0m\u001b[0;34m,\u001b[0m \u001b[0;34m**\u001b[0m\u001b[0mkwargs\u001b[0m\u001b[0;34m)\u001b[0m\u001b[0;34m:\u001b[0m\u001b[0;34m\u001b[0m\u001b[0;34m\u001b[0m\u001b[0m\n\u001b[1;32m    102\u001b[0m         \u001b[0;32mwith\u001b[0m \u001b[0mself\u001b[0m\u001b[0;34m.\u001b[0m\u001b[0m__condition\u001b[0m\u001b[0;34m:\u001b[0m\u001b[0;34m\u001b[0m\u001b[0;34m\u001b[0m\u001b[0m\n\u001b[0;32m--> 103\u001b[0;31m             \u001b[0;32mreturn\u001b[0m \u001b[0mself\u001b[0m\u001b[0;34m.\u001b[0m\u001b[0m__implementation\u001b[0m\u001b[0;34m(\u001b[0m\u001b[0;34m*\u001b[0m\u001b[0margs\u001b[0m\u001b[0;34m,\u001b[0m \u001b[0;34m**\u001b[0m\u001b[0mkwargs\u001b[0m\u001b[0;34m)\u001b[0m\u001b[0;34m\u001b[0m\u001b[0;34m\u001b[0m\u001b[0m\n\u001b[0m\u001b[1;32m    104\u001b[0m \u001b[0;34m\u001b[0m\u001b[0m\n\u001b[1;32m    105\u001b[0m \u001b[0;34m\u001b[0m\u001b[0m\n",
      "\u001b[0;32m/media/sf_Dropbox/code/justuse/src/use/tools.py\u001b[0m in \u001b[0;36mwrapper\u001b[0;34m(*args, **kw)\u001b[0m\n\u001b[1;32m     40\u001b[0m         \u001b[0;32mif\u001b[0m \u001b[0mlen\u001b[0m\u001b[0;34m(\u001b[0m\u001b[0margs\u001b[0m\u001b[0;34m)\u001b[0m \u001b[0;34m==\u001b[0m \u001b[0;36m1\u001b[0m\u001b[0;34m:\u001b[0m\u001b[0;34m\u001b[0m\u001b[0;34m\u001b[0m\u001b[0m\n\u001b[1;32m     41\u001b[0m             \u001b[0margs\u001b[0m \u001b[0;34m=\u001b[0m \u001b[0margs\u001b[0m \u001b[0;34m+\u001b[0m \u001b[0;34m(\u001b[0m\u001b[0;32mNone\u001b[0m\u001b[0;34m,\u001b[0m\u001b[0;34m)\u001b[0m\u001b[0;34m\u001b[0m\u001b[0;34m\u001b[0m\u001b[0m\n\u001b[0;32m---> 42\u001b[0;31m         \u001b[0;32mreturn\u001b[0m \u001b[0mdispatcher\u001b[0m\u001b[0;34m.\u001b[0m\u001b[0mdispatch\u001b[0m\u001b[0;34m(\u001b[0m\u001b[0margs\u001b[0m\u001b[0;34m[\u001b[0m\u001b[0;36m1\u001b[0m\u001b[0;34m]\u001b[0m\u001b[0;34m.\u001b[0m\u001b[0m__class__\u001b[0m\u001b[0;34m)\u001b[0m\u001b[0;34m(\u001b[0m\u001b[0;34m*\u001b[0m\u001b[0margs\u001b[0m\u001b[0;34m,\u001b[0m \u001b[0;34m**\u001b[0m\u001b[0mkw\u001b[0m\u001b[0;34m)\u001b[0m\u001b[0;34m\u001b[0m\u001b[0;34m\u001b[0m\u001b[0m\n\u001b[0m\u001b[1;32m     43\u001b[0m \u001b[0;34m\u001b[0m\u001b[0m\n\u001b[1;32m     44\u001b[0m     \u001b[0mwrapper\u001b[0m\u001b[0;34m.\u001b[0m\u001b[0mregister\u001b[0m \u001b[0;34m=\u001b[0m \u001b[0mdispatcher\u001b[0m\u001b[0;34m.\u001b[0m\u001b[0mregister\u001b[0m\u001b[0;34m\u001b[0m\u001b[0;34m\u001b[0m\u001b[0m\n",
      "\u001b[0;32m/media/sf_Dropbox/code/justuse/src/use/main.py\u001b[0m in \u001b[0;36m_use_str\u001b[0;34m(self, name, version, hash_algo, hashes, default, modes)\u001b[0m\n\u001b[1;32m    706\u001b[0m         \"\"\"\n\u001b[1;32m    707\u001b[0m         \u001b[0mpackage_name\u001b[0m\u001b[0;34m,\u001b[0m \u001b[0mmodule_name\u001b[0m \u001b[0;34m=\u001b[0m \u001b[0m_parse_name\u001b[0m\u001b[0;34m(\u001b[0m\u001b[0mname\u001b[0m\u001b[0;34m)\u001b[0m\u001b[0;34m\u001b[0m\u001b[0;34m\u001b[0m\u001b[0m\n\u001b[0;32m--> 708\u001b[0;31m         return self._use_package(\n\u001b[0m\u001b[1;32m    709\u001b[0m             \u001b[0mname\u001b[0m\u001b[0;34m=\u001b[0m\u001b[0mname\u001b[0m\u001b[0;34m,\u001b[0m\u001b[0;34m\u001b[0m\u001b[0;34m\u001b[0m\u001b[0m\n\u001b[1;32m    710\u001b[0m             \u001b[0mpackage_name\u001b[0m\u001b[0;34m=\u001b[0m\u001b[0mpackage_name\u001b[0m\u001b[0;34m,\u001b[0m\u001b[0;34m\u001b[0m\u001b[0;34m\u001b[0m\u001b[0m\n",
      "\u001b[0;32m/media/sf_Dropbox/code/justuse/src/use/main.py\u001b[0m in \u001b[0;36m_use_package\u001b[0;34m(self, name, package_name, module_name, version, hashes, modes, default, hash_algo, user_msg)\u001b[0m\n\u001b[1;32m    775\u001b[0m \u001b[0;34m\u001b[0m\u001b[0m\n\u001b[1;32m    776\u001b[0m         \u001b[0;32mif\u001b[0m \u001b[0misinstance\u001b[0m\u001b[0;34m(\u001b[0m\u001b[0mresult\u001b[0m\u001b[0;34m,\u001b[0m \u001b[0mException\u001b[0m\u001b[0;34m)\u001b[0m\u001b[0;34m:\u001b[0m\u001b[0;34m\u001b[0m\u001b[0;34m\u001b[0m\u001b[0m\n\u001b[0;32m--> 777\u001b[0;31m             \u001b[0;32mreturn\u001b[0m \u001b[0m_fail_or_default\u001b[0m\u001b[0;34m(\u001b[0m\u001b[0mresult\u001b[0m\u001b[0;34m,\u001b[0m \u001b[0mdefault\u001b[0m\u001b[0;34m)\u001b[0m\u001b[0;34m\u001b[0m\u001b[0;34m\u001b[0m\u001b[0m\n\u001b[0m\u001b[1;32m    778\u001b[0m \u001b[0;34m\u001b[0m\u001b[0m\n\u001b[1;32m    779\u001b[0m         \u001b[0;32mif\u001b[0m \u001b[0misinstance\u001b[0m\u001b[0;34m(\u001b[0m\u001b[0mresult\u001b[0m\u001b[0;34m,\u001b[0m \u001b[0mModuleType\u001b[0m\u001b[0;34m)\u001b[0m\u001b[0;34m:\u001b[0m\u001b[0;34m\u001b[0m\u001b[0;34m\u001b[0m\u001b[0m\n",
      "\u001b[0;32m/media/sf_Dropbox/code/justuse/src/use/pimp.py\u001b[0m in \u001b[0;36m_fail_or_default\u001b[0;34m(exception, default)\u001b[0m\n\u001b[1;32m    992\u001b[0m         \u001b[0;32mreturn\u001b[0m \u001b[0mdefault\u001b[0m  \u001b[0;31m# TODO: write test for default\u001b[0m\u001b[0;34m\u001b[0m\u001b[0;34m\u001b[0m\u001b[0m\n\u001b[1;32m    993\u001b[0m     \u001b[0;32melse\u001b[0m\u001b[0;34m:\u001b[0m\u001b[0;34m\u001b[0m\u001b[0;34m\u001b[0m\u001b[0m\n\u001b[0;32m--> 994\u001b[0;31m         \u001b[0;32mraise\u001b[0m \u001b[0mexception\u001b[0m\u001b[0;34m\u001b[0m\u001b[0;34m\u001b[0m\u001b[0m\n\u001b[0m",
      "\u001b[0;31mImportError\u001b[0m: No pkg installed named pygame and auto-installation not requested. Aborting."
     ]
    }
   ],
   "source": [
    "spam = use(\"pygame\")"
   ]
  },
  {
   "cell_type": "markdown",
   "metadata": {},
   "source": [
    "Well, bummer! Why can't we have spam? We need spam, give us spam!"
   ]
  },
  {
   "cell_type": "code",
   "execution_count": 13,
   "metadata": {
    "execution": {
     "iopub.execute_input": "2021-11-25T23:41:20.069279Z",
     "iopub.status.busy": "2021-11-25T23:41:20.068683Z",
     "iopub.status.idle": "2021-11-25T23:42:18.479458Z",
     "shell.execute_reply": "2021-11-25T23:42:18.475403Z",
     "shell.execute_reply.started": "2021-11-25T23:41:20.069244Z"
    }
   },
   "outputs": [
    {
     "ename": "RuntimeWarning",
     "evalue": "Please specify version and hash for auto-installation of 'pygame'.\nA webbrowser will open to the Snyk Advisor to check whether the package is vulnerable.\nIf you want to auto-install the latest version:\nuse(\"pygame\", version=\"2.1.0\", hashes={'U廁囲䔔䯭祓捹奫酭粔鞍廟䪹轟莥桯㩶䔾', 'Y鏓粼㤈攀諃亶鞿衛巇凯廀曓Ȯ嗊甪憉䊌', 'k䡈茪嚕䣟苎辗哞鮐鬳䮝䋾抨㢢㟡稯ě鷢', 'g㞇殅䍠興䰑螧鸃刨籞淰銂轋醬㣄拭瘃劈', 'i䌉耋愖鐟㣟㺍跜颊㹮㐘肵涐峜䮋髾膭鱏', 'N郒葛䰊鈀䡠袯嫩㜗强䝝射鼓㣋鄃䁫蜋鳂', 'T湎食閷慁钪㙫淬䡣嵈箚瓉㻦悡鐔润愆漐', 'W交圡曨⒃㗽䩙誧㚹馍㡼颹泒䗡㭝篕㧤䓄', 'H䏃卾㡒鬡駜㾋蝏聢Ĩ靯鱂兜㢷椔靇跎纫', 'U饎泽䓙镵踑ƺ䌽䥂䈷䘸銴㼘彍韑淌稸㜗', 'h薦䧎运罜銵誀攔婥Ű枍耿衐濗玏蝼㙂䲧', '乙攅彯㚔袜宩鮤鉾竄㯂䢱縝晞䏩堩㗢䨮', 'X榊㕣府龈傷䑀䐒䂉霰䈝聍蕂䵼鯎殶㽄濩', 'S灗鲮鏙䬬寅愈﨡蚶尌㲃溜緝剗嬚戝瘰㡧', 'K㘥栔奫姹瞾摠瞒畀䑼愕䛧䤨䑺㦁痺鈽晶', 'M㢿䭮䬪鼭忿T鵓脵瑆ʄ㱙蚫㵬膘綹薒摦', 'U垇姁圲氨ì骥厛斦搼叧胁觀忪雫商叜䳿', 'W䰽ɴ擂䘯膬䄌㜔匠枫舂呣鬾蠰岠㹜吩戂', 'S串忯䝦䭣戯珝䚳瓰笡酚ʻ旙仪膠Q㓍聐', 'Y哶鑹仞终莣栍㴷窏䴔䂜㼉檍䴭顑塃䨰蝉', 'j祙㡬鳄䅛弘陷囒渀袲铿徿璏韬敆蘶㗇榌', 'W瀜現嶜㚯㛣ȵ䪖䙧趚髠軰冄撻飡剏睎s', 'Q䖴䬽㐌木恶铠绹尘鏀滀鰧鉉擻膍㸢䀷匊', 'J娼䥺瑹鍖谫癦䯅恢搸烃诺嬝矫暠鸤嘀邦', 'X琲戍䨰䬪腴㿙賐岙䢴簖䶚䄼塚ɪ僚梘铡', 'K眯㮌䯵硑易跔疢塘奜Ɔ㟥咸躃鼤邴贼马', 'j拔谥臌鏠㦔訙辫榮嚓穚鶰緬㶟覶戬㚪䇡', 'Q˟勛㮙鏂鱾㲒怱果伽馽腳焵阌业句莇髹', 'I柵逐蜼灈嶹指謥㳞徭䓼刍劽㗙㖨蹠鋥䅒', 'W灗纟駦䈟阍鬭绦敐爉䭣簢晲钰唈㢥醌㚇', 'G厠碳ˤ懺㡉徛伟㷖场蟯飮㔶㿨斔氬殶樉', 'j阖眤㰁跕䠑湆鍋払龋牐彋掶䪊蟡輘㧅站', 'N哒斸饬顦藂寱蘫帾䴱蓪绘麂镵䒩塃䀷滍', 'L㮂扠䃆䑨権嶍栧漝㰲飋䏱癕名褷䥞擆鉮', 'Y丕鮼阉栻臝槑岔䳍ʣ唠嶼楟痽埒続薨掚', 'O鳩㘲厚㶔硌慎跲蕂泺耆莓鵣洷汅䭡鞀㕐', 'Q媅檮絬磙爲蘍萙痨䲛蜒壏峅徟惩姻㑯葎', 'Y蓯舖芯鯓亘妳朒僺䶵琷訯麃㻌ʐ嫁洭瀺', 'M忈晷礚勿瀯蠴逨篜鰸䋵璱堲芿吮貲芰箄', '䣍婾䦬杗嶘澆鈲漋蠗刈墛骖怫兿廕斥恐', 'O帲庬棺㻁䮲媺捞㧰醼蛢廛繎㶞稖旻踅滛', 'M囧㓺剝蓼夡堜䂼㤰䫰椈塜壖䫬襔將䮯绾', 'M躵炚礨㤮纐炢䎴昱鰷㱇弤劂銿䭻逌輜獷', 'W鈯遲㧨钌课䲐冒䀃䂦芙犓譩䘯䟮Õ嘣牵', 'P抾謙⒑宆䓊䏜劖璤卄ŉ鄗皞騲棗桫鳐侥', 'M鎪哰㖉㧌嗔蕤寇憾㕛硺翘臊片㡽朰䡿难', 'g䪰彙敌窽堵䰉凮㳶䵸䨢坵哌决嶒䛼㻚疶', 'N锏䦆㤗栦䣩䓀㢚鹹枚內䨙僔º嶧莸㟢苗', 'P⑩敳㖏鏭篹t諙㲤悪晌ɣ旉极廎虴抏蝐', 'S寸膌秂䈙䲎魽䄑㿶後蘊折㬓吖臺由昮鷡', 'N鮠捖羃棙挶㰔驷䂈筺吥䕭僢錟ɴ䭋痓駟', 'O䶝开䔮坅騔奥䤕ǰ揥夔苵䒔处麦艝嗚䂃', 'U䄙艐㜺䶆齺鴙䛖蒛䐣戬㒓㿜嬧筱頮鄶硶', 'K澙瓗朥烤糞䋯窒鍤躵蕳贫芐猸䣸䧲峆㸣', 'U髺漓粐駞偋虘梧橐龐㧘㵑䜞枘撻㓉恦紑', 'S䊓谗爚仞娧龀殃鶗阵㶉顒缹饳﨎鍙騯籢', 'R䀠襎嶇㛸粺乚斿䚬榗邎搀榉鉿㿙刷㟋䲭', 'XÍ權愞讨㛳開鹚㙋糷䖼瞐銛澣蔆锩䚬艣'}, modes=use.auto_install)",
     "output_type": "error",
     "traceback": [
      "\u001b[0;31m---------------------------------------------------------------------------\u001b[0m",
      "\u001b[0;31mRuntimeWarning\u001b[0m                            Traceback (most recent call last)",
      "\u001b[0;32m<ipython-input-13-939f1366e66f>\u001b[0m in \u001b[0;36m<module>\u001b[0;34m\u001b[0m\n\u001b[0;32m----> 1\u001b[0;31m \u001b[0mspam\u001b[0m \u001b[0;34m=\u001b[0m \u001b[0muse\u001b[0m\u001b[0;34m(\u001b[0m\u001b[0;34m\"pygame\"\u001b[0m\u001b[0;34m,\u001b[0m \u001b[0mmodes\u001b[0m\u001b[0;34m=\u001b[0m\u001b[0muse\u001b[0m\u001b[0;34m.\u001b[0m\u001b[0mauto_install\u001b[0m\u001b[0;34m)\u001b[0m\u001b[0;34m\u001b[0m\u001b[0;34m\u001b[0m\u001b[0m\n\u001b[0m",
      "\u001b[0;32m/media/sf_Dropbox/code/justuse/src/use/main.py\u001b[0m in \u001b[0;36m__call__\u001b[0;34m(self, *args, **kwargs)\u001b[0m\n\u001b[1;32m    101\u001b[0m     \u001b[0;32mdef\u001b[0m \u001b[0m__call__\u001b[0m\u001b[0;34m(\u001b[0m\u001b[0mself\u001b[0m\u001b[0;34m,\u001b[0m \u001b[0;34m*\u001b[0m\u001b[0margs\u001b[0m\u001b[0;34m,\u001b[0m \u001b[0;34m**\u001b[0m\u001b[0mkwargs\u001b[0m\u001b[0;34m)\u001b[0m\u001b[0;34m:\u001b[0m\u001b[0;34m\u001b[0m\u001b[0;34m\u001b[0m\u001b[0m\n\u001b[1;32m    102\u001b[0m         \u001b[0;32mwith\u001b[0m \u001b[0mself\u001b[0m\u001b[0;34m.\u001b[0m\u001b[0m__condition\u001b[0m\u001b[0;34m:\u001b[0m\u001b[0;34m\u001b[0m\u001b[0;34m\u001b[0m\u001b[0m\n\u001b[0;32m--> 103\u001b[0;31m             \u001b[0;32mreturn\u001b[0m \u001b[0mself\u001b[0m\u001b[0;34m.\u001b[0m\u001b[0m__implementation\u001b[0m\u001b[0;34m(\u001b[0m\u001b[0;34m*\u001b[0m\u001b[0margs\u001b[0m\u001b[0;34m,\u001b[0m \u001b[0;34m**\u001b[0m\u001b[0mkwargs\u001b[0m\u001b[0;34m)\u001b[0m\u001b[0;34m\u001b[0m\u001b[0;34m\u001b[0m\u001b[0m\n\u001b[0m\u001b[1;32m    104\u001b[0m \u001b[0;34m\u001b[0m\u001b[0m\n\u001b[1;32m    105\u001b[0m \u001b[0;34m\u001b[0m\u001b[0m\n",
      "\u001b[0;32m/media/sf_Dropbox/code/justuse/src/use/tools.py\u001b[0m in \u001b[0;36mwrapper\u001b[0;34m(*args, **kw)\u001b[0m\n\u001b[1;32m     40\u001b[0m         \u001b[0;32mif\u001b[0m \u001b[0mlen\u001b[0m\u001b[0;34m(\u001b[0m\u001b[0margs\u001b[0m\u001b[0;34m)\u001b[0m \u001b[0;34m==\u001b[0m \u001b[0;36m1\u001b[0m\u001b[0;34m:\u001b[0m\u001b[0;34m\u001b[0m\u001b[0;34m\u001b[0m\u001b[0m\n\u001b[1;32m     41\u001b[0m             \u001b[0margs\u001b[0m \u001b[0;34m=\u001b[0m \u001b[0margs\u001b[0m \u001b[0;34m+\u001b[0m \u001b[0;34m(\u001b[0m\u001b[0;32mNone\u001b[0m\u001b[0;34m,\u001b[0m\u001b[0;34m)\u001b[0m\u001b[0;34m\u001b[0m\u001b[0;34m\u001b[0m\u001b[0m\n\u001b[0;32m---> 42\u001b[0;31m         \u001b[0;32mreturn\u001b[0m \u001b[0mdispatcher\u001b[0m\u001b[0;34m.\u001b[0m\u001b[0mdispatch\u001b[0m\u001b[0;34m(\u001b[0m\u001b[0margs\u001b[0m\u001b[0;34m[\u001b[0m\u001b[0;36m1\u001b[0m\u001b[0;34m]\u001b[0m\u001b[0;34m.\u001b[0m\u001b[0m__class__\u001b[0m\u001b[0;34m)\u001b[0m\u001b[0;34m(\u001b[0m\u001b[0;34m*\u001b[0m\u001b[0margs\u001b[0m\u001b[0;34m,\u001b[0m \u001b[0;34m**\u001b[0m\u001b[0mkw\u001b[0m\u001b[0;34m)\u001b[0m\u001b[0;34m\u001b[0m\u001b[0;34m\u001b[0m\u001b[0m\n\u001b[0m\u001b[1;32m     43\u001b[0m \u001b[0;34m\u001b[0m\u001b[0m\n\u001b[1;32m     44\u001b[0m     \u001b[0mwrapper\u001b[0m\u001b[0;34m.\u001b[0m\u001b[0mregister\u001b[0m \u001b[0;34m=\u001b[0m \u001b[0mdispatcher\u001b[0m\u001b[0;34m.\u001b[0m\u001b[0mregister\u001b[0m\u001b[0;34m\u001b[0m\u001b[0;34m\u001b[0m\u001b[0m\n",
      "\u001b[0;32m/media/sf_Dropbox/code/justuse/src/use/main.py\u001b[0m in \u001b[0;36m_use_str\u001b[0;34m(self, name, version, hash_algo, hashes, default, modes)\u001b[0m\n\u001b[1;32m    706\u001b[0m         \"\"\"\n\u001b[1;32m    707\u001b[0m         \u001b[0mpackage_name\u001b[0m\u001b[0;34m,\u001b[0m \u001b[0mmodule_name\u001b[0m \u001b[0;34m=\u001b[0m \u001b[0m_parse_name\u001b[0m\u001b[0;34m(\u001b[0m\u001b[0mname\u001b[0m\u001b[0;34m)\u001b[0m\u001b[0;34m\u001b[0m\u001b[0;34m\u001b[0m\u001b[0m\n\u001b[0;32m--> 708\u001b[0;31m         return self._use_package(\n\u001b[0m\u001b[1;32m    709\u001b[0m             \u001b[0mname\u001b[0m\u001b[0;34m=\u001b[0m\u001b[0mname\u001b[0m\u001b[0;34m,\u001b[0m\u001b[0;34m\u001b[0m\u001b[0;34m\u001b[0m\u001b[0m\n\u001b[1;32m    710\u001b[0m             \u001b[0mpackage_name\u001b[0m\u001b[0;34m=\u001b[0m\u001b[0mpackage_name\u001b[0m\u001b[0;34m,\u001b[0m\u001b[0;34m\u001b[0m\u001b[0;34m\u001b[0m\u001b[0m\n",
      "\u001b[0;32m/media/sf_Dropbox/code/justuse/src/use/main.py\u001b[0m in \u001b[0;36m_use_package\u001b[0;34m(self, name, package_name, module_name, version, hashes, modes, default, hash_algo, user_msg)\u001b[0m\n\u001b[1;32m    775\u001b[0m \u001b[0;34m\u001b[0m\u001b[0m\n\u001b[1;32m    776\u001b[0m         \u001b[0;32mif\u001b[0m \u001b[0misinstance\u001b[0m\u001b[0;34m(\u001b[0m\u001b[0mresult\u001b[0m\u001b[0;34m,\u001b[0m \u001b[0mException\u001b[0m\u001b[0;34m)\u001b[0m\u001b[0;34m:\u001b[0m\u001b[0;34m\u001b[0m\u001b[0;34m\u001b[0m\u001b[0m\n\u001b[0;32m--> 777\u001b[0;31m             \u001b[0;32mreturn\u001b[0m \u001b[0m_fail_or_default\u001b[0m\u001b[0;34m(\u001b[0m\u001b[0mresult\u001b[0m\u001b[0;34m,\u001b[0m \u001b[0mdefault\u001b[0m\u001b[0;34m)\u001b[0m\u001b[0;34m\u001b[0m\u001b[0;34m\u001b[0m\u001b[0m\n\u001b[0m\u001b[1;32m    778\u001b[0m \u001b[0;34m\u001b[0m\u001b[0m\n\u001b[1;32m    779\u001b[0m         \u001b[0;32mif\u001b[0m \u001b[0misinstance\u001b[0m\u001b[0;34m(\u001b[0m\u001b[0mresult\u001b[0m\u001b[0;34m,\u001b[0m \u001b[0mModuleType\u001b[0m\u001b[0;34m)\u001b[0m\u001b[0;34m:\u001b[0m\u001b[0;34m\u001b[0m\u001b[0;34m\u001b[0m\u001b[0m\n",
      "\u001b[0;32m/media/sf_Dropbox/code/justuse/src/use/pimp.py\u001b[0m in \u001b[0;36m_fail_or_default\u001b[0;34m(exception, default)\u001b[0m\n\u001b[1;32m    992\u001b[0m         \u001b[0;32mreturn\u001b[0m \u001b[0mdefault\u001b[0m  \u001b[0;31m# TODO: write test for default\u001b[0m\u001b[0;34m\u001b[0m\u001b[0;34m\u001b[0m\u001b[0m\n\u001b[1;32m    993\u001b[0m     \u001b[0;32melse\u001b[0m\u001b[0;34m:\u001b[0m\u001b[0;34m\u001b[0m\u001b[0;34m\u001b[0m\u001b[0m\n\u001b[0;32m--> 994\u001b[0;31m         \u001b[0;32mraise\u001b[0m \u001b[0mexception\u001b[0m\u001b[0;34m\u001b[0m\u001b[0;34m\u001b[0m\u001b[0m\n\u001b[0m",
      "\u001b[0;31mRuntimeWarning\u001b[0m: Please specify version and hash for auto-installation of 'pygame'.\nA webbrowser will open to the Snyk Advisor to check whether the package is vulnerable.\nIf you want to auto-install the latest version:\nuse(\"pygame\", version=\"2.1.0\", hashes={'U廁囲䔔䯭祓捹奫酭粔鞍廟䪹轟莥桯㩶䔾', 'Y鏓粼㤈攀諃亶鞿衛巇凯廀曓Ȯ嗊甪憉䊌', 'k䡈茪嚕䣟苎辗哞鮐鬳䮝䋾抨㢢㟡稯ě鷢', 'g㞇殅䍠興䰑螧鸃刨籞淰銂轋醬㣄拭瘃劈', 'i䌉耋愖鐟㣟㺍跜颊㹮㐘肵涐峜䮋髾膭鱏', 'N郒葛䰊鈀䡠袯嫩㜗强䝝射鼓㣋鄃䁫蜋鳂', 'T湎食閷慁钪㙫淬䡣嵈箚瓉㻦悡鐔润愆漐', 'W交圡曨⒃㗽䩙誧㚹馍㡼颹泒䗡㭝篕㧤䓄', 'H䏃卾㡒鬡駜㾋蝏聢Ĩ靯鱂兜㢷椔靇跎纫', 'U饎泽䓙镵踑ƺ䌽䥂䈷䘸銴㼘彍韑淌稸㜗', 'h薦䧎运罜銵誀攔婥Ű枍耿衐濗玏蝼㙂䲧', '乙攅彯㚔袜宩鮤鉾竄㯂䢱縝晞䏩堩㗢䨮', 'X榊㕣府龈傷䑀䐒䂉霰䈝聍蕂䵼鯎殶㽄濩', 'S灗鲮鏙䬬寅愈﨡蚶尌㲃溜緝剗嬚戝瘰㡧', 'K㘥栔奫姹瞾摠瞒畀䑼愕䛧䤨䑺㦁痺鈽晶', 'M㢿䭮䬪鼭忿T鵓脵瑆ʄ㱙蚫㵬膘綹薒摦', 'U垇姁圲氨ì骥厛斦搼叧胁觀忪雫商叜䳿', 'W䰽ɴ擂䘯膬䄌㜔匠枫舂呣鬾蠰岠㹜吩戂', 'S串忯䝦䭣戯珝䚳瓰笡酚ʻ旙仪膠Q㓍聐', 'Y哶鑹仞终莣栍㴷窏䴔䂜㼉檍䴭顑塃䨰蝉', 'j祙㡬鳄䅛弘陷囒渀袲铿徿璏韬敆蘶㗇榌', 'W瀜現嶜㚯㛣ȵ䪖䙧趚髠軰冄撻飡剏睎s', 'Q䖴䬽㐌木恶铠绹尘鏀滀鰧鉉擻膍㸢䀷匊', 'J娼䥺瑹鍖谫癦䯅恢搸烃诺嬝矫暠鸤嘀邦', 'X琲戍䨰䬪腴㿙賐岙䢴簖䶚䄼塚ɪ僚梘铡', 'K眯㮌䯵硑易跔疢塘奜Ɔ㟥咸躃鼤邴贼马', 'j拔谥臌鏠㦔訙辫榮嚓穚鶰緬㶟覶戬㚪䇡', 'Q˟勛㮙鏂鱾㲒怱果伽馽腳焵阌业句莇髹', 'I柵逐蜼灈嶹指謥㳞徭䓼刍劽㗙㖨蹠鋥䅒', 'W灗纟駦䈟阍鬭绦敐爉䭣簢晲钰唈㢥醌㚇', 'G厠碳ˤ懺㡉徛伟㷖场蟯飮㔶㿨斔氬殶樉', 'j阖眤㰁跕䠑湆鍋払龋牐彋掶䪊蟡輘㧅站', 'N哒斸饬顦藂寱蘫帾䴱蓪绘麂镵䒩塃䀷滍', 'L㮂扠䃆䑨権嶍栧漝㰲飋䏱癕名褷䥞擆鉮', 'Y丕鮼阉栻臝槑岔䳍ʣ唠嶼楟痽埒続薨掚', 'O鳩㘲厚㶔硌慎跲蕂泺耆莓鵣洷汅䭡鞀㕐', 'Q媅檮絬磙爲蘍萙痨䲛蜒壏峅徟惩姻㑯葎', 'Y蓯舖芯鯓亘妳朒僺䶵琷訯麃㻌ʐ嫁洭瀺', 'M忈晷礚勿瀯蠴逨篜鰸䋵璱堲芿吮貲芰箄', '䣍婾䦬杗嶘澆鈲漋蠗刈墛骖怫兿廕斥恐', 'O帲庬棺㻁䮲媺捞㧰醼蛢廛繎㶞稖旻踅滛', 'M囧㓺剝蓼夡堜䂼㤰䫰椈塜壖䫬襔將䮯绾', 'M躵炚礨㤮纐炢䎴昱鰷㱇弤劂銿䭻逌輜獷', 'W鈯遲㧨钌课䲐冒䀃䂦芙犓譩䘯䟮Õ嘣牵', 'P抾謙⒑宆䓊䏜劖璤卄ŉ鄗皞騲棗桫鳐侥', 'M鎪哰㖉㧌嗔蕤寇憾㕛硺翘臊片㡽朰䡿难', 'g䪰彙敌窽堵䰉凮㳶䵸䨢坵哌决嶒䛼㻚疶', 'N锏䦆㤗栦䣩䓀㢚鹹枚內䨙僔º嶧莸㟢苗', 'P⑩敳㖏鏭篹t諙㲤悪晌ɣ旉极廎虴抏蝐', 'S寸膌秂䈙䲎魽䄑㿶後蘊折㬓吖臺由昮鷡', 'N鮠捖羃棙挶㰔驷䂈筺吥䕭僢錟ɴ䭋痓駟', 'O䶝开䔮坅騔奥䤕ǰ揥夔苵䒔处麦艝嗚䂃', 'U䄙艐㜺䶆齺鴙䛖蒛䐣戬㒓㿜嬧筱頮鄶硶', 'K澙瓗朥烤糞䋯窒鍤躵蕳贫芐猸䣸䧲峆㸣', 'U髺漓粐駞偋虘梧橐龐㧘㵑䜞枘撻㓉恦紑', 'S䊓谗爚仞娧龀殃鶗阵㶉顒缹饳﨎鍙騯籢', 'R䀠襎嶇㛸粺乚斿䚬榗邎搀榉鉿㿙刷㟋䲭', 'XÍ權愞讨㛳開鹚㙋糷䖼瞐銛澣蔆锩䚬艣'}, modes=use.auto_install)"
     ]
    }
   ],
   "source": [
    "spam = use(\"pygame\", modes=use.auto_install)"
   ]
  },
  {
   "cell_type": "markdown",
   "metadata": {},
   "source": [
    "Now we're getting somewhere! Hmm.. it says \"To get some valuable insight on the health of this package, please check out https://snyk.io/advisor/python/spam\" - see for yourself!"
   ]
  },
  {
   "cell_type": "markdown",
   "metadata": {
    "execution": {
     "iopub.execute_input": "2021-11-23T20:24:34.295653Z",
     "iopub.status.busy": "2021-11-23T20:24:34.294878Z",
     "iopub.status.idle": "2021-11-23T20:24:34.314741Z",
     "shell.execute_reply": "2021-11-23T20:24:34.312597Z",
     "shell.execute_reply.started": "2021-11-23T20:24:34.295588Z"
    }
   },
   "source": [
    "You wonder what those chinese looking characters are? Well. Normally, hexdigests look something like `d6c1c1c53a988b3daf44c1865d40f86de48665639bfbd5eea1317eb083638a3a` which is way too verbose on a normal line of code and since you shouldn't manually type those anyway but only copy&paste, we thought what the heck - let's use the japanese, ascii, chinese and korean alphabets (thus JACK) to encode those hashes as compact as we can."
   ]
  },
  {
   "cell_type": "markdown",
   "metadata": {},
   "source": [
    "Have a look at the last line of the Error message - let's try to copy&paste it.."
   ]
  },
  {
   "cell_type": "code",
   "execution_count": 16,
   "metadata": {
    "execution": {
     "iopub.execute_input": "2021-11-26T00:10:14.038304Z",
     "iopub.status.busy": "2021-11-26T00:10:14.037806Z",
     "iopub.status.idle": "2021-11-26T00:10:15.340495Z",
     "shell.execute_reply": "2021-11-26T00:10:15.335560Z",
     "shell.execute_reply.started": "2021-11-26T00:10:14.038264Z"
    }
   },
   "outputs": [
    {
     "ename": "NameError",
     "evalue": "name 'color' is not defined",
     "output_type": "error",
     "traceback": [
      "\u001b[0;31m---------------------------------------------------------------------------\u001b[0m",
      "\u001b[0;31mNameError\u001b[0m                                 Traceback (most recent call last)",
      "\u001b[0;32m<ipython-input-16-f7034f5979b7>\u001b[0m in \u001b[0;36m<module>\u001b[0;34m\u001b[0m\n\u001b[0;32m----> 1\u001b[0;31m \u001b[0muse\u001b[0m\u001b[0;34m(\u001b[0m\u001b[0;34m\"pygame\"\u001b[0m\u001b[0;34m,\u001b[0m \u001b[0mversion\u001b[0m\u001b[0;34m=\u001b[0m\u001b[0;34m\"2.1.0\"\u001b[0m\u001b[0;34m,\u001b[0m \u001b[0mhashes\u001b[0m\u001b[0;34m=\u001b[0m\u001b[0;34m{\u001b[0m\u001b[0;34m'U廁囲䔔䯭祓捹奫酭粔鞍廟䪹轟莥桯㩶䔾'\u001b[0m\u001b[0;34m,\u001b[0m \u001b[0;34m'Y鏓粼㤈攀諃亶鞿衛巇凯廀曓Ȯ嗊甪憉䊌'\u001b[0m\u001b[0;34m,\u001b[0m \u001b[0;34m'k䡈茪嚕䣟苎辗哞鮐鬳䮝䋾抨㢢㟡稯ě鷢'\u001b[0m\u001b[0;34m,\u001b[0m \u001b[0;34m'g㞇殅䍠興䰑螧鸃刨籞淰銂轋醬㣄拭瘃劈'\u001b[0m\u001b[0;34m,\u001b[0m \u001b[0;34m'i䌉耋愖鐟㣟㺍跜颊㹮㐘肵涐峜䮋髾膭鱏'\u001b[0m\u001b[0;34m,\u001b[0m \u001b[0;34m'N郒葛䰊鈀䡠袯嫩㜗强䝝射鼓㣋鄃䁫蜋鳂'\u001b[0m\u001b[0;34m,\u001b[0m \u001b[0;34m'T湎食閷慁钪㙫淬䡣嵈箚瓉㻦悡鐔润愆漐'\u001b[0m\u001b[0;34m,\u001b[0m \u001b[0;34m'W交圡曨⒃㗽䩙誧㚹馍㡼颹泒䗡㭝篕㧤䓄'\u001b[0m\u001b[0;34m,\u001b[0m \u001b[0;34m'H䏃卾㡒鬡駜㾋蝏聢Ĩ靯鱂兜㢷椔靇跎纫'\u001b[0m\u001b[0;34m,\u001b[0m \u001b[0;34m'U饎泽䓙镵踑ƺ䌽䥂䈷䘸銴㼘彍韑淌稸㜗'\u001b[0m\u001b[0;34m,\u001b[0m \u001b[0;34m'h薦䧎运罜銵誀攔婥Ű枍耿衐濗玏蝼㙂䲧'\u001b[0m\u001b[0;34m,\u001b[0m \u001b[0;34m'乙攅彯㚔袜宩鮤鉾竄㯂䢱縝晞䏩堩㗢䨮'\u001b[0m\u001b[0;34m,\u001b[0m \u001b[0;34m'X榊㕣府龈傷䑀䐒䂉霰䈝聍蕂䵼鯎殶㽄濩'\u001b[0m\u001b[0;34m,\u001b[0m \u001b[0;34m'S灗鲮鏙䬬寅愈﨡蚶尌㲃溜緝剗嬚戝瘰㡧'\u001b[0m\u001b[0;34m,\u001b[0m \u001b[0;34m'K㘥栔奫姹瞾摠瞒畀䑼愕䛧䤨䑺㦁痺鈽晶'\u001b[0m\u001b[0;34m,\u001b[0m \u001b[0;34m'M㢿䭮䬪鼭忿T鵓脵瑆ʄ㱙蚫㵬膘綹薒摦'\u001b[0m\u001b[0;34m,\u001b[0m \u001b[0;34m'U垇姁圲氨ì骥厛斦搼叧胁觀忪雫商叜䳿'\u001b[0m\u001b[0;34m,\u001b[0m \u001b[0;34m'W䰽ɴ擂䘯膬䄌㜔匠枫舂呣鬾蠰岠㹜吩戂'\u001b[0m\u001b[0;34m,\u001b[0m \u001b[0;34m'S串忯䝦䭣戯珝䚳瓰笡酚ʻ旙仪膠Q㓍聐'\u001b[0m\u001b[0;34m,\u001b[0m \u001b[0;34m'Y哶鑹仞终莣栍㴷窏䴔䂜㼉檍䴭顑塃䨰蝉'\u001b[0m\u001b[0;34m,\u001b[0m \u001b[0;34m'j祙㡬鳄䅛弘陷囒渀袲铿徿璏韬敆蘶㗇榌'\u001b[0m\u001b[0;34m,\u001b[0m \u001b[0;34m'W瀜現嶜㚯㛣ȵ䪖䙧趚髠軰冄撻飡剏睎s'\u001b[0m\u001b[0;34m,\u001b[0m \u001b[0;34m'Q䖴䬽㐌木恶铠绹尘鏀滀鰧鉉擻膍㸢䀷匊'\u001b[0m\u001b[0;34m,\u001b[0m \u001b[0;34m'J娼䥺瑹鍖谫癦䯅恢搸烃诺嬝矫暠鸤嘀邦'\u001b[0m\u001b[0;34m,\u001b[0m \u001b[0;34m'X琲戍䨰䬪腴㿙賐岙䢴簖䶚䄼塚ɪ僚梘铡'\u001b[0m\u001b[0;34m,\u001b[0m \u001b[0;34m'K眯㮌䯵硑易跔疢塘奜Ɔ㟥咸躃鼤邴贼马'\u001b[0m\u001b[0;34m,\u001b[0m \u001b[0;34m'j拔谥臌鏠㦔訙辫榮嚓穚鶰緬㶟覶戬㚪䇡'\u001b[0m\u001b[0;34m,\u001b[0m \u001b[0;34m'Q˟勛㮙鏂鱾㲒怱果伽馽腳焵阌业句莇髹'\u001b[0m\u001b[0;34m,\u001b[0m \u001b[0;34m'I柵逐蜼灈嶹指謥㳞徭䓼刍劽㗙㖨蹠鋥䅒'\u001b[0m\u001b[0;34m,\u001b[0m \u001b[0;34m'W灗纟駦䈟阍鬭绦敐爉䭣簢晲钰唈㢥醌㚇'\u001b[0m\u001b[0;34m,\u001b[0m \u001b[0;34m'G厠碳ˤ懺㡉徛伟㷖场蟯飮㔶㿨斔氬殶樉'\u001b[0m\u001b[0;34m,\u001b[0m \u001b[0;34m'j阖眤㰁跕䠑湆鍋払龋牐彋掶䪊蟡輘㧅站'\u001b[0m\u001b[0;34m,\u001b[0m \u001b[0;34m'N哒斸饬顦藂寱蘫帾䴱蓪绘麂镵䒩塃䀷滍'\u001b[0m\u001b[0;34m,\u001b[0m \u001b[0;34m'L㮂扠䃆䑨権嶍栧漝㰲飋䏱癕名褷䥞擆鉮'\u001b[0m\u001b[0;34m,\u001b[0m \u001b[0;34m'Y丕鮼阉栻臝槑岔䳍ʣ唠嶼楟痽埒続薨掚'\u001b[0m\u001b[0;34m,\u001b[0m \u001b[0;34m'O鳩㘲厚㶔硌慎跲蕂泺耆莓鵣洷汅䭡鞀㕐'\u001b[0m\u001b[0;34m,\u001b[0m \u001b[0;34m'Q媅檮絬磙爲蘍萙痨䲛蜒壏峅徟惩姻㑯葎'\u001b[0m\u001b[0;34m,\u001b[0m \u001b[0;34m'Y蓯舖芯鯓亘妳朒僺䶵琷訯麃㻌ʐ嫁洭瀺'\u001b[0m\u001b[0;34m,\u001b[0m \u001b[0;34m'M忈晷礚勿瀯蠴逨篜鰸䋵璱堲芿吮貲芰箄'\u001b[0m\u001b[0;34m,\u001b[0m \u001b[0;34m'䣍婾䦬杗嶘澆鈲漋蠗刈墛骖怫兿廕斥恐'\u001b[0m\u001b[0;34m,\u001b[0m \u001b[0;34m'O帲庬棺㻁䮲媺捞㧰醼蛢廛繎㶞稖旻踅滛'\u001b[0m\u001b[0;34m,\u001b[0m \u001b[0;34m'M囧㓺剝蓼夡堜䂼㤰䫰椈塜壖䫬襔將䮯绾'\u001b[0m\u001b[0;34m,\u001b[0m \u001b[0;34m'M躵炚礨㤮纐炢䎴昱鰷㱇弤劂銿䭻逌輜獷'\u001b[0m\u001b[0;34m,\u001b[0m \u001b[0;34m'W鈯遲㧨钌课䲐冒䀃䂦芙犓譩䘯䟮Õ嘣牵'\u001b[0m\u001b[0;34m,\u001b[0m \u001b[0;34m'P抾謙⒑宆䓊䏜劖璤卄ŉ鄗皞騲棗桫鳐侥'\u001b[0m\u001b[0;34m,\u001b[0m \u001b[0;34m'M鎪哰㖉㧌嗔蕤寇憾㕛硺翘臊片㡽朰䡿难'\u001b[0m\u001b[0;34m,\u001b[0m \u001b[0;34m'g䪰彙敌窽堵䰉凮㳶䵸䨢坵哌决嶒䛼㻚疶'\u001b[0m\u001b[0;34m,\u001b[0m \u001b[0;34m'N锏䦆㤗栦䣩䓀㢚鹹枚內䨙僔º嶧莸㟢苗'\u001b[0m\u001b[0;34m,\u001b[0m \u001b[0;34m'P⑩敳㖏鏭篹t諙㲤悪晌ɣ旉极廎虴抏蝐'\u001b[0m\u001b[0;34m,\u001b[0m \u001b[0;34m'S寸膌秂䈙䲎魽䄑㿶後蘊折㬓吖臺由昮鷡'\u001b[0m\u001b[0;34m,\u001b[0m \u001b[0;34m'N鮠捖羃棙挶㰔驷䂈筺吥䕭僢錟ɴ䭋痓駟'\u001b[0m\u001b[0;34m,\u001b[0m \u001b[0;34m'O䶝开䔮坅騔奥䤕ǰ揥夔苵䒔处麦艝嗚䂃'\u001b[0m\u001b[0;34m,\u001b[0m \u001b[0;34m'U䄙艐㜺䶆齺鴙䛖蒛䐣戬㒓㿜嬧筱頮鄶硶'\u001b[0m\u001b[0;34m,\u001b[0m \u001b[0;34m'K澙瓗朥烤糞䋯窒鍤躵蕳贫芐猸䣸䧲峆㸣'\u001b[0m\u001b[0;34m,\u001b[0m \u001b[0;34m'U髺漓粐駞偋虘梧橐龐㧘㵑䜞枘撻㓉恦紑'\u001b[0m\u001b[0;34m,\u001b[0m \u001b[0;34m'S䊓谗爚仞娧龀殃鶗阵㶉顒缹饳﨎鍙騯籢'\u001b[0m\u001b[0;34m,\u001b[0m \u001b[0;34m'R䀠襎嶇㛸粺乚斿䚬榗邎搀榉鉿㿙刷㟋䲭'\u001b[0m\u001b[0;34m,\u001b[0m \u001b[0;34m'XÍ權愞讨㛳開鹚㙋糷䖼瞐銛澣蔆锩䚬艣'\u001b[0m\u001b[0;34m}\u001b[0m\u001b[0;34m,\u001b[0m \u001b[0mmodes\u001b[0m\u001b[0;34m=\u001b[0m\u001b[0muse\u001b[0m\u001b[0;34m.\u001b[0m\u001b[0mauto_install\u001b[0m\u001b[0;34m)\u001b[0m\u001b[0;34m\u001b[0m\u001b[0;34m\u001b[0m\u001b[0m\n\u001b[0m",
      "\u001b[0;32m/media/sf_Dropbox/code/justuse/src/use/main.py\u001b[0m in \u001b[0;36m__call__\u001b[0;34m(self, *args, **kwargs)\u001b[0m\n\u001b[1;32m    101\u001b[0m     \u001b[0;32mdef\u001b[0m \u001b[0m__call__\u001b[0m\u001b[0;34m(\u001b[0m\u001b[0mself\u001b[0m\u001b[0;34m,\u001b[0m \u001b[0;34m*\u001b[0m\u001b[0margs\u001b[0m\u001b[0;34m,\u001b[0m \u001b[0;34m**\u001b[0m\u001b[0mkwargs\u001b[0m\u001b[0;34m)\u001b[0m\u001b[0;34m:\u001b[0m\u001b[0;34m\u001b[0m\u001b[0;34m\u001b[0m\u001b[0m\n\u001b[1;32m    102\u001b[0m         \u001b[0;32mwith\u001b[0m \u001b[0mself\u001b[0m\u001b[0;34m.\u001b[0m\u001b[0m__condition\u001b[0m\u001b[0;34m:\u001b[0m\u001b[0;34m\u001b[0m\u001b[0;34m\u001b[0m\u001b[0m\n\u001b[0;32m--> 103\u001b[0;31m             \u001b[0;32mreturn\u001b[0m \u001b[0mself\u001b[0m\u001b[0;34m.\u001b[0m\u001b[0m__implementation\u001b[0m\u001b[0;34m(\u001b[0m\u001b[0;34m*\u001b[0m\u001b[0margs\u001b[0m\u001b[0;34m,\u001b[0m \u001b[0;34m**\u001b[0m\u001b[0mkwargs\u001b[0m\u001b[0;34m)\u001b[0m\u001b[0;34m\u001b[0m\u001b[0;34m\u001b[0m\u001b[0m\n\u001b[0m\u001b[1;32m    104\u001b[0m \u001b[0;34m\u001b[0m\u001b[0m\n\u001b[1;32m    105\u001b[0m \u001b[0;34m\u001b[0m\u001b[0m\n",
      "\u001b[0;32m/media/sf_Dropbox/code/justuse/src/use/tools.py\u001b[0m in \u001b[0;36mwrapper\u001b[0;34m(*args, **kw)\u001b[0m\n\u001b[1;32m     40\u001b[0m         \u001b[0;32mif\u001b[0m \u001b[0mlen\u001b[0m\u001b[0;34m(\u001b[0m\u001b[0margs\u001b[0m\u001b[0;34m)\u001b[0m \u001b[0;34m==\u001b[0m \u001b[0;36m1\u001b[0m\u001b[0;34m:\u001b[0m\u001b[0;34m\u001b[0m\u001b[0;34m\u001b[0m\u001b[0m\n\u001b[1;32m     41\u001b[0m             \u001b[0margs\u001b[0m \u001b[0;34m=\u001b[0m \u001b[0margs\u001b[0m \u001b[0;34m+\u001b[0m \u001b[0;34m(\u001b[0m\u001b[0;32mNone\u001b[0m\u001b[0;34m,\u001b[0m\u001b[0;34m)\u001b[0m\u001b[0;34m\u001b[0m\u001b[0;34m\u001b[0m\u001b[0m\n\u001b[0;32m---> 42\u001b[0;31m         \u001b[0;32mreturn\u001b[0m \u001b[0mdispatcher\u001b[0m\u001b[0;34m.\u001b[0m\u001b[0mdispatch\u001b[0m\u001b[0;34m(\u001b[0m\u001b[0margs\u001b[0m\u001b[0;34m[\u001b[0m\u001b[0;36m1\u001b[0m\u001b[0;34m]\u001b[0m\u001b[0;34m.\u001b[0m\u001b[0m__class__\u001b[0m\u001b[0;34m)\u001b[0m\u001b[0;34m(\u001b[0m\u001b[0;34m*\u001b[0m\u001b[0margs\u001b[0m\u001b[0;34m,\u001b[0m \u001b[0;34m**\u001b[0m\u001b[0mkw\u001b[0m\u001b[0;34m)\u001b[0m\u001b[0;34m\u001b[0m\u001b[0;34m\u001b[0m\u001b[0m\n\u001b[0m\u001b[1;32m     43\u001b[0m \u001b[0;34m\u001b[0m\u001b[0m\n\u001b[1;32m     44\u001b[0m     \u001b[0mwrapper\u001b[0m\u001b[0;34m.\u001b[0m\u001b[0mregister\u001b[0m \u001b[0;34m=\u001b[0m \u001b[0mdispatcher\u001b[0m\u001b[0;34m.\u001b[0m\u001b[0mregister\u001b[0m\u001b[0;34m\u001b[0m\u001b[0;34m\u001b[0m\u001b[0m\n",
      "\u001b[0;32m/media/sf_Dropbox/code/justuse/src/use/main.py\u001b[0m in \u001b[0;36m_use_str\u001b[0;34m(self, name, version, hash_algo, hashes, default, modes)\u001b[0m\n\u001b[1;32m    706\u001b[0m         \"\"\"\n\u001b[1;32m    707\u001b[0m         \u001b[0mpackage_name\u001b[0m\u001b[0;34m,\u001b[0m \u001b[0mmodule_name\u001b[0m \u001b[0;34m=\u001b[0m \u001b[0m_parse_name\u001b[0m\u001b[0;34m(\u001b[0m\u001b[0mname\u001b[0m\u001b[0;34m)\u001b[0m\u001b[0;34m\u001b[0m\u001b[0;34m\u001b[0m\u001b[0m\n\u001b[0;32m--> 708\u001b[0;31m         return self._use_package(\n\u001b[0m\u001b[1;32m    709\u001b[0m             \u001b[0mname\u001b[0m\u001b[0;34m=\u001b[0m\u001b[0mname\u001b[0m\u001b[0;34m,\u001b[0m\u001b[0;34m\u001b[0m\u001b[0;34m\u001b[0m\u001b[0m\n\u001b[1;32m    710\u001b[0m             \u001b[0mpackage_name\u001b[0m\u001b[0;34m=\u001b[0m\u001b[0mpackage_name\u001b[0m\u001b[0;34m,\u001b[0m\u001b[0;34m\u001b[0m\u001b[0;34m\u001b[0m\u001b[0m\n",
      "\u001b[0;32m/media/sf_Dropbox/code/justuse/src/use/main.py\u001b[0m in \u001b[0;36m_use_package\u001b[0;34m(self, name, package_name, module_name, version, hashes, modes, default, hash_algo, user_msg)\u001b[0m\n\u001b[1;32m    771\u001b[0m             \u001b[0;34m\"sys_version\"\u001b[0m\u001b[0;34m:\u001b[0m \u001b[0mVersion\u001b[0m\u001b[0;34m(\u001b[0m\u001b[0;34m\".\"\u001b[0m\u001b[0;34m.\u001b[0m\u001b[0mjoin\u001b[0m\u001b[0;34m(\u001b[0m\u001b[0mmap\u001b[0m\u001b[0;34m(\u001b[0m\u001b[0mstr\u001b[0m\u001b[0;34m,\u001b[0m \u001b[0msys\u001b[0m\u001b[0;34m.\u001b[0m\u001b[0mversion_info\u001b[0m\u001b[0;34m[\u001b[0m\u001b[0;36m0\u001b[0m\u001b[0;34m:\u001b[0m\u001b[0;36m3\u001b[0m\u001b[0;34m]\u001b[0m\u001b[0;34m)\u001b[0m\u001b[0;34m)\u001b[0m\u001b[0;34m)\u001b[0m\u001b[0;34m,\u001b[0m\u001b[0;34m\u001b[0m\u001b[0;34m\u001b[0m\u001b[0m\n\u001b[1;32m    772\u001b[0m         }\n\u001b[0;32m--> 773\u001b[0;31m         \u001b[0mresult\u001b[0m \u001b[0;34m=\u001b[0m \u001b[0mbuffet_table\u001b[0m\u001b[0;34m(\u001b[0m\u001b[0mcase\u001b[0m\u001b[0;34m,\u001b[0m \u001b[0mkwargs\u001b[0m\u001b[0;34m)\u001b[0m\u001b[0;34m\u001b[0m\u001b[0;34m\u001b[0m\u001b[0m\n\u001b[0m\u001b[1;32m    774\u001b[0m         \u001b[0;32massert\u001b[0m \u001b[0mresult\u001b[0m\u001b[0;34m\u001b[0m\u001b[0;34m\u001b[0m\u001b[0m\n\u001b[1;32m    775\u001b[0m \u001b[0;34m\u001b[0m\u001b[0m\n",
      "\u001b[0;32m/media/sf_Dropbox/code/justuse/src/use/buffet_old.py\u001b[0m in \u001b[0;36mbuffet_table\u001b[0;34m(case, kwargs)\u001b[0m\n\u001b[1;32m     38\u001b[0m     \u001b[0mlog\u001b[0m\u001b[0;34m.\u001b[0m\u001b[0minfo\u001b[0m\u001b[0;34m(\u001b[0m\u001b[0;34m\"case_func = '%s' %s\"\u001b[0m\u001b[0;34m,\u001b[0m \u001b[0mcase_func\u001b[0m\u001b[0;34m.\u001b[0m\u001b[0m__qualname__\u001b[0m\u001b[0;34m,\u001b[0m \u001b[0mcase_func\u001b[0m\u001b[0;34m)\u001b[0m\u001b[0;34m\u001b[0m\u001b[0;34m\u001b[0m\u001b[0m\n\u001b[1;32m     39\u001b[0m     \u001b[0mlog\u001b[0m\u001b[0;34m.\u001b[0m\u001b[0minfo\u001b[0m\u001b[0;34m(\u001b[0m\u001b[0;34m\"kwargs = %s\"\u001b[0m\u001b[0;34m,\u001b[0m \u001b[0mrepr\u001b[0m\u001b[0;34m(\u001b[0m\u001b[0mkwargs\u001b[0m\u001b[0;34m)\u001b[0m\u001b[0;34m)\u001b[0m\u001b[0;34m\u001b[0m\u001b[0;34m\u001b[0m\u001b[0m\n\u001b[0;32m---> 40\u001b[0;31m     \u001b[0mresult\u001b[0m \u001b[0;34m=\u001b[0m \u001b[0mcase_func\u001b[0m\u001b[0;34m(\u001b[0m\u001b[0;34m)\u001b[0m\u001b[0;34m\u001b[0m\u001b[0;34m\u001b[0m\u001b[0m\n\u001b[0m\u001b[1;32m     41\u001b[0m     \u001b[0mlog\u001b[0m\u001b[0;34m.\u001b[0m\u001b[0minfo\u001b[0m\u001b[0;34m(\u001b[0m\u001b[0;34m\"result = %s\"\u001b[0m\u001b[0;34m,\u001b[0m \u001b[0mrepr\u001b[0m\u001b[0;34m(\u001b[0m\u001b[0mresult\u001b[0m\u001b[0;34m)\u001b[0m\u001b[0;34m)\u001b[0m\u001b[0;34m\u001b[0m\u001b[0;34m\u001b[0m\u001b[0m\n\u001b[1;32m     42\u001b[0m     \u001b[0;32mreturn\u001b[0m \u001b[0mresult\u001b[0m\u001b[0;34m\u001b[0m\u001b[0;34m\u001b[0m\u001b[0m\n",
      "\u001b[0;32m/media/sf_Dropbox/code/justuse/src/use/buffet_old.py\u001b[0m in \u001b[0;36m<lambda>\u001b[0;34m()\u001b[0m\n\u001b[1;32m     30\u001b[0m         \u001b[0;34m(\u001b[0m\u001b[0;36m0\u001b[0m\u001b[0;34m,\u001b[0m \u001b[0;36m1\u001b[0m\u001b[0;34m,\u001b[0m \u001b[0;36m1\u001b[0m\u001b[0;34m,\u001b[0m \u001b[0;36m1\u001b[0m\u001b[0;34m)\u001b[0m\u001b[0;34m:\u001b[0m \u001b[0;32mlambda\u001b[0m\u001b[0;34m:\u001b[0m \u001b[0mpimp\u001b[0m\u001b[0;34m.\u001b[0m\u001b[0m_pebkac_no_version\u001b[0m\u001b[0;34m(\u001b[0m\u001b[0;34m**\u001b[0m\u001b[0mkwargs\u001b[0m\u001b[0;34m)\u001b[0m\u001b[0;34m,\u001b[0m\u001b[0;34m\u001b[0m\u001b[0;34m\u001b[0m\u001b[0m\n\u001b[1;32m     31\u001b[0m         \u001b[0;34m(\u001b[0m\u001b[0;36m1\u001b[0m\u001b[0;34m,\u001b[0m \u001b[0;36m0\u001b[0m\u001b[0;34m,\u001b[0m \u001b[0;36m1\u001b[0m\u001b[0;34m,\u001b[0m \u001b[0;36m1\u001b[0m\u001b[0;34m)\u001b[0m\u001b[0;34m:\u001b[0m \u001b[0;32mlambda\u001b[0m\u001b[0;34m:\u001b[0m \u001b[0mpimp\u001b[0m\u001b[0;34m.\u001b[0m\u001b[0m_pebkac_no_hash\u001b[0m\u001b[0;34m(\u001b[0m\u001b[0;34m**\u001b[0m\u001b[0mkwargs\u001b[0m\u001b[0;34m)\u001b[0m\u001b[0;34m,\u001b[0m\u001b[0;34m\u001b[0m\u001b[0;34m\u001b[0m\u001b[0m\n\u001b[0;32m---> 32\u001b[0;31m         \u001b[0;34m(\u001b[0m\u001b[0;36m1\u001b[0m\u001b[0;34m,\u001b[0m \u001b[0;36m1\u001b[0m\u001b[0;34m,\u001b[0m \u001b[0;36m0\u001b[0m\u001b[0;34m,\u001b[0m \u001b[0;36m1\u001b[0m\u001b[0;34m)\u001b[0m\u001b[0;34m:\u001b[0m \u001b[0;32mlambda\u001b[0m\u001b[0;34m:\u001b[0m \u001b[0mpimp\u001b[0m\u001b[0;34m.\u001b[0m\u001b[0m_auto_install\u001b[0m\u001b[0;34m(\u001b[0m\u001b[0;34m**\u001b[0m\u001b[0mkwargs\u001b[0m\u001b[0;34m)\u001b[0m\u001b[0;34m,\u001b[0m\u001b[0;34m\u001b[0m\u001b[0;34m\u001b[0m\u001b[0m\n\u001b[0m\u001b[1;32m     33\u001b[0m         \u001b[0;34m(\u001b[0m\u001b[0;36m1\u001b[0m\u001b[0;34m,\u001b[0m \u001b[0;36m1\u001b[0m\u001b[0;34m,\u001b[0m \u001b[0;36m1\u001b[0m\u001b[0;34m,\u001b[0m \u001b[0;36m0\u001b[0m\u001b[0;34m)\u001b[0m\u001b[0;34m:\u001b[0m \u001b[0;32mlambda\u001b[0m\u001b[0;34m:\u001b[0m \u001b[0mpimp\u001b[0m\u001b[0;34m.\u001b[0m\u001b[0m_ensure_version\u001b[0m\u001b[0;34m(\u001b[0m\u001b[0mpimp\u001b[0m\u001b[0;34m.\u001b[0m\u001b[0m_import_public_no_install\u001b[0m\u001b[0;34m(\u001b[0m\u001b[0;34m**\u001b[0m\u001b[0mkwargs\u001b[0m\u001b[0;34m)\u001b[0m\u001b[0;34m,\u001b[0m \u001b[0;34m**\u001b[0m\u001b[0mkwargs\u001b[0m\u001b[0;34m)\u001b[0m\u001b[0;34m,\u001b[0m\u001b[0;34m\u001b[0m\u001b[0;34m\u001b[0m\u001b[0m\n\u001b[1;32m     34\u001b[0m         (1, 1, 1, 1): lambda: pimp._auto_install(\n",
      "\u001b[0;32m/media/sf_Dropbox/code/justuse/src/use/pimp.py\u001b[0m in \u001b[0;36m_auto_install\u001b[0;34m(name, func, version, hash_algo, package_name, module_name, **kwargs)\u001b[0m\n\u001b[1;32m    438\u001b[0m         )\n\u001b[1;32m    439\u001b[0m         return (\n\u001b[0;32m--> 440\u001b[0;31m             mod := _load_venv_entry(\n\u001b[0m\u001b[1;32m    441\u001b[0m                 \u001b[0mpackage_name\u001b[0m\u001b[0;34m=\u001b[0m\u001b[0mpackage_name\u001b[0m\u001b[0;34m,\u001b[0m\u001b[0;34m\u001b[0m\u001b[0;34m\u001b[0m\u001b[0m\n\u001b[1;32m    442\u001b[0m                 \u001b[0mmodule_name\u001b[0m\u001b[0;34m=\u001b[0m\u001b[0mmodule_name\u001b[0m\u001b[0;34m,\u001b[0m\u001b[0;34m\u001b[0m\u001b[0;34m\u001b[0m\u001b[0m\n",
      "\u001b[0;32m/media/sf_Dropbox/code/justuse/src/use/pimp.py\u001b[0m in \u001b[0;36m_load_venv_entry\u001b[0;34m(package_name, module_name, installation_path, module_path)\u001b[0m\n\u001b[1;32m    747\u001b[0m                     \u001b[0mos\u001b[0m\u001b[0;34m.\u001b[0m\u001b[0mchdir\u001b[0m\u001b[0;34m(\u001b[0m\u001b[0mcwd\u001b[0m\u001b[0;34m)\u001b[0m\u001b[0;34m\u001b[0m\u001b[0;34m\u001b[0m\u001b[0m\n\u001b[1;32m    748\u001b[0m                     \u001b[0mos\u001b[0m\u001b[0;34m.\u001b[0m\u001b[0mchdir\u001b[0m\u001b[0;34m(\u001b[0m\u001b[0mvariant\u001b[0m\u001b[0;34m)\u001b[0m\u001b[0;34m\u001b[0m\u001b[0;34m\u001b[0m\u001b[0m\n\u001b[0;32m--> 749\u001b[0;31m                     return _build_mod(\n\u001b[0m\u001b[1;32m    750\u001b[0m                         \u001b[0mname\u001b[0m\u001b[0;34m=\u001b[0m\u001b[0;34m(\u001b[0m\u001b[0mmodule_name\u001b[0m\u001b[0;34m.\u001b[0m\u001b[0mreplace\u001b[0m\u001b[0;34m(\u001b[0m\u001b[0;34m\"/\"\u001b[0m\u001b[0;34m,\u001b[0m \u001b[0;34m\".\"\u001b[0m\u001b[0;34m)\u001b[0m\u001b[0;34m)\u001b[0m\u001b[0;34m,\u001b[0m\u001b[0;34m\u001b[0m\u001b[0;34m\u001b[0m\u001b[0m\n\u001b[1;32m    751\u001b[0m                         \u001b[0mcode\u001b[0m\u001b[0;34m=\u001b[0m\u001b[0mcode_file\u001b[0m\u001b[0;34m.\u001b[0m\u001b[0mread\u001b[0m\u001b[0;34m(\u001b[0m\u001b[0;34m)\u001b[0m\u001b[0;34m,\u001b[0m\u001b[0;34m\u001b[0m\u001b[0;34m\u001b[0m\u001b[0m\n",
      "\u001b[0;32m/media/sf_Dropbox/code/justuse/src/use/pimp.py\u001b[0m in \u001b[0;36m_build_mod\u001b[0;34m(name, code, initial_globals, module_path)\u001b[0m\n\u001b[1;32m    982\u001b[0m     \u001b[0;32mtry\u001b[0m\u001b[0;34m:\u001b[0m\u001b[0;34m\u001b[0m\u001b[0;34m\u001b[0m\u001b[0m\n\u001b[1;32m    983\u001b[0m         \u001b[0mcodeobj\u001b[0m \u001b[0;34m=\u001b[0m \u001b[0mcompile\u001b[0m\u001b[0;34m(\u001b[0m\u001b[0mcode\u001b[0m\u001b[0;34m,\u001b[0m \u001b[0mmodule_path\u001b[0m\u001b[0;34m,\u001b[0m \u001b[0;34m\"exec\"\u001b[0m\u001b[0;34m)\u001b[0m\u001b[0;34m\u001b[0m\u001b[0;34m\u001b[0m\u001b[0m\n\u001b[0;32m--> 984\u001b[0;31m         \u001b[0mexec\u001b[0m\u001b[0;34m(\u001b[0m\u001b[0mcodeobj\u001b[0m\u001b[0;34m,\u001b[0m \u001b[0mmod\u001b[0m\u001b[0;34m.\u001b[0m\u001b[0m__dict__\u001b[0m\u001b[0;34m)\u001b[0m\u001b[0;34m\u001b[0m\u001b[0;34m\u001b[0m\u001b[0m\n\u001b[0m\u001b[1;32m    985\u001b[0m     \u001b[0;32mexcept\u001b[0m\u001b[0;34m:\u001b[0m  \u001b[0;31m# reraise anything without handling - clean and simple.\u001b[0m\u001b[0;34m\u001b[0m\u001b[0;34m\u001b[0m\u001b[0m\n\u001b[1;32m    986\u001b[0m         \u001b[0;32mraise\u001b[0m\u001b[0;34m\u001b[0m\u001b[0;34m\u001b[0m\u001b[0m\n",
      "\u001b[0;32m~/.justuse-python/venv/pygame/2.1.0/lib/python3.8/site-packages/pygame/__init__.py\u001b[0m in \u001b[0;36m<module>\u001b[0;34m\u001b[0m\n\u001b[1;32m     85\u001b[0m \u001b[0;32mfrom\u001b[0m \u001b[0mpygame\u001b[0m\u001b[0;34m.\u001b[0m\u001b[0mcompat\u001b[0m \u001b[0;32mimport\u001b[0m \u001b[0mPY_MAJOR_VERSION\u001b[0m\u001b[0;34m\u001b[0m\u001b[0;34m\u001b[0m\u001b[0m\n\u001b[1;32m     86\u001b[0m \u001b[0;32mfrom\u001b[0m \u001b[0mpygame\u001b[0m\u001b[0;34m.\u001b[0m\u001b[0mrwobject\u001b[0m \u001b[0;32mimport\u001b[0m \u001b[0mencode_string\u001b[0m\u001b[0;34m,\u001b[0m \u001b[0mencode_file_path\u001b[0m\u001b[0;34m\u001b[0m\u001b[0;34m\u001b[0m\u001b[0m\n\u001b[0;32m---> 87\u001b[0;31m \u001b[0;32mimport\u001b[0m \u001b[0mpygame\u001b[0m\u001b[0;34m.\u001b[0m\u001b[0msurflock\u001b[0m\u001b[0;34m\u001b[0m\u001b[0;34m\u001b[0m\u001b[0m\n\u001b[0m\u001b[1;32m     88\u001b[0m \u001b[0;32mimport\u001b[0m \u001b[0mpygame\u001b[0m\u001b[0;34m.\u001b[0m\u001b[0mcolor\u001b[0m\u001b[0;34m\u001b[0m\u001b[0;34m\u001b[0m\u001b[0m\n\u001b[1;32m     89\u001b[0m \u001b[0mColor\u001b[0m \u001b[0;34m=\u001b[0m \u001b[0mcolor\u001b[0m\u001b[0;34m.\u001b[0m\u001b[0mColor\u001b[0m\u001b[0;34m\u001b[0m\u001b[0;34m\u001b[0m\u001b[0m\n",
      "\u001b[0;32m~/.justuse-python/venv/pygame/2.1.0/lib/python3.8/site-packages/pygame/__init__.py\u001b[0m in \u001b[0;36m<module>\u001b[0;34m\u001b[0m\n\u001b[1;32m     87\u001b[0m \u001b[0;32mimport\u001b[0m \u001b[0mpygame\u001b[0m\u001b[0;34m.\u001b[0m\u001b[0msurflock\u001b[0m\u001b[0;34m\u001b[0m\u001b[0;34m\u001b[0m\u001b[0m\n\u001b[1;32m     88\u001b[0m \u001b[0;32mimport\u001b[0m \u001b[0mpygame\u001b[0m\u001b[0;34m.\u001b[0m\u001b[0mcolor\u001b[0m\u001b[0;34m\u001b[0m\u001b[0;34m\u001b[0m\u001b[0m\n\u001b[0;32m---> 89\u001b[0;31m \u001b[0mColor\u001b[0m \u001b[0;34m=\u001b[0m \u001b[0mcolor\u001b[0m\u001b[0;34m.\u001b[0m\u001b[0mColor\u001b[0m\u001b[0;34m\u001b[0m\u001b[0;34m\u001b[0m\u001b[0m\n\u001b[0m\u001b[1;32m     90\u001b[0m \u001b[0;32mimport\u001b[0m \u001b[0mpygame\u001b[0m\u001b[0;34m.\u001b[0m\u001b[0mbufferproxy\u001b[0m\u001b[0;34m\u001b[0m\u001b[0;34m\u001b[0m\u001b[0m\n\u001b[1;32m     91\u001b[0m \u001b[0mBufferProxy\u001b[0m \u001b[0;34m=\u001b[0m \u001b[0mbufferproxy\u001b[0m\u001b[0;34m.\u001b[0m\u001b[0mBufferProxy\u001b[0m\u001b[0;34m\u001b[0m\u001b[0;34m\u001b[0m\u001b[0m\n",
      "\u001b[0;31mNameError\u001b[0m: name 'color' is not defined"
     ]
    }
   ],
   "source": [
    "use(\"pygame\", version=\"2.1.0\", hashes={'U廁囲䔔䯭祓捹奫酭粔鞍廟䪹轟莥桯㩶䔾', 'Y鏓粼㤈攀諃亶鞿衛巇凯廀曓Ȯ嗊甪憉䊌', 'k䡈茪嚕䣟苎辗哞鮐鬳䮝䋾抨㢢㟡稯ě鷢', 'g㞇殅䍠興䰑螧鸃刨籞淰銂轋醬㣄拭瘃劈', 'i䌉耋愖鐟㣟㺍跜颊㹮㐘肵涐峜䮋髾膭鱏', 'N郒葛䰊鈀䡠袯嫩㜗强䝝射鼓㣋鄃䁫蜋鳂', 'T湎食閷慁钪㙫淬䡣嵈箚瓉㻦悡鐔润愆漐', 'W交圡曨⒃㗽䩙誧㚹馍㡼颹泒䗡㭝篕㧤䓄', 'H䏃卾㡒鬡駜㾋蝏聢Ĩ靯鱂兜㢷椔靇跎纫', 'U饎泽䓙镵踑ƺ䌽䥂䈷䘸銴㼘彍韑淌稸㜗', 'h薦䧎运罜銵誀攔婥Ű枍耿衐濗玏蝼㙂䲧', '乙攅彯㚔袜宩鮤鉾竄㯂䢱縝晞䏩堩㗢䨮', 'X榊㕣府龈傷䑀䐒䂉霰䈝聍蕂䵼鯎殶㽄濩', 'S灗鲮鏙䬬寅愈﨡蚶尌㲃溜緝剗嬚戝瘰㡧', 'K㘥栔奫姹瞾摠瞒畀䑼愕䛧䤨䑺㦁痺鈽晶', 'M㢿䭮䬪鼭忿T鵓脵瑆ʄ㱙蚫㵬膘綹薒摦', 'U垇姁圲氨ì骥厛斦搼叧胁觀忪雫商叜䳿', 'W䰽ɴ擂䘯膬䄌㜔匠枫舂呣鬾蠰岠㹜吩戂', 'S串忯䝦䭣戯珝䚳瓰笡酚ʻ旙仪膠Q㓍聐', 'Y哶鑹仞终莣栍㴷窏䴔䂜㼉檍䴭顑塃䨰蝉', 'j祙㡬鳄䅛弘陷囒渀袲铿徿璏韬敆蘶㗇榌', 'W瀜現嶜㚯㛣ȵ䪖䙧趚髠軰冄撻飡剏睎s', 'Q䖴䬽㐌木恶铠绹尘鏀滀鰧鉉擻膍㸢䀷匊', 'J娼䥺瑹鍖谫癦䯅恢搸烃诺嬝矫暠鸤嘀邦', 'X琲戍䨰䬪腴㿙賐岙䢴簖䶚䄼塚ɪ僚梘铡', 'K眯㮌䯵硑易跔疢塘奜Ɔ㟥咸躃鼤邴贼马', 'j拔谥臌鏠㦔訙辫榮嚓穚鶰緬㶟覶戬㚪䇡', 'Q˟勛㮙鏂鱾㲒怱果伽馽腳焵阌业句莇髹', 'I柵逐蜼灈嶹指謥㳞徭䓼刍劽㗙㖨蹠鋥䅒', 'W灗纟駦䈟阍鬭绦敐爉䭣簢晲钰唈㢥醌㚇', 'G厠碳ˤ懺㡉徛伟㷖场蟯飮㔶㿨斔氬殶樉', 'j阖眤㰁跕䠑湆鍋払龋牐彋掶䪊蟡輘㧅站', 'N哒斸饬顦藂寱蘫帾䴱蓪绘麂镵䒩塃䀷滍', 'L㮂扠䃆䑨権嶍栧漝㰲飋䏱癕名褷䥞擆鉮', 'Y丕鮼阉栻臝槑岔䳍ʣ唠嶼楟痽埒続薨掚', 'O鳩㘲厚㶔硌慎跲蕂泺耆莓鵣洷汅䭡鞀㕐', 'Q媅檮絬磙爲蘍萙痨䲛蜒壏峅徟惩姻㑯葎', 'Y蓯舖芯鯓亘妳朒僺䶵琷訯麃㻌ʐ嫁洭瀺', 'M忈晷礚勿瀯蠴逨篜鰸䋵璱堲芿吮貲芰箄', '䣍婾䦬杗嶘澆鈲漋蠗刈墛骖怫兿廕斥恐', 'O帲庬棺㻁䮲媺捞㧰醼蛢廛繎㶞稖旻踅滛', 'M囧㓺剝蓼夡堜䂼㤰䫰椈塜壖䫬襔將䮯绾', 'M躵炚礨㤮纐炢䎴昱鰷㱇弤劂銿䭻逌輜獷', 'W鈯遲㧨钌课䲐冒䀃䂦芙犓譩䘯䟮Õ嘣牵', 'P抾謙⒑宆䓊䏜劖璤卄ŉ鄗皞騲棗桫鳐侥', 'M鎪哰㖉㧌嗔蕤寇憾㕛硺翘臊片㡽朰䡿难', 'g䪰彙敌窽堵䰉凮㳶䵸䨢坵哌决嶒䛼㻚疶', 'N锏䦆㤗栦䣩䓀㢚鹹枚內䨙僔º嶧莸㟢苗', 'P⑩敳㖏鏭篹t諙㲤悪晌ɣ旉极廎虴抏蝐', 'S寸膌秂䈙䲎魽䄑㿶後蘊折㬓吖臺由昮鷡', 'N鮠捖羃棙挶㰔驷䂈筺吥䕭僢錟ɴ䭋痓駟', 'O䶝开䔮坅騔奥䤕ǰ揥夔苵䒔处麦艝嗚䂃', 'U䄙艐㜺䶆齺鴙䛖蒛䐣戬㒓㿜嬧筱頮鄶硶', 'K澙瓗朥烤糞䋯窒鍤躵蕳贫芐猸䣸䧲峆㸣', 'U髺漓粐駞偋虘梧橐龐㧘㵑䜞枘撻㓉恦紑', 'S䊓谗爚仞娧龀殃鶗阵㶉顒缹饳﨎鍙騯籢', 'R䀠襎嶇㛸粺乚斿䚬榗邎搀榉鉿㿙刷㟋䲭', 'XÍ權愞讨㛳開鹚㙋糷䖼瞐銛澣蔆锩䚬艣'}, modes=use.auto_install)"
   ]
  },
  {
   "cell_type": "markdown",
   "metadata": {
    "execution": {
     "iopub.execute_input": "2021-11-22T18:09:18.480558Z",
     "iopub.status.busy": "2021-11-22T18:09:18.479870Z",
     "iopub.status.idle": "2021-11-22T18:09:18.495532Z",
     "shell.execute_reply": "2021-11-22T18:09:18.492594Z",
     "shell.execute_reply.started": "2021-11-22T18:09:18.480515Z"
    }
   },
   "source": [
    "Wow, did we just download, install and load the spam package without leaving our own sweet code?? Yes, we did!"
   ]
  },
  {
   "cell_type": "markdown",
   "metadata": {
    "execution": {
     "iopub.execute_input": "2021-11-22T18:13:38.832767Z",
     "iopub.status.busy": "2021-11-22T18:13:38.832002Z",
     "iopub.status.idle": "2021-11-22T18:13:38.847351Z",
     "shell.execute_reply": "2021-11-22T18:13:38.844955Z",
     "shell.execute_reply.started": "2021-11-22T18:13:38.832713Z"
    }
   },
   "source": [
    "Furthermore, the package we installed is version and hash-pinned so we really only get what we asked for and nothing else."
   ]
  },
  {
   "cell_type": "markdown",
   "metadata": {},
   "source": [
    "There's a small problem though. Those hashes refer to very specific files and some of those packages may be written in C or even Fortran (like numpy) that are compiled for specific platforms.\n",
    "If you happily develop code on Linux that uses something platform-specific (like numpy!) it will all work without problems - until you try to run your code on another platform. In this case, you need to specify all hashes for all platforms you want to run your code on."
   ]
  },
  {
   "cell_type": "markdown",
   "metadata": {},
   "source": [
    "Version- and hash-pinning is the most secure way to install a package. It will ensure that your code will always run as you expect it, but there's a drawback: there is no immediate and automatic way to update code without involving the user (yet). On one side, you won't ever accidentally break your stuff by updating something else, but you also won't benefit from automatic security patches. To fix this shortcoming, it might be feasible to build IDE-plugins that check and update these pins in the code or check some database for security patches every time an auto-installed package is imported - please contact us if you have ideas or better yet, code ;-)"
   ]
  },
  {
   "cell_type": "markdown",
   "metadata": {},
   "source": [
    "## Use() modules from anywhere!\n",
    "If you `import` some package or module, you're limited to the stuff you have in your current directory or below (but only if there is a `__init__.py` or if it's an implicit namespace package) and the things in your sys.path, which can be manipulated freely, making it very complicated to handle. Let's suppose we're in our test directory."
   ]
  },
  {
   "cell_type": "code",
   "execution_count": 13,
   "metadata": {
    "execution": {
     "iopub.execute_input": "2021-11-25T17:22:29.666835Z",
     "iopub.status.busy": "2021-11-25T17:22:29.666271Z",
     "iopub.status.idle": "2021-11-25T17:22:29.679415Z",
     "shell.execute_reply": "2021-11-25T17:22:29.678243Z",
     "shell.execute_reply.started": "2021-11-25T17:22:29.666785Z"
    }
   },
   "outputs": [
    {
     "name": "stdout",
     "output_type": "stream",
     "text": [
      "/media/sf_Dropbox/code/justuse/tests\n"
     ]
    }
   ],
   "source": [
    "%cd ~/Desktop/sf_Dropbox/code/justuse/tests"
   ]
  },
  {
   "cell_type": "markdown",
   "metadata": {},
   "source": [
    "the code we want to run is in justuse/docs and there is no `__init__.py` in between, so to get to run the code, we could put the src directory in sys.path - or we could use() a module directly!"
   ]
  },
  {
   "cell_type": "code",
   "execution_count": 14,
   "metadata": {
    "execution": {
     "iopub.execute_input": "2021-11-25T17:22:31.142232Z",
     "iopub.status.busy": "2021-11-25T17:22:31.141382Z",
     "iopub.status.idle": "2021-11-25T17:22:32.422593Z",
     "shell.execute_reply": "2021-11-25T17:22:32.421489Z",
     "shell.execute_reply.started": "2021-11-25T17:22:31.142184Z"
    }
   },
   "outputs": [],
   "source": [
    "mod = use(use.Path(\"../docs/demo.py\"))"
   ]
  },
  {
   "cell_type": "code",
   "execution_count": 15,
   "metadata": {
    "execution": {
     "iopub.execute_input": "2021-11-25T17:22:32.425403Z",
     "iopub.status.busy": "2021-11-25T17:22:32.424586Z",
     "iopub.status.idle": "2021-11-25T17:22:32.431595Z",
     "shell.execute_reply": "2021-11-25T17:22:32.430428Z",
     "shell.execute_reply.started": "2021-11-25T17:22:32.425362Z"
    }
   },
   "outputs": [
    {
     "name": "stdout",
     "output_type": "stream",
     "text": [
      "Hello justuse-user!\n"
     ]
    }
   ],
   "source": [
    "mod.foo()"
   ]
  },
  {
   "cell_type": "markdown",
   "metadata": {},
   "source": [
    "Loading single modules doesn't sound like much, but especially while experimenting on jupyter, this can be used very effectively in conjunction with the reloading mode:"
   ]
  },
  {
   "cell_type": "code",
   "execution_count": 16,
   "metadata": {
    "execution": {
     "iopub.execute_input": "2021-11-25T17:22:37.742801Z",
     "iopub.status.busy": "2021-11-25T17:22:37.742226Z",
     "iopub.status.idle": "2021-11-25T17:22:38.981532Z",
     "shell.execute_reply": "2021-11-25T17:22:38.980472Z",
     "shell.execute_reply.started": "2021-11-25T17:22:37.742746Z"
    }
   },
   "outputs": [],
   "source": [
    "mod = use(use.Path(\"../docs/demo.py\"), modes=use.reloading)"
   ]
  },
  {
   "cell_type": "markdown",
   "metadata": {},
   "source": [
    "Now this module is loaded fresh whenever you modify and save the file, replacing the implementation behind the scene. This will work without any problems as long as you put functions in that module and if you access those functions via attribute-access (`mod.func()` **not** `func = mod.func; func()`)."
   ]
  },
  {
   "cell_type": "markdown",
   "metadata": {
    "execution": {
     "iopub.execute_input": "2021-11-23T00:11:22.768463Z",
     "iopub.status.busy": "2021-11-23T00:11:22.767536Z",
     "iopub.status.idle": "2021-11-23T00:11:22.781007Z",
     "shell.execute_reply": "2021-11-23T00:11:22.779348Z",
     "shell.execute_reply.started": "2021-11-23T00:11:22.768380Z"
    }
   },
   "source": [
    "If you can load modules from disk, why couldn't you load them from the web? Let's say you found an interesting github repo like https://github.com/amogorkon/justuse. Chances are, there's also a package on pypi you can pip-install, but maybe there's not. Maybe you're only interested in a single module from that repo/package, so you don't even want to install anything. Then you could download it from github, move the file manually into your folder and import it - sounds like a lot of trouble for a single module!\n",
    "There has to be a better way! And there is - you can just use() web resources:"
   ]
  },
  {
   "cell_type": "code",
   "execution_count": 17,
   "metadata": {
    "execution": {
     "iopub.execute_input": "2021-11-25T17:22:42.728021Z",
     "iopub.status.busy": "2021-11-25T17:22:42.727162Z",
     "iopub.status.idle": "2021-11-25T17:22:43.095180Z",
     "shell.execute_reply": "2021-11-25T17:22:43.092602Z",
     "shell.execute_reply.started": "2021-11-25T17:22:42.727970Z"
    }
   },
   "outputs": [
    {
     "name": "stderr",
     "output_type": "stream",
     "text": [
      "/home/thorsten/anaconda3/lib/python3.8/site-packages/use/main.py:416: NoValidationWarning: Attempting to import from the interwebs with no validation whatsoever!\n",
      "To safely reproduce:\n",
      "use(use.URL('https://raw.githubusercontent.com/amogorkon/justuse/unstable/docs/demo.py'), hash_algo=use.Hash.sha256, hash_value='59eff31bb220ce933ccc083b9306020ec25d19d43de30e5ad4341b355d4b48bf')\n",
      "  warn(Message.no_validation(url, hash_algo, this_hash), NoValidationWarning)\n"
     ]
    }
   ],
   "source": [
    "mod = use(use.URL(\"https://raw.githubusercontent.com/amogorkon/justuse/unstable/docs/demo.py\"))"
   ]
  },
  {
   "cell_type": "markdown",
   "metadata": {
    "execution": {
     "iopub.execute_input": "2021-11-23T00:17:40.146456Z",
     "iopub.status.busy": "2021-11-23T00:17:40.145947Z",
     "iopub.status.idle": "2021-11-23T00:17:40.155091Z",
     "shell.execute_reply": "2021-11-23T00:17:40.153301Z",
     "shell.execute_reply.started": "2021-11-23T00:17:40.146414Z"
    }
   },
   "source": [
    "copy&paste that line from the exception to get that sweet hash.."
   ]
  },
  {
   "cell_type": "code",
   "execution_count": 18,
   "metadata": {
    "execution": {
     "iopub.execute_input": "2021-11-25T17:22:48.805442Z",
     "iopub.status.busy": "2021-11-25T17:22:48.804867Z",
     "iopub.status.idle": "2021-11-25T17:22:48.955884Z",
     "shell.execute_reply": "2021-11-25T17:22:48.953385Z",
     "shell.execute_reply.started": "2021-11-25T17:22:48.805393Z"
    }
   },
   "outputs": [],
   "source": [
    "mod = use(use.URL('https://raw.githubusercontent.com/amogorkon/justuse/unstable/docs/demo.py'), hash_algo=use.Hash.sha256, hash_value='59eff31bb220ce933ccc083b9306020ec25d19d43de30e5ad4341b355d4b48bf')"
   ]
  },
  {
   "cell_type": "code",
   "execution_count": 19,
   "metadata": {
    "execution": {
     "iopub.execute_input": "2021-11-25T17:22:50.392432Z",
     "iopub.status.busy": "2021-11-25T17:22:50.391775Z",
     "iopub.status.idle": "2021-11-25T17:22:50.398784Z",
     "shell.execute_reply": "2021-11-25T17:22:50.397663Z",
     "shell.execute_reply.started": "2021-11-25T17:22:50.392377Z"
    }
   },
   "outputs": [
    {
     "name": "stdout",
     "output_type": "stream",
     "text": [
      "Hello justuse-user!\n"
     ]
    }
   ],
   "source": [
    "mod.foo()"
   ]
  },
  {
   "cell_type": "markdown",
   "metadata": {},
   "source": [
    "Since the content of this file is now hash-pinned, it doesn't matter whether or not someone hacks github and changes the code - justuse will instantly notice before executing any code. You can even execute code directly from pastebin or any other untrusted, public platform - as long as you have the proper hash, you're safe."
   ]
  },
  {
   "cell_type": "markdown",
   "metadata": {},
   "source": [
    "## A word on circular imports\n",
    "Everyone stumbles over a circular import once they try to build slightly more complex projects and it can get very ugly and overly frustrating to deal with those.\n",
    "\n",
    "Let's suppose we have two modules A and B:"
   ]
  },
  {
   "cell_type": "code",
   "execution_count": 11,
   "metadata": {
    "execution": {
     "iopub.execute_input": "2021-11-26T00:39:49.115044Z",
     "iopub.status.busy": "2021-11-26T00:39:49.114580Z",
     "iopub.status.idle": "2021-11-26T00:39:49.245519Z",
     "shell.execute_reply": "2021-11-26T00:39:49.244322Z",
     "shell.execute_reply.started": "2021-11-26T00:39:49.115003Z"
    }
   },
   "outputs": [
    {
     "name": "stdout",
     "output_type": "stream",
     "text": [
      "/media/sf_Dropbox/code/justuse/docs\n",
      "insgesamt 47\n",
      "-rwxrwx--- 1 root    43 Nov 23 01:13 \u001b[0m\u001b[01;32mdemo.py\u001b[0m*\n",
      "-rwxrwx--- 1 root    97 Nov 26 01:35 \u001b[01;32mmodule_a.py\u001b[0m*\n",
      "-rwxrwx--- 1 root    47 Nov 26 01:36 \u001b[01;32mmodule_b.py\u001b[0m*\n",
      "-rwxrwx--- 1 root    62 Nov 26 01:12 \u001b[01;32mmodule_circular_a.py\u001b[0m*\n",
      "-rwxrwx--- 1 root    68 Nov 26 01:12 \u001b[01;32mmodule_circular_b.py\u001b[0m*\n",
      "drwxrwx--- 1 root  4096 Nov 26 01:12 \u001b[01;34m__pycache__\u001b[0m/\n",
      "-rwxrwx--- 1 root 80661 Nov 26 01:38 \u001b[01;32mShowcase.ipynb\u001b[0m*\n"
     ]
    }
   ],
   "source": [
    "%cd ../docs\n",
    "%ll"
   ]
  },
  {
   "cell_type": "code",
   "execution_count": 21,
   "metadata": {
    "execution": {
     "iopub.execute_input": "2021-11-25T17:23:11.838117Z",
     "iopub.status.busy": "2021-11-25T17:23:11.837304Z",
     "iopub.status.idle": "2021-11-25T17:23:11.847034Z",
     "shell.execute_reply": "2021-11-25T17:23:11.845916Z",
     "shell.execute_reply.started": "2021-11-25T17:23:11.838062Z"
    }
   },
   "outputs": [
    {
     "data": {
      "text/plain": [
       "\u001b[0mprint\u001b[0m\u001b[0;34m(\u001b[0m\u001b[0;34m\"Hello from A!\"\u001b[0m\u001b[0;34m)\u001b[0m\u001b[0;34m\u001b[0m\n",
       "\u001b[0;34m\u001b[0m\u001b[0;34m\u001b[0m\n",
       "\u001b[0;34m\u001b[0m\u001b[0mfoo\u001b[0m \u001b[0;34m=\u001b[0m \u001b[0;36m23\u001b[0m\u001b[0;34m\u001b[0m\n",
       "\u001b[0;34m\u001b[0m\u001b[0;34m\u001b[0m\n",
       "\u001b[0;34m\u001b[0m\u001b[0;32mimport\u001b[0m \u001b[0mmodule_circular_b\u001b[0m\u001b[0;34m\u001b[0m\u001b[0;34m\u001b[0m\u001b[0m\n"
      ]
     },
     "metadata": {},
     "output_type": "display_data"
    }
   ],
   "source": [
    "%less module_circular_a.py"
   ]
  },
  {
   "cell_type": "code",
   "execution_count": 22,
   "metadata": {
    "execution": {
     "iopub.execute_input": "2021-11-25T17:23:16.919760Z",
     "iopub.status.busy": "2021-11-25T17:23:16.918994Z",
     "iopub.status.idle": "2021-11-25T17:23:16.928951Z",
     "shell.execute_reply": "2021-11-25T17:23:16.926696Z",
     "shell.execute_reply.started": "2021-11-25T17:23:16.919711Z"
    }
   },
   "outputs": [
    {
     "data": {
      "text/plain": [
       "\u001b[0mprint\u001b[0m\u001b[0;34m(\u001b[0m\u001b[0;34m\"Hello from B!\"\u001b[0m\u001b[0;34m)\u001b[0m\u001b[0;34m\u001b[0m\u001b[0;34m\u001b[0m\u001b[0m\n"
      ]
     },
     "metadata": {},
     "output_type": "display_data"
    }
   ],
   "source": [
    "%less module_circular_b.py"
   ]
  },
  {
   "cell_type": "code",
   "execution_count": 1,
   "metadata": {
    "execution": {
     "iopub.execute_input": "2021-11-26T00:12:17.517867Z",
     "iopub.status.busy": "2021-11-26T00:12:17.517151Z",
     "iopub.status.idle": "2021-11-26T00:12:17.673345Z",
     "shell.execute_reply": "2021-11-26T00:12:17.671781Z",
     "shell.execute_reply.started": "2021-11-26T00:12:17.517734Z"
    }
   },
   "outputs": [
    {
     "name": "stdout",
     "output_type": "stream",
     "text": [
      "Hello from A!\n"
     ]
    },
    {
     "ename": "ImportError",
     "evalue": "cannot import name 'foo' from partially initialized module 'module_circular_a' (most likely due to a circular import) (/media/sf_Dropbox/code/justuse/docs/module_circular_a.py)",
     "output_type": "error",
     "traceback": [
      "\u001b[0;31m---------------------------------------------------------------------------\u001b[0m",
      "\u001b[0;31mImportError\u001b[0m                               Traceback (most recent call last)",
      "\u001b[0;32m<ipython-input-1-420778313a26>\u001b[0m in \u001b[0;36m<module>\u001b[0;34m\u001b[0m\n\u001b[0;32m----> 1\u001b[0;31m \u001b[0;32mimport\u001b[0m \u001b[0mmodule_circular_a\u001b[0m\u001b[0;34m\u001b[0m\u001b[0;34m\u001b[0m\u001b[0m\n\u001b[0m",
      "\u001b[0;32m/media/sf_Dropbox/code/justuse/docs/module_circular_a.py\u001b[0m in \u001b[0;36m<module>\u001b[0;34m\u001b[0m\n\u001b[1;32m      1\u001b[0m \u001b[0mprint\u001b[0m\u001b[0;34m(\u001b[0m\u001b[0;34m\"Hello from A!\"\u001b[0m\u001b[0;34m)\u001b[0m\u001b[0;34m\u001b[0m\u001b[0;34m\u001b[0m\u001b[0m\n\u001b[1;32m      2\u001b[0m \u001b[0;34m\u001b[0m\u001b[0m\n\u001b[0;32m----> 3\u001b[0;31m \u001b[0;32mimport\u001b[0m \u001b[0mmodule_circular_b\u001b[0m\u001b[0;34m\u001b[0m\u001b[0;34m\u001b[0m\u001b[0m\n\u001b[0m\u001b[1;32m      4\u001b[0m \u001b[0;34m\u001b[0m\u001b[0m\n\u001b[1;32m      5\u001b[0m \u001b[0mfoo\u001b[0m \u001b[0;34m=\u001b[0m \u001b[0;36m23\u001b[0m\u001b[0;34m\u001b[0m\u001b[0;34m\u001b[0m\u001b[0m\n",
      "\u001b[0;32m/media/sf_Dropbox/code/justuse/docs/module_circular_b.py\u001b[0m in \u001b[0;36m<module>\u001b[0;34m\u001b[0m\n\u001b[1;32m      1\u001b[0m \u001b[0;34m\u001b[0m\u001b[0m\n\u001b[0;32m----> 2\u001b[0;31m \u001b[0;32mfrom\u001b[0m \u001b[0mmodule_circular_a\u001b[0m \u001b[0;32mimport\u001b[0m \u001b[0mfoo\u001b[0m\u001b[0;34m\u001b[0m\u001b[0;34m\u001b[0m\u001b[0m\n\u001b[0m\u001b[1;32m      3\u001b[0m \u001b[0;34m\u001b[0m\u001b[0m\n\u001b[1;32m      4\u001b[0m \u001b[0mprint\u001b[0m\u001b[0;34m(\u001b[0m\u001b[0;34m\"Hello from B!\"\u001b[0m\u001b[0;34m,\u001b[0m \u001b[0mfoo\u001b[0m\u001b[0;34m)\u001b[0m\u001b[0;34m\u001b[0m\u001b[0;34m\u001b[0m\u001b[0m\n",
      "\u001b[0;31mImportError\u001b[0m: cannot import name 'foo' from partially initialized module 'module_circular_a' (most likely due to a circular import) (/media/sf_Dropbox/code/justuse/docs/module_circular_a.py)"
     ]
    }
   ],
   "source": [
    "import module_circular_a"
   ]
  },
  {
   "cell_type": "code",
   "execution_count": 13,
   "metadata": {
    "execution": {
     "iopub.execute_input": "2021-11-26T00:39:55.751033Z",
     "iopub.status.busy": "2021-11-26T00:39:55.750247Z",
     "iopub.status.idle": "2021-11-26T00:39:55.758422Z",
     "shell.execute_reply": "2021-11-26T00:39:55.757219Z",
     "shell.execute_reply.started": "2021-11-26T00:39:55.750992Z"
    }
   },
   "outputs": [
    {
     "data": {
      "text/plain": [
       "\u001b[0;32mimport\u001b[0m \u001b[0muse\u001b[0m\u001b[0;34m\u001b[0m\n",
       "\u001b[0;34m\u001b[0m\u001b[0;34m\u001b[0m\n",
       "\u001b[0;34m\u001b[0m\u001b[0mprint\u001b[0m\u001b[0;34m(\u001b[0m\u001b[0;34m\"Hello from A!\"\u001b[0m\u001b[0;34m)\u001b[0m\u001b[0;34m\u001b[0m\n",
       "\u001b[0;34m\u001b[0m\u001b[0;34m\u001b[0m\n",
       "\u001b[0;34m\u001b[0m\u001b[0muse\u001b[0m\u001b[0;34m(\u001b[0m\u001b[0muse\u001b[0m\u001b[0;34m.\u001b[0m\u001b[0mPath\u001b[0m\u001b[0;34m(\u001b[0m\u001b[0;34m\"module_b.py\"\u001b[0m\u001b[0;34m)\u001b[0m\u001b[0;34m,\u001b[0m \u001b[0minitial_globals\u001b[0m\u001b[0;34m=\u001b[0m\u001b[0;34m{\u001b[0m\u001b[0;34m\"foo\"\u001b[0m\u001b[0;34m:\u001b[0m \u001b[0;36m23\u001b[0m\u001b[0;34m}\u001b[0m\u001b[0;34m)\u001b[0m\u001b[0;34m\u001b[0m\u001b[0;34m\u001b[0m\u001b[0m\n"
      ]
     },
     "metadata": {},
     "output_type": "display_data"
    }
   ],
   "source": [
    "%less module_a.py"
   ]
  },
  {
   "cell_type": "code",
   "execution_count": 14,
   "metadata": {
    "execution": {
     "iopub.execute_input": "2021-11-26T00:40:01.282521Z",
     "iopub.status.busy": "2021-11-26T00:40:01.281841Z",
     "iopub.status.idle": "2021-11-26T00:40:01.288882Z",
     "shell.execute_reply": "2021-11-26T00:40:01.287663Z",
     "shell.execute_reply.started": "2021-11-26T00:40:01.282482Z"
    }
   },
   "outputs": [
    {
     "data": {
      "text/plain": [
       "\u001b[0mfoo\u001b[0m\u001b[0;34m:\u001b[0m \u001b[0mint\u001b[0m\u001b[0;34m\u001b[0m\n",
       "\u001b[0;34m\u001b[0m\u001b[0;34m\u001b[0m\n",
       "\u001b[0;34m\u001b[0m\u001b[0mprint\u001b[0m\u001b[0;34m(\u001b[0m\u001b[0;34mf\"Hello from B! foo={foo}\"\u001b[0m\u001b[0;34m)\u001b[0m\u001b[0;34m\u001b[0m\u001b[0;34m\u001b[0m\u001b[0m\n"
      ]
     },
     "metadata": {},
     "output_type": "display_data"
    }
   ],
   "source": [
    "%less module_b.py"
   ]
  },
  {
   "cell_type": "code",
   "execution_count": 9,
   "metadata": {
    "execution": {
     "iopub.execute_input": "2021-11-26T00:36:46.721866Z",
     "iopub.status.busy": "2021-11-26T00:36:46.720984Z",
     "iopub.status.idle": "2021-11-26T00:36:49.177806Z",
     "shell.execute_reply": "2021-11-26T00:36:49.176531Z",
     "shell.execute_reply.started": "2021-11-26T00:36:46.721814Z"
    }
   },
   "outputs": [
    {
     "name": "stdout",
     "output_type": "stream",
     "text": [
      "Hello from A!\n",
      "Hello from B! foo=23\n"
     ]
    }
   ],
   "source": [
    "modA = use(use.Path(\"module_a.py\"))"
   ]
  },
  {
   "cell_type": "markdown",
   "metadata": {},
   "source": [
    "## Aspects of code"
   ]
  },
  {
   "cell_type": "code",
   "execution_count": 3,
   "metadata": {
    "execution": {
     "iopub.execute_input": "2021-11-26T00:49:34.315607Z",
     "iopub.status.busy": "2021-11-26T00:49:34.315109Z",
     "iopub.status.idle": "2021-11-26T00:49:34.685751Z",
     "shell.execute_reply": "2021-11-26T00:49:34.684621Z",
     "shell.execute_reply.started": "2021-11-26T00:49:34.315568Z"
    }
   },
   "outputs": [],
   "source": [
    "from functools import wraps\n",
    "\n",
    "def decorator(func):\n",
    "    @wraps(func)\n",
    "    def wrapper(*args, **kwargs):\n",
    "        print(func, args, kwargs)\n",
    "        return func(*args, **kwargs)\n",
    "    return wrapper\n",
    "\n",
    "np = use(\"numpy\")"
   ]
  },
  {
   "cell_type": "code",
   "execution_count": 4,
   "metadata": {
    "execution": {
     "iopub.execute_input": "2021-11-26T00:49:35.162242Z",
     "iopub.status.busy": "2021-11-26T00:49:35.161750Z",
     "iopub.status.idle": "2021-11-26T00:49:35.271176Z",
     "shell.execute_reply": "2021-11-26T00:49:35.269893Z",
     "shell.execute_reply.started": "2021-11-26T00:49:35.162196Z"
    }
   },
   "outputs": [
    {
     "data": {
      "text/plain": [
       "<module 'numpy' from '/home/thorsten/anaconda3/lib/python3.8/site-packages/numpy/__init__.py'>"
      ]
     },
     "execution_count": 4,
     "metadata": {},
     "output_type": "execute_result"
    }
   ],
   "source": [
    "np @ (use.isfunction, \"\", decorator)"
   ]
  },
  {
   "cell_type": "code",
   "execution_count": 5,
   "metadata": {
    "execution": {
     "iopub.execute_input": "2021-11-26T00:49:35.936224Z",
     "iopub.status.busy": "2021-11-26T00:49:35.935761Z",
     "iopub.status.idle": "2021-11-26T00:49:35.969388Z",
     "shell.execute_reply": "2021-11-26T00:49:35.968352Z",
     "shell.execute_reply.started": "2021-11-26T00:49:35.936188Z"
    }
   },
   "outputs": [
    {
     "name": "stdout",
     "output_type": "stream",
     "text": [
      "<function amax at 0x7fb360739670> (array(...),) {}\n",
      "<function amin at 0x7fb360739820> (array(...),) {}\n"
     ]
    },
    {
     "data": {
      "text/plain": [
       "array([1, 2, 3])"
      ]
     },
     "execution_count": 5,
     "metadata": {},
     "output_type": "execute_result"
    }
   ],
   "source": [
    "np.array([1,2,3])"
   ]
  },
  {
   "cell_type": "code",
   "execution_count": 8,
   "metadata": {
    "execution": {
     "iopub.execute_input": "2021-11-26T00:54:41.616148Z",
     "iopub.status.busy": "2021-11-26T00:54:41.615469Z",
     "iopub.status.idle": "2021-11-26T00:54:41.637722Z",
     "shell.execute_reply": "2021-11-26T00:54:41.636172Z",
     "shell.execute_reply.started": "2021-11-26T00:54:41.616071Z"
    }
   },
   "outputs": [
    {
     "name": "stdout",
     "output_type": "stream",
     "text": [
      "01:49:35,243 use.pimp DEBUG Applied decorator to savez\n",
      "01:49:35,243 use.pimp DEBUG isfunction((<function savez_compressed at 0x7fb360195550>,), {})\n",
      "01:49:35,243 use.pimp DEBUG Applied decorator to savez_compressed\n",
      "01:49:35,243 use.pimp DEBUG isfunction((<function packbits at 0x7fb36076b0d0>,), {})\n",
      "01:49:35,243 use.pimp DEBUG Applied decorator to packbits\n",
      "01:49:35,243 use.pimp DEBUG isfunction((<function unpackbits at 0x7fb36076b1f0>,), {})\n",
      "01:49:35,243 use.pimp DEBUG Applied decorator to unpackbits\n",
      "01:49:35,244 use.pimp DEBUG isfunction((<function fromregex at 0x7fb360195940>,), {})\n",
      "01:49:35,244 use.pimp DEBUG Applied decorator to fromregex\n",
      "01:49:35,244 use.pimp DEBUG isfunction((<class 'numpy.DataSource'>,), {})\n",
      "01:49:35,244 use.pimp DEBUG isfunction((<function fv at 0x7fb360195f70>,), {})\n",
      "01:49:35,244 use.pimp DEBUG Applied decorator to fv\n",
      "01:49:35,244 use.pimp DEBUG isfunction((<function pmt at 0x7fb3601a0160>,), {})\n",
      "01:49:35,244 use.pimp DEBUG Applied decorator to pmt\n",
      "01:49:35,244 use.pimp DEBUG isfunction((<function nper at 0x7fb3601a0310>,), {})\n",
      "01:49:35,244 use.pimp DEBUG Applied decorator to nper\n",
      "01:49:35,244 use.pimp DEBUG isfunction((<function ipmt at 0x7fb3601a04c0>,), {})\n",
      "01:49:35,244 use.pimp DEBUG Applied decorator to ipmt\n",
      "01:49:35,244 use.pimp DEBUG isfunction((<function ppmt at 0x7fb3601a0700>,), {})\n",
      "01:49:35,245 use.pimp DEBUG Applied decorator to ppmt\n",
      "01:49:35,245 use.pimp DEBUG isfunction((<function pv at 0x7fb3601a08b0>,), {})\n",
      "01:49:35,245 use.pimp DEBUG Applied decorator to pv\n",
      "01:49:35,245 use.pimp DEBUG isfunction((<function rate at 0x7fb3601a0af0>,), {})\n",
      "01:49:35,245 use.pimp DEBUG Applied decorator to rate\n",
      "01:49:35,245 use.pimp DEBUG isfunction((<function irr at 0x7fb3601a0ca0>,), {})\n",
      "01:49:35,245 use.pimp DEBUG Applied decorator to irr\n",
      "01:49:35,245 use.pimp DEBUG isfunction((<function npv at 0x7fb3601a0e50>,), {})\n",
      "01:49:35,245 use.pimp DEBUG Applied decorator to npv\n",
      "01:49:35,245 use.pimp DEBUG isfunction((<function mirr at 0x7fb360123040>,), {})\n",
      "01:49:35,246 use.pimp DEBUG Applied decorator to mirr\n",
      "01:49:35,246 use.pimp DEBUG isfunction((<function nansum at 0x7fb3601bcaf0>,), {})\n",
      "01:49:35,246 use.pimp DEBUG Applied decorator to nansum\n",
      "01:49:35,246 use.pimp DEBUG isfunction((<function nanmax at 0x7fb3601bc5e0>,), {})\n",
      "01:49:35,246 use.pimp DEBUG Applied decorator to nanmax\n",
      "01:49:35,246 use.pimp DEBUG isfunction((<function nanmin at 0x7fb3601bc430>,), {})\n",
      "01:49:35,246 use.pimp DEBUG Applied decorator to nanmin\n",
      "01:49:35,246 use.pimp DEBUG isfunction((<function nanargmax at 0x7fb3601bc940>,), {})\n",
      "01:49:35,246 use.pimp DEBUG Applied decorator to nanargmax\n",
      "01:49:35,246 use.pimp DEBUG isfunction((<function nanargmin at 0x7fb3601bc790>,), {})\n",
      "01:49:35,246 use.pimp DEBUG Applied decorator to nanargmin\n",
      "01:49:35,247 use.pimp DEBUG isfunction((<function nanmean at 0x7fb3601bf1f0>,), {})\n",
      "01:49:35,247 use.pimp DEBUG Applied decorator to nanmean\n",
      "01:49:35,247 use.pimp DEBUG isfunction((<function nanmedian at 0x7fb3601bf550>,), {})\n",
      "01:49:35,247 use.pimp DEBUG Applied decorator to nanmedian\n",
      "01:49:35,247 use.pimp DEBUG isfunction((<function nanpercentile at 0x7fb3601bf700>,), {})\n",
      "01:49:35,247 use.pimp DEBUG Applied decorator to nanpercentile\n",
      "01:49:35,247 use.pimp DEBUG isfunction((<function nanvar at 0x7fb3601bfc10>,), {})\n",
      "01:49:35,247 use.pimp DEBUG Applied decorator to nanvar\n",
      "01:49:35,247 use.pimp DEBUG isfunction((<function nanstd at 0x7fb3601bfdc0>,), {})\n",
      "01:49:35,247 use.pimp DEBUG Applied decorator to nanstd\n",
      "01:49:35,247 use.pimp DEBUG isfunction((<function nanprod at 0x7fb3601bcca0>,), {})\n",
      "01:49:35,247 use.pimp DEBUG Applied decorator to nanprod\n",
      "01:49:35,248 use.pimp DEBUG isfunction((<function nancumsum at 0x7fb3601bce50>,), {})\n",
      "01:49:35,248 use.pimp DEBUG Applied decorator to nancumsum\n",
      "01:49:35,248 use.pimp DEBUG isfunction((<function nancumprod at 0x7fb3601bf040>,), {})\n",
      "01:49:35,248 use.pimp DEBUG Applied decorator to nancumprod\n",
      "01:49:35,248 use.pimp DEBUG isfunction((<function nanquantile at 0x7fb3601bf8b0>,), {})\n",
      "01:49:35,248 use.pimp DEBUG Applied decorator to nanquantile\n",
      "01:49:35,248 use.pimp DEBUG isfunction((<function histogram at 0x7fb360421700>,), {})\n",
      "01:49:35,248 use.pimp DEBUG Applied decorator to histogram\n",
      "01:49:35,248 use.pimp DEBUG isfunction((<function histogramdd at 0x7fb3604218b0>,), {})\n",
      "01:49:35,249 use.pimp DEBUG Applied decorator to histogramdd\n",
      "01:49:35,249 use.pimp DEBUG isfunction((<function histogram_bin_edges at 0x7fb360421550>,), {})\n",
      "01:49:35,249 use.pimp DEBUG Applied decorator to histogram_bin_edges\n",
      "01:49:35,249 use.pimp DEBUG isfunction((<module 'numpy.fft' from '/home/thorsten/anaconda3/lib/python3.8/site-packages/numpy/fft/__init__.py'>,), {})\n",
      "01:49:35,249 use.pimp DEBUG isfunction((<module 'numpy.polynomial' from '/home/thorsten/anaconda3/lib/python3.8/site-packages/numpy/polynomial/__init__.py'>,), {})\n",
      "01:49:35,249 use.pimp DEBUG isfunction((<module 'numpy.random' from '/home/thorsten/anaconda3/lib/python3.8/site-packages/numpy/random/__init__.py'>,), {})\n",
      "01:49:35,249 use.pimp DEBUG isfunction((<module 'numpy.ctypeslib' from '/home/thorsten/anaconda3/lib/python3.8/site-packages/numpy/ctypeslib.py'>,), {})\n",
      "01:49:35,249 use.pimp DEBUG isfunction((<module 'numpy.ma' from '/home/thorsten/anaconda3/lib/python3.8/site-packages/numpy/ma/__init__.py'>,), {})\n",
      "01:49:35,249 use.pimp DEBUG isfunction((<module 'numpy.matrixlib' from '/home/thorsten/anaconda3/lib/python3.8/site-packages/numpy/matrixlib/__init__.py'>,), {})\n",
      "01:49:35,249 use.pimp DEBUG isfunction((<class 'numpy.matrix'>,), {})\n",
      "01:49:35,249 use.pimp DEBUG isfunction((<function bmat at 0x7fb360406ee0>,), {})\n",
      "01:49:35,249 use.pimp DEBUG Applied decorator to bmat\n",
      "01:49:35,250 use.pimp DEBUG isfunction((<function asmatrix at 0x7fb360402b80>,), {})\n",
      "01:49:35,250 use.pimp DEBUG Applied decorator to asmatrix\n",
      "01:49:35,250 use.pimp DEBUG isfunction((<function asmatrix at 0x7fb360402b80>,), {})\n",
      "01:49:35,250 use.pimp DEBUG Applied decorator to asmatrix\n",
      "01:49:35,250 use.pimp DEBUG isfunction((<class 'bool'>,), {})\n",
      "01:49:35,250 use.pimp DEBUG isfunction((<class 'int'>,), {})\n",
      "01:49:35,250 use.pimp DEBUG isfunction((<class 'float'>,), {})\n",
      "01:49:35,250 use.pimp DEBUG isfunction((<class 'complex'>,), {})\n",
      "01:49:35,250 use.pimp DEBUG isfunction((<class 'object'>,), {})\n",
      "01:49:35,250 use.pimp DEBUG isfunction((<class 'str'>,), {})\n",
      "01:49:35,250 use.pimp DEBUG isfunction((<function round_ at 0x7fb36073d8b0>,), {})\n",
      "01:49:35,250 use.pimp DEBUG Applied decorator to round_\n",
      "01:49:35,250 use.pimp DEBUG isfunction((<ufunc 'absolute'>,), {})\n",
      "01:49:35,251 use.pimp DEBUG isfunction((<function amax at 0x7fb360739670>,), {})\n",
      "01:49:35,251 use.pimp DEBUG Applied decorator to amax\n",
      "01:49:35,251 use.pimp DEBUG isfunction((<function amin at 0x7fb360739820>,), {})\n",
      "01:49:35,251 use.pimp DEBUG Applied decorator to amin\n",
      "01:49:35,251 use.pimp DEBUG isfunction((<numpy._pytesttester.PytestTester object at 0x7fb36011b190>,), {})\n",
      "01:49:35,251 use.pimp DEBUG isfunction((<module 'os' from '/home/thorsten/anaconda3/lib/python3.8/os.py'>,), {})\n",
      "01:49:35,251 use.pimp DEBUG isfunction((1,), {})\n",
      "01:53:41,655 parso.python.diff DEBUG diff parser start\n",
      "01:53:41,655 parso.python.diff DEBUG line_lengths old: 1; new: 1\n",
      "01:53:41,655 parso.python.diff DEBUG -> code[replace] old[1:1] new[1:1]\n",
      "01:53:41,656 parso.python.diff DEBUG parse_part from 1 to 1 (to 0 in part parser)\n",
      "01:53:41,656 parso.python.diff DEBUG diff parser end\n",
      "01:53:41,818 parso.cache DEBUG pickle loaded: /home/thorsten/anaconda3/lib/python3.8/site-packages/jedi/third_party/typeshed/stdlib/2and3/builtins.pyi\n",
      "01:53:42,0 parso.cache DEBUG pickle loaded: /home/thorsten/anaconda3/lib/python3.8/site-packages/jedi/third_party/typeshed/stdlib/3/sys.pyi\n"
     ]
    }
   ],
   "source": [
    "%%bash\n",
    "tail -100 /home/thorsten/.justuse-python/usage.log"
   ]
  }
 ],
 "metadata": {
  "kernelspec": {
   "display_name": "Python 3",
   "language": "python",
   "name": "python3"
  },
  "language_info": {
   "codemirror_mode": {
    "name": "ipython",
    "version": 3
   },
   "file_extension": ".py",
   "mimetype": "text/x-python",
   "name": "python",
   "nbconvert_exporter": "python",
   "pygments_lexer": "ipython3",
   "version": "3.8.5"
  }
 },
 "nbformat": 4,
 "nbformat_minor": 4
}
